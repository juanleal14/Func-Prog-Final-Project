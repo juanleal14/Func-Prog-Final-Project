{
 "cells": [
  {
   "cell_type": "markdown",
   "metadata": {},
   "source": [
    "# FINAL PROJECT: ÍÑIGO BARCELÓ ÁLVAREZ / JUAN LEAL ALIAGA"
   ]
  },
  {
   "cell_type": "markdown",
   "metadata": {},
   "source": [
    "## 1. Types to represent all the former concepts. An exhaustive type definition is required, use the most appropriate way (type, data or newtype) for each of them. "
   ]
  },
  {
   "cell_type": "code",
   "execution_count": 36,
   "metadata": {
    "vscode": {
     "languageId": "plaintext"
    }
   },
   "outputs": [],
   "source": [
    "data Date = Date \n",
    "  { day   :: Int\n",
    "  , month :: String\n",
    "  , year  :: Int\n",
    "  } deriving (Show, Eq, Ord)\n",
    "\n",
    "data Person = Person \n",
    "  { firstName :: String\n",
    "  , lastName  :: String\n",
    "  , birthDate :: Date\n",
    "  } deriving (Show, Eq)\n",
    "\n",
    "data Publication\n",
    "  = Book\n",
    "      { bookId    :: String       -- Unique signature\n",
    "      , author    :: Person       -- Single author\n",
    "      , title     :: String\n",
    "      , pages     :: Int\n",
    "      , copies    :: [Copy]       -- List of copies\n",
    "      }\n",
    "  | Journal\n",
    "      { journalId :: String       -- Unique signature\n",
    "      , authors   :: [Person]     -- Multiple authors\n",
    "      , title     :: String\n",
    "      , releaseDate :: Date\n",
    "      , pages     :: Int\n",
    "      , copies    :: [Copy]\n",
    "      }\n",
    "  | DVD\n",
    "      { dvdId     :: String       -- Unique signature\n",
    "      , director  :: Person       -- Director is a single person\n",
    "      , actors    :: [Person]     -- List of actors\n",
    "      , title     :: String\n",
    "      , releaseDate :: Date\n",
    "      , duration  :: Int          -- Duration in minutes\n",
    "      , copies    :: [Copy]\n",
    "      }\n",
    "  deriving (Show, Eq)\n",
    "\n",
    "data Copy = Copy\n",
    "  { isBorrowed  :: Bool\n",
    "  , borrower    :: Maybe User    -- User who borrowed the copy (if any)\n",
    "  , loanDate    :: Maybe Date    -- Loan date (if borrowed)\n",
    "  , returnDate  :: Maybe Date    -- Expected return date (if borrowed)\n",
    "  } deriving (Show, Eq)\n",
    "\n",
    "data User\n",
    "  = Student \n",
    "      { studentName :: Person\n",
    "      }\n",
    "  | Professor\n",
    "      { professorName :: Person\n",
    "      }\n",
    "  \n",
    "  deriving (Show, Eq)\n",
    "\n",
    "type Catalog = [Publication]"
   ]
  },
  {
   "cell_type": "markdown",
   "metadata": {},
   "source": [
    "## 2. Functions to show the former concepts in a pretty way. "
   ]
  },
  {
   "cell_type": "code",
   "execution_count": 37,
   "metadata": {
    "vscode": {
     "languageId": "plaintext"
    }
   },
   "outputs": [],
   "source": [
    "instance Show Date where\n",
    "  show (Date d m y) = show d ++ \" \" ++ m ++ \" \" ++ show y\n",
    "\n",
    "instance Show Person where\n",
    "  show (Person fName lName bDate) = \n",
    "    fName ++ \" \" ++ lName ++ \" (\" ++ show bDate ++ \")\"\n",
    "    \n",
    "instance Show Copy where\n",
    "  show (Copy isB mbUser mbLoanDate mbReturnDate)\n",
    "    | isB = \"Borrowed by \" ++ maybe \"Unknown\" show mbUser ++\n",
    "            \" | Loan Date: \" ++ maybe \"N/A\" show mbLoanDate ++\n",
    "            \" | Return Date: \" ++ maybe \"N/A\" show mbReturnDate\n",
    "    | otherwise = \"Available\"\n",
    "    \n",
    "instance Show Publication where\n",
    "  show (Book id author title pages copies) =\n",
    "    \"Book [\" ++ id ++ \"]\\n\" ++\n",
    "    \"  Title: \" ++ title ++ \"\\n\" ++\n",
    "    \"  Author: \" ++ show author ++ \"\\n\" ++\n",
    "    \"  Pages: \" ++ show pages ++ \"\\n\" ++\n",
    "    \"  Copies: \" ++ show (length $ filter (not . isBorrowed) copies) ++ \"/\" ++ show (length copies) ++ \" available\\n\" ++\n",
    "    unlines (map show copies)\n",
    "\n",
    "  show (Journal id authors title releaseDate pages copies) =\n",
    "    \"Journal [\" ++ id ++ \"]\\n\" ++\n",
    "    \"  Title: \" ++ title ++ \"\\n\" ++\n",
    "    \"  Authors: \" ++ unwords (map show authors) ++ \"\\n\" ++\n",
    "    \"  Release Date: \" ++ show releaseDate ++ \"\\n\" ++\n",
    "    \"  Pages: \" ++ show pages ++ \"\\n\" ++\n",
    "    \"  Copies: \" ++ show (length $ filter (not . isBorrowed) copies) ++ \"/\" ++ show (length copies) ++ \" available\\n\" ++\n",
    "    unlines (map show copies)\n",
    "\n",
    "  show (DVD id director actors title releaseDate duration copies) =\n",
    "    \"DVD [\" ++ id ++ \"]\\n\" ++\n",
    "    \"  Title: \" ++ title ++ \"\\n\" ++\n",
    "    \"  Director: \" ++ show director ++ \"\\n\" ++\n",
    "    \"  Actors: \" ++ unwords (map show actors) ++ \"\\n\" ++\n",
    "    \"  Release Date: \" ++ show releaseDate ++ \"\\n\" ++\n",
    "    \"  Duration: \" ++ show duration ++ \" minutes\\n\" ++\n",
    "    \"  Copies: \" ++ show (length $ filter (not . isBorrowed) copies) ++ \"/\" ++ show (length copies) ++ \" available\\n\" ++\n",
    "    unlines (map show copies)\n",
    "    \n",
    "instance Show User where\n",
    "    show (Student p) = \n",
    "        \"Student: \" ++ show p ++ \"\\n\"\n",
    "    \n",
    "    show (Professor p) = \n",
    "        \"Professor: \" ++ show p ++ \"\\n\"\n",
    "    \n",
    "instance Eq User where\n",
    "    (Student p1) == (Student p2) = p1 == p2\n",
    "    (Professor p1) == (Professor p2) = p1 == p2\n",
    "    _ == _ = False\n",
    "    \n",
    "prettyCatalog :: Catalog -> String\n",
    "prettyCatalog [] = \"Empty Catalog\"\n",
    "prettyCatalog catalog = unlines $ \"Catalog:\" : map show catalog\n",
    "\n"
   ]
  },
  {
   "cell_type": "code",
   "execution_count": 38,
   "metadata": {
    "vscode": {
     "languageId": "plaintext"
    }
   },
   "outputs": [
    {
     "data": {
      "text/plain": [
       "18 November 2024"
      ]
     },
     "metadata": {},
     "output_type": "display_data"
    },
    {
     "data": {
      "text/plain": [
       "John Doe (10 January 1980)"
      ]
     },
     "metadata": {},
     "output_type": "display_data"
    },
    {
     "data": {
      "text/plain": [
       "Book [B001]\n",
       "  Title: Functional Programming in Haskell\n",
       "  Author: John Doe (10 January 1980)\n",
       "  Pages: 300\n",
       "  Copies: 1/1 available\n",
       "Available"
      ]
     },
     "metadata": {},
     "output_type": "display_data"
    },
    {
     "data": {
      "text/plain": [
       "Student: Alice Smith (5 May 2001)"
      ]
     },
     "metadata": {},
     "output_type": "display_data"
    },
    {
     "data": {
      "text/plain": [
       "[Book [B001]\n",
       "  Title: Functional Programming in Haskell\n",
       "  Author: John Doe (10 January 1980)\n",
       "  Pages: 300\n",
       "  Copies: 1/1 available\n",
       "Available\n",
       "]"
      ]
     },
     "metadata": {},
     "output_type": "display_data"
    }
   ],
   "source": [
    "--Prueba\n",
    "exampleDate :: Date\n",
    "exampleDate = Date 18 \"November\" 2024\n",
    "\n",
    "author1 :: Person\n",
    "author1 = Person \"John\" \"Doe\" (Date 10 \"January\" 1980)\n",
    "\n",
    "exampleBook :: Publication\n",
    "exampleBook = Book \n",
    "  \"B001\" \n",
    "  author1 \n",
    "  \"Functional Programming in Haskell\" \n",
    "  300 \n",
    "  [Copy False Nothing Nothing Nothing]\n",
    "\n",
    "exampleStudent :: User\n",
    "exampleStudent = Student (Person \"Alice\" \"Smith\" (Date 5 \"May\" 2001))\n",
    "\n",
    "exampleCatalog :: Catalog\n",
    "exampleCatalog = [exampleBook]\n",
    "\n",
    "exampleDate\n",
    "\n",
    "author1\n",
    "\n",
    "exampleBook\n",
    "\n",
    "exampleStudent\n",
    "\n",
    "exampleCatalog\n"
   ]
  },
  {
   "cell_type": "code",
   "execution_count": 39,
   "metadata": {},
   "outputs": [
    {
     "data": {
      "text/plain": [
       "Book [B002]\n",
       "  Title: Pride and Prejudice\n",
       "  Author: Jane Austen (16 December 1775)\n",
       "  Pages: 432\n",
       "  Copies: 2/4 available\n",
       "Borrowed by Student: Alice Smith (5 May 2001)\n",
       " | Loan Date: 10 November 2024 | Return Date: 10 December 2024\n",
       "Borrowed by Professor: Dr. Johnson (12 August 1975)\n",
       " | Loan Date: 10 November 2024 | Return Date: 10 December 2024\n",
       "Available\n",
       "Available"
      ]
     },
     "metadata": {},
     "output_type": "display_data"
    },
    {
     "data": {
      "text/plain": [
       "[Book [B002]\n",
       "  Title: Pride and Prejudice\n",
       "  Author: Jane Austen (16 December 1775)\n",
       "  Pages: 432\n",
       "  Copies: 2/4 available\n",
       "Borrowed by Student: Alice Smith (5 May 2001)\n",
       " | Loan Date: 10 November 2024 | Return Date: 10 December 2024\n",
       "Borrowed by Professor: Dr. Johnson (12 August 1975)\n",
       " | Loan Date: 10 November 2024 | Return Date: 10 December 2024\n",
       "Available\n",
       "Available\n",
       "]"
      ]
     },
     "metadata": {},
     "output_type": "display_data"
    }
   ],
   "source": [
    "-- Ejemplo de fecha\n",
    "exampleLoanDate :: Date\n",
    "exampleLoanDate = Date 10 \"November\" 2024\n",
    "\n",
    "exampleReturnDate :: Date\n",
    "exampleReturnDate = Date 10 \"December\" 2024\n",
    "\n",
    "-- Ejemplo de personas\n",
    "student1 :: User\n",
    "student1 = Student (Person \"Alice\" \"Smith\" (Date 5 \"May\" 2001))\n",
    "professor1 :: User\n",
    "professor1 = Professor (Person \"Dr.\" \"Johnson\" (Date 12 \"August\" 1975)) \n",
    "-- Ejemplo de copias de un libro\n",
    "exampleCopies :: [Copy]\n",
    "exampleCopies = \n",
    "  [ Copy True (Just student1) (Just exampleLoanDate) (Just exampleReturnDate)  -- Prestada a un estudiante\n",
    "  , Copy True (Just professor1) (Just exampleLoanDate) (Just exampleReturnDate) -- Prestada a un profesor\n",
    "  , Copy False Nothing Nothing Nothing  -- Disponible\n",
    "  , Copy False Nothing Nothing Nothing  -- Disponible\n",
    "  ]\n",
    "\n",
    "-- Ejemplo de libro con varias copias\n",
    "exampleBookWithCopies :: Publication\n",
    "exampleBookWithCopies = Book\n",
    "  \"B002\"\n",
    "  (Person \"Jane\" \"Austen\" (Date 16 \"December\" 1775))\n",
    "  \"Pride and Prejudice\"\n",
    "  432\n",
    "  exampleCopies\n",
    "\n",
    "-- Catálogo con el libro\n",
    "exampleCatalogWithCopies :: Catalog\n",
    "exampleCatalogWithCopies = [exampleBookWithCopies]\n",
    "\n",
    "exampleBookWithCopies\n",
    "\n",
    "exampleCatalogWithCopies"
   ]
  },
  {
   "cell_type": "code",
   "execution_count": 40,
   "metadata": {},
   "outputs": [
    {
     "data": {
      "text/plain": [
       "\"Catalog:\\nBook [B002]\\n  Title: Pride and Prejudice\\n  Author: Jane Austen (16 December 1775)\\n  Pages: 432\\n  Copies: 2/4 available\\nBorrowed by Student: Alice Smith (5 May 2001)\\n | Loan Date: 10 November 2024 | Return Date: 10 December 2024\\nBorrowed by Professor: Dr. Johnson (12 August 1975)\\n | Loan Date: 10 November 2024 | Return Date: 10 December 2024\\nAvailable\\nAvailable\\n\\nBook [B003]\\n  Title: 1984\\n  Author: George Orwell (25 June 1903)\\n  Pages: 328\\n  Copies: 2/3 available\\nBorrowed by Student: Alice Smith (5 May 2001)\\n | Loan Date: 1 November 2024 | Return Date: 8 November 2024\\nAvailable\\nAvailable\\n\\n\""
      ]
     },
     "metadata": {},
     "output_type": "display_data"
    }
   ],
   "source": [
    "-- Ejemplo de otro libro con copias\n",
    "exampleCopies2 :: [Copy]\n",
    "exampleCopies2 = \n",
    "  [ Copy True (Just student1) (Just (Date 1 \"November\" 2024)) (Just (Date 8 \"November\" 2024)) -- Prestada a un estudiante\n",
    "  , Copy False Nothing Nothing Nothing  -- Disponible\n",
    "  , Copy False Nothing Nothing Nothing  -- Disponible\n",
    "  ]\n",
    "\n",
    "exampleBookWithCopies2 :: Publication\n",
    "exampleBookWithCopies2 = Book\n",
    "  \"B003\"\n",
    "  (Person \"George\" \"Orwell\" (Date 25 \"June\" 1903))\n",
    "  \"1984\"\n",
    "  328\n",
    "  exampleCopies2\n",
    "\n",
    "-- Catálogo actualizado con ambos libros\n",
    "updatedCatalog :: Catalog\n",
    "updatedCatalog = exampleCatalogWithCopies ++ [exampleBookWithCopies2]\n",
    "\n",
    "-- Prueba de impresión del catálogo actualizado\n",
    "prettyCatalog updatedCatalog\n"
   ]
  },
  {
   "cell_type": "code",
   "execution_count": 41,
   "metadata": {},
   "outputs": [
    {
     "data": {
      "text/plain": [
       "\"Empty Catalog\""
      ]
     },
     "metadata": {},
     "output_type": "display_data"
    }
   ],
   "source": [
    "prettyCatalog []"
   ]
  },
  {
   "cell_type": "markdown",
   "metadata": {},
   "source": [
    "## 3. An addToCatalog Publication Catalog function that adds a publication to the library catalog. If the publication is already in the catalog, its number of copies will be increased. "
   ]
  },
  {
   "cell_type": "code",
   "execution_count": 42,
   "metadata": {},
   "outputs": [
    {
     "data": {
      "text/plain": [
       "\"Catalog:\\nBook [B002]\\n  Title: Pride and Prejudice\\n  Author: Jane Austen (16 December 1775)\\n  Pages: 432\\n  Copies: 4/6 available\\nAvailable\\nAvailable\\nBorrowed by Student: Alice Smith (5 May 2001)\\n | Loan Date: 10 November 2024 | Return Date: 10 December 2024\\nBorrowed by Professor: Dr. Johnson (12 August 1975)\\n | Loan Date: 10 November 2024 | Return Date: 10 December 2024\\nAvailable\\nAvailable\\n\\nBook [B003]\\n  Title: 1984\\n  Author: George Orwell (25 June 1903)\\n  Pages: 328\\n  Copies: 2/3 available\\nBorrowed by Student: Alice Smith (5 May 2001)\\n | Loan Date: 1 November 2024 | Return Date: 8 November 2024\\nAvailable\\nAvailable\\n\\nBook [B004]\\n  Title: Harry Potter and the Philosopher's Stone\\n  Author: J.K. Rowling (31 July 1965)\\n  Pages: 223\\n  Copies: 1/1 available\\nAvailable\\n\\n\""
      ]
     },
     "metadata": {},
     "output_type": "display_data"
    }
   ],
   "source": [
    "addToCatalog :: Publication -> Catalog -> Catalog\n",
    "addToCatalog pub [] = [pub]\n",
    "addToCatalog pub (p:ps)\n",
    "  | samePublication pub p = mergeCopies pub p : ps -- Si ya existe, combina las copias\n",
    "  | otherwise             = p : addToCatalog pub ps -- Si no, sigue buscando\n",
    "  where\n",
    "    -- Verifica si dos publicaciones son la misma basándose en su ID único\n",
    "    samePublication :: Publication -> Publication -> Bool\n",
    "    samePublication (Book id1 _ _ _ _) (Book id2 _ _ _ _) = id1 == id2\n",
    "    samePublication (Journal id1 _ _ _ _ _) (Journal id2 _ _ _ _ _) = id1 == id2\n",
    "    samePublication (DVD id1 _ _ _ _ _ _) (DVD id2 _ _ _ _ _ _) = id1 == id2\n",
    "    samePublication _ _ = False\n",
    "\n",
    "    -- Combina las copias de dos publicaciones iguales\n",
    "    mergeCopies :: Publication -> Publication -> Publication\n",
    "    mergeCopies (Book id1 author1 title1 pages1 copies1) (Book _ _ _ _ copies2) =\n",
    "      Book id1 author1 title1 pages1 (copies1 ++ copies2)\n",
    "    mergeCopies (Journal id1 authors1 title1 release1 pages1 copies1) (Journal _ _ _ _ _ copies2) =\n",
    "      Journal id1 authors1 title1 release1 pages1 (copies1 ++ copies2)\n",
    "    mergeCopies (DVD id1 director1 actors1 title1 release1 duration1 copies1) (DVD _ _ _ _ _ _ copies2) =\n",
    "      DVD id1 director1 actors1 title1 release1 duration1 (copies1 ++ copies2)\n",
    "    mergeCopies pub1 _ = pub1 -- Por seguridad, devuelve pub1 en otros casos\n",
    "\n",
    "-- Nueva copia para un libro existente\n",
    "newCopiesForPrideAndPrejudice :: [Copy]\n",
    "newCopiesForPrideAndPrejudice = \n",
    "  [ Copy False Nothing Nothing Nothing,  -- Nueva copia disponible\n",
    "    Copy False Nothing Nothing Nothing   -- Otra nueva copia disponible\n",
    "  ]\n",
    "\n",
    "-- Publicación con nuevas copias de \"Pride and Prejudice\"\n",
    "newPrideAndPrejudice :: Publication\n",
    "newPrideAndPrejudice = Book\n",
    "  \"B002\"\n",
    "  (Person \"Jane\" \"Austen\" (Date 16 \"December\" 1775))\n",
    "  \"Pride and Prejudice\"\n",
    "  432\n",
    "  newCopiesForPrideAndPrejudice\n",
    "\n",
    "-- Nuevo libro completamente nuevo\n",
    "newBook :: Publication\n",
    "newBook = Book\n",
    "  \"B004\"\n",
    "  (Person \"J.K.\" \"Rowling\" (Date 31 \"July\" 1965))\n",
    "  \"Harry Potter and the Philosopher's Stone\"\n",
    "  223\n",
    "  [Copy False Nothing Nothing Nothing]\n",
    "\n",
    "-- Actualizar el catálogo\n",
    "updatedCatalog2 :: Catalog\n",
    "updatedCatalog2 = addToCatalog newPrideAndPrejudice $ addToCatalog newBook updatedCatalog\n",
    "\n",
    "-- Prueba de impresión\n",
    "prettyCatalog updatedCatalog2\n"
   ]
  },
  {
   "cell_type": "code",
   "execution_count": 43,
   "metadata": {},
   "outputs": [
    {
     "data": {
      "text/plain": [
       "\"Catalog:\\nBook [B002]\\n  Title: Pride and Prejudice\\n  Author: Jane Austen (16 December 1775)\\n  Pages: 432\\n  Copies: 4/6 available\\nAvailable\\nAvailable\\nBorrowed by Student: Alice Smith (5 May 2001)\\n | Loan Date: 10 November 2024 | Return Date: 10 December 2024\\nBorrowed by Professor: Dr. Johnson (12 August 1975)\\n | Loan Date: 10 November 2024 | Return Date: 10 December 2024\\nAvailable\\nAvailable\\n\\nBook [B003]\\n  Title: 1984\\n  Author: George Orwell (25 June 1903)\\n  Pages: 328\\n  Copies: 2/3 available\\nBorrowed by Student: Alice Smith (5 May 2001)\\n | Loan Date: 1 November 2024 | Return Date: 8 November 2024\\nAvailable\\nAvailable\\n\\nBook [B004]\\n  Title: Harry Potter and the Philosopher's Stone\\n  Author: J.K. Rowling (31 July 1965)\\n  Pages: 223\\n  Copies: 3/3 available\\nAvailable\\nAvailable\\nAvailable\\n\\n\""
      ]
     },
     "metadata": {},
     "output_type": "display_data"
    },
    {
     "data": {
      "text/plain": [
       "\"-----Empty Catalog--------\""
      ]
     },
     "metadata": {},
     "output_type": "display_data"
    },
    {
     "data": {
      "text/plain": [
       "[Book [B004]\n",
       "  Title: Harry Potter and the Philosopher's Stone\n",
       "  Author: J.K. Rowling (31 July 1965)\n",
       "  Pages: 223\n",
       "  Copies: 2/2 available\n",
       "Available\n",
       "Available\n",
       "]"
      ]
     },
     "metadata": {},
     "output_type": "display_data"
    }
   ],
   "source": [
    "-- Nuevas copias para \"Harry Potter and the Philosopher's Stone\"\n",
    "newCopiesForHarryPotter :: [Copy]\n",
    "newCopiesForHarryPotter = \n",
    "  [ Copy False Nothing Nothing Nothing,  -- Nueva copia disponible\n",
    "    Copy False Nothing Nothing Nothing   -- Otra nueva copia disponible\n",
    "  ]\n",
    "\n",
    "-- Publicación con nuevas copias de \"Harry Potter\"\n",
    "newBook2 :: Publication\n",
    "newBook2 = Book\n",
    "  \"B004\"\n",
    "  (Person \"J.K.\" \"Rowling\" (Date 31 \"July\" 1965))\n",
    "  \"Harry Potter and the Philosopher's Stone\"\n",
    "  223\n",
    "  newCopiesForHarryPotter\n",
    "\n",
    "-- Actualizar el catálogo con newBook2 (se fusionan las copias)\n",
    "finalCatalog :: Catalog\n",
    "finalCatalog = addToCatalog newBook2 updatedCatalog2\n",
    "\n",
    "-- Prueba de impresión\n",
    "prettyCatalog finalCatalog\n",
    "\"-----Empty Catalog--------\"\n",
    "addToCatalog newBook2 []"
   ]
  },
  {
   "cell_type": "markdown",
   "metadata": {},
   "source": [
    "## 4. A removeFromCatalog Publication Catalog that removes a copy of the publication from the library catalog. If it is the last copy, the publication will be removed. If the catalog does not contain that publication an error will be raised."
   ]
  },
  {
   "cell_type": "code",
   "execution_count": 44,
   "metadata": {},
   "outputs": [],
   "source": [
    "removeFromCatalog :: Publication -> Catalog -> Either String Catalog\n",
    "removeFromCatalog pub [] = Left \"Error: The publication is not in the catalog.\"\n",
    "removeFromCatalog pub (p:ps)\n",
    "  | samePublication pub p =\n",
    "      let updatedPub = removeCopy pub\n",
    "      in if noCopiesLeft updatedPub\n",
    "         then Right ps -- Elimina la publicación completamente\n",
    "         else Right (updatedPub : ps) -- Actualiza la publicación\n",
    "  | otherwise = fmap (p :) (removeFromCatalog pub ps) -- Sigue buscando\n",
    "  where\n",
    "    -- Verifica si dos publicaciones son iguales por su ID único\n",
    "    samePublication :: Publication -> Publication -> Bool\n",
    "    samePublication (Book id1 _ _ _ _) (Book id2 _ _ _ _) = id1 == id2\n",
    "    samePublication (Journal id1 _ _ _ _ _) (Journal id2 _ _ _ _ _) = id1 == id2\n",
    "    samePublication (DVD id1 _ _ _ _ _ _) (DVD id2 _ _ _ _ _ _) = id1 == id2\n",
    "    samePublication _ _ = False\n",
    "\n",
    "    -- Elimina una copia de la publicación (la primera disponible o prestada)\n",
    "    removeCopy :: Publication -> Publication\n",
    "    removeCopy (Book id1 author1 title1 pages1 copies1) =\n",
    "      Book id1 author1 title1 pages1 (tail copies1)\n",
    "    removeCopy (Journal id1 authors1 title1 release1 pages1 copies1) =\n",
    "      Journal id1 authors1 title1 release1 pages1 (tail copies1)\n",
    "    removeCopy (DVD id1 director1 actors1 title1 release1 duration1 copies1) =\n",
    "      DVD id1 director1 actors1 title1 release1 duration1 (tail copies1)\n",
    "    removeCopy pub = pub -- Por seguridad\n",
    "\n",
    "    -- Verifica si no quedan copias en la publicación\n",
    "    noCopiesLeft :: Publication -> Bool\n",
    "    noCopiesLeft (Book _ _ _ _ copies1)    = null copies1\n",
    "    noCopiesLeft (Journal _ _ _ _ _ copies1) = null copies1\n",
    "    noCopiesLeft (DVD _ _ _ _ _ _ copies1) = null copies1\n"
   ]
  },
  {
   "cell_type": "code",
   "execution_count": 45,
   "metadata": {},
   "outputs": [
    {
     "data": {
      "text/plain": [
       "[Book [B002]\n",
       "  Title: Pride and Prejudice\n",
       "  Author: Jane Austen (16 December 1775)\n",
       "  Pages: 432\n",
       "  Copies: 4/6 available\n",
       "Available\n",
       "Available\n",
       "Borrowed by Student: Alice Smith (5 May 2001)\n",
       " | Loan Date: 10 November 2024 | Return Date: 10 December 2024\n",
       "Borrowed by Professor: Dr. Johnson (12 August 1975)\n",
       " | Loan Date: 10 November 2024 | Return Date: 10 December 2024\n",
       "Available\n",
       "Available\n",
       ",Book [B003]\n",
       "  Title: 1984\n",
       "  Author: George Orwell (25 June 1903)\n",
       "  Pages: 328\n",
       "  Copies: 2/3 available\n",
       "Borrowed by Student: Alice Smith (5 May 2001)\n",
       " | Loan Date: 1 November 2024 | Return Date: 8 November 2024\n",
       "Available\n",
       "Available\n",
       ",Book [B004]\n",
       "  Title: Harry Potter and the Philosopher's Stone\n",
       "  Author: J.K. Rowling (31 July 1965)\n",
       "  Pages: 223\n",
       "  Copies: 3/3 available\n",
       "Available\n",
       "Available\n",
       "Available\n",
       "]"
      ]
     },
     "metadata": {},
     "output_type": "display_data"
    },
    {
     "data": {
      "text/plain": [
       "Book [B002]\n",
       "  Title: Pride and Prejudice\n",
       "  Author: Jane Austen (16 December 1775)\n",
       "  Pages: 432\n",
       "  Copies: 2/4 available\n",
       "Borrowed by Student: Alice Smith (5 May 2001)\n",
       " | Loan Date: 10 November 2024 | Return Date: 10 December 2024\n",
       "Borrowed by Professor: Dr. Johnson (12 August 1975)\n",
       " | Loan Date: 10 November 2024 | Return Date: 10 December 2024\n",
       "Available\n",
       "Available"
      ]
     },
     "metadata": {},
     "output_type": "display_data"
    },
    {
     "data": {
      "text/plain": [
       "Right [Book [B002]\n",
       "  Title: Pride and Prejudice\n",
       "  Author: Jane Austen (16 December 1775)\n",
       "  Pages: 432\n",
       "  Copies: 2/3 available\n",
       "Borrowed by Professor: Dr. Johnson (12 August 1975)\n",
       " | Loan Date: 10 November 2024 | Return Date: 10 December 2024\n",
       "Available\n",
       "Available\n",
       ",Book [B003]\n",
       "  Title: 1984\n",
       "  Author: George Orwell (25 June 1903)\n",
       "  Pages: 328\n",
       "  Copies: 2/3 available\n",
       "Borrowed by Student: Alice Smith (5 May 2001)\n",
       " | Loan Date: 1 November 2024 | Return Date: 8 November 2024\n",
       "Available\n",
       "Available\n",
       ",Book [B004]\n",
       "  Title: Harry Potter and the Philosopher's Stone\n",
       "  Author: J.K. Rowling (31 July 1965)\n",
       "  Pages: 223\n",
       "  Copies: 3/3 available\n",
       "Available\n",
       "Available\n",
       "Available\n",
       "]"
      ]
     },
     "metadata": {},
     "output_type": "display_data"
    }
   ],
   "source": [
    "-- Catálogo inicial\n",
    "\n",
    "catalogForRemoval :: Catalog\n",
    "catalogForRemoval = finalCatalog\n",
    "finalCatalog\n",
    "exampleBookWithCopies\n",
    "-- Eliminar una copia de \"Pride and Prejudice\"\n",
    "result1 :: Either String Catalog\n",
    "result1 = removeFromCatalog exampleBookWithCopies catalogForRemoval\n",
    "result1\n",
    "-- Eliminar \"1984\" completamente\n",
    "{-result2 :: Either String Catalog\n",
    "result2 = removeFromCatalog (Book \"B003\" undefined undefined undefined undefined) <$> result1\n",
    "result2\n",
    "-- Intentar eliminar una publicación inexistente\n",
    "result3 :: Either String Catalog\n",
    "result3 = removeFromCatalog (Book \"B999\" undefined undefined undefined undefined) <$> result2\n",
    "-}\n",
    "-- Prueba de impresión de resultados\n",
    "printCatalogResult :: Either String Catalog -> IO ()\n",
    "printCatalogResult (Left err) = putStrLn $ \"Error: \" ++ err\n",
    "printCatalogResult (Right catalog) = putStrLn $ prettyCatalog catalog\n",
    "\n",
    "\n",
    "   --result1\n",
    "  --t (removeFromCatalog exampleBookWithCopies catalogForRemoval) \n",
    "  --printCatalogResult result1\n",
    "  \n",
    "  --printCatalogResult result3\n"
   ]
  },
  {
   "cell_type": "code",
   "execution_count": 46,
   "metadata": {},
   "outputs": [
    {
     "data": {
      "text/plain": [
       "Book [B002]\n",
       "  Title: Pride and Prejudice\n",
       "  Author: Jane Austen (16 December 1775)\n",
       "  Pages: 432\n",
       "  Copies: 2/4 available\n",
       "Borrowed by Student: Alice Smith (5 May 2001)\n",
       " | Loan Date: 10 November 2024 | Return Date: 10 December 2024\n",
       "Borrowed by Professor: Dr. Johnson (12 August 1975)\n",
       " | Loan Date: 10 November 2024 | Return Date: 10 December 2024\n",
       "Available\n",
       "Available"
      ]
     },
     "metadata": {},
     "output_type": "display_data"
    },
    {
     "data": {
      "text/plain": [
       "\"---------------------------------\""
      ]
     },
     "metadata": {},
     "output_type": "display_data"
    },
    {
     "data": {
      "text/plain": [
       "[Book [B002]\n",
       "  Title: Pride and Prejudice\n",
       "  Author: Jane Austen (16 December 1775)\n",
       "  Pages: 432\n",
       "  Copies: 2/4 available\n",
       "Borrowed by Student: Alice Smith (5 May 2001)\n",
       " | Loan Date: 10 November 2024 | Return Date: 10 December 2024\n",
       "Borrowed by Professor: Dr. Johnson (12 August 1975)\n",
       " | Loan Date: 10 November 2024 | Return Date: 10 December 2024\n",
       "Available\n",
       "Available\n",
       "]"
      ]
     },
     "metadata": {},
     "output_type": "display_data"
    },
    {
     "data": {
      "text/plain": [
       "\"---------------------------------\""
      ]
     },
     "metadata": {},
     "output_type": "display_data"
    },
    {
     "data": {
      "text/plain": [
       "Right [Book [B002]\n",
       "  Title: Pride and Prejudice\n",
       "  Author: Jane Austen (16 December 1775)\n",
       "  Pages: 432\n",
       "  Copies: 2/3 available\n",
       "Borrowed by Professor: Dr. Johnson (12 August 1975)\n",
       " | Loan Date: 10 November 2024 | Return Date: 10 December 2024\n",
       "Available\n",
       "Available\n",
       "]"
      ]
     },
     "metadata": {},
     "output_type": "display_data"
    },
    {
     "data": {
      "text/plain": [
       "\"---------------------------------\""
      ]
     },
     "metadata": {},
     "output_type": "display_data"
    },
    {
     "data": {
      "text/plain": [
       "Left \"Error: The publication is not in the catalog.\""
      ]
     },
     "metadata": {},
     "output_type": "display_data"
    }
   ],
   "source": [
    "exampleBookWithCopies\n",
    "\"---------------------------------\"\n",
    "exampleCatalogWithCopies\n",
    "\"---------------------------------\"\n",
    "removeFromCatalog exampleBookWithCopies exampleCatalogWithCopies\n",
    "\"---------------------------------\"\n",
    "removeFromCatalog exampleBookWithCopies []"
   ]
  },
  {
   "cell_type": "markdown",
   "metadata": {},
   "source": [
    "## 5. A borrowedPublications User Catalog function that returns the publications the user has borrowed. They must be sort by closest return date, in case of tie in return date, it will first show books, then journals and finally DVDs. "
   ]
  },
  {
   "cell_type": "code",
   "execution_count": 47,
   "metadata": {},
   "outputs": [
    {
     "data": {
      "text/html": [
       "<style>/* Styles used for the Hoogle display in the pager */\n",
       ".hoogle-doc {\n",
       "display: block;\n",
       "padding-bottom: 1.3em;\n",
       "padding-left: 0.4em;\n",
       "}\n",
       ".hoogle-code {\n",
       "display: block;\n",
       "font-family: monospace;\n",
       "white-space: pre;\n",
       "}\n",
       ".hoogle-text {\n",
       "display: block;\n",
       "}\n",
       ".hoogle-name {\n",
       "color: green;\n",
       "font-weight: bold;\n",
       "}\n",
       ".hoogle-head {\n",
       "font-weight: bold;\n",
       "}\n",
       ".hoogle-sub {\n",
       "display: block;\n",
       "margin-left: 0.4em;\n",
       "}\n",
       ".hoogle-package {\n",
       "font-weight: bold;\n",
       "font-style: italic;\n",
       "}\n",
       ".hoogle-module {\n",
       "font-weight: bold;\n",
       "}\n",
       ".hoogle-class {\n",
       "font-weight: bold;\n",
       "}\n",
       "\n",
       ".get-type {\n",
       "color: green;\n",
       "font-weight: bold;\n",
       "font-family: monospace;\n",
       "display: block;\n",
       "white-space: pre-wrap;\n",
       "}\n",
       ".show-type {\n",
       "color: green;\n",
       "font-weight: bold;\n",
       "font-family: monospace;\n",
       "margin-left: 1em;\n",
       "}\n",
       ".mono {\n",
       "font-family: monospace;\n",
       "display: block;\n",
       "}\n",
       ".err-msg {\n",
       "color: red;\n",
       "font-style: italic;\n",
       "font-family: monospace;\n",
       "white-space: pre;\n",
       "display: block;\n",
       "}\n",
       "#unshowable {\n",
       "color: red;\n",
       "font-weight: bold;\n",
       "}\n",
       ".err-msg.in.collapse {\n",
       "padding-top: 0.7em;\n",
       "}\n",
       "\n",
       ".highlight-code {\n",
       "white-space: pre;\n",
       "font-family: monospace;\n",
       "}\n",
       "\n",
       ".suggestion-warning { \n",
       "font-weight: bold;\n",
       "color: rgb(200, 130, 0);\n",
       "}\n",
       ".suggestion-error { \n",
       "font-weight: bold;\n",
       "color: red;\n",
       "}\n",
       ".suggestion-name {\n",
       "font-weight: bold;\n",
       "}\n",
       "\n",
       "</style><div class=\"suggestion-name\" style=\"clear:both;\">Use foldr</div><div class=\"suggestion-row\" style=\"float: left;\"><div class=\"suggestion-warning\">Found:</div><div class=\"highlight-code\" id=\"haskell\">sortPublications [] = []\n",
       "sortPublications (x : xs)\n",
       "  = insertPublication x (sortPublications xs)</div></div><div class=\"suggestion-row\" style=\"float: left;\"><div class=\"suggestion-warning\">Why Not:</div><div class=\"highlight-code\" id=\"haskell\">sortPublications xs = foldr insertPublication [] xs</div></div><div class=\"suggestion-name\" style=\"clear:both;\">Use record patterns</div><div class=\"suggestion-row\" style=\"float: left;\"><div class=\"suggestion-warning\">Found:</div><div class=\"highlight-code\" id=\"haskell\">Book _ _ _ _ _</div></div><div class=\"suggestion-row\" style=\"float: left;\"><div class=\"suggestion-warning\">Why Not:</div><div class=\"highlight-code\" id=\"haskell\">Book {}</div></div><div class=\"suggestion-name\" style=\"clear:both;\">Use record patterns</div><div class=\"suggestion-row\" style=\"float: left;\"><div class=\"suggestion-warning\">Found:</div><div class=\"highlight-code\" id=\"haskell\">Book _ _ _ _ _</div></div><div class=\"suggestion-row\" style=\"float: left;\"><div class=\"suggestion-warning\">Why Not:</div><div class=\"highlight-code\" id=\"haskell\">Book {}</div></div><div class=\"suggestion-name\" style=\"clear:both;\">Use record patterns</div><div class=\"suggestion-row\" style=\"float: left;\"><div class=\"suggestion-warning\">Found:</div><div class=\"highlight-code\" id=\"haskell\">Book _ _ _ _ _</div></div><div class=\"suggestion-row\" style=\"float: left;\"><div class=\"suggestion-warning\">Why Not:</div><div class=\"highlight-code\" id=\"haskell\">Book {}</div></div><div class=\"suggestion-name\" style=\"clear:both;\">Use record patterns</div><div class=\"suggestion-row\" style=\"float: left;\"><div class=\"suggestion-warning\">Found:</div><div class=\"highlight-code\" id=\"haskell\">Book _ _ _ _ _</div></div><div class=\"suggestion-row\" style=\"float: left;\"><div class=\"suggestion-warning\">Why Not:</div><div class=\"highlight-code\" id=\"haskell\">Book {}</div></div><div class=\"suggestion-name\" style=\"clear:both;\">Use record patterns</div><div class=\"suggestion-row\" style=\"float: left;\"><div class=\"suggestion-warning\">Found:</div><div class=\"highlight-code\" id=\"haskell\">Journal _ _ _ _ _ _</div></div><div class=\"suggestion-row\" style=\"float: left;\"><div class=\"suggestion-warning\">Why Not:</div><div class=\"highlight-code\" id=\"haskell\">Journal {}</div></div><div class=\"suggestion-name\" style=\"clear:both;\">Use record patterns</div><div class=\"suggestion-row\" style=\"float: left;\"><div class=\"suggestion-warning\">Found:</div><div class=\"highlight-code\" id=\"haskell\">Journal _ _ _ _ _ _</div></div><div class=\"suggestion-row\" style=\"float: left;\"><div class=\"suggestion-warning\">Why Not:</div><div class=\"highlight-code\" id=\"haskell\">Journal {}</div></div><div class=\"suggestion-name\" style=\"clear:both;\">Use record patterns</div><div class=\"suggestion-row\" style=\"float: left;\"><div class=\"suggestion-warning\">Found:</div><div class=\"highlight-code\" id=\"haskell\">Journal _ _ _ _ _ _</div></div><div class=\"suggestion-row\" style=\"float: left;\"><div class=\"suggestion-warning\">Why Not:</div><div class=\"highlight-code\" id=\"haskell\">Journal {}</div></div><div class=\"suggestion-name\" style=\"clear:both;\">Use record patterns</div><div class=\"suggestion-row\" style=\"float: left;\"><div class=\"suggestion-warning\">Found:</div><div class=\"highlight-code\" id=\"haskell\">Journal _ _ _ _ _ _</div></div><div class=\"suggestion-row\" style=\"float: left;\"><div class=\"suggestion-warning\">Why Not:</div><div class=\"highlight-code\" id=\"haskell\">Journal {}</div></div><div class=\"suggestion-name\" style=\"clear:both;\">Use record patterns</div><div class=\"suggestion-row\" style=\"float: left;\"><div class=\"suggestion-warning\">Found:</div><div class=\"highlight-code\" id=\"haskell\">DVD _ _ _ _ _ _ _</div></div><div class=\"suggestion-row\" style=\"float: left;\"><div class=\"suggestion-warning\">Why Not:</div><div class=\"highlight-code\" id=\"haskell\">DVD {}</div></div><div class=\"suggestion-name\" style=\"clear:both;\">Use record patterns</div><div class=\"suggestion-row\" style=\"float: left;\"><div class=\"suggestion-warning\">Found:</div><div class=\"highlight-code\" id=\"haskell\">DVD _ _ _ _ _ _ _</div></div><div class=\"suggestion-row\" style=\"float: left;\"><div class=\"suggestion-warning\">Why Not:</div><div class=\"highlight-code\" id=\"haskell\">DVD {}</div></div><div class=\"suggestion-name\" style=\"clear:both;\">Use record patterns</div><div class=\"suggestion-row\" style=\"float: left;\"><div class=\"suggestion-warning\">Found:</div><div class=\"highlight-code\" id=\"haskell\">DVD _ _ _ _ _ _ _</div></div><div class=\"suggestion-row\" style=\"float: left;\"><div class=\"suggestion-warning\">Why Not:</div><div class=\"highlight-code\" id=\"haskell\">DVD {}</div></div><div class=\"suggestion-name\" style=\"clear:both;\">Use record patterns</div><div class=\"suggestion-row\" style=\"float: left;\"><div class=\"suggestion-warning\">Found:</div><div class=\"highlight-code\" id=\"haskell\">DVD _ _ _ _ _ _ _</div></div><div class=\"suggestion-row\" style=\"float: left;\"><div class=\"suggestion-warning\">Why Not:</div><div class=\"highlight-code\" id=\"haskell\">DVD {}</div></div>"
      ],
      "text/plain": [
       "Line 17: Use foldr\n",
       "Found:\n",
       "sortPublications [] = []\n",
       "sortPublications (x : xs)\n",
       "  = insertPublication x (sortPublications xs)\n",
       "Why not:\n",
       "sortPublications xs = foldr insertPublication [] xsLine 43: Use record patterns\n",
       "Found:\n",
       "Book _ _ _ _ _\n",
       "Why not:\n",
       "Book {}Line 43: Use record patterns\n",
       "Found:\n",
       "Book _ _ _ _ _\n",
       "Why not:\n",
       "Book {}Line 44: Use record patterns\n",
       "Found:\n",
       "Book _ _ _ _ _\n",
       "Why not:\n",
       "Book {}Line 45: Use record patterns\n",
       "Found:\n",
       "Book _ _ _ _ _\n",
       "Why not:\n",
       "Book {}Line 46: Use record patterns\n",
       "Found:\n",
       "Journal _ _ _ _ _ _\n",
       "Why not:\n",
       "Journal {}Line 46: Use record patterns\n",
       "Found:\n",
       "Journal _ _ _ _ _ _\n",
       "Why not:\n",
       "Journal {}Line 47: Use record patterns\n",
       "Found:\n",
       "Journal _ _ _ _ _ _\n",
       "Why not:\n",
       "Journal {}Line 48: Use record patterns\n",
       "Found:\n",
       "Journal _ _ _ _ _ _\n",
       "Why not:\n",
       "Journal {}Line 49: Use record patterns\n",
       "Found:\n",
       "DVD _ _ _ _ _ _ _\n",
       "Why not:\n",
       "DVD {}Line 49: Use record patterns\n",
       "Found:\n",
       "DVD _ _ _ _ _ _ _\n",
       "Why not:\n",
       "DVD {}Line 50: Use record patterns\n",
       "Found:\n",
       "DVD _ _ _ _ _ _ _\n",
       "Why not:\n",
       "DVD {}Line 51: Use record patterns\n",
       "Found:\n",
       "DVD _ _ _ _ _ _ _\n",
       "Why not:\n",
       "DVD {}"
      ]
     },
     "metadata": {},
     "output_type": "display_data"
    }
   ],
   "source": [
    "-- Función principal para obtener las publicaciones prestadas por un usuario\n",
    "borrowedPublications :: User -> Catalog -> [Publication]\n",
    "borrowedPublications user catalog = \n",
    "  let borrowedCopies = [ publication | publication <- catalog, \n",
    "                                     any (isBorrowedByUser user) (copies publication) ]\n",
    "  in sortPublications borrowedCopies\n",
    "\n",
    "-- Función auxiliar para verificar si una copia está prestada al usuario\n",
    "isBorrowedByUser :: User -> Copy -> Bool\n",
    "isBorrowedByUser user copy = \n",
    "  case borrower copy of\n",
    "    Just u  -> u == user  -- Si el prestatario es el usuario, es una copia tomada por él.\n",
    "    Nothing -> False      -- Si no está prestada, no la consideramos.\n",
    "\n",
    "-- Función para ordenar las publicaciones\n",
    "sortPublications :: [Publication] -> [Publication]\n",
    "sortPublications [] = []\n",
    "sortPublications (x:xs) = insertPublication x (sortPublications xs)\n",
    "\n",
    "-- Función para insertar una publicación en el lugar adecuado\n",
    "insertPublication :: Publication -> [Publication] -> [Publication]\n",
    "insertPublication pub [] = [pub]\n",
    "insertPublication pub (x:xs)\n",
    "  | comparator pub x == LT = pub : x : xs  -- Si pub debe ir antes de x\n",
    "  | otherwise = x : insertPublication pub xs  -- Sino, seguimos buscando\n",
    "\n",
    "-- Comparador para ordenar publicaciones\n",
    "comparator :: Publication -> Publication -> Ordering\n",
    "comparator pub1 pub2 = \n",
    "  case compareReturnDate pub1 pub2 of\n",
    "    EQ -> compareType pub1 pub2\n",
    "    result -> result\n",
    "\n",
    "-- Función para comparar las fechas de retorno\n",
    "compareReturnDate :: Publication -> Publication -> Ordering\n",
    "compareReturnDate pub1 pub2 =\n",
    "  let returnDate1 = minimum (map returnDate (copies pub1))\n",
    "      returnDate2 = minimum (map returnDate (copies pub2))\n",
    "  in compare returnDate1 returnDate2\n",
    "\n",
    "-- Función para comparar el tipo de publicación (libro primero, luego revista, luego DVD)\n",
    "compareType :: Publication -> Publication -> Ordering\n",
    "compareType (Book _ _ _ _ _) (Book _ _ _ _ _) = EQ\n",
    "compareType (Book _ _ _ _ _) _ = LT\n",
    "compareType _ (Book _ _ _ _ _) = GT\n",
    "compareType (Journal _ _ _ _ _ _) (Journal _ _ _ _ _ _) = EQ\n",
    "compareType (Journal _ _ _ _ _ _) _ = LT\n",
    "compareType _ (Journal _ _ _ _ _ _) = GT\n",
    "compareType (DVD _ _ _ _ _ _ _) (DVD _ _ _ _ _ _ _) = EQ\n",
    "compareType (DVD _ _ _ _ _ _ _) _ = LT\n",
    "compareType _ (DVD _ _ _ _ _ _ _) = GT"
   ]
  },
  {
   "cell_type": "code",
   "execution_count": 48,
   "metadata": {},
   "outputs": [],
   "source": [
    "author1 :: Person\n",
    "author1 = Person \"Jane\" \"Austen\" (Date 16 \"December\" 1775)\n",
    "\n",
    "author2 :: Person\n",
    "author2 = Person \"Charles\" \"Dickens\" (Date 7 \"February\" 1812)\n",
    "\n",
    "actor1 :: Person\n",
    "actor1 = Person \"Actor\" \"One\" (Date 1 \"January\" 1990)\n",
    "\n",
    "director1 :: Person\n",
    "director1 = Person \"Director\" \"One\" (Date 1 \"January\" 1980)\n",
    "\n",
    "testUser = Student \n",
    "  (Person \"John\" \"Doe\" (Date 1 \"January\" 2000)) \n",
    "\n",
    "\n",
    "borrowedCopy1 = Copy True (Just testUser) (Just (Date 20 \"November\" 2024)) (Just (Date 30 \"November\" 2024))\n",
    "borrowedCopy2 = Copy True (Just testUser) (Just (Date 15 \"November\" 2024)) (Just (Date 30 \"November\" 2024))\n",
    "borrowedCopy3 = Copy True (Just testUser) (Just (Date 18 \"November\" 2024)) (Just (Date 28 \"November\" 2024))\n",
    "borrowedCopy4 = Copy True (Just testUser) (Just (Date 24 \"November\" 2024)) (Just (Date 28 \"November\" 2024))\n",
    "borrowedCopy5 = Copy False Nothing Nothing Nothing\n",
    "book1, book2, journal1 :: Publication\n",
    "book1 = Book \"B001\" (Person \"Author1\" \"Surname1\" (Date 1 \"January\" 1970)) \n",
    "                   \"Functional Programming in Haskell\" 300 [borrowedCopy1]\n",
    "book2 = Book \"B002\" (Person \"Author2\" \"Surname2\" (Date 1 \"February\" 1980)) \n",
    "                   \"Learn You a Haskell\" 250 [borrowedCopy2]\n",
    "journal1 = Journal \"J001\" [Person \"Author3\" \"Surname3\" (Date 1 \"March\" 1990)] \n",
    "                         \"Advanced Haskell Research\" (Date 1 \"March\" 2024) \n",
    "                         50 [borrowedCopy3, borrowedCopy5]\n",
    "--dvd1 = DVD \"D001\" testUser [testUser] \"Literature on Screen\" (Date 1 \"April\" 2024) 120 []\n",
    "dvd1 :: Publication\n",
    "dvd1 = DVD \"D001\" director1 [actor1, author2] \"Literature on Screen\" (Date 1 \"April\" 2024) 120 [borrowedCopy4]\n",
    "\n",
    "testCatalog :: Catalog\n",
    "testCatalog = [book1, book2, journal1, dvd1]"
   ]
  },
  {
   "cell_type": "code",
   "execution_count": 49,
   "metadata": {},
   "outputs": [
    {
     "data": {
      "text/html": [
       "<style>/* Styles used for the Hoogle display in the pager */\n",
       ".hoogle-doc {\n",
       "display: block;\n",
       "padding-bottom: 1.3em;\n",
       "padding-left: 0.4em;\n",
       "}\n",
       ".hoogle-code {\n",
       "display: block;\n",
       "font-family: monospace;\n",
       "white-space: pre;\n",
       "}\n",
       ".hoogle-text {\n",
       "display: block;\n",
       "}\n",
       ".hoogle-name {\n",
       "color: green;\n",
       "font-weight: bold;\n",
       "}\n",
       ".hoogle-head {\n",
       "font-weight: bold;\n",
       "}\n",
       ".hoogle-sub {\n",
       "display: block;\n",
       "margin-left: 0.4em;\n",
       "}\n",
       ".hoogle-package {\n",
       "font-weight: bold;\n",
       "font-style: italic;\n",
       "}\n",
       ".hoogle-module {\n",
       "font-weight: bold;\n",
       "}\n",
       ".hoogle-class {\n",
       "font-weight: bold;\n",
       "}\n",
       "\n",
       ".get-type {\n",
       "color: green;\n",
       "font-weight: bold;\n",
       "font-family: monospace;\n",
       "display: block;\n",
       "white-space: pre-wrap;\n",
       "}\n",
       ".show-type {\n",
       "color: green;\n",
       "font-weight: bold;\n",
       "font-family: monospace;\n",
       "margin-left: 1em;\n",
       "}\n",
       ".mono {\n",
       "font-family: monospace;\n",
       "display: block;\n",
       "}\n",
       ".err-msg {\n",
       "color: red;\n",
       "font-style: italic;\n",
       "font-family: monospace;\n",
       "white-space: pre;\n",
       "display: block;\n",
       "}\n",
       "#unshowable {\n",
       "color: red;\n",
       "font-weight: bold;\n",
       "}\n",
       ".err-msg.in.collapse {\n",
       "padding-top: 0.7em;\n",
       "}\n",
       "\n",
       ".highlight-code {\n",
       "white-space: pre;\n",
       "font-family: monospace;\n",
       "}\n",
       "\n",
       ".suggestion-warning { \n",
       "font-weight: bold;\n",
       "color: rgb(200, 130, 0);\n",
       "}\n",
       ".suggestion-error { \n",
       "font-weight: bold;\n",
       "color: red;\n",
       "}\n",
       ".suggestion-name {\n",
       "font-weight: bold;\n",
       "}\n",
       "\n",
       "</style><div class=\"suggestion-name\" style=\"clear:both;\">Redundant bracket</div><div class=\"suggestion-row\" style=\"float: left;\"><div class=\"suggestion-warning\">Found:</div><div class=\"highlight-code\" id=\"haskell\">(\"-----------------------------------\")</div></div><div class=\"suggestion-row\" style=\"float: left;\"><div class=\"suggestion-warning\">Why Not:</div><div class=\"highlight-code\" id=\"haskell\">\"-----------------------------------\"</div></div><div class=\"suggestion-name\" style=\"clear:both;\">Redundant bracket</div><div class=\"suggestion-row\" style=\"float: left;\"><div class=\"suggestion-warning\">Found:</div><div class=\"highlight-code\" id=\"haskell\">(\"-----------------------------------\")</div></div><div class=\"suggestion-row\" style=\"float: left;\"><div class=\"suggestion-warning\">Why Not:</div><div class=\"highlight-code\" id=\"haskell\">\"-----------------------------------\"</div></div>"
      ],
      "text/plain": [
       "Line 2: Redundant bracket\n",
       "Found:\n",
       "(\"-----------------------------------\")\n",
       "Why not:\n",
       "\"-----------------------------------\"Line 4: Redundant bracket\n",
       "Found:\n",
       "(\"-----------------------------------\")\n",
       "Why not:\n",
       "\"-----------------------------------\""
      ]
     },
     "metadata": {},
     "output_type": "display_data"
    },
    {
     "data": {
      "text/plain": [
       "Student: John Doe (1 January 2000)"
      ]
     },
     "metadata": {},
     "output_type": "display_data"
    },
    {
     "data": {
      "text/plain": [
       "\"-----------------------------------\""
      ]
     },
     "metadata": {},
     "output_type": "display_data"
    },
    {
     "data": {
      "text/plain": [
       "[Book [B001]\n",
       "  Title: Functional Programming in Haskell\n",
       "  Author: Author1 Surname1 (1 January 1970)\n",
       "  Pages: 300\n",
       "  Copies: 0/1 available\n",
       "Borrowed by Student: John Doe (1 January 2000)\n",
       " | Loan Date: 20 November 2024 | Return Date: 30 November 2024\n",
       ",Book [B002]\n",
       "  Title: Learn You a Haskell\n",
       "  Author: Author2 Surname2 (1 February 1980)\n",
       "  Pages: 250\n",
       "  Copies: 0/1 available\n",
       "Borrowed by Student: John Doe (1 January 2000)\n",
       " | Loan Date: 15 November 2024 | Return Date: 30 November 2024\n",
       ",Journal [J001]\n",
       "  Title: Advanced Haskell Research\n",
       "  Authors: Author3 Surname3 (1 March 1990)\n",
       "  Release Date: 1 March 2024\n",
       "  Pages: 50\n",
       "  Copies: 1/2 available\n",
       "Borrowed by Student: John Doe (1 January 2000)\n",
       " | Loan Date: 18 November 2024 | Return Date: 28 November 2024\n",
       "Available\n",
       ",DVD [D001]\n",
       "  Title: Literature on Screen\n",
       "  Director: Director One (1 January 1980)\n",
       "  Actors: Actor One (1 January 1990) Charles Dickens (7 February 1812)\n",
       "  Release Date: 1 April 2024\n",
       "  Duration: 120 minutes\n",
       "  Copies: 0/1 available\n",
       "Borrowed by Student: John Doe (1 January 2000)\n",
       " | Loan Date: 24 November 2024 | Return Date: 28 November 2024\n",
       "]"
      ]
     },
     "metadata": {},
     "output_type": "display_data"
    },
    {
     "data": {
      "text/plain": [
       "\"-----------------------------------\""
      ]
     },
     "metadata": {},
     "output_type": "display_data"
    },
    {
     "data": {
      "text/plain": [
       "[Journal [J001]\n",
       "  Title: Advanced Haskell Research\n",
       "  Authors: Author3 Surname3 (1 March 1990)\n",
       "  Release Date: 1 March 2024\n",
       "  Pages: 50\n",
       "  Copies: 1/2 available\n",
       "Borrowed by Student: John Doe (1 January 2000)\n",
       " | Loan Date: 18 November 2024 | Return Date: 28 November 2024\n",
       "Available\n",
       ",DVD [D001]\n",
       "  Title: Literature on Screen\n",
       "  Director: Director One (1 January 1980)\n",
       "  Actors: Actor One (1 January 1990) Charles Dickens (7 February 1812)\n",
       "  Release Date: 1 April 2024\n",
       "  Duration: 120 minutes\n",
       "  Copies: 0/1 available\n",
       "Borrowed by Student: John Doe (1 January 2000)\n",
       " | Loan Date: 24 November 2024 | Return Date: 28 November 2024\n",
       ",Book [B002]\n",
       "  Title: Learn You a Haskell\n",
       "  Author: Author2 Surname2 (1 February 1980)\n",
       "  Pages: 250\n",
       "  Copies: 0/1 available\n",
       "Borrowed by Student: John Doe (1 January 2000)\n",
       " | Loan Date: 15 November 2024 | Return Date: 30 November 2024\n",
       ",Book [B001]\n",
       "  Title: Functional Programming in Haskell\n",
       "  Author: Author1 Surname1 (1 January 1970)\n",
       "  Pages: 300\n",
       "  Copies: 0/1 available\n",
       "Borrowed by Student: John Doe (1 January 2000)\n",
       " | Loan Date: 20 November 2024 | Return Date: 30 November 2024\n",
       "]"
      ]
     },
     "metadata": {},
     "output_type": "display_data"
    }
   ],
   "source": [
    "testUser\n",
    "print(\"-----------------------------------\")\n",
    "testCatalog\n",
    "print(\"-----------------------------------\")\n",
    "borrowedPublications testUser testCatalog"
   ]
  },
  {
   "cell_type": "code",
   "execution_count": 50,
   "metadata": {},
   "outputs": [
    {
     "data": {
      "text/plain": [
       "[]"
      ]
     },
     "metadata": {},
     "output_type": "display_data"
    }
   ],
   "source": [
    "borrowedPublications testUser []\n"
   ]
  },
  {
   "cell_type": "markdown",
   "metadata": {},
   "source": [
    "## 6. A publicationsByAuthor Author Catalog that returns a list with all the publications for that author in the Catalog or the empty list if that person has not authored any publication. Create also equivalent booksByAuthor, journalsByAuthor and DVDsByAuthor that restrict the search to books, journals and DVDs respectively. Notice in DVD both directors and actors must be considered. "
   ]
  },
  {
   "cell_type": "code",
   "execution_count": 51,
   "metadata": {},
   "outputs": [
    {
     "data": {
      "text/html": [
       "<style>/* Styles used for the Hoogle display in the pager */\n",
       ".hoogle-doc {\n",
       "display: block;\n",
       "padding-bottom: 1.3em;\n",
       "padding-left: 0.4em;\n",
       "}\n",
       ".hoogle-code {\n",
       "display: block;\n",
       "font-family: monospace;\n",
       "white-space: pre;\n",
       "}\n",
       ".hoogle-text {\n",
       "display: block;\n",
       "}\n",
       ".hoogle-name {\n",
       "color: green;\n",
       "font-weight: bold;\n",
       "}\n",
       ".hoogle-head {\n",
       "font-weight: bold;\n",
       "}\n",
       ".hoogle-sub {\n",
       "display: block;\n",
       "margin-left: 0.4em;\n",
       "}\n",
       ".hoogle-package {\n",
       "font-weight: bold;\n",
       "font-style: italic;\n",
       "}\n",
       ".hoogle-module {\n",
       "font-weight: bold;\n",
       "}\n",
       ".hoogle-class {\n",
       "font-weight: bold;\n",
       "}\n",
       "\n",
       ".get-type {\n",
       "color: green;\n",
       "font-weight: bold;\n",
       "font-family: monospace;\n",
       "display: block;\n",
       "white-space: pre-wrap;\n",
       "}\n",
       ".show-type {\n",
       "color: green;\n",
       "font-weight: bold;\n",
       "font-family: monospace;\n",
       "margin-left: 1em;\n",
       "}\n",
       ".mono {\n",
       "font-family: monospace;\n",
       "display: block;\n",
       "}\n",
       ".err-msg {\n",
       "color: red;\n",
       "font-style: italic;\n",
       "font-family: monospace;\n",
       "white-space: pre;\n",
       "display: block;\n",
       "}\n",
       "#unshowable {\n",
       "color: red;\n",
       "font-weight: bold;\n",
       "}\n",
       ".err-msg.in.collapse {\n",
       "padding-top: 0.7em;\n",
       "}\n",
       "\n",
       ".highlight-code {\n",
       "white-space: pre;\n",
       "font-family: monospace;\n",
       "}\n",
       "\n",
       ".suggestion-warning { \n",
       "font-weight: bold;\n",
       "color: rgb(200, 130, 0);\n",
       "}\n",
       ".suggestion-error { \n",
       "font-weight: bold;\n",
       "color: red;\n",
       "}\n",
       ".suggestion-name {\n",
       "font-weight: bold;\n",
       "}\n",
       "\n",
       "</style><div class=\"suggestion-name\" style=\"clear:both;\">Eta reduce</div><div class=\"suggestion-row\" style=\"float: left;\"><div class=\"suggestion-warning\">Found:</div><div class=\"highlight-code\" id=\"haskell\">publicationsByAuthor author catalog = filter authoredBy catalog</div></div><div class=\"suggestion-row\" style=\"float: left;\"><div class=\"suggestion-warning\">Why Not:</div><div class=\"highlight-code\" id=\"haskell\">publicationsByAuthor author = filter authoredBy</div></div><div class=\"suggestion-name\" style=\"clear:both;\">Eta reduce</div><div class=\"suggestion-row\" style=\"float: left;\"><div class=\"suggestion-warning\">Found:</div><div class=\"highlight-code\" id=\"haskell\">booksByAuthor author catalog = filter authoredByBook catalog</div></div><div class=\"suggestion-row\" style=\"float: left;\"><div class=\"suggestion-warning\">Why Not:</div><div class=\"highlight-code\" id=\"haskell\">booksByAuthor author = filter authoredByBook</div></div><div class=\"suggestion-name\" style=\"clear:both;\">Eta reduce</div><div class=\"suggestion-row\" style=\"float: left;\"><div class=\"suggestion-warning\">Found:</div><div class=\"highlight-code\" id=\"haskell\">journalsByAuthor author catalog = filter authoredByJournal catalog</div></div><div class=\"suggestion-row\" style=\"float: left;\"><div class=\"suggestion-warning\">Why Not:</div><div class=\"highlight-code\" id=\"haskell\">journalsByAuthor author = filter authoredByJournal</div></div><div class=\"suggestion-name\" style=\"clear:both;\">Eta reduce</div><div class=\"suggestion-row\" style=\"float: left;\"><div class=\"suggestion-warning\">Found:</div><div class=\"highlight-code\" id=\"haskell\">dvdsByAuthor author catalog = filter authoredByDVD catalog</div></div><div class=\"suggestion-row\" style=\"float: left;\"><div class=\"suggestion-warning\">Why Not:</div><div class=\"highlight-code\" id=\"haskell\">dvdsByAuthor author = filter authoredByDVD</div></div>"
      ],
      "text/plain": [
       "Line 3: Eta reduce\n",
       "Found:\n",
       "publicationsByAuthor author catalog = filter authoredBy catalog\n",
       "Why not:\n",
       "publicationsByAuthor author = filter authoredByLine 13: Eta reduce\n",
       "Found:\n",
       "booksByAuthor author catalog = filter authoredByBook catalog\n",
       "Why not:\n",
       "booksByAuthor author = filter authoredByBookLine 22: Eta reduce\n",
       "Found:\n",
       "journalsByAuthor author catalog = filter authoredByJournal catalog\n",
       "Why not:\n",
       "journalsByAuthor author = filter authoredByJournalLine 31: Eta reduce\n",
       "Found:\n",
       "dvdsByAuthor author catalog = filter authoredByDVD catalog\n",
       "Why not:\n",
       "dvdsByAuthor author = filter authoredByDVD"
      ]
     },
     "metadata": {},
     "output_type": "display_data"
    }
   ],
   "source": [
    "-- General function to find all publications by a given author\n",
    "publicationsByAuthor :: Person -> Catalog -> [Publication]\n",
    "publicationsByAuthor author catalog =\n",
    "  filter authoredBy catalog\n",
    "  where\n",
    "    -- Checks if a publication is authored by the given person\n",
    "    authoredBy :: Publication -> Bool\n",
    "    authoredBy (Book _ bookAuthor _ _ _) = bookAuthor == author\n",
    "    authoredBy (Journal _ journalAuthors _ _ _ _) = author `elem` journalAuthors\n",
    "    authoredBy (DVD _ director actors _ _ _ _) = director == author || author `elem` actors\n",
    "    \n",
    "booksByAuthor :: Person -> Catalog -> [Publication]\n",
    "booksByAuthor author catalog =\n",
    "  filter authoredByBook catalog\n",
    "  where\n",
    "    -- Checks if a book is authored by the given person\n",
    "    authoredByBook :: Publication -> Bool\n",
    "    authoredByBook (Book _ bookAuthor _ _ _) = bookAuthor == author\n",
    "    authoredByBook _ = False\n",
    "\n",
    "journalsByAuthor :: Person -> Catalog -> [Publication]\n",
    "journalsByAuthor author catalog =\n",
    "  filter authoredByJournal catalog\n",
    "  where\n",
    "    -- Checks if a journal is authored by the given person\n",
    "    authoredByJournal :: Publication -> Bool\n",
    "    authoredByJournal (Journal _ journalAuthors _ _ _ _) = author `elem` journalAuthors\n",
    "    authoredByJournal _ = False\n",
    "\n",
    "dvdsByAuthor :: Person -> Catalog -> [Publication]\n",
    "dvdsByAuthor author catalog =\n",
    "  filter authoredByDVD catalog\n",
    "  where\n",
    "    -- Checks if a DVD is directed or acted by the given person\n",
    "    authoredByDVD :: Publication -> Bool\n",
    "    authoredByDVD (DVD _ director actors _ _ _ _) = director == author || author `elem` actors\n",
    "    authoredByDVD _ = False\n"
   ]
  },
  {
   "cell_type": "code",
   "execution_count": 52,
   "metadata": {},
   "outputs": [],
   "source": [
    "author1 :: Person\n",
    "author1 = Person \"Jane\" \"Austen\" (Date 16 \"December\" 1775)\n",
    "\n",
    "author2 :: Person\n",
    "author2 = Person \"Charles\" \"Dickens\" (Date 7 \"February\" 1812)\n",
    "\n",
    "actor1 :: Person\n",
    "actor1 = Person \"Actor\" \"One\" (Date 1 \"January\" 1990)\n",
    "\n",
    "director1 :: Person\n",
    "director1 = Person \"Director\" \"One\" (Date 1 \"January\" 1980)\n",
    "\n",
    "book1 :: Publication\n",
    "book1 = Book \"B001\" author1 \"Pride and Prejudice\" 432 []\n",
    "\n",
    "book2 :: Publication\n",
    "book2 = Book \"B002\" author2 \"Oliver Twist\" 300 []\n",
    "\n",
    "journal1 :: Publication\n",
    "journal1 = Journal \"J001\" [author1, author2] \"Victorian Literature\" (Date 1 \"January\" 2024) 100 []\n",
    "\n",
    "dvd1 :: Publication\n",
    "dvd1 = DVD \"D001\" director1 [actor1, author2] \"Literature on Screen\" (Date 1 \"April\" 2024) 120 []\n",
    "\n",
    "testCatalog :: Catalog\n",
    "testCatalog = [book1, book2, journal1, dvd1]\n"
   ]
  },
  {
   "cell_type": "code",
   "execution_count": 53,
   "metadata": {},
   "outputs": [
    {
     "data": {
      "text/plain": [
       "[Book [B001]\n",
       "  Title: Pride and Prejudice\n",
       "  Author: Jane Austen (16 December 1775)\n",
       "  Pages: 432\n",
       "  Copies: 0/0 available\n",
       ",Journal [J001]\n",
       "  Title: Victorian Literature\n",
       "  Authors: Jane Austen (16 December 1775) Charles Dickens (7 February 1812)\n",
       "  Release Date: 1 January 2024\n",
       "  Pages: 100\n",
       "  Copies: 0/0 available\n",
       "]"
      ]
     },
     "metadata": {},
     "output_type": "display_data"
    },
    {
     "data": {
      "text/plain": [
       "\"------------------------------------\""
      ]
     },
     "metadata": {},
     "output_type": "display_data"
    },
    {
     "data": {
      "text/plain": [
       "[Book [B001]\n",
       "  Title: Pride and Prejudice\n",
       "  Author: Jane Austen (16 December 1775)\n",
       "  Pages: 432\n",
       "  Copies: 0/0 available\n",
       "]"
      ]
     },
     "metadata": {},
     "output_type": "display_data"
    },
    {
     "data": {
      "text/plain": [
       "\"------------------------------------\""
      ]
     },
     "metadata": {},
     "output_type": "display_data"
    },
    {
     "data": {
      "text/plain": [
       "[Journal [J001]\n",
       "  Title: Victorian Literature\n",
       "  Authors: Jane Austen (16 December 1775) Charles Dickens (7 February 1812)\n",
       "  Release Date: 1 January 2024\n",
       "  Pages: 100\n",
       "  Copies: 0/0 available\n",
       "]"
      ]
     },
     "metadata": {},
     "output_type": "display_data"
    },
    {
     "data": {
      "text/plain": [
       "\"------------------------------------\""
      ]
     },
     "metadata": {},
     "output_type": "display_data"
    },
    {
     "data": {
      "text/plain": [
       "[DVD [D001]\n",
       "  Title: Literature on Screen\n",
       "  Director: Director One (1 January 1980)\n",
       "  Actors: Actor One (1 January 1990) Charles Dickens (7 February 1812)\n",
       "  Release Date: 1 April 2024\n",
       "  Duration: 120 minutes\n",
       "  Copies: 0/0 available\n",
       "]"
      ]
     },
     "metadata": {},
     "output_type": "display_data"
    },
    {
     "data": {
      "text/plain": [
       "\"------------------------------------\""
      ]
     },
     "metadata": {},
     "output_type": "display_data"
    },
    {
     "data": {
      "text/plain": [
       "[]"
      ]
     },
     "metadata": {},
     "output_type": "display_data"
    },
    {
     "data": {
      "text/plain": [
       "\"------------------------------------\""
      ]
     },
     "metadata": {},
     "output_type": "display_data"
    },
    {
     "data": {
      "text/plain": [
       "[]"
      ]
     },
     "metadata": {},
     "output_type": "display_data"
    },
    {
     "data": {
      "text/plain": [
       "\"------------------------------------\""
      ]
     },
     "metadata": {},
     "output_type": "display_data"
    },
    {
     "data": {
      "text/plain": [
       "[]"
      ]
     },
     "metadata": {},
     "output_type": "display_data"
    },
    {
     "data": {
      "text/plain": [
       "\"------------------------------------\""
      ]
     },
     "metadata": {},
     "output_type": "display_data"
    },
    {
     "data": {
      "text/plain": [
       "[]"
      ]
     },
     "metadata": {},
     "output_type": "display_data"
    }
   ],
   "source": [
    "publicationsByAuthor author1 testCatalog\n",
    "\"------------------------------------\"\n",
    "booksByAuthor author1 testCatalog\n",
    "\"------------------------------------\"\n",
    "journalsByAuthor author1 testCatalog\n",
    "\"------------------------------------\"\n",
    "dvdsByAuthor author2 testCatalog\n",
    "\"------------------------------------\"\n",
    "publicationsByAuthor author1 []\n",
    "\"------------------------------------\"\n",
    "booksByAuthor author1 []\n",
    "\"------------------------------------\"\n",
    "journalsByAuthor author1 []\n",
    "\"------------------------------------\"\n",
    "dvdsByAuthor author2 []"
   ]
  },
  {
   "cell_type": "markdown",
   "metadata": {},
   "source": [
    "## 7. Functions publicationsByTitle String Catalog and publicationsByDate Date Catalog that return all the publications with that title or release date. "
   ]
  },
  {
   "cell_type": "code",
   "execution_count": 54,
   "metadata": {},
   "outputs": [
    {
     "data": {
      "text/html": [
       "<style>/* Styles used for the Hoogle display in the pager */\n",
       ".hoogle-doc {\n",
       "display: block;\n",
       "padding-bottom: 1.3em;\n",
       "padding-left: 0.4em;\n",
       "}\n",
       ".hoogle-code {\n",
       "display: block;\n",
       "font-family: monospace;\n",
       "white-space: pre;\n",
       "}\n",
       ".hoogle-text {\n",
       "display: block;\n",
       "}\n",
       ".hoogle-name {\n",
       "color: green;\n",
       "font-weight: bold;\n",
       "}\n",
       ".hoogle-head {\n",
       "font-weight: bold;\n",
       "}\n",
       ".hoogle-sub {\n",
       "display: block;\n",
       "margin-left: 0.4em;\n",
       "}\n",
       ".hoogle-package {\n",
       "font-weight: bold;\n",
       "font-style: italic;\n",
       "}\n",
       ".hoogle-module {\n",
       "font-weight: bold;\n",
       "}\n",
       ".hoogle-class {\n",
       "font-weight: bold;\n",
       "}\n",
       "\n",
       ".get-type {\n",
       "color: green;\n",
       "font-weight: bold;\n",
       "font-family: monospace;\n",
       "display: block;\n",
       "white-space: pre-wrap;\n",
       "}\n",
       ".show-type {\n",
       "color: green;\n",
       "font-weight: bold;\n",
       "font-family: monospace;\n",
       "margin-left: 1em;\n",
       "}\n",
       ".mono {\n",
       "font-family: monospace;\n",
       "display: block;\n",
       "}\n",
       ".err-msg {\n",
       "color: red;\n",
       "font-style: italic;\n",
       "font-family: monospace;\n",
       "white-space: pre;\n",
       "display: block;\n",
       "}\n",
       "#unshowable {\n",
       "color: red;\n",
       "font-weight: bold;\n",
       "}\n",
       ".err-msg.in.collapse {\n",
       "padding-top: 0.7em;\n",
       "}\n",
       "\n",
       ".highlight-code {\n",
       "white-space: pre;\n",
       "font-family: monospace;\n",
       "}\n",
       "\n",
       ".suggestion-warning { \n",
       "font-weight: bold;\n",
       "color: rgb(200, 130, 0);\n",
       "}\n",
       ".suggestion-error { \n",
       "font-weight: bold;\n",
       "color: red;\n",
       "}\n",
       ".suggestion-name {\n",
       "font-weight: bold;\n",
       "}\n",
       "\n",
       "</style><div class=\"suggestion-name\" style=\"clear:both;\">Eta reduce</div><div class=\"suggestion-row\" style=\"float: left;\"><div class=\"suggestion-warning\">Found:</div><div class=\"highlight-code\" id=\"haskell\">publicationsByTitle title catalog = filter hasTitle catalog</div></div><div class=\"suggestion-row\" style=\"float: left;\"><div class=\"suggestion-warning\">Why Not:</div><div class=\"highlight-code\" id=\"haskell\">publicationsByTitle title = filter hasTitle</div></div><div class=\"suggestion-name\" style=\"clear:both;\">Eta reduce</div><div class=\"suggestion-row\" style=\"float: left;\"><div class=\"suggestion-warning\">Found:</div><div class=\"highlight-code\" id=\"haskell\">publicationsByDate date catalog = filter hasReleaseDate catalog</div></div><div class=\"suggestion-row\" style=\"float: left;\"><div class=\"suggestion-warning\">Why Not:</div><div class=\"highlight-code\" id=\"haskell\">publicationsByDate date = filter hasReleaseDate</div></div><div class=\"suggestion-name\" style=\"clear:both;\">Use record patterns</div><div class=\"suggestion-row\" style=\"float: left;\"><div class=\"suggestion-warning\">Found:</div><div class=\"highlight-code\" id=\"haskell\">Book _ _ _ _ _</div></div><div class=\"suggestion-row\" style=\"float: left;\"><div class=\"suggestion-warning\">Why Not:</div><div class=\"highlight-code\" id=\"haskell\">Book {}</div></div>"
      ],
      "text/plain": [
       "Line 3: Eta reduce\n",
       "Found:\n",
       "publicationsByTitle title catalog = filter hasTitle catalog\n",
       "Why not:\n",
       "publicationsByTitle title = filter hasTitleLine 14: Eta reduce\n",
       "Found:\n",
       "publicationsByDate date catalog = filter hasReleaseDate catalog\n",
       "Why not:\n",
       "publicationsByDate date = filter hasReleaseDateLine 19: Use record patterns\n",
       "Found:\n",
       "Book _ _ _ _ _\n",
       "Why not:\n",
       "Book {}"
      ]
     },
     "metadata": {},
     "output_type": "display_data"
    }
   ],
   "source": [
    "-- Function to find all publications with the given title\n",
    "publicationsByTitle :: String -> Catalog -> [Publication]\n",
    "publicationsByTitle title catalog =\n",
    "  filter hasTitle catalog\n",
    "  where\n",
    "    -- Checks if a publication has the given title\n",
    "    hasTitle :: Publication -> Bool\n",
    "    hasTitle (Book _ _ pubTitle _ _) = pubTitle == title\n",
    "    hasTitle (Journal _ _ pubTitle _ _ _) = pubTitle == title\n",
    "    hasTitle (DVD _ _ _ pubTitle _ _ _) = pubTitle == title\n",
    "\n",
    "-- Function to find all publications with the given release date\n",
    "publicationsByDate :: Date -> Catalog -> [Publication]\n",
    "publicationsByDate date catalog =\n",
    "  filter hasReleaseDate catalog\n",
    "  where\n",
    "    -- Checks if a publication has the given release date\n",
    "    hasReleaseDate :: Publication -> Bool\n",
    "    hasReleaseDate (Book _ _ _ _ _) = False  -- Books don't have a specific release date in this case\n",
    "    hasReleaseDate (Journal _ _ _ pubReleaseDate _ _) = pubReleaseDate == date\n",
    "    hasReleaseDate (DVD _ _ _ _ pubReleaseDate _ _) = pubReleaseDate == date\n",
    "\n"
   ]
  },
  {
   "cell_type": "code",
   "execution_count": 55,
   "metadata": {},
   "outputs": [
    {
     "data": {
      "text/plain": [
       "[Book [B001]\n",
       "  Title: Pride and Prejudice\n",
       "  Author: Jane Austen (16 December 1775)\n",
       "  Pages: 432\n",
       "  Copies: 0/0 available\n",
       "]"
      ]
     },
     "metadata": {},
     "output_type": "display_data"
    },
    {
     "data": {
      "text/plain": [
       "\"----------------------------------------------------------------------\""
      ]
     },
     "metadata": {},
     "output_type": "display_data"
    },
    {
     "data": {
      "text/plain": [
       "[Journal [J001]\n",
       "  Title: Victorian Literature\n",
       "  Authors: Jane Austen (16 December 1775) Charles Dickens (7 February 1812)\n",
       "  Release Date: 1 January 2024\n",
       "  Pages: 100\n",
       "  Copies: 0/0 available\n",
       "]"
      ]
     },
     "metadata": {},
     "output_type": "display_data"
    },
    {
     "data": {
      "text/plain": [
       "\"----------------------------------------------------------------------\""
      ]
     },
     "metadata": {},
     "output_type": "display_data"
    },
    {
     "data": {
      "text/plain": [
       "[]"
      ]
     },
     "metadata": {},
     "output_type": "display_data"
    },
    {
     "data": {
      "text/plain": [
       "\"----------------------------------------------------------------------\""
      ]
     },
     "metadata": {},
     "output_type": "display_data"
    },
    {
     "data": {
      "text/plain": [
       "[]"
      ]
     },
     "metadata": {},
     "output_type": "display_data"
    }
   ],
   "source": [
    "let catalog = [book1, journal1, dvd1] -- Replace with your actual catalog of publications\n",
    "\n",
    "-- Find all publications with the title \"Haskell Programming\"\n",
    "let publicationsWithTitle = publicationsByTitle \"Pride and Prejudice\" catalog\n",
    "print publicationsWithTitle\n",
    "\"----------------------------------------------------------------------\"\n",
    "-- Find all publications released on a specific date (e.g., \"1 Dec 2024\")\n",
    "let date = Date 1 \"January\" 2024\n",
    "let publicationsWithDate = publicationsByDate date catalog\n",
    "print publicationsWithDate\n",
    "\"----------------------------------------------------------------------\"\n",
    "publicationsByDate date []\n",
    "\"----------------------------------------------------------------------\"\n",
    "publicationsByTitle \"Pride and Prejudice\" []"
   ]
  },
  {
   "cell_type": "markdown",
   "metadata": {},
   "source": [
    "## 8. A search Author Title Date function that can receive the author, the title and/or the date and returns all the publications matching the criteria. Notice that the function must work for any combination of the three items (for example searching just by author, or by author and date) and that some, or even the three of them, could be empty."
   ]
  },
  {
   "cell_type": "code",
   "execution_count": 56,
   "metadata": {},
   "outputs": [
    {
     "data": {
      "text/html": [
       "<style>/* Styles used for the Hoogle display in the pager */\n",
       ".hoogle-doc {\n",
       "display: block;\n",
       "padding-bottom: 1.3em;\n",
       "padding-left: 0.4em;\n",
       "}\n",
       ".hoogle-code {\n",
       "display: block;\n",
       "font-family: monospace;\n",
       "white-space: pre;\n",
       "}\n",
       ".hoogle-text {\n",
       "display: block;\n",
       "}\n",
       ".hoogle-name {\n",
       "color: green;\n",
       "font-weight: bold;\n",
       "}\n",
       ".hoogle-head {\n",
       "font-weight: bold;\n",
       "}\n",
       ".hoogle-sub {\n",
       "display: block;\n",
       "margin-left: 0.4em;\n",
       "}\n",
       ".hoogle-package {\n",
       "font-weight: bold;\n",
       "font-style: italic;\n",
       "}\n",
       ".hoogle-module {\n",
       "font-weight: bold;\n",
       "}\n",
       ".hoogle-class {\n",
       "font-weight: bold;\n",
       "}\n",
       "\n",
       ".get-type {\n",
       "color: green;\n",
       "font-weight: bold;\n",
       "font-family: monospace;\n",
       "display: block;\n",
       "white-space: pre-wrap;\n",
       "}\n",
       ".show-type {\n",
       "color: green;\n",
       "font-weight: bold;\n",
       "font-family: monospace;\n",
       "margin-left: 1em;\n",
       "}\n",
       ".mono {\n",
       "font-family: monospace;\n",
       "display: block;\n",
       "}\n",
       ".err-msg {\n",
       "color: red;\n",
       "font-style: italic;\n",
       "font-family: monospace;\n",
       "white-space: pre;\n",
       "display: block;\n",
       "}\n",
       "#unshowable {\n",
       "color: red;\n",
       "font-weight: bold;\n",
       "}\n",
       ".err-msg.in.collapse {\n",
       "padding-top: 0.7em;\n",
       "}\n",
       "\n",
       ".highlight-code {\n",
       "white-space: pre;\n",
       "font-family: monospace;\n",
       "}\n",
       "\n",
       ".suggestion-warning { \n",
       "font-weight: bold;\n",
       "color: rgb(200, 130, 0);\n",
       "}\n",
       ".suggestion-error { \n",
       "font-weight: bold;\n",
       "color: red;\n",
       "}\n",
       ".suggestion-name {\n",
       "font-weight: bold;\n",
       "}\n",
       "\n",
       "</style><div class=\"suggestion-name\" style=\"clear:both;\">Eta reduce</div><div class=\"suggestion-row\" style=\"float: left;\"><div class=\"suggestion-warning\">Found:</div><div class=\"highlight-code\" id=\"haskell\">searchAuthorTitleDate author title date catalog\n",
       "  = filter matchesCriteria catalog</div></div><div class=\"suggestion-row\" style=\"float: left;\"><div class=\"suggestion-warning\">Why Not:</div><div class=\"highlight-code\" id=\"haskell\">searchAuthorTitleDate author title date = filter matchesCriteria</div></div><div class=\"suggestion-name\" style=\"clear:both;\">Redundant bracket</div><div class=\"suggestion-row\" style=\"float: left;\"><div class=\"suggestion-warning\">Found:</div><div class=\"highlight-code\" id=\"haskell\">(authorMatches pub) && (titleMatches pub) && (dateMatches pub)</div></div><div class=\"suggestion-row\" style=\"float: left;\"><div class=\"suggestion-warning\">Why Not:</div><div class=\"highlight-code\" id=\"haskell\">authorMatches pub && (titleMatches pub) && (dateMatches pub)</div></div><div class=\"suggestion-name\" style=\"clear:both;\">Redundant bracket</div><div class=\"suggestion-row\" style=\"float: left;\"><div class=\"suggestion-warning\">Found:</div><div class=\"highlight-code\" id=\"haskell\">(titleMatches pub) && (dateMatches pub)</div></div><div class=\"suggestion-row\" style=\"float: left;\"><div class=\"suggestion-warning\">Why Not:</div><div class=\"highlight-code\" id=\"haskell\">titleMatches pub && (dateMatches pub)</div></div><div class=\"suggestion-name\" style=\"clear:both;\">Redundant bracket</div><div class=\"suggestion-row\" style=\"float: left;\"><div class=\"suggestion-warning\">Found:</div><div class=\"highlight-code\" id=\"haskell\">(titleMatches pub) && (dateMatches pub)</div></div><div class=\"suggestion-row\" style=\"float: left;\"><div class=\"suggestion-warning\">Why Not:</div><div class=\"highlight-code\" id=\"haskell\">(titleMatches pub) && dateMatches pub</div></div><div class=\"suggestion-name\" style=\"clear:both;\">Use record patterns</div><div class=\"suggestion-row\" style=\"float: left;\"><div class=\"suggestion-warning\">Found:</div><div class=\"highlight-code\" id=\"haskell\">Book _ _ _ _ _</div></div><div class=\"suggestion-row\" style=\"float: left;\"><div class=\"suggestion-warning\">Why Not:</div><div class=\"highlight-code\" id=\"haskell\">Book {}</div></div>"
      ],
      "text/plain": [
       "Line 2: Eta reduce\n",
       "Found:\n",
       "searchAuthorTitleDate author title date catalog\n",
       "  = filter matchesCriteria catalog\n",
       "Why not:\n",
       "searchAuthorTitleDate author title date = filter matchesCriteriaLine 7: Redundant bracket\n",
       "Found:\n",
       "(authorMatches pub) && (titleMatches pub) && (dateMatches pub)\n",
       "Why not:\n",
       "authorMatches pub && (titleMatches pub) && (dateMatches pub)Line 7: Redundant bracket\n",
       "Found:\n",
       "(titleMatches pub) && (dateMatches pub)\n",
       "Why not:\n",
       "titleMatches pub && (dateMatches pub)Line 7: Redundant bracket\n",
       "Found:\n",
       "(titleMatches pub) && (dateMatches pub)\n",
       "Why not:\n",
       "(titleMatches pub) && dateMatches pubLine 23: Use record patterns\n",
       "Found:\n",
       "Book _ _ _ _ _\n",
       "Why not:\n",
       "Book {}"
      ]
     },
     "metadata": {},
     "output_type": "display_data"
    }
   ],
   "source": [
    "searchAuthorTitleDate :: Maybe Person -> Maybe String -> Maybe Date -> Catalog -> [Publication]\n",
    "searchAuthorTitleDate author title date catalog = filter matchesCriteria catalog\n",
    "  where\n",
    "    -- Checks if a publication matches the given criteria\n",
    "    matchesCriteria :: Publication -> Bool\n",
    "    matchesCriteria pub =\n",
    "      (authorMatches pub) && (titleMatches pub) && (dateMatches pub)\n",
    "\n",
    "    -- Check if the publication matches the author criterion\n",
    "    authorMatches :: Publication -> Bool\n",
    "    authorMatches (Book _ bookAuthor _ _ _) = maybe True (== bookAuthor) author\n",
    "    authorMatches (Journal _ journalAuthors _ _ _ _) = maybe True (`elem` journalAuthors) author\n",
    "    authorMatches (DVD _ director actors _ _ _ _) = maybe True (== director) author || maybe False (`elem` actors) author\n",
    "\n",
    "    -- Check if the publication matches the title criterion\n",
    "    titleMatches :: Publication -> Bool\n",
    "    titleMatches (Book _ _ bookTitle _ _) = maybe True (== bookTitle) title\n",
    "    titleMatches (Journal _ _ journalTitle _ _ _) = maybe True (== journalTitle) title\n",
    "    titleMatches (DVD _ _ _ dvdTitle _ _ _) = maybe True (== dvdTitle) title\n",
    "\n",
    "    -- Check if the publication matches the date criterion\n",
    "    dateMatches :: Publication -> Bool\n",
    "    dateMatches (Book _ _ _ _ _) = True  -- Books are not filtered by date in this case\n",
    "    dateMatches (Journal _ _ _ journalDate _ _) = maybe True (== journalDate) date\n",
    "    dateMatches (DVD _ _ _ _ dvdDate _ _) = maybe True (== dvdDate) date\n"
   ]
  },
  {
   "cell_type": "code",
   "execution_count": 57,
   "metadata": {},
   "outputs": [
    {
     "data": {
      "text/plain": [
       "[Book [B001]\n",
       "  Title: Pride and Prejudice\n",
       "  Author: Jane Austen (16 December 1775)\n",
       "  Pages: 432\n",
       "  Copies: 0/0 available\n",
       "]"
      ]
     },
     "metadata": {},
     "output_type": "display_data"
    },
    {
     "data": {
      "text/plain": [
       "\"----------------------------------------------------\""
      ]
     },
     "metadata": {},
     "output_type": "display_data"
    },
    {
     "data": {
      "text/plain": [
       "[Journal [J001]\n",
       "  Title: Victorian Literature\n",
       "  Authors: Jane Austen (16 December 1775) Charles Dickens (7 February 1812)\n",
       "  Release Date: 1 January 2024\n",
       "  Pages: 100\n",
       "  Copies: 0/0 available\n",
       "]"
      ]
     },
     "metadata": {},
     "output_type": "display_data"
    },
    {
     "data": {
      "text/plain": [
       "\"----------------------------------------------------\""
      ]
     },
     "metadata": {},
     "output_type": "display_data"
    },
    {
     "data": {
      "text/plain": [
       "[DVD [D001]\n",
       "  Title: Literature on Screen\n",
       "  Director: Director One (1 January 1980)\n",
       "  Actors: Actor One (1 January 1990) Charles Dickens (7 February 1812)\n",
       "  Release Date: 1 April 2024\n",
       "  Duration: 120 minutes\n",
       "  Copies: 0/0 available\n",
       "]"
      ]
     },
     "metadata": {},
     "output_type": "display_data"
    },
    {
     "data": {
      "text/plain": [
       "\"----------------------------------------------------\""
      ]
     },
     "metadata": {},
     "output_type": "display_data"
    },
    {
     "data": {
      "text/plain": [
       "[Book [B001]\n",
       "  Title: Pride and Prejudice\n",
       "  Author: Jane Austen (16 December 1775)\n",
       "  Pages: 432\n",
       "  Copies: 0/0 available\n",
       ",Journal [J001]\n",
       "  Title: Victorian Literature\n",
       "  Authors: Jane Austen (16 December 1775) Charles Dickens (7 February 1812)\n",
       "  Release Date: 1 January 2024\n",
       "  Pages: 100\n",
       "  Copies: 0/0 available\n",
       ",DVD [D001]\n",
       "  Title: Literature on Screen\n",
       "  Director: Director One (1 January 1980)\n",
       "  Actors: Actor One (1 January 1990) Charles Dickens (7 February 1812)\n",
       "  Release Date: 1 April 2024\n",
       "  Duration: 120 minutes\n",
       "  Copies: 0/0 available\n",
       "]"
      ]
     },
     "metadata": {},
     "output_type": "display_data"
    },
    {
     "data": {
      "text/plain": [
       "\"----------------------------------------------------\""
      ]
     },
     "metadata": {},
     "output_type": "display_data"
    },
    {
     "data": {
      "text/plain": [
       "[]"
      ]
     },
     "metadata": {},
     "output_type": "display_data"
    }
   ],
   "source": [
    "author1 :: Person\n",
    "author1 = Person \"Jane\" \"Austen\" (Date 16 \"December\" 1775)\n",
    "\n",
    "author2 :: Person\n",
    "author2 = Person \"Charles\" \"Dickens\" (Date 7 \"February\" 1812)\n",
    "\n",
    "actor1 :: Person\n",
    "actor1 = Person \"Actor\" \"One\" (Date 1 \"January\" 1990)\n",
    "\n",
    "director1 :: Person\n",
    "director1 = Person \"Director\" \"One\" (Date 1 \"January\" 1980)\n",
    "\n",
    "book1 :: Publication\n",
    "book1 = Book \"B001\" author1 \"Pride and Prejudice\" 432 []\n",
    "\n",
    "book2 :: Publication\n",
    "book2 = Book \"B002\" author2 \"Oliver Twist\" 300 []\n",
    "\n",
    "journal1 :: Publication\n",
    "journal1 = Journal \"J001\" [author1, author2] \"Victorian Literature\" (Date 1 \"January\" 2024) 100 []\n",
    "\n",
    "dvd1 :: Publication\n",
    "dvd1 = DVD \"D001\" director1 [actor1, author2] \"Literature on Screen\" (Date 1 \"April\" 2024) 120 []\n",
    "\n",
    "testCatalog :: Catalog\n",
    "testCatalog = [book1, book2, journal1, dvd1]\n",
    "let catalog = [book1, journal1, dvd1] -- Replace with actual catalog\n",
    "\n",
    "-- Search for publications by \"John Doe\" (author), with title \"Haskell Programming\"\n",
    "let results = searchAuthorTitleDate (Just (Person \"Jane\" \"Austen\" (Date 16 \"December\" 1775))) (Just \"Pride and Prejudice\") Nothing catalog\n",
    "print results\n",
    "\"----------------------------------------------------\"\n",
    "-- Search for publications with the title \"Haskell Programming\", regardless of author or date\n",
    "let resultsByTitle = searchAuthorTitleDate Nothing (Just \"Victorian Literature\") Nothing catalog\n",
    "print resultsByTitle\n",
    "\"----------------------------------------------------\"\n",
    "-- Search for publications by author \"John Doe\" released on a specific date\n",
    "let resultsByAuthorAndDate = searchAuthorTitleDate (Just (Person \"Charles\" \"Dickens\" (Date 7 \"February\" 1812))) Nothing (Just (Date 1 \"April\" 2024)) catalog\n",
    "print resultsByAuthorAndDate\n",
    "\"----------------------------------------------------\"\n",
    "searchAuthorTitleDate Nothing Nothing Nothing catalog\n",
    "\"----------------------------------------------------\"\n",
    "searchAuthorTitleDate Nothing Nothing Nothing []"
   ]
  },
  {
   "cell_type": "markdown",
   "metadata": {},
   "source": [
    "## 9. A nextWorkingDate days Date [Date] function that receives a positive number of days, a Date and a list of holidays and returns the next working day (not in weekend or holiday) after those days. It will be used to calculate loan and return dates for publications, as the library is closed during weekends. Consider leap years and the fact that 1st January 2025 will be Wednesday. "
   ]
  },
  {
   "cell_type": "code",
   "execution_count": 58,
   "metadata": {},
   "outputs": [],
   "source": [
    "-- Mapeo de meses y días\n",
    "months :: [(String, Int)]\n",
    "months =\n",
    "  [ (\"January\", 1), (\"February\", 2), (\"March\", 3), (\"April\", 4),\n",
    "    (\"May\", 5), (\"June\", 6), (\"July\", 7), (\"August\", 8),\n",
    "    (\"September\", 9), (\"October\", 10), (\"November\", 11), (\"December\", 12) ]\n",
    "\n",
    "-- Días por mes considerando años bisiestos\n",
    "daysInMonth :: String -> Int -> Int\n",
    "daysInMonth \"February\" year = if isLeapYear year then 29 else 28\n",
    "daysInMonth month _\n",
    "  | month `elem` [\"April\", \"June\", \"September\", \"November\"] = 30\n",
    "  | otherwise = 31\n",
    "\n",
    "isLeapYear :: Int -> Bool\n",
    "isLeapYear year\n",
    "  | year `mod` 400 == 0 = True\n",
    "  | year `mod` 100 == 0 = False\n",
    "  | year `mod` 4 == 0 = True\n",
    "  | otherwise = False\n",
    "\n",
    "-- Función para avanzar días\n",
    "addDays :: Int -> Date -> Date\n",
    "addDays 0 date = date\n",
    "addDays n (Date d m y)\n",
    "  | n + d <= daysInMonth m y = Date (d + n) m y -- El día resultante cae dentro del mes actual\n",
    "  | otherwise =\n",
    "      let daysLeft = n - (daysInMonth m y - d) -- Días que sobran después de llenar el mes actual\n",
    "          (nextMonth, nextYear) = nextMonthYear m y -- Cambiamos al siguiente mes y año si es necesario\n",
    "      in addDays (daysLeft - 1) (Date 1 nextMonth nextYear) -- Reiniciamos el día al 1 y seguimos\n",
    "\n",
    "\n",
    "nextMonthYear :: String -> Int -> (String, Int)\n",
    "nextMonthYear \"December\" year = (\"January\", year + 1)\n",
    "nextMonthYear month year =\n",
    "  case lookup month months of\n",
    "    Just num -> case lookup (num + 1) (map (\\(m, n) -> (n, m)) months) of\n",
    "                  Just next -> (next, year)\n",
    "                  Nothing -> error \"Invalid month\"\n",
    "    Nothing -> error \"Invalid month\"\n",
    "\n",
    "-- Cálculo de días entre fechas\n",
    "daysFromStartOfYear :: Date -> Int\n",
    "daysFromStartOfYear (Date d m y) =\n",
    "  let monthDays = sum [daysInMonth month y | (month, _) <- takeWhile ((/= m) . fst) months]\n",
    "  in monthDays + d\n",
    "\n",
    "daysUntilEndOfYear :: Date -> Int\n",
    "daysUntilEndOfYear (Date d m y) =\n",
    "  let monthDays = sum [daysInMonth month y | (month, _) <- dropWhile ((/= m) . fst) months]\n",
    "  in monthDays - d\n",
    "\n",
    "daysInYear :: Int -> Int\n",
    "daysInYear year = if isLeapYear year then 366 else 365\n",
    "\n",
    "daysBetween :: Date -> Date -> Int\n",
    "daysBetween (Date d1 m1 y1) (Date d2 m2 y2)\n",
    "  | y1 == y2 = daysFromStartOfYear (Date d2 m2 y2) - daysFromStartOfYear (Date d1 m1 y1)\n",
    "  | otherwise =\n",
    "      let daysFirstYear = daysUntilEndOfYear (Date d1 m1 y1)\n",
    "          daysLastYear = daysFromStartOfYear (Date d2 m2 y2)\n",
    "          daysInMiddleYears = sum [daysInYear year | year <- [y1 + 1 .. y2 - 1]]\n",
    "      in daysFirstYear + daysInMiddleYears + daysLastYear\n",
    "\n",
    "-- Día de la semana\n",
    "daysOfWeek :: [String]\n",
    "daysOfWeek = [\"Monday\", \"Tuesday\", \"Wednesday\", \"Thursday\", \"Friday\", \"Saturday\", \"Sunday\"]\n",
    "\n",
    "dayOfWeek :: Date -> String\n",
    "dayOfWeek (Date d m y) =\n",
    "  let refDate = Date 1 \"January\" 2025 -- Miércoles\n",
    "      daysDiff = daysBetween refDate (Date d m y)\n",
    "  in daysOfWeek !! ((2 + daysDiff) `mod` 7)\n",
    "\n",
    "-- Validar si es día laborable\n",
    "isWorkingDay :: Date -> [Date] -> Bool\n",
    "isWorkingDay date holidays =\n",
    "  let weekday = dayOfWeek date\n",
    "  in weekday `notElem` [\"Saturday\", \"Sunday\"] && date `notElem` holidays\n",
    "\n",
    "-- Próxima fecha laborable\n",
    "nextWorkingDate :: Int -> Date -> [Date] -> Date\n",
    "nextWorkingDate days startDate holidays =\n",
    "  let targetDate = addDays days startDate\n",
    "  in if isWorkingDay targetDate holidays\n",
    "       then targetDate\n",
    "       else nextWorkingDate 1 targetDate holidays"
   ]
  },
  {
   "cell_type": "code",
   "execution_count": 59,
   "metadata": {
    "scrolled": true
   },
   "outputs": [
    {
     "data": {
      "text/plain": [
       "2 January 2025"
      ]
     },
     "metadata": {},
     "output_type": "display_data"
    },
    {
     "data": {
      "text/plain": [
       "13 January 2025"
      ]
     },
     "metadata": {},
     "output_type": "display_data"
    },
    {
     "data": {
      "text/plain": [
       "\"Sunday\""
      ]
     },
     "metadata": {},
     "output_type": "display_data"
    }
   ],
   "source": [
    "let startDate = Date 1 \"January\" 2025\n",
    "    holidays = [Date 1 \"January\" 2025,Date 6 \"January\" 2025] -- Ejemplo: Día de Reyes\n",
    "nextWorkingDate 1 startDate holidays\n",
    "nextWorkingDate 10 startDate holidays\n",
    "dayOfWeek (Date 5 \"January\" 2025)"
   ]
  },
  {
   "cell_type": "code",
   "execution_count": 60,
   "metadata": {},
   "outputs": [
    {
     "data": {
      "text/plain": [
       "2 January 2026"
      ]
     },
     "metadata": {},
     "output_type": "display_data"
    },
    {
     "data": {
      "text/plain": [
       "9 January 2026"
      ]
     },
     "metadata": {},
     "output_type": "display_data"
    },
    {
     "data": {
      "text/plain": [
       "\"Monday\""
      ]
     },
     "metadata": {},
     "output_type": "display_data"
    },
    {
     "data": {
      "text/plain": [
       "\"------------\""
      ]
     },
     "metadata": {},
     "output_type": "display_data"
    },
    {
     "data": {
      "text/plain": [
       "(\"January\",2026)"
      ]
     },
     "metadata": {},
     "output_type": "display_data"
    }
   ],
   "source": [
    "let startDate = Date 30 \"December\" 2025\n",
    "    holidays = [Date 1 \"January\" 2026,Date 6 \"January\" 2026] -- Ejemplo: Día de Reyes\n",
    "--addDays 2 startDate\n",
    "nextWorkingDate 2 startDate holidays\n",
    "nextWorkingDate 10 startDate holidays\n",
    "dayOfWeek (Date 5 \"January\" 2026)\n",
    "\"------------\"\n",
    "nextMonthYear \"December\" 2025\n",
    "--2 - (daysInMonth \"December\" 2025 - 31)"
   ]
  },
  {
   "cell_type": "code",
   "execution_count": 61,
   "metadata": {},
   "outputs": [
    {
     "data": {
      "text/plain": [
       "4 January 2027"
      ]
     },
     "metadata": {},
     "output_type": "display_data"
    },
    {
     "data": {
      "text/plain": [
       "11 January 2027"
      ]
     },
     "metadata": {},
     "output_type": "display_data"
    },
    {
     "data": {
      "text/plain": [
       "\"Tuesday\""
      ]
     },
     "metadata": {},
     "output_type": "display_data"
    },
    {
     "data": {
      "text/plain": [
       "\"Sunday\""
      ]
     },
     "metadata": {},
     "output_type": "display_data"
    },
    {
     "data": {
      "text/plain": [
       "\"Monday\""
      ]
     },
     "metadata": {},
     "output_type": "display_data"
    },
    {
     "data": {
      "text/plain": [
       "\"Tuesday\""
      ]
     },
     "metadata": {},
     "output_type": "display_data"
    },
    {
     "data": {
      "text/plain": [
       "\"Wednesday\""
      ]
     },
     "metadata": {},
     "output_type": "display_data"
    }
   ],
   "source": [
    "let startDate = Date 31 \"December\" 2026\n",
    "    holidays = [Date 1 \"January\" 2027,Date 6 \"January\" 2027] -- Ejemplo: Día de Reyes\n",
    "nextWorkingDate 2 startDate holidays\n",
    "nextWorkingDate 10 startDate holidays\n",
    "dayOfWeek (Date 5 \"January\" 2027)\n",
    "dayOfWeek (Date 27 \"February\" 2028)\n",
    "dayOfWeek (Date 28 \"February\" 2028)\n",
    "dayOfWeek (Date 29 \"February\" 2028)\n",
    "dayOfWeek (Date 1 \"March\" 2028)"
   ]
  },
  {
   "cell_type": "code",
   "execution_count": 62,
   "metadata": {},
   "outputs": [
    {
     "data": {
      "text/plain": [
       "2 January 2026"
      ]
     },
     "metadata": {},
     "output_type": "display_data"
    },
    {
     "data": {
      "text/plain": [
       "12 January 2026"
      ]
     },
     "metadata": {},
     "output_type": "display_data"
    }
   ],
   "source": [
    "let startDate = Date 31 \"December\" 2025\n",
    "    holidays = [Date 1 \"January\" 2026,Date 6 \"January\" 2026] -- Ejemplo: Día de Reyes\n",
    "nextWorkingDate 2 startDate holidays\n",
    "nextWorkingDate 10 startDate holidays"
   ]
  },
  {
   "cell_type": "code",
   "execution_count": 63,
   "metadata": {},
   "outputs": [
    {
     "data": {
      "text/plain": [
       "4 January 2027"
      ]
     },
     "metadata": {},
     "output_type": "display_data"
    },
    {
     "data": {
      "text/plain": [
       "11 January 2027"
      ]
     },
     "metadata": {},
     "output_type": "display_data"
    }
   ],
   "source": [
    "let startDate = Date 31 \"December\" 2026\n",
    "    holidays = [Date 1 \"January\" 2027,Date 6 \"January\" 2027] -- Ejemplo: Día de Reyes\n",
    "nextWorkingDate 2 startDate holidays\n",
    "nextWorkingDate 10 startDate holidays"
   ]
  },
  {
   "cell_type": "code",
   "execution_count": 64,
   "metadata": {},
   "outputs": [
    {
     "data": {
      "text/plain": [
       "2 January 2026"
      ]
     },
     "metadata": {},
     "output_type": "display_data"
    },
    {
     "data": {
      "text/plain": [
       "12 January 2026"
      ]
     },
     "metadata": {},
     "output_type": "display_data"
    },
    {
     "data": {
      "text/plain": [
       "\"Monday\""
      ]
     },
     "metadata": {},
     "output_type": "display_data"
    },
    {
     "data": {
      "text/plain": [
       "\"Monday\""
      ]
     },
     "metadata": {},
     "output_type": "display_data"
    }
   ],
   "source": [
    "let startDate = Date 31 \"December\" 2025\n",
    "    holidays = [Date 1 \"January\" 2026,Date 6 \"January\" 2026] -- Ejemplo: Día de Reyes\n",
    "nextWorkingDate 2 startDate holidays\n",
    "nextWorkingDate 10 startDate holidays\n",
    "dayOfWeek (Date 5 \"January\" 2026)\n",
    "dayOfWeek (Date 12 \"January\" 2026)"
   ]
  },
  {
   "cell_type": "code",
   "execution_count": 65,
   "metadata": {},
   "outputs": [
    {
     "data": {
      "text/plain": [
       "4 January 2027"
      ]
     },
     "metadata": {},
     "output_type": "display_data"
    },
    {
     "data": {
      "text/plain": [
       "11 January 2027"
      ]
     },
     "metadata": {},
     "output_type": "display_data"
    },
    {
     "data": {
      "text/plain": [
       "\"Tuesday\""
      ]
     },
     "metadata": {},
     "output_type": "display_data"
    },
    {
     "data": {
      "text/plain": [
       "\"Sunday\""
      ]
     },
     "metadata": {},
     "output_type": "display_data"
    },
    {
     "data": {
      "text/plain": [
       "\"Monday\""
      ]
     },
     "metadata": {},
     "output_type": "display_data"
    },
    {
     "data": {
      "text/plain": [
       "\"Tuesday\""
      ]
     },
     "metadata": {},
     "output_type": "display_data"
    },
    {
     "data": {
      "text/plain": [
       "\"Wednesday\""
      ]
     },
     "metadata": {},
     "output_type": "display_data"
    }
   ],
   "source": [
    "let startDate = Date 31 \"December\" 2026\n",
    "    holidays = [Date 1 \"January\" 2027,Date 6 \"January\" 2027] -- Ejemplo: Día de Reyes\n",
    "nextWorkingDate 2 startDate holidays\n",
    "nextWorkingDate 10 startDate holidays\n",
    "dayOfWeek (Date 5 \"January\" 2027)\n",
    "dayOfWeek (Date 27 \"February\" 2028)\n",
    "dayOfWeek (Date 28 \"February\" 2028)\n",
    "dayOfWeek (Date 29 \"February\" 2028)\n",
    "dayOfWeek (Date 1 \"March\" 2028)"
   ]
  },
  {
   "cell_type": "code",
   "execution_count": 66,
   "metadata": {},
   "outputs": [
    {
     "data": {
      "text/plain": [
       "2 January 2026"
      ]
     },
     "metadata": {},
     "output_type": "display_data"
    }
   ],
   "source": [
    "let startDate = Date 31 \"December\" 2025\n",
    "    holidays = [Date 1 \"January\" 2026, Date 6 \"January\" 2026] -- Ejemplo: Día de Reyes\n",
    "\n",
    "-- Prueba de addDays\n",
    "addDays 2 startDate\n"
   ]
  },
  {
   "cell_type": "markdown",
   "metadata": {},
   "source": [
    "### 10. A borrow User Publication Date Catalog function that borrows the publication starting in that date. If no copy is available on that date, the publication will be borrowed at the earliest possible date. It will return the updated Catalog. "
   ]
  },
  {
   "cell_type": "code",
   "execution_count": 67,
   "metadata": {},
   "outputs": [],
   "source": [
    "instance Eq Date where\n",
    "  (Date d1 m1 y1) == (Date d2 m2 y2) =\n",
    "    y1 == y2 && monthIndex m1 == monthIndex m2 && d1 == d2\n",
    "\n",
    "instance Ord Date where\n",
    "  compare (Date d1 m1 y1) (Date d2 m2 y2) =\n",
    "    compare (y1, monthIndex m1, d1) (y2, monthIndex m2, d2)\n",
    "    \n",
    "holidays = [Date 15 \"January\" 2026, Date 16 \"January\" 2026]\n",
    "    -- Convert month name to an index\n",
    "monthIndex :: String -> Int\n",
    "monthIndex month = case month of\n",
    "    \"January\" -> 1; \"February\" -> 2; \"March\" -> 3; \"April\" -> 4; \"May\" -> 5\n",
    "    \"June\" -> 6; \"July\" -> 7; \"August\" -> 8; \"September\" -> 9; \"October\" -> 10\n",
    "    \"November\" -> 11; \"December\" -> 12; _ -> error \"Invalid month\""
   ]
  },
  {
   "cell_type": "code",
   "execution_count": 68,
   "metadata": {},
   "outputs": [
    {
     "data": {
      "text/html": [
       "<style>/* Styles used for the Hoogle display in the pager */\n",
       ".hoogle-doc {\n",
       "display: block;\n",
       "padding-bottom: 1.3em;\n",
       "padding-left: 0.4em;\n",
       "}\n",
       ".hoogle-code {\n",
       "display: block;\n",
       "font-family: monospace;\n",
       "white-space: pre;\n",
       "}\n",
       ".hoogle-text {\n",
       "display: block;\n",
       "}\n",
       ".hoogle-name {\n",
       "color: green;\n",
       "font-weight: bold;\n",
       "}\n",
       ".hoogle-head {\n",
       "font-weight: bold;\n",
       "}\n",
       ".hoogle-sub {\n",
       "display: block;\n",
       "margin-left: 0.4em;\n",
       "}\n",
       ".hoogle-package {\n",
       "font-weight: bold;\n",
       "font-style: italic;\n",
       "}\n",
       ".hoogle-module {\n",
       "font-weight: bold;\n",
       "}\n",
       ".hoogle-class {\n",
       "font-weight: bold;\n",
       "}\n",
       "\n",
       ".get-type {\n",
       "color: green;\n",
       "font-weight: bold;\n",
       "font-family: monospace;\n",
       "display: block;\n",
       "white-space: pre-wrap;\n",
       "}\n",
       ".show-type {\n",
       "color: green;\n",
       "font-weight: bold;\n",
       "font-family: monospace;\n",
       "margin-left: 1em;\n",
       "}\n",
       ".mono {\n",
       "font-family: monospace;\n",
       "display: block;\n",
       "}\n",
       ".err-msg {\n",
       "color: red;\n",
       "font-style: italic;\n",
       "font-family: monospace;\n",
       "white-space: pre;\n",
       "display: block;\n",
       "}\n",
       "#unshowable {\n",
       "color: red;\n",
       "font-weight: bold;\n",
       "}\n",
       ".err-msg.in.collapse {\n",
       "padding-top: 0.7em;\n",
       "}\n",
       "\n",
       ".highlight-code {\n",
       "white-space: pre;\n",
       "font-family: monospace;\n",
       "}\n",
       "\n",
       ".suggestion-warning { \n",
       "font-weight: bold;\n",
       "color: rgb(200, 130, 0);\n",
       "}\n",
       ".suggestion-error { \n",
       "font-weight: bold;\n",
       "color: red;\n",
       "}\n",
       ".suggestion-name {\n",
       "font-weight: bold;\n",
       "}\n",
       "\n",
       "</style><div class=\"suggestion-name\" style=\"clear:both;\">Use record patterns</div><div class=\"suggestion-row\" style=\"float: left;\"><div class=\"suggestion-warning\">Found:</div><div class=\"highlight-code\" id=\"haskell\">Book _ _ _ _ _</div></div><div class=\"suggestion-row\" style=\"float: left;\"><div class=\"suggestion-warning\">Why Not:</div><div class=\"highlight-code\" id=\"haskell\">Book {}</div></div><div class=\"suggestion-name\" style=\"clear:both;\">Use record patterns</div><div class=\"suggestion-row\" style=\"float: left;\"><div class=\"suggestion-warning\">Found:</div><div class=\"highlight-code\" id=\"haskell\">Journal _ _ _ _ _ _</div></div><div class=\"suggestion-row\" style=\"float: left;\"><div class=\"suggestion-warning\">Why Not:</div><div class=\"highlight-code\" id=\"haskell\">Journal {}</div></div><div class=\"suggestion-name\" style=\"clear:both;\">Use record patterns</div><div class=\"suggestion-row\" style=\"float: left;\"><div class=\"suggestion-warning\">Found:</div><div class=\"highlight-code\" id=\"haskell\">DVD _ _ _ _ _ _ _</div></div><div class=\"suggestion-row\" style=\"float: left;\"><div class=\"suggestion-warning\">Why Not:</div><div class=\"highlight-code\" id=\"haskell\">DVD {}</div></div><div class=\"suggestion-name\" style=\"clear:both;\">Use record patterns</div><div class=\"suggestion-row\" style=\"float: left;\"><div class=\"suggestion-warning\">Found:</div><div class=\"highlight-code\" id=\"haskell\">Book _ _ _ _ _</div></div><div class=\"suggestion-row\" style=\"float: left;\"><div class=\"suggestion-warning\">Why Not:</div><div class=\"highlight-code\" id=\"haskell\">Book {}</div></div><div class=\"suggestion-name\" style=\"clear:both;\">Use record patterns</div><div class=\"suggestion-row\" style=\"float: left;\"><div class=\"suggestion-warning\">Found:</div><div class=\"highlight-code\" id=\"haskell\">Journal _ _ _ _ _ _</div></div><div class=\"suggestion-row\" style=\"float: left;\"><div class=\"suggestion-warning\">Why Not:</div><div class=\"highlight-code\" id=\"haskell\">Journal {}</div></div><div class=\"suggestion-name\" style=\"clear:both;\">Use record patterns</div><div class=\"suggestion-row\" style=\"float: left;\"><div class=\"suggestion-warning\">Found:</div><div class=\"highlight-code\" id=\"haskell\">DVD _ _ _ _ _ _ _</div></div><div class=\"suggestion-row\" style=\"float: left;\"><div class=\"suggestion-warning\">Why Not:</div><div class=\"highlight-code\" id=\"haskell\">DVD {}</div></div><div class=\"suggestion-name\" style=\"clear:both;\">Avoid lambda</div><div class=\"suggestion-row\" style=\"float: left;\"><div class=\"suggestion-warning\">Found:</div><div class=\"highlight-code\" id=\"haskell\">\\ copy -> maybeToList (returnDate copy)</div></div><div class=\"suggestion-row\" style=\"float: left;\"><div class=\"suggestion-warning\">Why Not:</div><div class=\"highlight-code\" id=\"haskell\">maybeToList . returnDate</div></div><div class=\"suggestion-name\" style=\"clear:both;\">Use max</div><div class=\"suggestion-row\" style=\"float: left;\"><div class=\"suggestion-warning\">Found:</div><div class=\"highlight-code\" id=\"haskell\">if date > earliestReturn then date else earliestReturn</div></div><div class=\"suggestion-row\" style=\"float: left;\"><div class=\"suggestion-warning\">Why Not:</div><div class=\"highlight-code\" id=\"haskell\">max date earliestReturn</div></div><div class=\"suggestion-name\" style=\"clear:both;\">Eta reduce</div><div class=\"suggestion-row\" style=\"float: left;\"><div class=\"suggestion-warning\">Found:</div><div class=\"highlight-code\" id=\"haskell\">returnOverdueCopies user currentDate catalog\n",
       "  = map (returnOverdueCopiesFromPublication user currentDate) catalog</div></div><div class=\"suggestion-row\" style=\"float: left;\"><div class=\"suggestion-warning\">Why Not:</div><div class=\"highlight-code\" id=\"haskell\">returnOverdueCopies user currentDate\n",
       "  = map (returnOverdueCopiesFromPublication user currentDate)</div></div>"
      ],
      "text/plain": [
       "Line 15: Use record patterns\n",
       "Found:\n",
       "Book _ _ _ _ _\n",
       "Why not:\n",
       "Book {}Line 16: Use record patterns\n",
       "Found:\n",
       "Journal _ _ _ _ _ _\n",
       "Why not:\n",
       "Journal {}Line 17: Use record patterns\n",
       "Found:\n",
       "DVD _ _ _ _ _ _ _\n",
       "Why not:\n",
       "DVD {}Line 18: Use record patterns\n",
       "Found:\n",
       "Book _ _ _ _ _\n",
       "Why not:\n",
       "Book {}Line 19: Use record patterns\n",
       "Found:\n",
       "Journal _ _ _ _ _ _\n",
       "Why not:\n",
       "Journal {}Line 20: Use record patterns\n",
       "Found:\n",
       "DVD _ _ _ _ _ _ _\n",
       "Why not:\n",
       "DVD {}Line 73: Avoid lambda\n",
       "Found:\n",
       "\\ copy -> maybeToList (returnDate copy)\n",
       "Why not:\n",
       "maybeToList . returnDateLine 77: Use max\n",
       "Found:\n",
       "if date > earliestReturn then date else earliestReturn\n",
       "Why not:\n",
       "max date earliestReturnLine 100: Eta reduce\n",
       "Found:\n",
       "returnOverdueCopies user currentDate catalog\n",
       "  = map (returnOverdueCopiesFromPublication user currentDate) catalog\n",
       "Why not:\n",
       "returnOverdueCopies user currentDate\n",
       "  = map (returnOverdueCopiesFromPublication user currentDate)"
      ]
     },
     "metadata": {},
     "output_type": "display_data"
    }
   ],
   "source": [
    "findIndex :: (a -> Bool) -> [a] -> Maybe Int\n",
    "findIndex p xs = findIndex' p xs 0\n",
    "  where\n",
    "    findIndex' _ [] _ = Nothing\n",
    "    findIndex' p (x:xs) i\n",
    "      | p x = Just i\n",
    "      | otherwise = findIndex' p xs (i + 1)\n",
    "      \n",
    "maybeToList :: Maybe a -> [a]\n",
    "maybeToList Nothing = []\n",
    "maybeToList (Just x) = [x]\n",
    "\n",
    "-- Duración del préstamo según el tipo de publicación y usuario\n",
    "loanDuration :: User -> Publication -> Int\n",
    "loanDuration (Student _) (Book _ _ _ _ _) = 30      -- 1 mes\n",
    "loanDuration (Student _) (Journal _ _ _ _ _ _) = 15   -- 15 días\n",
    "loanDuration (Student _) (DVD _ _ _ _ _ _ _) = 7     -- 1 semana\n",
    "loanDuration (Professor _) (Book _ _ _ _ _) = 60   -- 2 meses\n",
    "loanDuration (Professor _) (Journal _ _ _ _ _ _) = 30 -- 1 mes\n",
    "loanDuration (Professor _) (DVD _ _ _ _ _ _ _) = 15  -- 15 días\n",
    "\n",
    "findAvailableCopy :: Publication -> Date -> Maybe Int\n",
    "findAvailableCopy publication currentDate =\n",
    "  let copies = getCopies publication\n",
    "  in findIndex (\\copy -> not (isBorrowed copy) || isOverdue copy currentDate) copies\n",
    "\n",
    "\n",
    "-- Determina si una copia está vencida y debe considerarse disponible\n",
    "isOverdue :: Copy -> Date -> Bool\n",
    "isOverdue copy currentDate =\n",
    "  isBorrowed copy && case returnDate copy of\n",
    "    Just rd -> rd < currentDate -- La fecha de devolución ya pasó\n",
    "    Nothing -> False -- Si no hay fecha de devolución, no es vencida\n",
    "\n",
    "\n",
    "\n",
    "-- Obtener la lista de copias de una publicación\n",
    "getCopies :: Publication -> [Copy]\n",
    "getCopies (Book _ _ _ _ copies) = copies\n",
    "getCopies (Journal _ _ _ _ _ copies) = copies\n",
    "getCopies (DVD _ _ _ _ _ _ copies) = copies\n",
    "\n",
    "-- Actualizar una copia con la información del préstamo\n",
    "updateCopy :: Copy -> User -> Date -> Date -> Copy\n",
    "updateCopy copy user loanDate returnDate =\n",
    "  copy { isBorrowed = True, borrower = Just user, loanDate = Just loanDate, returnDate = Just returnDate }\n",
    "\n",
    "-- Actualizar la lista de copias de una publicación\n",
    "updateCopies :: [Copy] -> Int -> Copy -> [Copy]\n",
    "updateCopies copies index newCopy = take index copies ++ [newCopy] ++ drop (index + 1) copies\n",
    "\n",
    "-- Actualizar una publicación con nuevas copias\n",
    "updatePublication :: Publication -> [Copy] -> Publication\n",
    "updatePublication (Book id author title pages _) copies = Book id author title pages copies\n",
    "updatePublication (Journal id authors title releaseDate pages _) copies = Journal id authors title releaseDate pages copies\n",
    "updatePublication (DVD id director actors title releaseDate duration _) copies = DVD id director actors title releaseDate duration copies\n",
    "\n",
    "-- Reemplazar una publicación en el catálogo\n",
    "replacePublication :: [Publication] -> Publication -> Publication -> [Publication]\n",
    "replacePublication [] _ _ = []\n",
    "replacePublication (x:xs) old new\n",
    "  | x == old = new : xs\n",
    "  | otherwise = x : replacePublication xs old new\n",
    "\n",
    "-- Próxima fecha disponible\n",
    "--nextAvailableDate :: Publication -> Date -> [Publication] -> Date\n",
    "--nextAvailableDate publication date catalog =\n",
    "  --let unavailableDates = concatMap (\\copy -> maybeToList (returnDate copy)) (getCopies publication)\n",
    "  --in head [nextDate | nextDate <- iterate (addDays 1) date, nextDate `notElem` unavailableDates]\n",
    "nextAvailableDate :: Publication -> Date -> Date\n",
    "nextAvailableDate publication date =\n",
    "  let copies = getCopies publication\n",
    "      returnDates = concatMap (\\copy -> maybeToList (returnDate copy)) copies\n",
    "  in case returnDates of\n",
    "       [] -> error \"No return dates available for this publication\" -- Manejo de error explícito\n",
    "       _  -> let earliestReturn = minimum returnDates -- La primera fecha en la que se devuelve una copia\n",
    "                 adjustedDate = if date > earliestReturn then date else earliestReturn\n",
    "             in adjustedDate\n",
    "\n",
    "borrow :: User -> Publication -> Date -> [Publication] -> [Publication]\n",
    "borrow user publication startDate catalog =\n",
    "  let updatedCatalog = returnOverdueCopies user startDate catalog -- Paso 1: Devolver copias vencidas\n",
    "  in if length (borrowedPublications user updatedCatalog) >= maxBorrowed user\n",
    "        then updatedCatalog -- Paso 2: Si sigue excediendo el límite, no realizar el préstamo\n",
    "        else -- Paso 3: Proceder con el préstamo\n",
    "          let availableCopyIndex = findAvailableCopy publication (nextWorkingDate 0 startDate holidays)\n",
    "          in case availableCopyIndex of\n",
    "               Just index -> -- Hay una copia disponible\n",
    "                 let loanPeriod = loanDuration user publication\n",
    "                     returnDate = nextWorkingDate 0 (addDays loanPeriod (nextWorkingDate 0 startDate holidays)) holidays\n",
    "                     updatedCopy = updateCopy (getCopies publication !! index) user (nextWorkingDate 0 startDate holidays) returnDate\n",
    "                     updatedCopies = updateCopies (getCopies publication) index updatedCopy\n",
    "                     updatedPublication = updatePublication publication updatedCopies\n",
    "                 in replacePublication updatedCatalog publication updatedPublication\n",
    "               Nothing -> -- No hay copias disponibles, buscar la próxima fecha disponible\n",
    "                 borrow user publication (nextWorkingDate 1 (nextWorkingDate 0 startDate holidays) holidays) updatedCatalog\n",
    "\n",
    "-- Devolver automáticamente las copias vencidas\n",
    "returnOverdueCopies :: User -> Date -> [Publication] -> [Publication]\n",
    "returnOverdueCopies user currentDate catalog = map (returnOverdueCopiesFromPublication user currentDate) catalog\n",
    "\n",
    "-- Verificar y devolver copias vencidas dentro de una publicación\n",
    "returnOverdueCopiesFromPublication :: User -> Date -> Publication -> Publication\n",
    "returnOverdueCopiesFromPublication user currentDate publication =\n",
    "  let updatedCopies = map (returnIfOverdue user currentDate) (getCopies publication)\n",
    "  in updatePublication publication updatedCopies\n",
    "\n",
    "-- Si una copia vencida pertenece al usuario, devolverla\n",
    "returnIfOverdue :: User -> Date -> Copy -> Copy\n",
    "returnIfOverdue user currentDate copy\n",
    "  | isBorrowed copy && borrower copy == Just user && isOverdue copy currentDate =\n",
    "      copy { isBorrowed = False, borrower = Nothing, loanDate = Nothing, returnDate = Nothing }\n",
    "  | otherwise = copy\n",
    "\n",
    "\n",
    "-- Determine the maximum number of publications a user can borrow\n",
    "maxBorrowed :: User -> Int\n",
    "maxBorrowed (Student _) = 3\n",
    "maxBorrowed (Professor _) = 5\n",
    "\n",
    "\n"
   ]
  },
  {
   "cell_type": "code",
   "execution_count": 69,
   "metadata": {},
   "outputs": [
    {
     "data": {
      "text/plain": [
       "Nothing"
      ]
     },
     "metadata": {},
     "output_type": "display_data"
    },
    {
     "data": {
      "text/plain": [
       "Just 0"
      ]
     },
     "metadata": {},
     "output_type": "display_data"
    }
   ],
   "source": [
    "-- Usuarios\n",
    "let user1 = Student (Person \"Alice\" \"Smith\" (Date 1 \"January\" 2000))\n",
    "let user2 = Professor (Person \"Bob\" \"Johnson\" (Date 15 \"March\" 1980))\n",
    "\n",
    "-- Publicación con copia vencida\n",
    "let book2 = Book \"B2\" (Person \"Author\" \"Two\" (Date 2 \"February\" 1980)) \"Advanced Haskell\" 300\n",
    "                  [ Copy True (Just user2) (Just (Date 28 \"November\" 2025)) (Just (Date 30 \"January\" 2026)) ]\n",
    "\n",
    "-- Fecha actual: después del vencimiento\n",
    "let currentDate = Date 2 \"January\" 2026\n",
    "findAvailableCopy book2 currentDate\n",
    "findAvailableCopy book2 (Date 31 \"January\" 2026)\n",
    "--isOverdue (Copy True (Just user2) (Just (Date 28 \"November\" 2025)) (Just (Date 28 \"December\" 2025))) currentDate\n",
    "--Date 2 \"January\" 2026 > (Date 28 \"December\" 2025)\n",
    "-- Intento de préstamo\n",
    "let result = borrow user1 book2 currentDate [book2]\n"
   ]
  },
  {
   "cell_type": "code",
   "execution_count": 70,
   "metadata": {},
   "outputs": [
    {
     "data": {
      "text/plain": [
       "[Book [B2]\n",
       "  Title: Advanced Haskell\n",
       "  Author: Author Two (2 February 1980)\n",
       "  Pages: 300\n",
       "  Copies: 0/1 available\n",
       "Borrowed by Student: Alice Smith (1 January 2000)\n",
       " | Loan Date: 2 February 2026 | Return Date: 4 March 2026\n",
       "]"
      ]
     },
     "metadata": {},
     "output_type": "display_data"
    }
   ],
   "source": [
    "result"
   ]
  },
  {
   "cell_type": "code",
   "execution_count": 71,
   "metadata": {},
   "outputs": [],
   "source": [
    "--Pruebas\n",
    "-- Usuarios\n",
    "holidays = [Date 15 \"January\" 2026, Date 16 \"January\" 2026]\n",
    "let user1 = Student (Person \"Alice\" \"Smith\" (Date 1 \"January\" 2000))\n",
    "let user2 = Professor (Person \"Bob\" \"Johnson\" (Date 15 \"March\" 1980))\n",
    "\n",
    "-- Publicaciones y copias\n",
    "let book1 = Book \"B1\" (Person \"Author\" \"One\" (Date 1 \"January\" 1970)) \"Functional Programming\" 200\n",
    "                  [ Copy True (Just user1) (Just (Date 1 \"December\" 2025)) (Just (Date 31 \"December\" 2025))\n",
    "                  , Copy False Nothing Nothing Nothing ]\n",
    "\n",
    "let book2 = Book \"B2\" (Person \"Author\" \"Two\" (Date 2 \"February\" 1980)) \"Advanced Haskell\" 300\n",
    "                  [ Copy True (Just user2) (Just (Date 28 \"November\" 2025)) (Just (Date 15 \"December\" 2025)) ]\n",
    "\n",
    "-- Catálogo\n",
    "let catalog = [book1, book2]\n"
   ]
  },
  {
   "cell_type": "code",
   "execution_count": 72,
   "metadata": {},
   "outputs": [
    {
     "data": {
      "text/plain": [
       "[Book [B1]\n",
       "  Title: Functional Programming\n",
       "  Author: Author One (1 January 1970)\n",
       "  Pages: 200\n",
       "  Copies: 1/2 available\n",
       "Borrowed by Student: Alice Smith (1 January 2000)\n",
       " | Loan Date: 1 December 2025 | Return Date: 31 December 2025\n",
       "Available\n",
       ",Book [B2]\n",
       "  Title: Advanced Haskell\n",
       "  Author: Author Two (2 February 1980)\n",
       "  Pages: 300\n",
       "  Copies: 0/1 available\n",
       "Borrowed by Professor: Bob Johnson (15 March 1980)\n",
       " | Loan Date: 28 November 2025 | Return Date: 15 December 2025\n",
       "]"
      ]
     },
     "metadata": {},
     "output_type": "display_data"
    },
    {
     "data": {
      "text/plain": [
       "\"---------------------\""
      ]
     },
     "metadata": {},
     "output_type": "display_data"
    },
    {
     "data": {
      "text/plain": [
       "[Book [B1]\n",
       "  Title: Functional Programming\n",
       "  Author: Author One (1 January 1970)\n",
       "  Pages: 200\n",
       "  Copies: 0/2 available\n",
       "Borrowed by Student: Alice Smith (1 January 2000)\n",
       " | Loan Date: 1 December 2025 | Return Date: 31 December 2025\n",
       "Borrowed by Professor: Bob Johnson (15 March 1980)\n",
       " | Loan Date: 2 December 2025 | Return Date: 2 February 2026\n",
       ",Book [B2]\n",
       "  Title: Advanced Haskell\n",
       "  Author: Author Two (2 February 1980)\n",
       "  Pages: 300\n",
       "  Copies: 0/1 available\n",
       "Borrowed by Professor: Bob Johnson (15 March 1980)\n",
       " | Loan Date: 28 November 2025 | Return Date: 15 December 2025\n",
       "]"
      ]
     },
     "metadata": {},
     "output_type": "display_data"
    },
    {
     "data": {
      "text/plain": [
       "\"---------------------\""
      ]
     },
     "metadata": {},
     "output_type": "display_data"
    },
    {
     "data": {
      "text/plain": [
       "[Book [B1]\n",
       "  Title: Functional Programming\n",
       "  Author: Author One (1 January 1970)\n",
       "  Pages: 200\n",
       "  Copies: 1/2 available\n",
       "Borrowed by Student: Alice Smith (1 January 2000)\n",
       " | Loan Date: 1 December 2025 | Return Date: 31 December 2025\n",
       "Available\n",
       ",Book [B2]\n",
       "  Title: Advanced Haskell\n",
       "  Author: Author Two (2 February 1980)\n",
       "  Pages: 300\n",
       "  Copies: 0/1 available\n",
       "Borrowed by Student: Alice Smith (1 January 2000)\n",
       " | Loan Date: 16 December 2025 | Return Date: 19 January 2026\n",
       "]"
      ]
     },
     "metadata": {},
     "output_type": "display_data"
    }
   ],
   "source": [
    "catalog\n",
    "\"---------------------\"\n",
    "borrow user2 book1 (Date 2 \"December\" 2025) catalog\n",
    "\"---------------------\"\n",
    "borrow user1 book2 (Date 2 \"December\" 2025) catalog"
   ]
  },
  {
   "cell_type": "code",
   "execution_count": 73,
   "metadata": {},
   "outputs": [
    {
     "data": {
      "text/plain": [
       "[Book [B1]\n",
       "  Title: Functional Programming\n",
       "  Author: Author One (1 January 1970)\n",
       "  Pages: 200\n",
       "  Copies: 1/2 available\n",
       "Available\n",
       "Borrowed by Student: Charlie Brown (1 January 2000)\n",
       " | Loan Date: 1 December 2024 | Return Date: 31 December 2024\n",
       ",Book [B2]\n",
       "  Title: Advanced Haskell\n",
       "  Author: Author Two (2 February 1980)\n",
       "  Pages: 300\n",
       "  Copies: 1/2 available\n",
       "Available\n",
       "Borrowed by Student: Charlie Brown (1 January 2000)\n",
       " | Loan Date: 1 December 2024 | Return Date: 31 December 2024\n",
       ",Book [B3]\n",
       "  Title: Advanced Haskell\n",
       "  Author: Author Two (2 February 1980)\n",
       "  Pages: 300\n",
       "  Copies: 1/2 available\n",
       "Available\n",
       "Borrowed by Student: Charlie Brown (1 January 2000)\n",
       " | Loan Date: 1 December 2024 | Return Date: 31 December 2024\n",
       "]"
      ]
     },
     "metadata": {},
     "output_type": "display_data"
    }
   ],
   "source": [
    "--prueba top\n",
    "-- Users\n",
    "let user1 = Student (Person \"Alice\" \"Smith\" (Date 1 \"January\" 2000))\n",
    "let user2 = Professor (Person \"Bob\" \"Johnson\" (Date 15 \"March\" 1980))\n",
    "let user3 = Student (Person \"Charlie\" \"Brown\" (Date 1 \"January\" 2000))\n",
    "-- Publications\n",
    "let book1 = Book \"B1\" (Person \"Author\" \"One\" (Date 1 \"January\" 1970)) \"Functional Programming\" 200\n",
    "                  [Copy False Nothing Nothing Nothing, Copy True (Just user3) (Just (Date 1 \"December\" 2024)) (Just (Date 31 \"December\" 2024))]\n",
    "\n",
    "let book2 = Book \"B2\" (Person \"Author\" \"Two\" (Date 2 \"February\" 1980)) \"Advanced Haskell\" 300\n",
    "                  [Copy False Nothing Nothing Nothing, Copy True (Just user3) (Just (Date 1 \"December\" 2024)) (Just (Date 31 \"December\" 2024))]\n",
    "let book3 = Book \"B3\" (Person \"Author\" \"Two\" (Date 2 \"February\" 1980)) \"Advanced Haskell\" 300\n",
    "                  [Copy False Nothing Nothing Nothing,  Copy True (Just user3) (Just (Date 1 \"December\" 2024)) (Just (Date 31 \"December\" 2024))]\n",
    "-- Catalog\n",
    "let catalog = [book1, book2, book3]\n",
    "borrow user3 book2 (Date 2 \"December\" 2024) catalog\n",
    "-- Borrow Attempt\n",
    "{-let result1 = borrow user1 book1 (Date 2 \"December\" 2024) catalog\n",
    "let result2 = borrow user2 book1 (Date 2 \"December\" 2024) result1\n",
    "let user3 = Student (Person \"Charlie\" \"Brown\" (Date 1 \"January\" 2000))\n",
    "let catalogWithLoans = [ Book \"B3\" (Person \"Author\" \"Three\" (Date 3 \"March\" 1990)) \"Learn Haskell\" 250\n",
    "                           [ Copy True (Just user3) (Just (Date 1 \"December\" 2024)) (Just (Date 31 \"December\" 2024)),\n",
    "                             Copy True (Just user3) (Just (Date 1 \"December\" 2024)) (Just (Date 31 \"December\" 2024)),\n",
    "                             Copy False Nothing Nothing Nothing ]]\n",
    "let result3 = borrow user3 book2 (Date 2 \"December\" 2024) catalogWithLoans\n",
    "let user4 = Student (Person \"Dana\" \"Scott\" (Date 1 \"January\" 2000))\n",
    "let catalogWithMaxLoans = [ Book \"B4\" (Person \"Author\" \"Four\" (Date 4 \"April\" 2000)) \"Functional Magic\" 150\n",
    "                             [ Copy True (Just user4) (Just (Date 1 \"December\" 2024)) (Just (Date 31 \"December\" 2024)),\n",
    "                               Copy True (Just user4) (Just (Date 1 \"December\" 2024)) (Just (Date 31 \"December\" 2024)),\n",
    "                               Copy True (Just user4) (Just (Date 1 \"December\" 2024)) (Just (Date 31 \"December\" 2024)) ]]\n",
    "let result4 = borrow user4 book2 (Date 2 \"December\" 2024) catalogWithMaxLoans\n"
   ]
  },
  {
   "cell_type": "code",
   "execution_count": 74,
   "metadata": {},
   "outputs": [
    {
     "data": {
      "text/plain": [
       "Right [Book [B002]\n",
       "  Title: Pride and Prejudice\n",
       "  Author: Jane Austen (16 December 1775)\n",
       "  Pages: 432\n",
       "  Copies: 2/3 available\n",
       "Borrowed by Professor: Dr. Johnson (12 August 1975)\n",
       " | Loan Date: 10 November 2024 | Return Date: 10 December 2024\n",
       "Available\n",
       "Available\n",
       ",Book [B003]\n",
       "  Title: 1984\n",
       "  Author: George Orwell (25 June 1903)\n",
       "  Pages: 328\n",
       "  Copies: 2/3 available\n",
       "Borrowed by Student: Alice Smith (5 May 2001)\n",
       " | Loan Date: 1 November 2024 | Return Date: 8 November 2024\n",
       "Available\n",
       "Available\n",
       ",Book [B004]\n",
       "  Title: Harry Potter and the Philosopher's Stone\n",
       "  Author: J.K. Rowling (31 July 1965)\n",
       "  Pages: 223\n",
       "  Copies: 3/3 available\n",
       "Available\n",
       "Available\n",
       "Available\n",
       "]"
      ]
     },
     "metadata": {},
     "output_type": "display_data"
    },
    {
     "data": {
      "text/plain": [
       "\"------------------------------\""
      ]
     },
     "metadata": {},
     "output_type": "display_data"
    },
    {
     "ename": "",
     "evalue": "",
     "output_type": "error",
     "traceback": [
      "<interactive>:1:1: error: [GHC-88464] Variable not in scope: result2"
     ]
    }
   ],
   "source": [
    "result1\n",
    "\"------------------------------\"\n",
    "result2\n",
    "\"------------------------------\"\n",
    "result3\n",
    "\"------------------------------\"\n",
    "result4"
   ]
  },
  {
   "cell_type": "markdown",
   "metadata": {},
   "source": [
    "### 11. Functions to use I/O to add, remove, search and borrow publications, as well as function to show the catalog or the information about a user."
   ]
  },
  {
   "cell_type": "code",
   "execution_count": 79,
   "metadata": {},
   "outputs": [
    {
     "ename": "",
     "evalue": "",
     "output_type": "error",
     "traceback": [
      "<interactive>:58:36: error: [GHC-83865]\n    • Couldn't match type ‘Char’ with ‘String’\n      Expected: [[String]]\n        Actual: [String]\n    • In the second argument of ‘map’, namely ‘(split ',' str)’\n      In the expression: map parsePerson (split ',' str)\n      In an equation for ‘parsePeople’: parsePeople str = map parsePerson (split ',' str)\n<interactive>:55:128: error: [GHC-83865]\n    • Couldn't match type ‘String’ with ‘Char’\n      Expected: String\n        Actual: [String]\n    • In the first argument of ‘read’, namely ‘copies’\n      In the first argument of ‘replicate’, namely ‘(read copies :: Int)’\n      In the 7th argument of ‘DVD’, namely ‘(replicate (read copies :: Int) (Copy False Nothing Nothing Nothing))’\n<interactive>:53:99: error: [GHC-83865]\n    • Couldn't match type ‘String’ with ‘Char’\n      Expected: String\n        Actual: [String]\n    • In the first argument of ‘read’, namely ‘copies’\n      In the first argument of ‘replicate’, namely ‘(read copies :: Int)’\n      In the sixth argument of ‘Journal’, namely ‘(replicate (read copies :: Int) (Copy False Nothing Nothing Nothing))’\n<interactive>:51:105: error: [GHC-83865]\n    • Couldn't match type ‘String’ with ‘Char’\n      Expected: String\n        Actual: [String]\n    • In the first argument of ‘read’, namely ‘copies’\n      In the first argument of ‘replicate’, namely ‘(read copies :: Int)’\n      In the fifth argument of ‘Book’, namely ‘(replicate (read copies :: Int) (Copy False Nothing Nothing Nothing))’"
     ]
    }
   ],
   "source": [
    "{-ffff\n",
    "fffff-}\n",
    "import System.IO\n",
    "\n",
    "-- Main function to process commands from a file\n",
    "processCommands :: FilePath -> FilePath -> Catalog -> IO ()\n",
    "processCommands inputFile outputFile catalog = do\n",
    "  handle <- openFile inputFile ReadMode -- Open the input file\n",
    "  contents <- hGetContents handle       -- Read the contents\n",
    "  let commands = lines contents         -- Split into lines\n",
    "  finalCatalog <- executeCommands commands catalog -- Execute commands\n",
    "  writeFile outputFile (prettyCatalog finalCatalog) -- Write the final catalog to the output file\n",
    "  hClose handle                         -- Close the input file\n",
    "\n",
    "-- Execute commands one by one\n",
    "executeCommands :: [String] -> Catalog -> IO Catalog\n",
    "executeCommands [] catalog = return catalog -- No more commands, return the final catalog\n",
    "executeCommands (command:rest) catalog = do\n",
    "  let (updatedCatalog, output) = executeCommand command catalog\n",
    "  putStrLn output -- Print the result of the command to the console\n",
    "  executeCommands rest updatedCatalog -- Continue with the rest of the commands\n",
    "\n",
    "-- Execute a single command\n",
    "executeCommand :: String -> Catalog -> (Catalog, String)\n",
    "executeCommand command catalog =\n",
    "  let parts = words command\n",
    "      operation = read (head parts) :: Int -- First number indicates the operation\n",
    "      args = tail parts                    -- Rest are arguments\n",
    "  in case operation of\n",
    "       1 -> -- Add to catalog\n",
    "         let pub = parsePublication args\n",
    "             updatedCatalog = addToCatalog pub catalog\n",
    "         in (updatedCatalog, \"Added to catalog:\\n\" ++ show pub)\n",
    "       2 -> -- Remove from catalog\n",
    "         let pub = parsePublication args\n",
    "             result = removeFromCatalog pub catalog\n",
    "         in case result of\n",
    "              Right updatedCatalog -> (updatedCatalog, \"Removed from catalog:\\n\" ++ show pub)\n",
    "              Left errMsg          -> (catalog, errMsg)\n",
    "       3 -> -- Search by author/title/date\n",
    "         let (author, title, date) = parseSearchArgs args\n",
    "             results = searchAuthorTitleDate author title date catalog\n",
    "         in (catalog, \"Search Results:\\n\" ++ unlines (map show results))\n",
    "       4 -> -- Borrow a publication\n",
    "         let user = parseUser (take 3 args)\n",
    "             pub = parsePublication (drop 3 args)\n",
    "             date = parseDate (drop 4 args)\n",
    "             updatedCatalog = borrow user pub date catalog\n",
    "         in (updatedCatalog, \"Borrowed by \" ++ show user ++ \":\\n\" ++ show pub)\n",
    "       5 -> -- Show catalog\n",
    "         (catalog, prettyCatalog catalog)\n",
    "       6 -> -- Show user information\n",
    "         let user = parseUser args\n",
    "             borrowed = borrowedPublications user catalog\n",
    "         in (catalog, \"User Information:\\n\" ++ show user ++ \"\\nBorrowed:\\n\" ++ unlines (map show borrowed))\n",
    "       _ -> (catalog, \"Invalid command\")\n",
    "{-\n",
    "-- Parse a publication from arguments\n",
    "parsePublication :: [String] -> Publication\n",
    "parsePublication args = case args of\n",
    "  (\"Book\":id:authorFirst:authorLast:title:pages:[copies]) ->\n",
    "    Book id (Person authorFirst authorLast (Date 1 \"January\" 1970)) title (read pages) (replicate (read copies) (Copy False Nothing Nothing Nothing))\n",
    "  (\"Journal\":id:authors:title:date:pages:copies) ->\n",
    "    Journal id (map parsePerson (words authors)) title (parseDate [date]) (read pages) (replicate (read copies) (Copy False Nothing Nothing Nothing))\n",
    "  (\"DVD\":id:director:actors:title:date:duration:copies) ->\n",
    "    DVD id (parsePerson [director]) (map parsePerson (words actors)) title (parseDate [date]) (read duration) (replicate (read copies) (Copy False Nothing Nothing Nothing))\n",
    "  _ -> error \"Invalid publication format\"\n",
    "-}\n",
    "parsePublication :: [String] -> Publication\n",
    "parsePublication args = case args of\n",
    "  (\"Book\":id:authorFirst:authorLast:title:pages:copies) ->\n",
    "    Book id (Person authorFirst authorLast (Date 1 \"January\" 1970)) title (read pages) (replicate (read copies :: Int) (Copy False Nothing Nothing Nothing))\n",
    "  (\"Journal\":id:authors:title:date:pages:copies) ->\n",
    "    Journal id (parsePeople authors) title (parseDate (words date)) (read pages) (replicate (read copies :: Int) (Copy False Nothing Nothing Nothing))\n",
    "  (\"DVD\":id:director:actors:title:date:duration:copies) ->\n",
    "    DVD id (parsePerson (words director)) (parsePeople actors) title (parseDate (words date)) (read duration) (replicate (read copies :: Int) (Copy False Nothing Nothing Nothing))\n",
    "  _ -> error \"Invalid publication format\"\n",
    "\n",
    "-- Parse a list of people (e.g., authors or actors)\n",
    "parsePeople :: String -> [Person]\n",
    "parsePeople str = map parsePerson (split ',' str)\n",
    "\n",
    "-- Split a string by a delimiter (e.g., ',' for lists)\n",
    "split :: Char -> String -> [String]\n",
    "split _ [] = []\n",
    "split delim str =\n",
    "  let (before, remainder) = break (== delim) str\n",
    "  in before : case remainder of\n",
    "       [] -> []\n",
    "       _  -> split delim (tail remainder)\n",
    "\n",
    "-- Parse user arguments\n",
    "parseUser :: [String] -> User\n",
    "parseUser args = case args of\n",
    "  (\"Student\":first:last:_) -> Student (Person first last (Date 1 \"January\" 2000))\n",
    "  (\"Professor\":first:last:_) -> Professor (Person first last (Date 1 \"January\" 1980))\n",
    "  _ -> error \"Invalid user format\"\n",
    "\n",
    "-- Parse search arguments\n",
    "parseSearchArgs :: [String] -> (Maybe Person, Maybe String, Maybe Date)\n",
    "parseSearchArgs args = case args of\n",
    "  (\"Author\":first:last:_) -> (Just (Person first last (Date 1 \"January\" 1970)), Nothing, Nothing)\n",
    "  (\"Title\":title:_)       -> (Nothing, Just title, Nothing)\n",
    "  (\"Date\":date:_)         -> (Nothing, Nothing, Just (parseDate [date]))\n",
    "  _                       -> (Nothing, Nothing, Nothing)\n",
    "\n",
    "-- Parse a date\n",
    "parseDate :: [String] -> Date\n",
    "parseDate [day, month, year] = Date (read day) month (read year)\n",
    "parseDate _ = error \"Invalid date format\"\n",
    "\n",
    "-- Parse a person\n",
    "parsePerson :: [String] -> Person\n",
    "parsePerson [first, last] = Person first last (Date 1 \"January\" 1970)\n",
    "parsePerson _ = error \"Invalid person format\"\n"
   ]
  },
  {
   "cell_type": "code",
   "execution_count": 89,
   "metadata": {},
   "outputs": [
    {
     "data": {
      "text/plain": [
       "1 Book \"B1\" (Person \"Author\" \"One\" (Date 1 \"January\" 1970)) \"Functional Programming\" 200 [Copy False Nothing Nothing Nothing, Copy True (Just user3) (Just (Date 1 \"December\" 2024)) (Just (Date 31 \"December\" 2024))]) []\n",
       "2 Book \"B1\" (Person \"Author\" \"One\" (Date 1 \"January\" 1970)) \"Functional Programming\" 200 [Copy False Nothing Nothing Nothing, Copy True (Just user3) (Just (Date 1 \"December\" 2024)) (Just (Date 31 \"December\" 2024))]) [Book \"B1\" (Person \"Author\" \"One\" (Date 1 \"January\" 1970)) \"Functional Programming\" 200 [Copy False Nothing Nothing Nothing, Copy True (Just user3) (Just (Date 1 \"December\" 2024)) (Just (Date 31 \"December\" 2024))])]\n",
       "3\n",
       "4\n",
       "5\n",
       "6"
      ]
     },
     "metadata": {},
     "output_type": "display_data"
    },
    {
     "data": {
      "text/plain": [
       "()"
      ]
     },
     "metadata": {},
     "output_type": "display_data"
    }
   ],
   "source": [
    "handle <- openFile \"ejemplo.txt\" ReadMode -- Open the input file\n",
    "contents <- hGetContents handle  \n",
    "cont <- putStr contents          -- Read the contents\n",
    "cont\n",
    "--commands = lines contents         -- Split into lines"
   ]
  },
  {
   "cell_type": "code",
   "execution_count": 84,
   "metadata": {},
   "outputs": [
    {
     "data": {
      "text/plain": [
       "\"1 Book \\\"B1\\\" (Person \\\"Author\\\" \\\"One\\\" (Date 1 \\\"January\\\" 1970)) \\\"Functional Programming\\\" 200 [Copy False Nothing Nothing Nothing, Copy True (Just user3) (Just (Date 1 \\\"December\\\" 2024)) (Just (Date 31 \\\"December\\\" 2024))]) []\\n2 Book \\\"B1\\\" (Person \\\"Author\\\" \\\"One\\\" (Date 1 \\\"January\\\" 1970)) \\\"Functional Programming\\\" 200 [Copy False Nothing Nothing Nothing, Copy True (Just user3) (Just (Date 1 \\\"December\\\" 2024)) (Just (Date 31 \\\"December\\\" 2024))]) [Book \\\"B1\\\" (Person \\\"Author\\\" \\\"One\\\" (Date 1 \\\"January\\\" 1970)) \\\"Functional Programming\\\" 200 [Copy False Nothing Nothing Nothing, Copy True (Just user3) (Just (Date 1 \\\"December\\\" 2024)) (Just (Date 31 \\\"December\\\" 2024))])]\\n3\\n4\\n5\\n6\""
      ]
     },
     "metadata": {},
     "output_type": "display_data"
    },
    {
     "data": {
      "text/plain": [
       "[\"1 Book \\\"B1\\\" (Person \\\"Author\\\" \\\"One\\\" (Date 1 \\\"January\\\" 1970)) \\\"Functional Programming\\\" 200 [Copy False Nothing Nothing Nothing, Copy True (Just user3) (Just (Date 1 \\\"December\\\" 2024)) (Just (Date 31 \\\"December\\\" 2024))]) []\",\"2 Book \\\"B1\\\" (Person \\\"Author\\\" \\\"One\\\" (Date 1 \\\"January\\\" 1970)) \\\"Functional Programming\\\" 200 [Copy False Nothing Nothing Nothing, Copy True (Just user3) (Just (Date 1 \\\"December\\\" 2024)) (Just (Date 31 \\\"December\\\" 2024))]) [Book \\\"B1\\\" (Person \\\"Author\\\" \\\"One\\\" (Date 1 \\\"January\\\" 1970)) \\\"Functional Programming\\\" 200 [Copy False Nothing Nothing Nothing, Copy True (Just user3) (Just (Date 1 \\\"December\\\" 2024)) (Just (Date 31 \\\"December\\\" 2024))])]\",\"3\",\"4\",\"5\",\"6\"]"
      ]
     },
     "metadata": {},
     "output_type": "display_data"
    }
   ],
   "source": [
    "contents\n",
    "commands"
   ]
  },
  {
   "cell_type": "code",
   "execution_count": 85,
   "metadata": {},
   "outputs": [
    {
     "ename": "",
     "evalue": "",
     "output_type": "error",
     "traceback": [
      "<interactive>:16:29: error: [GHC-39999]\n    • No instance for ‘Read Publication’ arising from a use of ‘readMaybe’\n    • In the expression: readMaybe input :: Maybe (Publication, Catalog)\n      In an equation for ‘parseAddPublication’: parseAddPublication input = readMaybe input :: Maybe (Publication, Catalog)"
     ]
    }
   ],
   "source": [
    "import System.IO\n",
    "import Text.Read (readMaybe)\n",
    "\n",
    "-- Process the Add Publication command\n",
    "processAddPublication :: FilePath -> IO ()\n",
    "processAddPublication filePath = do\n",
    "  handle <- openFile filePath ReadMode\n",
    "  contents <- hGetContents handle\n",
    "  let commands = lines contents -- Each line represents a command\n",
    "  mapM_ processLine commands\n",
    "  hClose handle\n",
    "\n",
    "-- Process a single line\n",
    "processLine :: String -> IO ()\n",
    "processLine line = case parseAddPublication line of\n",
    "  Just (pub, catalog) -> do\n",
    "    let updatedCatalog = addToCatalog pub catalog\n",
    "    putStrLn \"Publication added successfully!\"\n",
    "    putStrLn $ \"Updated Catalog:\\n\" ++ prettyCatalog updatedCatalog\n",
    "  Nothing -> putStrLn \"Error: Invalid input format for adding publication.\"\n",
    "\n",
    "-- Parse the add publication command\n",
    "parseAddPublication :: String -> Maybe (Publication, Catalog)\n",
    "parseAddPublication input = readMaybe input :: Maybe (Publication, Catalog)\n"
   ]
  },
  {
   "cell_type": "code",
   "execution_count": null,
   "metadata": {},
   "outputs": [
    {
     "ename": "",
     "evalue": "",
     "output_type": "error",
     "traceback": [
      "<interactive>:20:14: error: [GHC-88464] Variable not in scope: isPrefixOf :: String -> String -> Bool\n<interactive>:28:17: error: [GHC-88464] Variable not in scope: isPrefixOf :: String -> String -> Bool\n<interactive>:37:13: error: [GHC-88464] Variable not in scope: isPrefixOf :: String -> String -> Bool"
     ]
    }
   ],
   "source": [
    "instance Read Date where\n",
    "  readsPrec _ input = case words input of\n",
    "    [day, month, year] -> [(Date (read day) month (read year), \"\")]\n",
    "    _ -> []\n",
    "\n",
    "instance Read Person where\n",
    "  readsPrec _ input = case words input of\n",
    "    [firstName, lastName] -> [(Person firstName lastName (Date 1 \"January\" 1970), \"\")]\n",
    "    _ -> []\n",
    "\n",
    "instance Read Copy where\n",
    "  readsPrec _ input =\n",
    "    let (borrowedStr, rest1) = break (== ' ') input\n",
    "        (borrowerStr, rest2) = break (== ' ') (tail rest1)\n",
    "        (loanDateStr, returnDateStr) = break (== ' ') (tail rest2)\n",
    "    in [(Copy (read borrowedStr)\n",
    "              (readMaybe borrowerStr :: Maybe User)\n",
    "              (readMaybe loanDateStr :: Maybe Date)\n",
    "              (readMaybe returnDateStr :: Maybe Date), \"\")]\n",
    "\n",
    "instance Read Publication where\n",
    "  readsPrec _ input\n",
    "    | \"Book\" `isPrefixOf` input =\n",
    "        let (_, rest) = break (== ' ') input\n",
    "            (id, rest1) = break (== ' ') rest\n",
    "            (author, rest2) = break (== ' ') (tail rest1)\n",
    "            (title, rest3) = break (== ' ') (tail rest2)\n",
    "            (pages, rest4) = break (== ' ') (tail rest3)\n",
    "            (copies, _) = break (== ' ') (tail rest4)\n",
    "        in [(Book id (read author) title (read pages) (read copies), \"\")]\n",
    "    | \"Journal\" `isPrefixOf` input =\n",
    "        let (_, rest) = break (== ' ') input\n",
    "            (id, rest1) = break (== ' ') rest\n",
    "            (authors, rest2) = break (== ' ') (tail rest1)\n",
    "            (title, rest3) = break (== ' ') (tail rest2)\n",
    "            (releaseDate, rest4) = break (== ' ') (tail rest3)\n",
    "            (pages, rest5) = break (== ' ') (tail rest4)\n",
    "            (copies, _) = break (== ' ') (tail rest5)\n",
    "        in [(Journal id (read authors) title (read releaseDate) (read pages) (read copies), \"\")]\n",
    "    | \"DVD\" `isPrefixOf` input =\n",
    "        let (_, rest) = break (== ' ') input\n",
    "            (id, rest1) = break (== ' ') rest\n",
    "            (director, rest2) = break (== ' ') (tail rest1)\n",
    "            (actors, rest3) = break (== ' ') (tail rest2)\n",
    "            (title, rest4) = break (== ' ') (tail rest3)\n",
    "            (releaseDate, rest5) = break (== ' ') (tail rest4)\n",
    "            (duration, rest6) = break (== ' ') (tail rest5)\n",
    "            (copies, _) = break (== ' ') (tail rest6)\n",
    "        in [(DVD id (read director) (read actors) title (read releaseDate) (read duration) (read copies), \"\")]\n",
    "    | otherwise = []\n"
   ]
  },
  {
   "cell_type": "code",
   "execution_count": null,
   "metadata": {},
   "outputs": [],
   "source": []
  }
 ],
 "metadata": {
  "kernelspec": {
   "display_name": "Haskell",
   "language": "haskell",
   "name": "haskell"
  },
  "language_info": {
   "codemirror_mode": "ihaskell",
   "file_extension": ".hs",
   "mimetype": "text/x-haskell",
   "name": "haskell",
   "pygments_lexer": "Haskell",
   "version": "9.6.4"
  }
 },
 "nbformat": 4,
 "nbformat_minor": 2
}
