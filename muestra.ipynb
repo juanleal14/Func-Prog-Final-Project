{
 "cells": [
  {
   "cell_type": "markdown",
   "metadata": {},
   "source": [
    "# FINAL PROJECT: ÍÑIGO BARCELÓ ÁLVAREZ / JUAN LEAL ALIAGA"
   ]
  },
  {
   "cell_type": "markdown",
   "metadata": {},
   "source": [
    "## 1. Types to represent all the former concepts. An exhaustive type definition is required, use the most appropriate way (type, data or newtype) for each of them. "
   ]
  },
  {
   "cell_type": "code",
   "execution_count": 18,
   "metadata": {
    "vscode": {
     "languageId": "plaintext"
    }
   },
   "outputs": [],
   "source": [
    "data Date = Date \n",
    "  { day   :: Int\n",
    "  , month :: String\n",
    "  , year  :: Int\n",
    "  } deriving (Show, Eq, Ord)\n",
    "\n",
    "data Person = Person \n",
    "  { firstName :: String\n",
    "  , lastName  :: String\n",
    "  , birthDate :: Date\n",
    "  } deriving (Show, Eq)\n",
    "\n",
    "data Publication\n",
    "  = Book\n",
    "      { bookId    :: String       -- Unique signature\n",
    "      , author    :: Person       -- Single author\n",
    "      , title     :: String\n",
    "      , pages     :: Int\n",
    "      , copies    :: [Copy]       -- List of copies\n",
    "      }\n",
    "  | Journal\n",
    "      { journalId :: String       -- Unique signature\n",
    "      , authors   :: [Person]     -- Multiple authors\n",
    "      , title     :: String\n",
    "      , releaseDate :: Date\n",
    "      , pages     :: Int\n",
    "      , copies    :: [Copy]\n",
    "      }\n",
    "  | DVD\n",
    "      { dvdId     :: String       -- Unique signature\n",
    "      , director  :: Person       -- Director is a single person\n",
    "      , actors    :: [Person]     -- List of actors\n",
    "      , title     :: String\n",
    "      , releaseDate :: Date\n",
    "      , duration  :: Int          -- Duration in minutes\n",
    "      , copies    :: [Copy]\n",
    "      }\n",
    "  deriving (Show, Eq)\n",
    "\n",
    "data Copy = Copy\n",
    "  { isBorrowed  :: Bool\n",
    "  , borrower    :: Maybe User    -- User who borrowed the copy (if any)\n",
    "  , loanDate    :: Maybe Date    -- Loan date (if borrowed)\n",
    "  , returnDate  :: Maybe Date    -- Expected return date (if borrowed)\n",
    "  } deriving (Show, Eq)\n",
    "\n",
    "data User\n",
    "  = Student \n",
    "      { studentName :: Person\n",
    "      , borrowed    :: [Copy]    -- Currently borrowed copies (¿MAX?)\n",
    "      }\n",
    "  | Professor\n",
    "      { professorName :: Person\n",
    "      , borrowed      :: [Copy] -- ¿MAX?\n",
    "      }\n",
    "  \n",
    "  deriving (Show, Eq)\n",
    "\n",
    "type Catalog = [Publication]"
   ]
  },
  {
   "cell_type": "markdown",
   "metadata": {},
   "source": [
    "## 2. Functions to show the former concepts in a pretty way. "
   ]
  },
  {
   "cell_type": "code",
   "execution_count": 19,
   "metadata": {
    "vscode": {
     "languageId": "plaintext"
    }
   },
   "outputs": [],
   "source": [
    "instance Show Date where\n",
    "  show (Date d m y) = show d ++ \" \" ++ m ++ \" \" ++ show y\n",
    "  \n",
    "instance Show Person where\n",
    "  show (Person fName lName bDate) = \n",
    "    fName ++ \" \" ++ lName ++ \" (\" ++ show bDate ++ \")\"\n",
    "    \n",
    "instance Show Copy where\n",
    "  show (Copy isB mbUser mbLoanDate mbReturnDate)\n",
    "    | isB = \"Borrowed by \" ++ maybe \"Unknown\" show mbUser ++\n",
    "            \" | Loan Date: \" ++ maybe \"N/A\" show mbLoanDate ++\n",
    "            \" | Return Date: \" ++ maybe \"N/A\" show mbReturnDate\n",
    "    | otherwise = \"Available\"\n",
    "    \n",
    "instance Show Publication where\n",
    "  show (Book id author title pages copies) =\n",
    "    \"Book [\" ++ id ++ \"]\\n\" ++\n",
    "    \"  Title: \" ++ title ++ \"\\n\" ++\n",
    "    \"  Author: \" ++ show author ++ \"\\n\" ++\n",
    "    \"  Pages: \" ++ show pages ++ \"\\n\" ++\n",
    "    \"  Copies: \" ++ show (length $ filter (not . isBorrowed) copies) ++ \"/\" ++ show (length copies) ++ \" available\\n\" ++\n",
    "    unlines (map show copies)\n",
    "\n",
    "  show (Journal id authors title releaseDate pages copies) =\n",
    "    \"Journal [\" ++ id ++ \"]\\n\" ++\n",
    "    \"  Title: \" ++ title ++ \"\\n\" ++\n",
    "    \"  Authors: \" ++ unwords (map show authors) ++ \"\\n\" ++\n",
    "    \"  Release Date: \" ++ show releaseDate ++ \"\\n\" ++\n",
    "    \"  Pages: \" ++ show pages ++ \"\\n\" ++\n",
    "    \"  Copies: \" ++ show (length $ filter (not . isBorrowed) copies) ++ \"/\" ++ show (length copies) ++ \" available\\n\" ++\n",
    "    unlines (map show copies)\n",
    "\n",
    "  show (DVD id director actors title releaseDate duration copies) =\n",
    "    \"DVD [\" ++ id ++ \"]\\n\" ++\n",
    "    \"  Title: \" ++ title ++ \"\\n\" ++\n",
    "    \"  Director: \" ++ show director ++ \"\\n\" ++\n",
    "    \"  Actors: \" ++ unwords (map show actors) ++ \"\\n\" ++\n",
    "    \"  Release Date: \" ++ show releaseDate ++ \"\\n\" ++\n",
    "    \"  Duration: \" ++ show duration ++ \" minutes\\n\" ++\n",
    "    \"  Copies: \" ++ show (length $ filter (not . isBorrowed) copies) ++ \"/\" ++ show (length copies) ++ \" available\\n\" ++\n",
    "    unlines (map show copies)\n",
    "    \n",
    "instance Show User where\n",
    "  show (Student p borrowed) =\n",
    "    \"Student: \" ++ show p ++ \"\\n\" ++\n",
    "    \"  Borrowed: \" ++ show (length borrowed) ++ \" items\"\n",
    "\n",
    "  show (Professor p borrowed) =\n",
    "    \"Professor: \" ++ show p ++ \"\\n\" ++\n",
    "    \"  Borrowed: \" ++ show (length borrowed) ++ \" items\"\n",
    "instance Eq User where\n",
    "  (Student p1 _) == (Student p2 _) = p1 == p2\n",
    "  (Professor p1 _) == (Professor p2 _) = p1 == p2\n",
    "  _ == _ = False\n",
    "    \n",
    "prettyCatalog :: Catalog -> String\n",
    "prettyCatalog = unlines . map show\n"
   ]
  },
  {
   "cell_type": "code",
   "execution_count": 20,
   "metadata": {
    "vscode": {
     "languageId": "plaintext"
    }
   },
   "outputs": [
    {
     "data": {
      "text/plain": [
       "18 November 2024"
      ]
     },
     "metadata": {},
     "output_type": "display_data"
    },
    {
     "data": {
      "text/plain": [
       "John Doe (10 January 1980)"
      ]
     },
     "metadata": {},
     "output_type": "display_data"
    },
    {
     "data": {
      "text/plain": [
       "Book [B001]\n",
       "  Title: Functional Programming in Haskell\n",
       "  Author: John Doe (10 January 1980)\n",
       "  Pages: 300\n",
       "  Copies: 1/1 available\n",
       "Available"
      ]
     },
     "metadata": {},
     "output_type": "display_data"
    },
    {
     "data": {
      "text/plain": [
       "Student: Alice Smith (5 May 2001)\n",
       "  Borrowed: 0 items"
      ]
     },
     "metadata": {},
     "output_type": "display_data"
    },
    {
     "data": {
      "text/plain": [
       "[Book [B001]\n",
       "  Title: Functional Programming in Haskell\n",
       "  Author: John Doe (10 January 1980)\n",
       "  Pages: 300\n",
       "  Copies: 1/1 available\n",
       "Available\n",
       "]"
      ]
     },
     "metadata": {},
     "output_type": "display_data"
    }
   ],
   "source": [
    "--Prueba\n",
    "exampleDate :: Date\n",
    "exampleDate = Date 18 \"November\" 2024\n",
    "\n",
    "author1 :: Person\n",
    "author1 = Person \"John\" \"Doe\" (Date 10 \"January\" 1980)\n",
    "\n",
    "exampleBook :: Publication\n",
    "exampleBook = Book \n",
    "  \"B001\" \n",
    "  author1 \n",
    "  \"Functional Programming in Haskell\" \n",
    "  300 \n",
    "  [Copy False Nothing Nothing Nothing]\n",
    "\n",
    "exampleStudent :: User\n",
    "exampleStudent = Student (Person \"Alice\" \"Smith\" (Date 5 \"May\" 2001)) []\n",
    "\n",
    "exampleCatalog :: Catalog\n",
    "exampleCatalog = [exampleBook]\n",
    "\n",
    "exampleDate\n",
    "\n",
    "author1\n",
    "\n",
    "exampleBook\n",
    "\n",
    "exampleStudent\n",
    "\n",
    "exampleCatalog\n"
   ]
  },
  {
   "cell_type": "code",
   "execution_count": 21,
   "metadata": {},
   "outputs": [
    {
     "data": {
      "text/plain": [
       "Book [B002]\n",
       "  Title: Pride and Prejudice\n",
       "  Author: Jane Austen (16 December 1775)\n",
       "  Pages: 432\n",
       "  Copies: 2/4 available\n",
       "Borrowed by Student: Alice Smith (5 May 2001)\n",
       "  Borrowed: 1 items | Loan Date: 10 November 2024 | Return Date: 10 December 2024\n",
       "Borrowed by Professor: Dr. Johnson (12 August 1975)\n",
       "  Borrowed: 1 items | Loan Date: 10 November 2024 | Return Date: 10 December 2024\n",
       "Available\n",
       "Available"
      ]
     },
     "metadata": {},
     "output_type": "display_data"
    },
    {
     "data": {
      "text/plain": [
       "[Book [B002]\n",
       "  Title: Pride and Prejudice\n",
       "  Author: Jane Austen (16 December 1775)\n",
       "  Pages: 432\n",
       "  Copies: 2/4 available\n",
       "Borrowed by Student: Alice Smith (5 May 2001)\n",
       "  Borrowed: 1 items | Loan Date: 10 November 2024 | Return Date: 10 December 2024\n",
       "Borrowed by Professor: Dr. Johnson (12 August 1975)\n",
       "  Borrowed: 1 items | Loan Date: 10 November 2024 | Return Date: 10 December 2024\n",
       "Available\n",
       "Available\n",
       "]"
      ]
     },
     "metadata": {},
     "output_type": "display_data"
    }
   ],
   "source": [
    "-- Ejemplo de fecha\n",
    "exampleLoanDate :: Date\n",
    "exampleLoanDate = Date 10 \"November\" 2024\n",
    "\n",
    "exampleReturnDate :: Date\n",
    "exampleReturnDate = Date 10 \"December\" 2024\n",
    "\n",
    "-- Ejemplo de personas\n",
    "student1 :: User\n",
    "student1 = Student (Person \"Alice\" \"Smith\" (Date 5 \"May\" 2001)) [Copy True (Just student1) (Just exampleLoanDate) (Just exampleReturnDate)]\n",
    "\n",
    "professor1 :: User\n",
    "professor1 = Professor (Person \"Dr.\" \"Johnson\" (Date 12 \"August\" 1975)) [Copy True (Just professor1) (Just exampleLoanDate) (Just exampleReturnDate)]\n",
    "\n",
    "-- Ejemplo de copias de un libro\n",
    "exampleCopies :: [Copy]\n",
    "exampleCopies = \n",
    "  [ Copy True (Just student1) (Just exampleLoanDate) (Just exampleReturnDate)  -- Prestada a un estudiante\n",
    "  , Copy True (Just professor1) (Just exampleLoanDate) (Just exampleReturnDate) -- Prestada a un profesor\n",
    "  , Copy False Nothing Nothing Nothing  -- Disponible\n",
    "  , Copy False Nothing Nothing Nothing  -- Disponible\n",
    "  ]\n",
    "\n",
    "-- Ejemplo de libro con varias copias\n",
    "exampleBookWithCopies :: Publication\n",
    "exampleBookWithCopies = Book\n",
    "  \"B002\"\n",
    "  (Person \"Jane\" \"Austen\" (Date 16 \"December\" 1775))\n",
    "  \"Pride and Prejudice\"\n",
    "  432\n",
    "  exampleCopies\n",
    "\n",
    "-- Catálogo con el libro\n",
    "exampleCatalogWithCopies :: Catalog\n",
    "exampleCatalogWithCopies = [exampleBookWithCopies]\n",
    "\n",
    "exampleBookWithCopies\n",
    "\n",
    "exampleCatalogWithCopies"
   ]
  },
  {
   "cell_type": "code",
   "execution_count": 22,
   "metadata": {},
   "outputs": [
    {
     "data": {
      "text/plain": [
       "\"Book [B002]\\n  Title: Pride and Prejudice\\n  Author: Jane Austen (16 December 1775)\\n  Pages: 432\\n  Copies: 2/4 available\\nBorrowed by Student: Alice Smith (5 May 2001)\\n  Borrowed: 1 items | Loan Date: 10 November 2024 | Return Date: 10 December 2024\\nBorrowed by Professor: Dr. Johnson (12 August 1975)\\n  Borrowed: 1 items | Loan Date: 10 November 2024 | Return Date: 10 December 2024\\nAvailable\\nAvailable\\n\\nBook [B003]\\n  Title: 1984\\n  Author: George Orwell (25 June 1903)\\n  Pages: 328\\n  Copies: 2/3 available\\nBorrowed by Student: Alice Smith (5 May 2001)\\n  Borrowed: 1 items | Loan Date: 1 November 2024 | Return Date: 8 November 2024\\nAvailable\\nAvailable\\n\\n\""
      ]
     },
     "metadata": {},
     "output_type": "display_data"
    }
   ],
   "source": [
    "-- Ejemplo de otro libro con copias\n",
    "exampleCopies2 :: [Copy]\n",
    "exampleCopies2 = \n",
    "  [ Copy True (Just student1) (Just (Date 1 \"November\" 2024)) (Just (Date 8 \"November\" 2024)) -- Prestada a un estudiante\n",
    "  , Copy False Nothing Nothing Nothing  -- Disponible\n",
    "  , Copy False Nothing Nothing Nothing  -- Disponible\n",
    "  ]\n",
    "\n",
    "exampleBookWithCopies2 :: Publication\n",
    "exampleBookWithCopies2 = Book\n",
    "  \"B003\"\n",
    "  (Person \"George\" \"Orwell\" (Date 25 \"June\" 1903))\n",
    "  \"1984\"\n",
    "  328\n",
    "  exampleCopies2\n",
    "\n",
    "-- Catálogo actualizado con ambos libros\n",
    "updatedCatalog :: Catalog\n",
    "updatedCatalog = exampleCatalogWithCopies ++ [exampleBookWithCopies2]\n",
    "\n",
    "-- Prueba de impresión del catálogo actualizado\n",
    "prettyCatalog updatedCatalog\n"
   ]
  },
  {
   "cell_type": "code",
   "execution_count": null,
   "metadata": {},
   "outputs": [],
   "source": []
  },
  {
   "cell_type": "markdown",
   "metadata": {},
   "source": [
    "## 3. An addToCatalog Publication Catalog function that adds a publication to the library catalog. If the publication is already in the catalog, its number of copies will be increased. "
   ]
  },
  {
   "cell_type": "code",
   "execution_count": 23,
   "metadata": {},
   "outputs": [
    {
     "data": {
      "text/plain": [
       "\"Book [B002]\\n  Title: Pride and Prejudice\\n  Author: Jane Austen (16 December 1775)\\n  Pages: 432\\n  Copies: 4/6 available\\nAvailable\\nAvailable\\nBorrowed by Student: Alice Smith (5 May 2001)\\n  Borrowed: 1 items | Loan Date: 10 November 2024 | Return Date: 10 December 2024\\nBorrowed by Professor: Dr. Johnson (12 August 1975)\\n  Borrowed: 1 items | Loan Date: 10 November 2024 | Return Date: 10 December 2024\\nAvailable\\nAvailable\\n\\nBook [B003]\\n  Title: 1984\\n  Author: George Orwell (25 June 1903)\\n  Pages: 328\\n  Copies: 2/3 available\\nBorrowed by Student: Alice Smith (5 May 2001)\\n  Borrowed: 1 items | Loan Date: 1 November 2024 | Return Date: 8 November 2024\\nAvailable\\nAvailable\\n\\nBook [B004]\\n  Title: Harry Potter and the Philosopher's Stone\\n  Author: J.K. Rowling (31 July 1965)\\n  Pages: 223\\n  Copies: 1/1 available\\nAvailable\\n\\n\""
      ]
     },
     "metadata": {},
     "output_type": "display_data"
    }
   ],
   "source": [
    "addToCatalog :: Publication -> Catalog -> Catalog\n",
    "addToCatalog pub [] = [pub]\n",
    "addToCatalog pub (p:ps)\n",
    "  | samePublication pub p = mergeCopies pub p : ps -- Si ya existe, combina las copias\n",
    "  | otherwise             = p : addToCatalog pub ps -- Si no, sigue buscando\n",
    "  where\n",
    "    -- Verifica si dos publicaciones son la misma basándose en su ID único\n",
    "    samePublication :: Publication -> Publication -> Bool\n",
    "    samePublication (Book id1 _ _ _ _) (Book id2 _ _ _ _) = id1 == id2\n",
    "    samePublication (Journal id1 _ _ _ _ _) (Journal id2 _ _ _ _ _) = id1 == id2\n",
    "    samePublication (DVD id1 _ _ _ _ _ _) (DVD id2 _ _ _ _ _ _) = id1 == id2\n",
    "    samePublication _ _ = False\n",
    "\n",
    "    -- Combina las copias de dos publicaciones iguales\n",
    "    mergeCopies :: Publication -> Publication -> Publication\n",
    "    mergeCopies (Book id1 author1 title1 pages1 copies1) (Book _ _ _ _ copies2) =\n",
    "      Book id1 author1 title1 pages1 (copies1 ++ copies2)\n",
    "    mergeCopies (Journal id1 authors1 title1 release1 pages1 copies1) (Journal _ _ _ _ _ copies2) =\n",
    "      Journal id1 authors1 title1 release1 pages1 (copies1 ++ copies2)\n",
    "    mergeCopies (DVD id1 director1 actors1 title1 release1 duration1 copies1) (DVD _ _ _ _ _ _ copies2) =\n",
    "      DVD id1 director1 actors1 title1 release1 duration1 (copies1 ++ copies2)\n",
    "    mergeCopies pub1 _ = pub1 -- Por seguridad, devuelve pub1 en otros casos\n",
    "\n",
    "-- Nueva copia para un libro existente\n",
    "newCopiesForPrideAndPrejudice :: [Copy]\n",
    "newCopiesForPrideAndPrejudice = \n",
    "  [ Copy False Nothing Nothing Nothing,  -- Nueva copia disponible\n",
    "    Copy False Nothing Nothing Nothing   -- Otra nueva copia disponible\n",
    "  ]\n",
    "\n",
    "-- Publicación con nuevas copias de \"Pride and Prejudice\"\n",
    "newPrideAndPrejudice :: Publication\n",
    "newPrideAndPrejudice = Book\n",
    "  \"B002\"\n",
    "  (Person \"Jane\" \"Austen\" (Date 16 \"December\" 1775))\n",
    "  \"Pride and Prejudice\"\n",
    "  432\n",
    "  newCopiesForPrideAndPrejudice\n",
    "\n",
    "-- Nuevo libro completamente nuevo\n",
    "newBook :: Publication\n",
    "newBook = Book\n",
    "  \"B004\"\n",
    "  (Person \"J.K.\" \"Rowling\" (Date 31 \"July\" 1965))\n",
    "  \"Harry Potter and the Philosopher's Stone\"\n",
    "  223\n",
    "  [Copy False Nothing Nothing Nothing]\n",
    "\n",
    "-- Actualizar el catálogo\n",
    "updatedCatalog2 :: Catalog\n",
    "updatedCatalog2 = addToCatalog newPrideAndPrejudice $ addToCatalog newBook updatedCatalog\n",
    "\n",
    "-- Prueba de impresión\n",
    "prettyCatalog updatedCatalog2\n"
   ]
  },
  {
   "cell_type": "code",
   "execution_count": 24,
   "metadata": {},
   "outputs": [
    {
     "data": {
      "text/plain": [
       "\"Book [B002]\\n  Title: Pride and Prejudice\\n  Author: Jane Austen (16 December 1775)\\n  Pages: 432\\n  Copies: 4/6 available\\nAvailable\\nAvailable\\nBorrowed by Student: Alice Smith (5 May 2001)\\n  Borrowed: 1 items | Loan Date: 10 November 2024 | Return Date: 10 December 2024\\nBorrowed by Professor: Dr. Johnson (12 August 1975)\\n  Borrowed: 1 items | Loan Date: 10 November 2024 | Return Date: 10 December 2024\\nAvailable\\nAvailable\\n\\nBook [B003]\\n  Title: 1984\\n  Author: George Orwell (25 June 1903)\\n  Pages: 328\\n  Copies: 2/3 available\\nBorrowed by Student: Alice Smith (5 May 2001)\\n  Borrowed: 1 items | Loan Date: 1 November 2024 | Return Date: 8 November 2024\\nAvailable\\nAvailable\\n\\nBook [B004]\\n  Title: Harry Potter and the Philosopher's Stone\\n  Author: J.K. Rowling (31 July 1965)\\n  Pages: 223\\n  Copies: 3/3 available\\nAvailable\\nAvailable\\nAvailable\\n\\n\""
      ]
     },
     "metadata": {},
     "output_type": "display_data"
    }
   ],
   "source": [
    "-- Nuevas copias para \"Harry Potter and the Philosopher's Stone\"\n",
    "newCopiesForHarryPotter :: [Copy]\n",
    "newCopiesForHarryPotter = \n",
    "  [ Copy False Nothing Nothing Nothing,  -- Nueva copia disponible\n",
    "    Copy False Nothing Nothing Nothing   -- Otra nueva copia disponible\n",
    "  ]\n",
    "\n",
    "-- Publicación con nuevas copias de \"Harry Potter\"\n",
    "newBook2 :: Publication\n",
    "newBook2 = Book\n",
    "  \"B004\"\n",
    "  (Person \"J.K.\" \"Rowling\" (Date 31 \"July\" 1965))\n",
    "  \"Harry Potter and the Philosopher's Stone\"\n",
    "  223\n",
    "  newCopiesForHarryPotter\n",
    "\n",
    "-- Actualizar el catálogo con newBook2 (se fusionan las copias)\n",
    "finalCatalog :: Catalog\n",
    "finalCatalog = addToCatalog newBook2 updatedCatalog2\n",
    "\n",
    "-- Prueba de impresión\n",
    "prettyCatalog finalCatalog\n"
   ]
  },
  {
   "cell_type": "markdown",
   "metadata": {},
   "source": [
    "## 4. A removeFromCatalog Publication Catalog that removes a copy of the publication from the library catalog. If it is the last copy, the publication will be removed. If the catalog does not contain that publication an error will be raised."
   ]
  },
  {
   "cell_type": "code",
   "execution_count": 25,
   "metadata": {},
   "outputs": [],
   "source": [
    "removeFromCatalog :: Publication -> Catalog -> Either String Catalog\n",
    "removeFromCatalog pub [] = Left \"Error: The publication is not in the catalog.\"\n",
    "removeFromCatalog pub (p:ps)\n",
    "  | samePublication pub p =\n",
    "      let updatedPub = removeCopy pub\n",
    "      in if noCopiesLeft updatedPub\n",
    "         then Right ps -- Elimina la publicación completamente\n",
    "         else Right (updatedPub : ps) -- Actualiza la publicación\n",
    "  | otherwise = fmap (p :) (removeFromCatalog pub ps) -- Sigue buscando\n",
    "  where\n",
    "    -- Verifica si dos publicaciones son iguales por su ID único\n",
    "    samePublication :: Publication -> Publication -> Bool\n",
    "    samePublication (Book id1 _ _ _ _) (Book id2 _ _ _ _) = id1 == id2\n",
    "    samePublication (Journal id1 _ _ _ _ _) (Journal id2 _ _ _ _ _) = id1 == id2\n",
    "    samePublication (DVD id1 _ _ _ _ _ _) (DVD id2 _ _ _ _ _ _) = id1 == id2\n",
    "    samePublication _ _ = False\n",
    "\n",
    "    -- Elimina una copia de la publicación (la primera disponible o prestada)\n",
    "    removeCopy :: Publication -> Publication\n",
    "    removeCopy (Book id1 author1 title1 pages1 copies1) =\n",
    "      Book id1 author1 title1 pages1 (tail copies1)\n",
    "    removeCopy (Journal id1 authors1 title1 release1 pages1 copies1) =\n",
    "      Journal id1 authors1 title1 release1 pages1 (tail copies1)\n",
    "    removeCopy (DVD id1 director1 actors1 title1 release1 duration1 copies1) =\n",
    "      DVD id1 director1 actors1 title1 release1 duration1 (tail copies1)\n",
    "    removeCopy pub = pub -- Por seguridad\n",
    "\n",
    "    -- Verifica si no quedan copias en la publicación\n",
    "    noCopiesLeft :: Publication -> Bool\n",
    "    noCopiesLeft (Book _ _ _ _ copies1)    = null copies1\n",
    "    noCopiesLeft (Journal _ _ _ _ _ copies1) = null copies1\n",
    "    noCopiesLeft (DVD _ _ _ _ _ _ copies1) = null copies1\n"
   ]
  },
  {
   "cell_type": "code",
   "execution_count": 26,
   "metadata": {},
   "outputs": [
    {
     "data": {
      "text/plain": [
       "[Book [B002]\n",
       "  Title: Pride and Prejudice\n",
       "  Author: Jane Austen (16 December 1775)\n",
       "  Pages: 432\n",
       "  Copies: 4/6 available\n",
       "Available\n",
       "Available\n",
       "Borrowed by Student: Alice Smith (5 May 2001)\n",
       "  Borrowed: 1 items | Loan Date: 10 November 2024 | Return Date: 10 December 2024\n",
       "Borrowed by Professor: Dr. Johnson (12 August 1975)\n",
       "  Borrowed: 1 items | Loan Date: 10 November 2024 | Return Date: 10 December 2024\n",
       "Available\n",
       "Available\n",
       ",Book [B003]\n",
       "  Title: 1984\n",
       "  Author: George Orwell (25 June 1903)\n",
       "  Pages: 328\n",
       "  Copies: 2/3 available\n",
       "Borrowed by Student: Alice Smith (5 May 2001)\n",
       "  Borrowed: 1 items | Loan Date: 1 November 2024 | Return Date: 8 November 2024\n",
       "Available\n",
       "Available\n",
       ",Book [B004]\n",
       "  Title: Harry Potter and the Philosopher's Stone\n",
       "  Author: J.K. Rowling (31 July 1965)\n",
       "  Pages: 223\n",
       "  Copies: 3/3 available\n",
       "Available\n",
       "Available\n",
       "Available\n",
       "]"
      ]
     },
     "metadata": {},
     "output_type": "display_data"
    },
    {
     "data": {
      "text/plain": [
       "Book [B002]\n",
       "  Title: Pride and Prejudice\n",
       "  Author: Jane Austen (16 December 1775)\n",
       "  Pages: 432\n",
       "  Copies: 2/4 available\n",
       "Borrowed by Student: Alice Smith (5 May 2001)\n",
       "  Borrowed: 1 items | Loan Date: 10 November 2024 | Return Date: 10 December 2024\n",
       "Borrowed by Professor: Dr. Johnson (12 August 1975)\n",
       "  Borrowed: 1 items | Loan Date: 10 November 2024 | Return Date: 10 December 2024\n",
       "Available\n",
       "Available"
      ]
     },
     "metadata": {},
     "output_type": "display_data"
    },
    {
     "data": {
      "text/plain": [
       "Right [Book [B002]\n",
       "  Title: Pride and Prejudice\n",
       "  Author: Jane Austen (16 December 1775)\n",
       "  Pages: 432\n",
       "  Copies: 2/3 available\n",
       "Borrowed by Professor: Dr. Johnson (12 August 1975)\n",
       "  Borrowed: 1 items | Loan Date: 10 November 2024 | Return Date: 10 December 2024\n",
       "Available\n",
       "Available\n",
       ",Book [B003]\n",
       "  Title: 1984\n",
       "  Author: George Orwell (25 June 1903)\n",
       "  Pages: 328\n",
       "  Copies: 2/3 available\n",
       "Borrowed by Student: Alice Smith (5 May 2001)\n",
       "  Borrowed: 1 items | Loan Date: 1 November 2024 | Return Date: 8 November 2024\n",
       "Available\n",
       "Available\n",
       ",Book [B004]\n",
       "  Title: Harry Potter and the Philosopher's Stone\n",
       "  Author: J.K. Rowling (31 July 1965)\n",
       "  Pages: 223\n",
       "  Copies: 3/3 available\n",
       "Available\n",
       "Available\n",
       "Available\n",
       "]"
      ]
     },
     "metadata": {},
     "output_type": "display_data"
    }
   ],
   "source": [
    "-- Catálogo inicial\n",
    "\n",
    "catalogForRemoval :: Catalog\n",
    "catalogForRemoval = finalCatalog\n",
    "finalCatalog\n",
    "exampleBookWithCopies\n",
    "-- Eliminar una copia de \"Pride and Prejudice\"\n",
    "result1 :: Either String Catalog\n",
    "result1 = removeFromCatalog exampleBookWithCopies catalogForRemoval\n",
    "result1\n",
    "-- Eliminar \"1984\" completamente\n",
    "{-result2 :: Either String Catalog\n",
    "result2 = removeFromCatalog (Book \"B003\" undefined undefined undefined undefined) <$> result1\n",
    "result2\n",
    "-- Intentar eliminar una publicación inexistente\n",
    "result3 :: Either String Catalog\n",
    "result3 = removeFromCatalog (Book \"B999\" undefined undefined undefined undefined) <$> result2\n",
    "-}\n",
    "-- Prueba de impresión de resultados\n",
    "printCatalogResult :: Either String Catalog -> IO ()\n",
    "printCatalogResult (Left err) = putStrLn $ \"Error: \" ++ err\n",
    "printCatalogResult (Right catalog) = putStrLn $ prettyCatalog catalog\n",
    "\n",
    "\n",
    "   --result1\n",
    "  --t (removeFromCatalog exampleBookWithCopies catalogForRemoval) \n",
    "  --printCatalogResult result1\n",
    "  \n",
    "  --printCatalogResult result3\n"
   ]
  },
  {
   "cell_type": "code",
   "execution_count": 27,
   "metadata": {},
   "outputs": [
    {
     "data": {
      "text/plain": [
       "Book [B002]\n",
       "  Title: Pride and Prejudice\n",
       "  Author: Jane Austen (16 December 1775)\n",
       "  Pages: 432\n",
       "  Copies: 2/4 available\n",
       "Borrowed by Student: Alice Smith (5 May 2001)\n",
       "  Borrowed: 1 items | Loan Date: 10 November 2024 | Return Date: 10 December 2024\n",
       "Borrowed by Professor: Dr. Johnson (12 August 1975)\n",
       "  Borrowed: 1 items | Loan Date: 10 November 2024 | Return Date: 10 December 2024\n",
       "Available\n",
       "Available"
      ]
     },
     "metadata": {},
     "output_type": "display_data"
    },
    {
     "data": {
      "text/plain": [
       "[Book [B002]\n",
       "  Title: Pride and Prejudice\n",
       "  Author: Jane Austen (16 December 1775)\n",
       "  Pages: 432\n",
       "  Copies: 2/4 available\n",
       "Borrowed by Student: Alice Smith (5 May 2001)\n",
       "  Borrowed: 1 items | Loan Date: 10 November 2024 | Return Date: 10 December 2024\n",
       "Borrowed by Professor: Dr. Johnson (12 August 1975)\n",
       "  Borrowed: 1 items | Loan Date: 10 November 2024 | Return Date: 10 December 2024\n",
       "Available\n",
       "Available\n",
       "]"
      ]
     },
     "metadata": {},
     "output_type": "display_data"
    },
    {
     "data": {
      "text/plain": [
       "Right [Book [B002]\n",
       "  Title: Pride and Prejudice\n",
       "  Author: Jane Austen (16 December 1775)\n",
       "  Pages: 432\n",
       "  Copies: 2/3 available\n",
       "Borrowed by Professor: Dr. Johnson (12 August 1975)\n",
       "  Borrowed: 1 items | Loan Date: 10 November 2024 | Return Date: 10 December 2024\n",
       "Available\n",
       "Available\n",
       "]"
      ]
     },
     "metadata": {},
     "output_type": "display_data"
    }
   ],
   "source": [
    "exampleBookWithCopies\n",
    "exampleCatalogWithCopies\n",
    "removeFromCatalog exampleBookWithCopies exampleCatalogWithCopies"
   ]
  },
  {
   "cell_type": "markdown",
   "metadata": {},
   "source": [
    "## 5. A borrowedPublications User Catalog function that returns the publications the user has borrowed. They must be sort by closest return date, in case of tie in return date, it will first show books, then journals and finally DVDs. "
   ]
  },
  {
   "cell_type": "code",
   "execution_count": 28,
   "metadata": {},
   "outputs": [
    {
     "data": {
      "text/html": [
       "<style>/* Styles used for the Hoogle display in the pager */\n",
       ".hoogle-doc {\n",
       "display: block;\n",
       "padding-bottom: 1.3em;\n",
       "padding-left: 0.4em;\n",
       "}\n",
       ".hoogle-code {\n",
       "display: block;\n",
       "font-family: monospace;\n",
       "white-space: pre;\n",
       "}\n",
       ".hoogle-text {\n",
       "display: block;\n",
       "}\n",
       ".hoogle-name {\n",
       "color: green;\n",
       "font-weight: bold;\n",
       "}\n",
       ".hoogle-head {\n",
       "font-weight: bold;\n",
       "}\n",
       ".hoogle-sub {\n",
       "display: block;\n",
       "margin-left: 0.4em;\n",
       "}\n",
       ".hoogle-package {\n",
       "font-weight: bold;\n",
       "font-style: italic;\n",
       "}\n",
       ".hoogle-module {\n",
       "font-weight: bold;\n",
       "}\n",
       ".hoogle-class {\n",
       "font-weight: bold;\n",
       "}\n",
       "\n",
       ".get-type {\n",
       "color: green;\n",
       "font-weight: bold;\n",
       "font-family: monospace;\n",
       "display: block;\n",
       "white-space: pre-wrap;\n",
       "}\n",
       ".show-type {\n",
       "color: green;\n",
       "font-weight: bold;\n",
       "font-family: monospace;\n",
       "margin-left: 1em;\n",
       "}\n",
       ".mono {\n",
       "font-family: monospace;\n",
       "display: block;\n",
       "}\n",
       ".err-msg {\n",
       "color: red;\n",
       "font-style: italic;\n",
       "font-family: monospace;\n",
       "white-space: pre;\n",
       "display: block;\n",
       "}\n",
       "#unshowable {\n",
       "color: red;\n",
       "font-weight: bold;\n",
       "}\n",
       ".err-msg.in.collapse {\n",
       "padding-top: 0.7em;\n",
       "}\n",
       "\n",
       ".highlight-code {\n",
       "white-space: pre;\n",
       "font-family: monospace;\n",
       "}\n",
       "\n",
       ".suggestion-warning { \n",
       "font-weight: bold;\n",
       "color: rgb(200, 130, 0);\n",
       "}\n",
       ".suggestion-error { \n",
       "font-weight: bold;\n",
       "color: red;\n",
       "}\n",
       ".suggestion-name {\n",
       "font-weight: bold;\n",
       "}\n",
       "\n",
       "</style><div class=\"suggestion-name\" style=\"clear:both;\">Use foldr</div><div class=\"suggestion-row\" style=\"float: left;\"><div class=\"suggestion-warning\">Found:</div><div class=\"highlight-code\" id=\"haskell\">sortPublications [] = []\n",
       "sortPublications (x : xs)\n",
       "  = insertPublication x (sortPublications xs)</div></div><div class=\"suggestion-row\" style=\"float: left;\"><div class=\"suggestion-warning\">Why Not:</div><div class=\"highlight-code\" id=\"haskell\">sortPublications xs = foldr insertPublication [] xs</div></div><div class=\"suggestion-name\" style=\"clear:both;\">Use record patterns</div><div class=\"suggestion-row\" style=\"float: left;\"><div class=\"suggestion-warning\">Found:</div><div class=\"highlight-code\" id=\"haskell\">Book _ _ _ _ _</div></div><div class=\"suggestion-row\" style=\"float: left;\"><div class=\"suggestion-warning\">Why Not:</div><div class=\"highlight-code\" id=\"haskell\">Book {}</div></div><div class=\"suggestion-name\" style=\"clear:both;\">Use record patterns</div><div class=\"suggestion-row\" style=\"float: left;\"><div class=\"suggestion-warning\">Found:</div><div class=\"highlight-code\" id=\"haskell\">Book _ _ _ _ _</div></div><div class=\"suggestion-row\" style=\"float: left;\"><div class=\"suggestion-warning\">Why Not:</div><div class=\"highlight-code\" id=\"haskell\">Book {}</div></div><div class=\"suggestion-name\" style=\"clear:both;\">Use record patterns</div><div class=\"suggestion-row\" style=\"float: left;\"><div class=\"suggestion-warning\">Found:</div><div class=\"highlight-code\" id=\"haskell\">Book _ _ _ _ _</div></div><div class=\"suggestion-row\" style=\"float: left;\"><div class=\"suggestion-warning\">Why Not:</div><div class=\"highlight-code\" id=\"haskell\">Book {}</div></div><div class=\"suggestion-name\" style=\"clear:both;\">Use record patterns</div><div class=\"suggestion-row\" style=\"float: left;\"><div class=\"suggestion-warning\">Found:</div><div class=\"highlight-code\" id=\"haskell\">Book _ _ _ _ _</div></div><div class=\"suggestion-row\" style=\"float: left;\"><div class=\"suggestion-warning\">Why Not:</div><div class=\"highlight-code\" id=\"haskell\">Book {}</div></div><div class=\"suggestion-name\" style=\"clear:both;\">Use record patterns</div><div class=\"suggestion-row\" style=\"float: left;\"><div class=\"suggestion-warning\">Found:</div><div class=\"highlight-code\" id=\"haskell\">Journal _ _ _ _ _ _</div></div><div class=\"suggestion-row\" style=\"float: left;\"><div class=\"suggestion-warning\">Why Not:</div><div class=\"highlight-code\" id=\"haskell\">Journal {}</div></div><div class=\"suggestion-name\" style=\"clear:both;\">Use record patterns</div><div class=\"suggestion-row\" style=\"float: left;\"><div class=\"suggestion-warning\">Found:</div><div class=\"highlight-code\" id=\"haskell\">Journal _ _ _ _ _ _</div></div><div class=\"suggestion-row\" style=\"float: left;\"><div class=\"suggestion-warning\">Why Not:</div><div class=\"highlight-code\" id=\"haskell\">Journal {}</div></div><div class=\"suggestion-name\" style=\"clear:both;\">Use record patterns</div><div class=\"suggestion-row\" style=\"float: left;\"><div class=\"suggestion-warning\">Found:</div><div class=\"highlight-code\" id=\"haskell\">Journal _ _ _ _ _ _</div></div><div class=\"suggestion-row\" style=\"float: left;\"><div class=\"suggestion-warning\">Why Not:</div><div class=\"highlight-code\" id=\"haskell\">Journal {}</div></div><div class=\"suggestion-name\" style=\"clear:both;\">Use record patterns</div><div class=\"suggestion-row\" style=\"float: left;\"><div class=\"suggestion-warning\">Found:</div><div class=\"highlight-code\" id=\"haskell\">Journal _ _ _ _ _ _</div></div><div class=\"suggestion-row\" style=\"float: left;\"><div class=\"suggestion-warning\">Why Not:</div><div class=\"highlight-code\" id=\"haskell\">Journal {}</div></div><div class=\"suggestion-name\" style=\"clear:both;\">Use record patterns</div><div class=\"suggestion-row\" style=\"float: left;\"><div class=\"suggestion-warning\">Found:</div><div class=\"highlight-code\" id=\"haskell\">DVD _ _ _ _ _ _ _</div></div><div class=\"suggestion-row\" style=\"float: left;\"><div class=\"suggestion-warning\">Why Not:</div><div class=\"highlight-code\" id=\"haskell\">DVD {}</div></div><div class=\"suggestion-name\" style=\"clear:both;\">Use record patterns</div><div class=\"suggestion-row\" style=\"float: left;\"><div class=\"suggestion-warning\">Found:</div><div class=\"highlight-code\" id=\"haskell\">DVD _ _ _ _ _ _ _</div></div><div class=\"suggestion-row\" style=\"float: left;\"><div class=\"suggestion-warning\">Why Not:</div><div class=\"highlight-code\" id=\"haskell\">DVD {}</div></div><div class=\"suggestion-name\" style=\"clear:both;\">Use record patterns</div><div class=\"suggestion-row\" style=\"float: left;\"><div class=\"suggestion-warning\">Found:</div><div class=\"highlight-code\" id=\"haskell\">DVD _ _ _ _ _ _ _</div></div><div class=\"suggestion-row\" style=\"float: left;\"><div class=\"suggestion-warning\">Why Not:</div><div class=\"highlight-code\" id=\"haskell\">DVD {}</div></div><div class=\"suggestion-name\" style=\"clear:both;\">Use record patterns</div><div class=\"suggestion-row\" style=\"float: left;\"><div class=\"suggestion-warning\">Found:</div><div class=\"highlight-code\" id=\"haskell\">DVD _ _ _ _ _ _ _</div></div><div class=\"suggestion-row\" style=\"float: left;\"><div class=\"suggestion-warning\">Why Not:</div><div class=\"highlight-code\" id=\"haskell\">DVD {}</div></div>"
      ],
      "text/plain": [
       "Line 17: Use foldr\n",
       "Found:\n",
       "sortPublications [] = []\n",
       "sortPublications (x : xs)\n",
       "  = insertPublication x (sortPublications xs)\n",
       "Why not:\n",
       "sortPublications xs = foldr insertPublication [] xsLine 43: Use record patterns\n",
       "Found:\n",
       "Book _ _ _ _ _\n",
       "Why not:\n",
       "Book {}Line 43: Use record patterns\n",
       "Found:\n",
       "Book _ _ _ _ _\n",
       "Why not:\n",
       "Book {}Line 44: Use record patterns\n",
       "Found:\n",
       "Book _ _ _ _ _\n",
       "Why not:\n",
       "Book {}Line 45: Use record patterns\n",
       "Found:\n",
       "Book _ _ _ _ _\n",
       "Why not:\n",
       "Book {}Line 46: Use record patterns\n",
       "Found:\n",
       "Journal _ _ _ _ _ _\n",
       "Why not:\n",
       "Journal {}Line 46: Use record patterns\n",
       "Found:\n",
       "Journal _ _ _ _ _ _\n",
       "Why not:\n",
       "Journal {}Line 47: Use record patterns\n",
       "Found:\n",
       "Journal _ _ _ _ _ _\n",
       "Why not:\n",
       "Journal {}Line 48: Use record patterns\n",
       "Found:\n",
       "Journal _ _ _ _ _ _\n",
       "Why not:\n",
       "Journal {}Line 49: Use record patterns\n",
       "Found:\n",
       "DVD _ _ _ _ _ _ _\n",
       "Why not:\n",
       "DVD {}Line 49: Use record patterns\n",
       "Found:\n",
       "DVD _ _ _ _ _ _ _\n",
       "Why not:\n",
       "DVD {}Line 50: Use record patterns\n",
       "Found:\n",
       "DVD _ _ _ _ _ _ _\n",
       "Why not:\n",
       "DVD {}Line 51: Use record patterns\n",
       "Found:\n",
       "DVD _ _ _ _ _ _ _\n",
       "Why not:\n",
       "DVD {}"
      ]
     },
     "metadata": {},
     "output_type": "display_data"
    }
   ],
   "source": [
    "-- Función principal para obtener las publicaciones prestadas por un usuario\n",
    "borrowedPublications :: User -> Catalog -> [Publication]\n",
    "borrowedPublications user catalog = \n",
    "  let borrowedCopies = [ publication | publication <- catalog, \n",
    "                                     any (isBorrowedByUser user) (copies publication) ]\n",
    "  in sortPublications borrowedCopies\n",
    "\n",
    "-- Función auxiliar para verificar si una copia está prestada al usuario\n",
    "isBorrowedByUser :: User -> Copy -> Bool\n",
    "isBorrowedByUser user copy = \n",
    "  case borrower copy of\n",
    "    Just u  -> u == user  -- Si el prestatario es el usuario, es una copia tomada por él.\n",
    "    Nothing -> False      -- Si no está prestada, no la consideramos.\n",
    "\n",
    "-- Función para ordenar las publicaciones\n",
    "sortPublications :: [Publication] -> [Publication]\n",
    "sortPublications [] = []\n",
    "sortPublications (x:xs) = insertPublication x (sortPublications xs)\n",
    "\n",
    "-- Función para insertar una publicación en el lugar adecuado\n",
    "insertPublication :: Publication -> [Publication] -> [Publication]\n",
    "insertPublication pub [] = [pub]\n",
    "insertPublication pub (x:xs)\n",
    "  | comparator pub x == LT = pub : x : xs  -- Si pub debe ir antes de x\n",
    "  | otherwise = x : insertPublication pub xs  -- Sino, seguimos buscando\n",
    "\n",
    "-- Comparador para ordenar publicaciones\n",
    "comparator :: Publication -> Publication -> Ordering\n",
    "comparator pub1 pub2 = \n",
    "  case compareReturnDate pub1 pub2 of\n",
    "    EQ -> compareType pub1 pub2\n",
    "    result -> result\n",
    "\n",
    "-- Función para comparar las fechas de retorno\n",
    "compareReturnDate :: Publication -> Publication -> Ordering\n",
    "compareReturnDate pub1 pub2 =\n",
    "  let returnDate1 = minimum (map returnDate (copies pub1))\n",
    "      returnDate2 = minimum (map returnDate (copies pub2))\n",
    "  in compare returnDate1 returnDate2\n",
    "\n",
    "-- Función para comparar el tipo de publicación (libro primero, luego revista, luego DVD)\n",
    "compareType :: Publication -> Publication -> Ordering\n",
    "compareType (Book _ _ _ _ _) (Book _ _ _ _ _) = EQ\n",
    "compareType (Book _ _ _ _ _) _ = LT\n",
    "compareType _ (Book _ _ _ _ _) = GT\n",
    "compareType (Journal _ _ _ _ _ _) (Journal _ _ _ _ _ _) = EQ\n",
    "compareType (Journal _ _ _ _ _ _) _ = LT\n",
    "compareType _ (Journal _ _ _ _ _ _) = GT\n",
    "compareType (DVD _ _ _ _ _ _ _) (DVD _ _ _ _ _ _ _) = EQ\n",
    "compareType (DVD _ _ _ _ _ _ _) _ = LT\n",
    "compareType _ (DVD _ _ _ _ _ _ _) = GT"
   ]
  },
  {
   "cell_type": "code",
   "execution_count": 30,
   "metadata": {},
   "outputs": [],
   "source": [
    "author1 :: Person\n",
    "author1 = Person \"Jane\" \"Austen\" (Date 16 \"December\" 1775)\n",
    "\n",
    "author2 :: Person\n",
    "author2 = Person \"Charles\" \"Dickens\" (Date 7 \"February\" 1812)\n",
    "\n",
    "actor1 :: Person\n",
    "actor1 = Person \"Actor\" \"One\" (Date 1 \"January\" 1990)\n",
    "\n",
    "director1 :: Person\n",
    "director1 = Person \"Director\" \"One\" (Date 1 \"January\" 1980)\n",
    "\n",
    "testUser = Student \n",
    "  (Person \"John\" \"Doe\" (Date 1 \"January\" 2000)) \n",
    "  [borrowedCopy1, borrowedCopy2, borrowedCopy3]\n",
    "\n",
    "\n",
    "borrowedCopy1 = Copy True (Just testUser) (Just (Date 20 \"November\" 2024)) (Just (Date 30 \"November\" 2024))\n",
    "borrowedCopy2 = Copy True (Just testUser) (Just (Date 15 \"November\" 2024)) (Just (Date 30 \"November\" 2024))\n",
    "borrowedCopy3 = Copy True (Just testUser) (Just (Date 18 \"November\" 2024)) (Just (Date 28 \"November\" 2024))\n",
    "borrowedCopy4 = Copy True (Just testUser) (Just (Date 24 \"November\" 2024)) (Just (Date 28 \"November\" 2024))\n",
    "\n",
    "book1, book2, journal1 :: Publication\n",
    "book1 = Book \"B001\" (Person \"Author1\" \"Surname1\" (Date 1 \"January\" 1970)) \n",
    "                   \"Functional Programming in Haskell\" 300 [borrowedCopy1]\n",
    "book2 = Book \"B002\" (Person \"Author2\" \"Surname2\" (Date 1 \"February\" 1980)) \n",
    "                   \"Learn You a Haskell\" 250 [borrowedCopy2]\n",
    "journal1 = Journal \"J001\" [Person \"Author3\" \"Surname3\" (Date 1 \"March\" 1990)] \n",
    "                         \"Advanced Haskell Research\" (Date 1 \"March\" 2024) \n",
    "                         50 [borrowedCopy3]\n",
    "--dvd1 = DVD \"D001\" testUser [testUser] \"Literature on Screen\" (Date 1 \"April\" 2024) 120 []\n",
    "dvd1 :: Publication\n",
    "dvd1 = DVD \"D001\" director1 [actor1, author2] \"Literature on Screen\" (Date 1 \"April\" 2024) 120 [borrowedCopy4]\n",
    "\n",
    "testCatalog :: Catalog\n",
    "testCatalog = [book1, book2, journal1, dvd1]"
   ]
  },
  {
   "cell_type": "code",
   "execution_count": 31,
   "metadata": {},
   "outputs": [
    {
     "data": {
      "text/html": [
       "<style>/* Styles used for the Hoogle display in the pager */\n",
       ".hoogle-doc {\n",
       "display: block;\n",
       "padding-bottom: 1.3em;\n",
       "padding-left: 0.4em;\n",
       "}\n",
       ".hoogle-code {\n",
       "display: block;\n",
       "font-family: monospace;\n",
       "white-space: pre;\n",
       "}\n",
       ".hoogle-text {\n",
       "display: block;\n",
       "}\n",
       ".hoogle-name {\n",
       "color: green;\n",
       "font-weight: bold;\n",
       "}\n",
       ".hoogle-head {\n",
       "font-weight: bold;\n",
       "}\n",
       ".hoogle-sub {\n",
       "display: block;\n",
       "margin-left: 0.4em;\n",
       "}\n",
       ".hoogle-package {\n",
       "font-weight: bold;\n",
       "font-style: italic;\n",
       "}\n",
       ".hoogle-module {\n",
       "font-weight: bold;\n",
       "}\n",
       ".hoogle-class {\n",
       "font-weight: bold;\n",
       "}\n",
       "\n",
       ".get-type {\n",
       "color: green;\n",
       "font-weight: bold;\n",
       "font-family: monospace;\n",
       "display: block;\n",
       "white-space: pre-wrap;\n",
       "}\n",
       ".show-type {\n",
       "color: green;\n",
       "font-weight: bold;\n",
       "font-family: monospace;\n",
       "margin-left: 1em;\n",
       "}\n",
       ".mono {\n",
       "font-family: monospace;\n",
       "display: block;\n",
       "}\n",
       ".err-msg {\n",
       "color: red;\n",
       "font-style: italic;\n",
       "font-family: monospace;\n",
       "white-space: pre;\n",
       "display: block;\n",
       "}\n",
       "#unshowable {\n",
       "color: red;\n",
       "font-weight: bold;\n",
       "}\n",
       ".err-msg.in.collapse {\n",
       "padding-top: 0.7em;\n",
       "}\n",
       "\n",
       ".highlight-code {\n",
       "white-space: pre;\n",
       "font-family: monospace;\n",
       "}\n",
       "\n",
       ".suggestion-warning { \n",
       "font-weight: bold;\n",
       "color: rgb(200, 130, 0);\n",
       "}\n",
       ".suggestion-error { \n",
       "font-weight: bold;\n",
       "color: red;\n",
       "}\n",
       ".suggestion-name {\n",
       "font-weight: bold;\n",
       "}\n",
       "\n",
       "</style><div class=\"suggestion-name\" style=\"clear:both;\">Redundant bracket</div><div class=\"suggestion-row\" style=\"float: left;\"><div class=\"suggestion-warning\">Found:</div><div class=\"highlight-code\" id=\"haskell\">(\"-----------------------------------\")</div></div><div class=\"suggestion-row\" style=\"float: left;\"><div class=\"suggestion-warning\">Why Not:</div><div class=\"highlight-code\" id=\"haskell\">\"-----------------------------------\"</div></div><div class=\"suggestion-name\" style=\"clear:both;\">Redundant bracket</div><div class=\"suggestion-row\" style=\"float: left;\"><div class=\"suggestion-warning\">Found:</div><div class=\"highlight-code\" id=\"haskell\">(\"-----------------------------------\")</div></div><div class=\"suggestion-row\" style=\"float: left;\"><div class=\"suggestion-warning\">Why Not:</div><div class=\"highlight-code\" id=\"haskell\">\"-----------------------------------\"</div></div>"
      ],
      "text/plain": [
       "Line 2: Redundant bracket\n",
       "Found:\n",
       "(\"-----------------------------------\")\n",
       "Why not:\n",
       "\"-----------------------------------\"Line 4: Redundant bracket\n",
       "Found:\n",
       "(\"-----------------------------------\")\n",
       "Why not:\n",
       "\"-----------------------------------\""
      ]
     },
     "metadata": {},
     "output_type": "display_data"
    },
    {
     "data": {
      "text/plain": [
       "Student: John Doe (1 January 2000)\n",
       "  Borrowed: 3 items"
      ]
     },
     "metadata": {},
     "output_type": "display_data"
    },
    {
     "data": {
      "text/plain": [
       "\"-----------------------------------\""
      ]
     },
     "metadata": {},
     "output_type": "display_data"
    },
    {
     "data": {
      "text/plain": [
       "[Book [B001]\n",
       "  Title: Functional Programming in Haskell\n",
       "  Author: Author1 Surname1 (1 January 1970)\n",
       "  Pages: 300\n",
       "  Copies: 0/1 available\n",
       "Borrowed by Student: John Doe (1 January 2000)\n",
       "  Borrowed: 3 items | Loan Date: 20 November 2024 | Return Date: 30 November 2024\n",
       ",Book [B002]\n",
       "  Title: Learn You a Haskell\n",
       "  Author: Author2 Surname2 (1 February 1980)\n",
       "  Pages: 250\n",
       "  Copies: 0/1 available\n",
       "Borrowed by Student: John Doe (1 January 2000)\n",
       "  Borrowed: 3 items | Loan Date: 15 November 2024 | Return Date: 30 November 2024\n",
       ",Journal [J001]\n",
       "  Title: Advanced Haskell Research\n",
       "  Authors: Author3 Surname3 (1 March 1990)\n",
       "  Release Date: 1 March 2024\n",
       "  Pages: 50\n",
       "  Copies: 0/1 available\n",
       "Borrowed by Student: John Doe (1 January 2000)\n",
       "  Borrowed: 3 items | Loan Date: 18 November 2024 | Return Date: 28 November 2024\n",
       ",DVD [D001]\n",
       "  Title: Literature on Screen\n",
       "  Director: Director One (1 January 1980)\n",
       "  Actors: Actor One (1 January 1990) Charles Dickens (7 February 1812)\n",
       "  Release Date: 1 April 2024\n",
       "  Duration: 120 minutes\n",
       "  Copies: 0/1 available\n",
       "Borrowed by Student: John Doe (1 January 2000)\n",
       "  Borrowed: 3 items | Loan Date: 24 November 2024 | Return Date: 28 November 2024\n",
       "]"
      ]
     },
     "metadata": {},
     "output_type": "display_data"
    },
    {
     "data": {
      "text/plain": [
       "\"-----------------------------------\""
      ]
     },
     "metadata": {},
     "output_type": "display_data"
    },
    {
     "data": {
      "text/plain": [
       "[Journal [J001]\n",
       "  Title: Advanced Haskell Research\n",
       "  Authors: Author3 Surname3 (1 March 1990)\n",
       "  Release Date: 1 March 2024\n",
       "  Pages: 50\n",
       "  Copies: 0/1 available\n",
       "Borrowed by Student: John Doe (1 January 2000)\n",
       "  Borrowed: 3 items | Loan Date: 18 November 2024 | Return Date: 28 November 2024\n",
       ",DVD [D001]\n",
       "  Title: Literature on Screen\n",
       "  Director: Director One (1 January 1980)\n",
       "  Actors: Actor One (1 January 1990) Charles Dickens (7 February 1812)\n",
       "  Release Date: 1 April 2024\n",
       "  Duration: 120 minutes\n",
       "  Copies: 0/1 available\n",
       "Borrowed by Student: John Doe (1 January 2000)\n",
       "  Borrowed: 3 items | Loan Date: 24 November 2024 | Return Date: 28 November 2024\n",
       ",Book [B002]\n",
       "  Title: Learn You a Haskell\n",
       "  Author: Author2 Surname2 (1 February 1980)\n",
       "  Pages: 250\n",
       "  Copies: 0/1 available\n",
       "Borrowed by Student: John Doe (1 January 2000)\n",
       "  Borrowed: 3 items | Loan Date: 15 November 2024 | Return Date: 30 November 2024\n",
       ",Book [B001]\n",
       "  Title: Functional Programming in Haskell\n",
       "  Author: Author1 Surname1 (1 January 1970)\n",
       "  Pages: 300\n",
       "  Copies: 0/1 available\n",
       "Borrowed by Student: John Doe (1 January 2000)\n",
       "  Borrowed: 3 items | Loan Date: 20 November 2024 | Return Date: 30 November 2024\n",
       "]"
      ]
     },
     "metadata": {},
     "output_type": "display_data"
    }
   ],
   "source": [
    "testUser\n",
    "print(\"-----------------------------------\")\n",
    "testCatalog\n",
    "print(\"-----------------------------------\")\n",
    "borrowedPublications testUser testCatalog"
   ]
  },
  {
   "cell_type": "code",
   "execution_count": null,
   "metadata": {},
   "outputs": [],
   "source": [
    "\n"
   ]
  },
  {
   "cell_type": "markdown",
   "metadata": {},
   "source": [
    "## 6. A publicationsByAuthor Author Catalog that returns a list with all the publications for that author in the Catalog or the empty list if that person has not authored any publication. Create also equivalent booksByAuthor, journalsByAuthor and DVDsByAuthor that restrict the search to books, journals and DVDs respectively. Notice in DVD both directors and actors must be considered. "
   ]
  },
  {
   "cell_type": "code",
   "execution_count": 32,
   "metadata": {},
   "outputs": [
    {
     "data": {
      "text/html": [
       "<style>/* Styles used for the Hoogle display in the pager */\n",
       ".hoogle-doc {\n",
       "display: block;\n",
       "padding-bottom: 1.3em;\n",
       "padding-left: 0.4em;\n",
       "}\n",
       ".hoogle-code {\n",
       "display: block;\n",
       "font-family: monospace;\n",
       "white-space: pre;\n",
       "}\n",
       ".hoogle-text {\n",
       "display: block;\n",
       "}\n",
       ".hoogle-name {\n",
       "color: green;\n",
       "font-weight: bold;\n",
       "}\n",
       ".hoogle-head {\n",
       "font-weight: bold;\n",
       "}\n",
       ".hoogle-sub {\n",
       "display: block;\n",
       "margin-left: 0.4em;\n",
       "}\n",
       ".hoogle-package {\n",
       "font-weight: bold;\n",
       "font-style: italic;\n",
       "}\n",
       ".hoogle-module {\n",
       "font-weight: bold;\n",
       "}\n",
       ".hoogle-class {\n",
       "font-weight: bold;\n",
       "}\n",
       "\n",
       ".get-type {\n",
       "color: green;\n",
       "font-weight: bold;\n",
       "font-family: monospace;\n",
       "display: block;\n",
       "white-space: pre-wrap;\n",
       "}\n",
       ".show-type {\n",
       "color: green;\n",
       "font-weight: bold;\n",
       "font-family: monospace;\n",
       "margin-left: 1em;\n",
       "}\n",
       ".mono {\n",
       "font-family: monospace;\n",
       "display: block;\n",
       "}\n",
       ".err-msg {\n",
       "color: red;\n",
       "font-style: italic;\n",
       "font-family: monospace;\n",
       "white-space: pre;\n",
       "display: block;\n",
       "}\n",
       "#unshowable {\n",
       "color: red;\n",
       "font-weight: bold;\n",
       "}\n",
       ".err-msg.in.collapse {\n",
       "padding-top: 0.7em;\n",
       "}\n",
       "\n",
       ".highlight-code {\n",
       "white-space: pre;\n",
       "font-family: monospace;\n",
       "}\n",
       "\n",
       ".suggestion-warning { \n",
       "font-weight: bold;\n",
       "color: rgb(200, 130, 0);\n",
       "}\n",
       ".suggestion-error { \n",
       "font-weight: bold;\n",
       "color: red;\n",
       "}\n",
       ".suggestion-name {\n",
       "font-weight: bold;\n",
       "}\n",
       "\n",
       "</style><div class=\"suggestion-name\" style=\"clear:both;\">Eta reduce</div><div class=\"suggestion-row\" style=\"float: left;\"><div class=\"suggestion-warning\">Found:</div><div class=\"highlight-code\" id=\"haskell\">publicationsByAuthor author catalog = filter authoredBy catalog</div></div><div class=\"suggestion-row\" style=\"float: left;\"><div class=\"suggestion-warning\">Why Not:</div><div class=\"highlight-code\" id=\"haskell\">publicationsByAuthor author = filter authoredBy</div></div><div class=\"suggestion-name\" style=\"clear:both;\">Eta reduce</div><div class=\"suggestion-row\" style=\"float: left;\"><div class=\"suggestion-warning\">Found:</div><div class=\"highlight-code\" id=\"haskell\">booksByAuthor author catalog = filter authoredByBook catalog</div></div><div class=\"suggestion-row\" style=\"float: left;\"><div class=\"suggestion-warning\">Why Not:</div><div class=\"highlight-code\" id=\"haskell\">booksByAuthor author = filter authoredByBook</div></div><div class=\"suggestion-name\" style=\"clear:both;\">Eta reduce</div><div class=\"suggestion-row\" style=\"float: left;\"><div class=\"suggestion-warning\">Found:</div><div class=\"highlight-code\" id=\"haskell\">journalsByAuthor author catalog = filter authoredByJournal catalog</div></div><div class=\"suggestion-row\" style=\"float: left;\"><div class=\"suggestion-warning\">Why Not:</div><div class=\"highlight-code\" id=\"haskell\">journalsByAuthor author = filter authoredByJournal</div></div><div class=\"suggestion-name\" style=\"clear:both;\">Eta reduce</div><div class=\"suggestion-row\" style=\"float: left;\"><div class=\"suggestion-warning\">Found:</div><div class=\"highlight-code\" id=\"haskell\">dvdsByAuthor author catalog = filter authoredByDVD catalog</div></div><div class=\"suggestion-row\" style=\"float: left;\"><div class=\"suggestion-warning\">Why Not:</div><div class=\"highlight-code\" id=\"haskell\">dvdsByAuthor author = filter authoredByDVD</div></div>"
      ],
      "text/plain": [
       "Line 3: Eta reduce\n",
       "Found:\n",
       "publicationsByAuthor author catalog = filter authoredBy catalog\n",
       "Why not:\n",
       "publicationsByAuthor author = filter authoredByLine 13: Eta reduce\n",
       "Found:\n",
       "booksByAuthor author catalog = filter authoredByBook catalog\n",
       "Why not:\n",
       "booksByAuthor author = filter authoredByBookLine 22: Eta reduce\n",
       "Found:\n",
       "journalsByAuthor author catalog = filter authoredByJournal catalog\n",
       "Why not:\n",
       "journalsByAuthor author = filter authoredByJournalLine 31: Eta reduce\n",
       "Found:\n",
       "dvdsByAuthor author catalog = filter authoredByDVD catalog\n",
       "Why not:\n",
       "dvdsByAuthor author = filter authoredByDVD"
      ]
     },
     "metadata": {},
     "output_type": "display_data"
    }
   ],
   "source": [
    "-- General function to find all publications by a given author\n",
    "publicationsByAuthor :: Person -> Catalog -> [Publication]\n",
    "publicationsByAuthor author catalog =\n",
    "  filter authoredBy catalog\n",
    "  where\n",
    "    -- Checks if a publication is authored by the given person\n",
    "    authoredBy :: Publication -> Bool\n",
    "    authoredBy (Book _ bookAuthor _ _ _) = bookAuthor == author\n",
    "    authoredBy (Journal _ journalAuthors _ _ _ _) = author `elem` journalAuthors\n",
    "    authoredBy (DVD _ director actors _ _ _ _) = director == author || author `elem` actors\n",
    "    \n",
    "booksByAuthor :: Person -> Catalog -> [Publication]\n",
    "booksByAuthor author catalog =\n",
    "  filter authoredByBook catalog\n",
    "  where\n",
    "    -- Checks if a book is authored by the given person\n",
    "    authoredByBook :: Publication -> Bool\n",
    "    authoredByBook (Book _ bookAuthor _ _ _) = bookAuthor == author\n",
    "    authoredByBook _ = False\n",
    "\n",
    "journalsByAuthor :: Person -> Catalog -> [Publication]\n",
    "journalsByAuthor author catalog =\n",
    "  filter authoredByJournal catalog\n",
    "  where\n",
    "    -- Checks if a journal is authored by the given person\n",
    "    authoredByJournal :: Publication -> Bool\n",
    "    authoredByJournal (Journal _ journalAuthors _ _ _ _) = author `elem` journalAuthors\n",
    "    authoredByJournal _ = False\n",
    "\n",
    "dvdsByAuthor :: Person -> Catalog -> [Publication]\n",
    "dvdsByAuthor author catalog =\n",
    "  filter authoredByDVD catalog\n",
    "  where\n",
    "    -- Checks if a DVD is directed or acted by the given person\n",
    "    authoredByDVD :: Publication -> Bool\n",
    "    authoredByDVD (DVD _ director actors _ _ _ _) = director == author || author `elem` actors\n",
    "    authoredByDVD _ = False\n"
   ]
  },
  {
   "cell_type": "code",
   "execution_count": 33,
   "metadata": {},
   "outputs": [],
   "source": [
    "author1 :: Person\n",
    "author1 = Person \"Jane\" \"Austen\" (Date 16 \"December\" 1775)\n",
    "\n",
    "author2 :: Person\n",
    "author2 = Person \"Charles\" \"Dickens\" (Date 7 \"February\" 1812)\n",
    "\n",
    "actor1 :: Person\n",
    "actor1 = Person \"Actor\" \"One\" (Date 1 \"January\" 1990)\n",
    "\n",
    "director1 :: Person\n",
    "director1 = Person \"Director\" \"One\" (Date 1 \"January\" 1980)\n",
    "\n",
    "book1 :: Publication\n",
    "book1 = Book \"B001\" author1 \"Pride and Prejudice\" 432 []\n",
    "\n",
    "book2 :: Publication\n",
    "book2 = Book \"B002\" author2 \"Oliver Twist\" 300 []\n",
    "\n",
    "journal1 :: Publication\n",
    "journal1 = Journal \"J001\" [author1, author2] \"Victorian Literature\" (Date 1 \"January\" 2024) 100 []\n",
    "\n",
    "dvd1 :: Publication\n",
    "dvd1 = DVD \"D001\" director1 [actor1, author2] \"Literature on Screen\" (Date 1 \"April\" 2024) 120 []\n",
    "\n",
    "testCatalog :: Catalog\n",
    "testCatalog = [book1, book2, journal1, dvd1]\n"
   ]
  },
  {
   "cell_type": "code",
   "execution_count": 34,
   "metadata": {},
   "outputs": [
    {
     "data": {
      "text/plain": [
       "[Book [B001]\n",
       "  Title: Pride and Prejudice\n",
       "  Author: Jane Austen (16 December 1775)\n",
       "  Pages: 432\n",
       "  Copies: 0/0 available\n",
       ",Journal [J001]\n",
       "  Title: Victorian Literature\n",
       "  Authors: Jane Austen (16 December 1775) Charles Dickens (7 February 1812)\n",
       "  Release Date: 1 January 2024\n",
       "  Pages: 100\n",
       "  Copies: 0/0 available\n",
       "]"
      ]
     },
     "metadata": {},
     "output_type": "display_data"
    },
    {
     "data": {
      "text/plain": [
       "\"------------------------------------\""
      ]
     },
     "metadata": {},
     "output_type": "display_data"
    },
    {
     "data": {
      "text/plain": [
       "[Book [B001]\n",
       "  Title: Pride and Prejudice\n",
       "  Author: Jane Austen (16 December 1775)\n",
       "  Pages: 432\n",
       "  Copies: 0/0 available\n",
       "]"
      ]
     },
     "metadata": {},
     "output_type": "display_data"
    },
    {
     "data": {
      "text/plain": [
       "\"------------------------------------\""
      ]
     },
     "metadata": {},
     "output_type": "display_data"
    },
    {
     "data": {
      "text/plain": [
       "[Journal [J001]\n",
       "  Title: Victorian Literature\n",
       "  Authors: Jane Austen (16 December 1775) Charles Dickens (7 February 1812)\n",
       "  Release Date: 1 January 2024\n",
       "  Pages: 100\n",
       "  Copies: 0/0 available\n",
       "]"
      ]
     },
     "metadata": {},
     "output_type": "display_data"
    },
    {
     "data": {
      "text/plain": [
       "\"------------------------------------\""
      ]
     },
     "metadata": {},
     "output_type": "display_data"
    },
    {
     "data": {
      "text/plain": [
       "[DVD [D001]\n",
       "  Title: Literature on Screen\n",
       "  Director: Director One (1 January 1980)\n",
       "  Actors: Actor One (1 January 1990) Charles Dickens (7 February 1812)\n",
       "  Release Date: 1 April 2024\n",
       "  Duration: 120 minutes\n",
       "  Copies: 0/0 available\n",
       "]"
      ]
     },
     "metadata": {},
     "output_type": "display_data"
    }
   ],
   "source": [
    "publicationsByAuthor author1 testCatalog\n",
    "\"------------------------------------\"\n",
    "booksByAuthor author1 testCatalog\n",
    "\"------------------------------------\"\n",
    "journalsByAuthor author1 testCatalog\n",
    "\"------------------------------------\"\n",
    "dvdsByAuthor author2 testCatalog\n"
   ]
  },
  {
   "cell_type": "markdown",
   "metadata": {},
   "source": [
    "## 7. Functions publicationsByTitle String Catalog and publicationsByDate Date Catalog that return all the publications with that title or release date. "
   ]
  },
  {
   "cell_type": "code",
   "execution_count": 35,
   "metadata": {},
   "outputs": [
    {
     "data": {
      "text/html": [
       "<style>/* Styles used for the Hoogle display in the pager */\n",
       ".hoogle-doc {\n",
       "display: block;\n",
       "padding-bottom: 1.3em;\n",
       "padding-left: 0.4em;\n",
       "}\n",
       ".hoogle-code {\n",
       "display: block;\n",
       "font-family: monospace;\n",
       "white-space: pre;\n",
       "}\n",
       ".hoogle-text {\n",
       "display: block;\n",
       "}\n",
       ".hoogle-name {\n",
       "color: green;\n",
       "font-weight: bold;\n",
       "}\n",
       ".hoogle-head {\n",
       "font-weight: bold;\n",
       "}\n",
       ".hoogle-sub {\n",
       "display: block;\n",
       "margin-left: 0.4em;\n",
       "}\n",
       ".hoogle-package {\n",
       "font-weight: bold;\n",
       "font-style: italic;\n",
       "}\n",
       ".hoogle-module {\n",
       "font-weight: bold;\n",
       "}\n",
       ".hoogle-class {\n",
       "font-weight: bold;\n",
       "}\n",
       "\n",
       ".get-type {\n",
       "color: green;\n",
       "font-weight: bold;\n",
       "font-family: monospace;\n",
       "display: block;\n",
       "white-space: pre-wrap;\n",
       "}\n",
       ".show-type {\n",
       "color: green;\n",
       "font-weight: bold;\n",
       "font-family: monospace;\n",
       "margin-left: 1em;\n",
       "}\n",
       ".mono {\n",
       "font-family: monospace;\n",
       "display: block;\n",
       "}\n",
       ".err-msg {\n",
       "color: red;\n",
       "font-style: italic;\n",
       "font-family: monospace;\n",
       "white-space: pre;\n",
       "display: block;\n",
       "}\n",
       "#unshowable {\n",
       "color: red;\n",
       "font-weight: bold;\n",
       "}\n",
       ".err-msg.in.collapse {\n",
       "padding-top: 0.7em;\n",
       "}\n",
       "\n",
       ".highlight-code {\n",
       "white-space: pre;\n",
       "font-family: monospace;\n",
       "}\n",
       "\n",
       ".suggestion-warning { \n",
       "font-weight: bold;\n",
       "color: rgb(200, 130, 0);\n",
       "}\n",
       ".suggestion-error { \n",
       "font-weight: bold;\n",
       "color: red;\n",
       "}\n",
       ".suggestion-name {\n",
       "font-weight: bold;\n",
       "}\n",
       "\n",
       "</style><div class=\"suggestion-name\" style=\"clear:both;\">Eta reduce</div><div class=\"suggestion-row\" style=\"float: left;\"><div class=\"suggestion-warning\">Found:</div><div class=\"highlight-code\" id=\"haskell\">publicationsByTitle title catalog = filter hasTitle catalog</div></div><div class=\"suggestion-row\" style=\"float: left;\"><div class=\"suggestion-warning\">Why Not:</div><div class=\"highlight-code\" id=\"haskell\">publicationsByTitle title = filter hasTitle</div></div><div class=\"suggestion-name\" style=\"clear:both;\">Eta reduce</div><div class=\"suggestion-row\" style=\"float: left;\"><div class=\"suggestion-warning\">Found:</div><div class=\"highlight-code\" id=\"haskell\">publicationsByDate date catalog = filter hasReleaseDate catalog</div></div><div class=\"suggestion-row\" style=\"float: left;\"><div class=\"suggestion-warning\">Why Not:</div><div class=\"highlight-code\" id=\"haskell\">publicationsByDate date = filter hasReleaseDate</div></div><div class=\"suggestion-name\" style=\"clear:both;\">Use record patterns</div><div class=\"suggestion-row\" style=\"float: left;\"><div class=\"suggestion-warning\">Found:</div><div class=\"highlight-code\" id=\"haskell\">Book _ _ _ _ _</div></div><div class=\"suggestion-row\" style=\"float: left;\"><div class=\"suggestion-warning\">Why Not:</div><div class=\"highlight-code\" id=\"haskell\">Book {}</div></div>"
      ],
      "text/plain": [
       "Line 3: Eta reduce\n",
       "Found:\n",
       "publicationsByTitle title catalog = filter hasTitle catalog\n",
       "Why not:\n",
       "publicationsByTitle title = filter hasTitleLine 14: Eta reduce\n",
       "Found:\n",
       "publicationsByDate date catalog = filter hasReleaseDate catalog\n",
       "Why not:\n",
       "publicationsByDate date = filter hasReleaseDateLine 19: Use record patterns\n",
       "Found:\n",
       "Book _ _ _ _ _\n",
       "Why not:\n",
       "Book {}"
      ]
     },
     "metadata": {},
     "output_type": "display_data"
    }
   ],
   "source": [
    "-- Function to find all publications with the given title\n",
    "publicationsByTitle :: String -> Catalog -> [Publication]\n",
    "publicationsByTitle title catalog =\n",
    "  filter hasTitle catalog\n",
    "  where\n",
    "    -- Checks if a publication has the given title\n",
    "    hasTitle :: Publication -> Bool\n",
    "    hasTitle (Book _ _ pubTitle _ _) = pubTitle == title\n",
    "    hasTitle (Journal _ _ pubTitle _ _ _) = pubTitle == title\n",
    "    hasTitle (DVD _ _ _ pubTitle _ _ _) = pubTitle == title\n",
    "\n",
    "-- Function to find all publications with the given release date\n",
    "publicationsByDate :: Date -> Catalog -> [Publication]\n",
    "publicationsByDate date catalog =\n",
    "  filter hasReleaseDate catalog\n",
    "  where\n",
    "    -- Checks if a publication has the given release date\n",
    "    hasReleaseDate :: Publication -> Bool\n",
    "    hasReleaseDate (Book _ _ _ _ _) = False  -- Books don't have a specific release date in this case\n",
    "    hasReleaseDate (Journal _ _ _ pubReleaseDate _ _) = pubReleaseDate == date\n",
    "    hasReleaseDate (DVD _ _ _ _ pubReleaseDate _ _) = pubReleaseDate == date\n",
    "\n"
   ]
  },
  {
   "cell_type": "code",
   "execution_count": 36,
   "metadata": {},
   "outputs": [
    {
     "data": {
      "text/plain": [
       "[Book [B001]\n",
       "  Title: Pride and Prejudice\n",
       "  Author: Jane Austen (16 December 1775)\n",
       "  Pages: 432\n",
       "  Copies: 0/0 available\n",
       "]"
      ]
     },
     "metadata": {},
     "output_type": "display_data"
    },
    {
     "data": {
      "text/plain": [
       "\"----------------------------------------------------------------------\""
      ]
     },
     "metadata": {},
     "output_type": "display_data"
    },
    {
     "data": {
      "text/plain": [
       "[Journal [J001]\n",
       "  Title: Victorian Literature\n",
       "  Authors: Jane Austen (16 December 1775) Charles Dickens (7 February 1812)\n",
       "  Release Date: 1 January 2024\n",
       "  Pages: 100\n",
       "  Copies: 0/0 available\n",
       "]"
      ]
     },
     "metadata": {},
     "output_type": "display_data"
    }
   ],
   "source": [
    "let catalog = [book1, journal1, dvd1] -- Replace with your actual catalog of publications\n",
    "\n",
    "-- Find all publications with the title \"Haskell Programming\"\n",
    "let publicationsWithTitle = publicationsByTitle \"Pride and Prejudice\" catalog\n",
    "print publicationsWithTitle\n",
    "\"----------------------------------------------------------------------\"\n",
    "-- Find all publications released on a specific date (e.g., \"1 Dec 2024\")\n",
    "let date = Date 1 \"January\" 2024\n",
    "let publicationsWithDate = publicationsByDate date catalog\n",
    "print publicationsWithDate\n"
   ]
  },
  {
   "cell_type": "markdown",
   "metadata": {},
   "source": [
    "## 8. A search Author Title Date function that can receive the author, the title and/or the date and returns all the publications matching the criteria. Notice that the function must work for any combination of the three items (for example searching just by author, or by author and date) and that some, or even the three of them, could be empty."
   ]
  },
  {
   "cell_type": "code",
   "execution_count": 37,
   "metadata": {},
   "outputs": [
    {
     "data": {
      "text/html": [
       "<style>/* Styles used for the Hoogle display in the pager */\n",
       ".hoogle-doc {\n",
       "display: block;\n",
       "padding-bottom: 1.3em;\n",
       "padding-left: 0.4em;\n",
       "}\n",
       ".hoogle-code {\n",
       "display: block;\n",
       "font-family: monospace;\n",
       "white-space: pre;\n",
       "}\n",
       ".hoogle-text {\n",
       "display: block;\n",
       "}\n",
       ".hoogle-name {\n",
       "color: green;\n",
       "font-weight: bold;\n",
       "}\n",
       ".hoogle-head {\n",
       "font-weight: bold;\n",
       "}\n",
       ".hoogle-sub {\n",
       "display: block;\n",
       "margin-left: 0.4em;\n",
       "}\n",
       ".hoogle-package {\n",
       "font-weight: bold;\n",
       "font-style: italic;\n",
       "}\n",
       ".hoogle-module {\n",
       "font-weight: bold;\n",
       "}\n",
       ".hoogle-class {\n",
       "font-weight: bold;\n",
       "}\n",
       "\n",
       ".get-type {\n",
       "color: green;\n",
       "font-weight: bold;\n",
       "font-family: monospace;\n",
       "display: block;\n",
       "white-space: pre-wrap;\n",
       "}\n",
       ".show-type {\n",
       "color: green;\n",
       "font-weight: bold;\n",
       "font-family: monospace;\n",
       "margin-left: 1em;\n",
       "}\n",
       ".mono {\n",
       "font-family: monospace;\n",
       "display: block;\n",
       "}\n",
       ".err-msg {\n",
       "color: red;\n",
       "font-style: italic;\n",
       "font-family: monospace;\n",
       "white-space: pre;\n",
       "display: block;\n",
       "}\n",
       "#unshowable {\n",
       "color: red;\n",
       "font-weight: bold;\n",
       "}\n",
       ".err-msg.in.collapse {\n",
       "padding-top: 0.7em;\n",
       "}\n",
       "\n",
       ".highlight-code {\n",
       "white-space: pre;\n",
       "font-family: monospace;\n",
       "}\n",
       "\n",
       ".suggestion-warning { \n",
       "font-weight: bold;\n",
       "color: rgb(200, 130, 0);\n",
       "}\n",
       ".suggestion-error { \n",
       "font-weight: bold;\n",
       "color: red;\n",
       "}\n",
       ".suggestion-name {\n",
       "font-weight: bold;\n",
       "}\n",
       "\n",
       "</style><div class=\"suggestion-name\" style=\"clear:both;\">Eta reduce</div><div class=\"suggestion-row\" style=\"float: left;\"><div class=\"suggestion-warning\">Found:</div><div class=\"highlight-code\" id=\"haskell\">searchAuthorTitleDate author title date catalog\n",
       "  = filter matchesCriteria catalog</div></div><div class=\"suggestion-row\" style=\"float: left;\"><div class=\"suggestion-warning\">Why Not:</div><div class=\"highlight-code\" id=\"haskell\">searchAuthorTitleDate author title date = filter matchesCriteria</div></div><div class=\"suggestion-name\" style=\"clear:both;\">Redundant bracket</div><div class=\"suggestion-row\" style=\"float: left;\"><div class=\"suggestion-warning\">Found:</div><div class=\"highlight-code\" id=\"haskell\">(authorMatches pub) && (titleMatches pub) && (dateMatches pub)</div></div><div class=\"suggestion-row\" style=\"float: left;\"><div class=\"suggestion-warning\">Why Not:</div><div class=\"highlight-code\" id=\"haskell\">authorMatches pub && (titleMatches pub) && (dateMatches pub)</div></div><div class=\"suggestion-name\" style=\"clear:both;\">Redundant bracket</div><div class=\"suggestion-row\" style=\"float: left;\"><div class=\"suggestion-warning\">Found:</div><div class=\"highlight-code\" id=\"haskell\">(titleMatches pub) && (dateMatches pub)</div></div><div class=\"suggestion-row\" style=\"float: left;\"><div class=\"suggestion-warning\">Why Not:</div><div class=\"highlight-code\" id=\"haskell\">titleMatches pub && (dateMatches pub)</div></div><div class=\"suggestion-name\" style=\"clear:both;\">Redundant bracket</div><div class=\"suggestion-row\" style=\"float: left;\"><div class=\"suggestion-warning\">Found:</div><div class=\"highlight-code\" id=\"haskell\">(titleMatches pub) && (dateMatches pub)</div></div><div class=\"suggestion-row\" style=\"float: left;\"><div class=\"suggestion-warning\">Why Not:</div><div class=\"highlight-code\" id=\"haskell\">(titleMatches pub) && dateMatches pub</div></div><div class=\"suggestion-name\" style=\"clear:both;\">Use record patterns</div><div class=\"suggestion-row\" style=\"float: left;\"><div class=\"suggestion-warning\">Found:</div><div class=\"highlight-code\" id=\"haskell\">Book _ _ _ _ _</div></div><div class=\"suggestion-row\" style=\"float: left;\"><div class=\"suggestion-warning\">Why Not:</div><div class=\"highlight-code\" id=\"haskell\">Book {}</div></div>"
      ],
      "text/plain": [
       "Line 2: Eta reduce\n",
       "Found:\n",
       "searchAuthorTitleDate author title date catalog\n",
       "  = filter matchesCriteria catalog\n",
       "Why not:\n",
       "searchAuthorTitleDate author title date = filter matchesCriteriaLine 7: Redundant bracket\n",
       "Found:\n",
       "(authorMatches pub) && (titleMatches pub) && (dateMatches pub)\n",
       "Why not:\n",
       "authorMatches pub && (titleMatches pub) && (dateMatches pub)Line 7: Redundant bracket\n",
       "Found:\n",
       "(titleMatches pub) && (dateMatches pub)\n",
       "Why not:\n",
       "titleMatches pub && (dateMatches pub)Line 7: Redundant bracket\n",
       "Found:\n",
       "(titleMatches pub) && (dateMatches pub)\n",
       "Why not:\n",
       "(titleMatches pub) && dateMatches pubLine 23: Use record patterns\n",
       "Found:\n",
       "Book _ _ _ _ _\n",
       "Why not:\n",
       "Book {}"
      ]
     },
     "metadata": {},
     "output_type": "display_data"
    }
   ],
   "source": [
    "searchAuthorTitleDate :: Maybe Person -> Maybe String -> Maybe Date -> Catalog -> [Publication]\n",
    "searchAuthorTitleDate author title date catalog = filter matchesCriteria catalog\n",
    "  where\n",
    "    -- Checks if a publication matches the given criteria\n",
    "    matchesCriteria :: Publication -> Bool\n",
    "    matchesCriteria pub =\n",
    "      (authorMatches pub) && (titleMatches pub) && (dateMatches pub)\n",
    "\n",
    "    -- Check if the publication matches the author criterion\n",
    "    authorMatches :: Publication -> Bool\n",
    "    authorMatches (Book _ bookAuthor _ _ _) = maybe True (== bookAuthor) author\n",
    "    authorMatches (Journal _ journalAuthors _ _ _ _) = maybe True (`elem` journalAuthors) author\n",
    "    authorMatches (DVD _ director actors _ _ _ _) = maybe True (== director) author || maybe False (`elem` actors) author\n",
    "\n",
    "    -- Check if the publication matches the title criterion\n",
    "    titleMatches :: Publication -> Bool\n",
    "    titleMatches (Book _ _ bookTitle _ _) = maybe True (== bookTitle) title\n",
    "    titleMatches (Journal _ _ journalTitle _ _ _) = maybe True (== journalTitle) title\n",
    "    titleMatches (DVD _ _ _ dvdTitle _ _ _) = maybe True (== dvdTitle) title\n",
    "\n",
    "    -- Check if the publication matches the date criterion\n",
    "    dateMatches :: Publication -> Bool\n",
    "    dateMatches (Book _ _ _ _ _) = True  -- Books are not filtered by date in this case\n",
    "    dateMatches (Journal _ _ _ journalDate _ _) = maybe True (== journalDate) date\n",
    "    dateMatches (DVD _ _ _ _ dvdDate _ _) = maybe True (== dvdDate) date\n"
   ]
  },
  {
   "cell_type": "code",
   "execution_count": 38,
   "metadata": {},
   "outputs": [
    {
     "data": {
      "text/plain": [
       "[Book [B001]\n",
       "  Title: Pride and Prejudice\n",
       "  Author: Jane Austen (16 December 1775)\n",
       "  Pages: 432\n",
       "  Copies: 0/0 available\n",
       "]"
      ]
     },
     "metadata": {},
     "output_type": "display_data"
    },
    {
     "data": {
      "text/plain": [
       "\"----------------------------------------------------\""
      ]
     },
     "metadata": {},
     "output_type": "display_data"
    },
    {
     "data": {
      "text/plain": [
       "[Journal [J001]\n",
       "  Title: Victorian Literature\n",
       "  Authors: Jane Austen (16 December 1775) Charles Dickens (7 February 1812)\n",
       "  Release Date: 1 January 2024\n",
       "  Pages: 100\n",
       "  Copies: 0/0 available\n",
       "]"
      ]
     },
     "metadata": {},
     "output_type": "display_data"
    },
    {
     "data": {
      "text/plain": [
       "\"----------------------------------------------------\""
      ]
     },
     "metadata": {},
     "output_type": "display_data"
    },
    {
     "data": {
      "text/plain": [
       "[DVD [D001]\n",
       "  Title: Literature on Screen\n",
       "  Director: Director One (1 January 1980)\n",
       "  Actors: Actor One (1 January 1990) Charles Dickens (7 February 1812)\n",
       "  Release Date: 1 April 2024\n",
       "  Duration: 120 minutes\n",
       "  Copies: 0/0 available\n",
       "]"
      ]
     },
     "metadata": {},
     "output_type": "display_data"
    }
   ],
   "source": [
    "author1 :: Person\n",
    "author1 = Person \"Jane\" \"Austen\" (Date 16 \"December\" 1775)\n",
    "\n",
    "author2 :: Person\n",
    "author2 = Person \"Charles\" \"Dickens\" (Date 7 \"February\" 1812)\n",
    "\n",
    "actor1 :: Person\n",
    "actor1 = Person \"Actor\" \"One\" (Date 1 \"January\" 1990)\n",
    "\n",
    "director1 :: Person\n",
    "director1 = Person \"Director\" \"One\" (Date 1 \"January\" 1980)\n",
    "\n",
    "book1 :: Publication\n",
    "book1 = Book \"B001\" author1 \"Pride and Prejudice\" 432 []\n",
    "\n",
    "book2 :: Publication\n",
    "book2 = Book \"B002\" author2 \"Oliver Twist\" 300 []\n",
    "\n",
    "journal1 :: Publication\n",
    "journal1 = Journal \"J001\" [author1, author2] \"Victorian Literature\" (Date 1 \"January\" 2024) 100 []\n",
    "\n",
    "dvd1 :: Publication\n",
    "dvd1 = DVD \"D001\" director1 [actor1, author2] \"Literature on Screen\" (Date 1 \"April\" 2024) 120 []\n",
    "\n",
    "testCatalog :: Catalog\n",
    "testCatalog = [book1, book2, journal1, dvd1]\n",
    "let catalog = [book1, journal1, dvd1] -- Replace with actual catalog\n",
    "\n",
    "-- Search for publications by \"John Doe\" (author), with title \"Haskell Programming\"\n",
    "let results = searchAuthorTitleDate (Just (Person \"Jane\" \"Austen\" (Date 16 \"December\" 1775))) (Just \"Pride and Prejudice\") Nothing catalog\n",
    "print results\n",
    "\"----------------------------------------------------\"\n",
    "-- Search for publications with the title \"Haskell Programming\", regardless of author or date\n",
    "let resultsByTitle = searchAuthorTitleDate Nothing (Just \"Victorian Literature\") Nothing catalog\n",
    "print resultsByTitle\n",
    "\"----------------------------------------------------\"\n",
    "-- Search for publications by author \"John Doe\" released on a specific date\n",
    "let resultsByAuthorAndDate = searchAuthorTitleDate (Just (Person \"Charles\" \"Dickens\" (Date 7 \"February\" 1812))) Nothing (Just (Date 1 \"April\" 2024)) catalog\n",
    "print resultsByAuthorAndDate\n"
   ]
  },
  {
   "cell_type": "markdown",
   "metadata": {},
   "source": [
    "## 9. A nextWorkingDate days Date [Date] function that receives a positive number of days, a Date and a list of holidays and returns the next working day (not in weekend or holiday) after those days. It will be used to calculate loan and return dates for publications, as the library is closed during weekends. Consider leap years and the fact that 1st January 2025 will be Wednesday. "
   ]
  },
  {
   "cell_type": "code",
   "execution_count": null,
   "metadata": {},
   "outputs": [],
   "source": [
    "--nextWorkingDate :: Int -> Date -> [Date] -> Date\n",
    "-- Eq and Ord instances for Date\n",
    "instance Eq Date where\n",
    "  (Date d1 m1 y1) == (Date d2 m2 y2) =\n",
    "    y1 == y2 && monthIndex m1 == monthIndex m2 && d1 == d2\n",
    "\n",
    "instance Ord Date where\n",
    "  compare (Date d1 m1 y1) (Date d2 m2 y2) =\n",
    "    compare (y1, monthIndex m1, d1) (y2, monthIndex m2, d2)\n",
    "    \n",
    "isLeapYear :: Int -> Bool\n",
    "isLeapYear year = (year `mod` 4 == 0 && year `mod` 100 /= 0) || (year `mod` 400 == 0)\n",
    "\n",
    "daysInMonth :: Int -> Int -> Int\n",
    "daysInMonth month year\n",
    "  | month == 2 = if isLeapYear year then 29 else 28\n",
    "  | month `elem` [4, 6, 9, 11] = 30\n",
    "  | otherwise = 31\n",
    "\n",
    "isWeekend :: Date -> Bool\n",
    "isWeekend (Date d m y) =\n",
    "  let dayOfYear = cumulativeDays d m y\n",
    "      weekday = (dayOfYear + daysTo2025 y) `mod` 7\n",
    "  in weekday == 5 || weekday == 6 -- Saturday or Sunday\n",
    "  where\n",
    "    -- Days from start of year to this date\n",
    "    cumulativeDays :: Int -> String -> Int -> Int\n",
    "    cumulativeDays d m y = d + sum (map (\\month -> daysInMonth month y) [1..monthIndex m - 1])\n",
    "    \n",
    "    -- Convert month name to an index\n",
    "monthIndex :: String -> Int\n",
    "monthIndex month = case month of\n",
    "    \"January\" -> 1; \"February\" -> 2; \"March\" -> 3; \"April\" -> 4; \"May\" -> 5\n",
    "    \"June\" -> 6; \"July\" -> 7; \"August\" -> 8; \"September\" -> 9; \"October\" -> 10\n",
    "    \"November\" -> 11; \"December\" -> 12; _ -> error \"Invalid month\"\n",
    "\n",
    "    -- Calculate the number of days from 2025 back to a given year\n",
    "daysTo2025 :: Int -> Int\n",
    "daysTo2025 y\n",
    "    | y == 2025 = 0\n",
    "    | y < 2025 = sum (map (\\yr -> if isLeapYear yr then 366 else 365) [y..2024])\n",
    "    | y > 2025 = negate $ sum (map (\\yr -> if isLeapYear yr then 366 else 365) [2025..y - 1])\n",
    "\n",
    "advanceDate :: Date -> Date\n",
    "advanceDate (Date d m y)\n",
    "  | d < daysInMonth (monthIndex m) y = Date (d + 1) m y\n",
    "  | m == \"December\" = Date 1 \"January\" (y + 1)\n",
    "  | otherwise = Date 1 (nextMonth m) y\n",
    "  where\n",
    "    nextMonth :: String -> String\n",
    "    nextMonth month = case month of\n",
    "      \"January\" -> \"February\"; \"February\" -> \"March\"; \"March\" -> \"April\"\n",
    "      \"April\" -> \"May\"; \"May\" -> \"June\"; \"June\" -> \"July\"\n",
    "      \"July\" -> \"August\"; \"August\" -> \"September\"; \"September\" -> \"October\"\n",
    "      \"October\" -> \"November\"; \"November\" -> \"December\"; _ -> error \"Invalid month\"\n",
    "\n",
    "nextWorkingDate :: Int -> Date -> [Date] -> Date\n",
    "nextWorkingDate 0 date holidays = skipNonWorking date holidays -- Asegurarse de que el día final sea laboral\n",
    "nextWorkingDate days date holidays =\n",
    "  let nextDate = advanceDate date\n",
    "  in if isWorkingDay nextDate holidays\n",
    "       then nextWorkingDate (days - 1) nextDate holidays\n",
    "       else nextWorkingDate days nextDate holidays\n",
    "isWorkingDay :: Date -> [Date] -> Bool\n",
    "isWorkingDay date holidays = not (isWeekend date) && date `notElem` holidays\n",
    "\n",
    "\n",
    "-- Skip weekends and holidays\n",
    "skipNonWorking :: Date -> [Date] -> Date\n",
    "skipNonWorking date holidays\n",
    "  | isWeekend date || date `elem` holidays = skipNonWorking (advanceDate date) holidays\n",
    "  | otherwise = date\n"
   ]
  },
  {
   "cell_type": "code",
   "execution_count": null,
   "metadata": {},
   "outputs": [],
   "source": [
    "exampleStartDate :: Date\n",
    "exampleStartDate = Date 29 \"December\" 2024 -- Monday\n",
    "\n",
    "holidays :: [Date]\n",
    "holidays = [Date 1 \"January\" 2025, Date 6 \"January\" 2025] -- New Year's Day and Epiphany\n",
    "--holidays = []\n",
    "\n",
    "nextWorkingDate 0 exampleStartDate holidays\n",
    "--putStrLn $ \"Next working day: \" ++ show result\n"
   ]
  },
  {
   "cell_type": "code",
   "execution_count": null,
   "metadata": {},
   "outputs": [],
   "source": [
    "exampleStartDate `elem` holidays"
   ]
  },
  {
   "cell_type": "code",
   "execution_count": null,
   "metadata": {},
   "outputs": [],
   "source": [
    "-- Definición de Date\n",
    "data Date = Date { day :: Int, month :: String, year :: Int }\n",
    "  deriving (Show, Eq)\n",
    "\n",
    "-- Helper: Calcular días en un mes\n",
    "daysInMonth :: Int -> Int -> Int\n",
    "daysInMonth 2 year = if isLeapYear year then 29 else 28\n",
    "daysInMonth month _ | month `elem` [4, 6, 9, 11] = 30\n",
    "daysInMonth _ _ = 31\n",
    "\n",
    "-- Helper: Verificar si un año es bisiesto\n",
    "isLeapYear :: Int -> Bool\n",
    "isLeapYear year = (year `mod` 4 == 0 && year `mod` 100 /= 0) || (year `mod` 400 == 0)\n",
    "\n",
    "-- Helper: Avanzar un día\n",
    "advanceDate :: Date -> Date\n",
    "advanceDate (Date d m y)\n",
    "  | d < daysInMonth (monthIndex m) y = Date (d + 1) m y\n",
    "  | m == \"December\" = Date 1 \"January\" (y + 1)\n",
    "  | otherwise = Date 1 (nextMonth m) y\n",
    "  where\n",
    "    nextMonth :: String -> String\n",
    "    nextMonth \"January\" = \"February\"\n",
    "    nextMonth \"February\" = \"March\"\n",
    "    nextMonth \"March\" = \"April\"\n",
    "    nextMonth \"April\" = \"May\"\n",
    "    nextMonth \"May\" = \"June\"\n",
    "    nextMonth \"June\" = \"July\"\n",
    "    nextMonth \"July\" = \"August\"\n",
    "    nextMonth \"August\" = \"September\"\n",
    "    nextMonth \"September\" = \"October\"\n",
    "    nextMonth \"October\" = \"November\"\n",
    "    nextMonth \"November\" = \"December\"\n",
    "    nextMonth _ = error \"Invalid month\"\n",
    "\n",
    "    monthIndex :: String -> Int\n",
    "    monthIndex \"January\" = 1\n",
    "    monthIndex \"February\" = 2\n",
    "    monthIndex \"March\" = 3\n",
    "    monthIndex \"April\" = 4\n",
    "    monthIndex \"May\" = 5\n",
    "    monthIndex \"June\" = 6\n",
    "    monthIndex \"July\" = 7\n",
    "    monthIndex \"August\" = 8\n",
    "    monthIndex \"September\" = 9\n",
    "    monthIndex \"October\" = 10\n",
    "    monthIndex \"November\" = 11\n",
    "    monthIndex \"December\" = 12\n",
    "    monthIndex _ = error \"Invalid month\"\n",
    "\n",
    "-- Verificar si un día es fin de semana\n",
    "-- isWeekend :: Date -> Bool\n",
    "-- isWeekend (Date d m y) =\n",
    "--   let dayOfYear = cumulativeDays d m y\n",
    "--       weekday = (dayOfYear + daysTo2025 y + 1) `mod` 7\n",
    "--   in weekday == 5 || weekday == 6 -- Sábado o domingo\n",
    "--   where\n",
    "--     cumulativeDays d m y = d + sum (map (\\month -> daysInMonth month y) [1..monthIndex m - 1])\n",
    "--     daysTo2025 y\n",
    "--       | y == 2025 = 0\n",
    "--       | y < 2025 = sum [if isLeapYear yr then 366 else 365 | yr <- [y..2024]]\n",
    "--       | y > 2025 = negate $ sum [if isLeapYear yr then 366 else 365 | yr <- [2025..y-1]]\n",
    "daysFromYearOne :: Date -> Int\n",
    "daysFromYearOne (Date d m y) =\n",
    "  let daysThisYear = cumulativeDays d m y\n",
    "      daysPreviousYears = sum [if isLeapYear yr then 366 else 365 | yr <- [1..y - 1]]\n",
    "  in daysThisYear + daysPreviousYears\n",
    "  where\n",
    "    cumulativeDays :: Int -> String -> Int -> Int\n",
    "    cumulativeDays d m y = d + sum (map (\\month -> daysInMonth month y) [1..monthIndex m - 1])\n",
    "\n",
    "isWeekend :: Date -> Bool\n",
    "isWeekend date =\n",
    "  let daysSinceYearOne = daysFromYearOne date\n",
    "      weekday = (daysSinceYearOne + 6) `mod` 7 -- 1 Jan year 1 = Thursday = day 4\n",
    "  in weekday == 5 || weekday == 6 -- Saturday or Sunday\n",
    "daysFromYearOne (Date 1 \"January\" 2025) `mod` 7\n",
    "isWeekend (Date 1 \"January\" 2025)\n",
    "-- Verificar si un día es laboral\n",
    "isWorkingDay :: Date -> [Date] -> Bool\n",
    "isWorkingDay date holidays = not (isWeekend date) && date `notElem` holidays\n",
    "\n",
    "-- Función principal para calcular el próximo día laboral\n",
    "nextWorkingDate :: Int -> Date -> [Date] -> Date\n",
    "nextWorkingDate 0 date holidays = skipNonWorking date holidays -- Asegurarse de que el día final sea laboral\n",
    "nextWorkingDate days date holidays =\n",
    "  let nextDate = advanceDate date\n",
    "  in if isWorkingDay nextDate holidays\n",
    "       then nextWorkingDate (days - 1) nextDate holidays\n",
    "       else nextWorkingDate days nextDate holidays\n",
    "\n",
    "-- Saltar a un día laboral válido\n",
    "skipNonWorking :: Date -> [Date] -> Date\n",
    "skipNonWorking date holidays\n",
    "  | isWorkingDay date holidays = date\n",
    "  | otherwise = skipNonWorking (advanceDate date) holidays\n"
   ]
  },
  {
   "cell_type": "code",
   "execution_count": null,
   "metadata": {},
   "outputs": [],
   "source": [
    "exampleStartDate = Date 31 \"December\" 2025\n",
    "holidays = [Date 1 \"January\" 2026, Date 10 \"January\" 2025, Date 13 \"January\" 2025]\n",
    "result = nextWorkingDate 2 exampleStartDate holidays\n",
    "result"
   ]
  },
  {
   "cell_type": "code",
   "execution_count": null,
   "metadata": {},
   "outputs": [],
   "source": [
    "isWeekend (holidays !! 0)\n",
    "--weekDay exampleStartDate"
   ]
  },
  {
   "cell_type": "code",
   "execution_count": null,
   "metadata": {},
   "outputs": [],
   "source": []
  },
  {
   "cell_type": "code",
   "execution_count": null,
   "metadata": {},
   "outputs": [],
   "source": []
  },
  {
   "cell_type": "code",
   "execution_count": null,
   "metadata": {},
   "outputs": [],
   "source": [
    "-- daysFromYearOne :: Date -> Int\n",
    "-- daysFromYearOne (Date d m y) =\n",
    "--   let daysThisYear = cumulativeDays d m y\n",
    "--       daysPreviousYears = sum [if isLeapYear yr then 366 else 365 | yr <- [1..y - 1]]\n",
    "--   in daysThisYear + daysPreviousYears\n",
    "--   where\n",
    "--     cumulativeDays :: Int -> String -> Int -> Int\n",
    "--     cumulativeDays d m y = d + sum (map (\\month -> daysInMonth month y) [1..monthIndex m - 1])\n",
    "\n",
    "-- isWeekend :: Date -> Bool\n",
    "-- isWeekend date =\n",
    "--   let daysSinceYearOne = daysFromYearOne date\n",
    "--       weekday = (daysSinceYearOne + 3) `mod` 7 -- 1 Jan year 1 = Thursday = day 4\n",
    "--   in weekday == 5 || weekday == 6 -- Saturday or Sunday\n",
    "\n",
    "-- advanceDate :: Date -> Date\n",
    "-- advanceDate (Date d m y)\n",
    "--   | d < daysInMonth (monthIndex m) y = Date (d + 1) m y\n",
    "--   | m == \"December\" = Date 1 \"January\" (y + 1)\n",
    "--   | otherwise = Date 1 (nextMonth m) y\n",
    "--   where\n",
    "--     nextMonth :: String -> String\n",
    "--     nextMonth month = case month of\n",
    "--       \"January\" -> \"February\"; \"February\" -> \"March\"; \"March\" -> \"April\"\n",
    "--       \"April\" -> \"May\"; \"May\" -> \"June\"; \"June\" -> \"July\"\n",
    "--       \"July\" -> \"August\"; \"August\" -> \"September\"; \"September\" -> \"October\"\n",
    "--       \"October\" -> \"November\"; \"November\" -> \"December\"; _ -> error \"Invalid month\"\n",
    "\n",
    "-- isWorkingDay :: Date -> [Date] -> Bool\n",
    "-- isWorkingDay date holidays = not (isWeekend date) && date `notElem` holidays\n",
    "\n",
    "-- skipNonWorking :: Date -> [Date] -> Date\n",
    "-- skipNonWorking date holidays\n",
    "--   | isWorkingDay date holidays = date\n",
    "--   | otherwise = skipNonWorking (advanceDate date) holidays\n",
    "\n",
    "-- nextWorkingDate :: Int -> Date -> [Date] -> Date\n",
    "-- nextWorkingDate 0 date holidays = skipNonWorking date holidays\n",
    "-- nextWorkingDate days date holidays =\n",
    "--   let nextDate = advanceDate date\n",
    "--   in if isWorkingDay nextDate holidays\n",
    "--        then nextWorkingDate (days - 1) nextDate holidays\n",
    "--        else nextWorkingDate days nextDate holidays\n"
   ]
  },
  {
   "cell_type": "code",
   "execution_count": null,
   "metadata": {},
   "outputs": [],
   "source": [
    "exampleStartDate = Date 30 \"December\" 2024\n",
    "holidays = [Date 1 \"January\" 2025, Date 6 \"January\" 2025, Date 29 \"December\" 2023]\n",
    "nextWorkingDate 1 exampleStartDate holidays\n"
   ]
  },
  {
   "cell_type": "code",
   "execution_count": null,
   "metadata": {},
   "outputs": [],
   "source": [
    "nextWorkingDate 10 (Date 28 \"December\" 2023) holidays\n"
   ]
  },
  {
   "cell_type": "markdown",
   "metadata": {},
   "source": [
    "### 9.2 Intento por separado"
   ]
  },
  {
   "cell_type": "code",
   "execution_count": null,
   "metadata": {},
   "outputs": [],
   "source": [
    "-- Days in each month for non-leap and leap years.\n",
    "daysInMonth :: Int -> String -> Int\n",
    "daysInMonth year month\n",
    "  | month `elem` [\"January\", \"March\", \"May\", \"July\", \"August\", \"October\", \"December\"] = 31\n",
    "  | month `elem` [\"April\", \"June\", \"September\", \"November\"] = 30\n",
    "  | month == \"February\" = if isLeapYear year then 29 else 28\n",
    "  | otherwise = error \"Invalid month\"\n",
    "\n",
    "-- Check if a year is a leap year.\n",
    "isLeapYear :: Int -> Bool\n",
    "isLeapYear year = (year `mod` 4 == 0 && year `mod` 100 /= 0) || (year `mod` 400 == 0)\n",
    "\n",
    "-- Advance a date by one day.\n",
    "advanceDate :: Date -> Date\n",
    "advanceDate (Date day month year)\n",
    "  | day < daysInMonth year month = Date (day + 1) month year\n",
    "  | month == \"December\" = Date 1 \"January\" (year + 1)\n",
    "  | otherwise = Date 1 (nextMonth month) year\n",
    "\n",
    "-- Get the next month in a year.\n",
    "nextMonth :: String -> String\n",
    "nextMonth \"January\" = \"February\"\n",
    "nextMonth \"February\" = \"March\"\n",
    "nextMonth \"March\" = \"April\"\n",
    "nextMonth \"April\" = \"May\"\n",
    "nextMonth \"May\" = \"June\"\n",
    "nextMonth \"June\" = \"July\"\n",
    "nextMonth \"July\" = \"August\"\n",
    "nextMonth \"August\" = \"September\"\n",
    "nextMonth \"September\" = \"October\"\n",
    "nextMonth \"October\" = \"November\"\n",
    "nextMonth \"November\" = \"December\"\n",
    "nextMonth \"December\" = error \"No next month after December\"\n",
    "nextMonth _ = error \"Invalid month\"\n",
    "\n",
    "-- Determine if a date is a weekend.\n",
    "isWeekend :: Date -> Bool\n",
    "isWeekend (Date day \"January\" 2025) = day `mod` 7 `elem` [5, 6] -- January 1st, 2025 is a Wednesday\n",
    "isWeekend date = let daysFromStart = daysSinceStart date\n",
    "                 in daysFromStart `mod` 7 `elem` [5, 6] -- Saturday and Sunday are days 5 and 6\n",
    "\n",
    "-- Count the number of days since a reference date (January 1st, 2025).\n",
    "daysSinceStart :: Date -> Int\n",
    "daysSinceStart (Date day month year)\n",
    "  | year < 2025 = error \"Date must be after 2025\"\n",
    "  | otherwise = sum (map (daysInMonth year) (monthsBetween \"January\" month)) + (day - 1)\n",
    "  where\n",
    "    monthsBetween :: String -> String -> [String]\n",
    "    monthsBetween start end\n",
    "      | start == end = [start]\n",
    "      | otherwise = start : monthsBetween (nextMonth start) end\n",
    "\n",
    "-- Check if a date is a holiday.\n",
    "isHoliday :: Date -> [Date] -> Bool\n",
    "isHoliday date holidays = date `elem` holidays\n",
    "\n",
    "-- Main function: Compute the next working date.\n",
    "nextWorkingDate :: Int -> Date -> [Date] -> Date\n",
    "nextWorkingDate days startDate holidays = findNext startDate days\n",
    "  where\n",
    "    findNext :: Date -> Int -> Date\n",
    "    findNext current remainingDays\n",
    "      | remainingDays == 0 && not (isWeekend current || isHoliday current holidays) = current\n",
    "      | otherwise = findNext (advanceDate current) (if not (isWeekend current || isHoliday current holidays) then remainingDays - 1 else remainingDays)\n"
   ]
  },
  {
   "cell_type": "code",
   "execution_count": null,
   "metadata": {},
   "outputs": [],
   "source": [
    "let startDate = Date 1 \"January\" 2025\n",
    "let holidays = [Date 1 \"January\" 2025,  Date 6 \"January\" 2025]\n",
    "nextWorkingDate 3 startDate holidays\n",
    "-- Expected result: Date 13 \"December\" 2024 (taking into account weekends and holidays)\n"
   ]
  },
  {
   "cell_type": "code",
   "execution_count": null,
   "metadata": {},
   "outputs": [],
   "source": [
    "isWeekend (Date 6 \"January\" 2025)"
   ]
  },
  {
   "cell_type": "code",
   "execution_count": null,
   "metadata": {},
   "outputs": [],
   "source": [
    "-- Days in each month for non-leap and leap years.\n",
    "daysInMonth :: Int -> String -> Int\n",
    "daysInMonth year month\n",
    "  | month `elem` [\"January\", \"March\", \"May\", \"July\", \"August\", \"October\", \"December\"] = 31\n",
    "  | month `elem` [\"April\", \"June\", \"September\", \"November\"] = 30\n",
    "  | month == \"February\" = if isLeapYear year then 29 else 28\n",
    "  | otherwise = error \"Invalid month\"\n",
    "\n",
    "-- Check if a year is a leap year.\n",
    "isLeapYear :: Int -> Bool\n",
    "isLeapYear year = (year `mod` 4 == 0 && year `mod` 100 /= 0) || (year `mod` 400 == 0)\n",
    "\n",
    "-- Advance a date by one day.\n",
    "advanceDate :: Date -> Date\n",
    "advanceDate (Date day month year)\n",
    "  | day < daysInMonth year month = Date (day + 1) month year\n",
    "  | month == \"December\" = Date 1 \"January\" (year + 1)\n",
    "  | otherwise = Date 1 (nextMonth month) year\n",
    "\n",
    "-- Get the next month in a year.\n",
    "nextMonth :: String -> String\n",
    "nextMonth \"January\" = \"February\"\n",
    "nextMonth \"February\" = \"March\"\n",
    "nextMonth \"March\" = \"April\"\n",
    "nextMonth \"April\" = \"May\"\n",
    "nextMonth \"May\" = \"June\"\n",
    "nextMonth \"June\" = \"July\"\n",
    "nextMonth \"July\" = \"August\"\n",
    "nextMonth \"August\" = \"September\"\n",
    "nextMonth \"September\" = \"October\"\n",
    "nextMonth \"October\" = \"November\"\n",
    "nextMonth \"November\" = \"December\"\n",
    "nextMonth \"December\" = error \"No next month after December\"\n",
    "nextMonth _ = error \"Invalid month\"\n",
    "\n",
    "-- Determine if a date is a weekend.\n",
    "isWeekend :: Date -> Bool\n",
    "isWeekend date =\n",
    "  let daysFromStart = daysSinceStart date\n",
    "      dayOfWeek = (daysFromStart + 4) `mod` 7  -- Offset by 3 because Jan 1, 2025 is Wednesday\n",
    "  in dayOfWeek `elem` [3, 4]  -- Saturday (3) or Sunday (4)\n",
    "\n",
    "-- Count the number of days since a reference date (January 1st, 2025).\n",
    "daysSinceStart :: Date -> Int\n",
    "daysSinceStart (Date day month year)\n",
    "  | year < 2025 = error \"Date must be after 2025\"\n",
    "  | otherwise = sum (map (daysInMonth year) (monthsBetween \"January\" month)) + (day - 1)\n",
    "  where\n",
    "    monthsBetween :: String -> String -> [String]\n",
    "    monthsBetween start end\n",
    "      | start == end = [start]\n",
    "      | otherwise = start : monthsBetween (nextMonth start) end\n",
    "\n",
    "-- Check if a date is a holiday.\n",
    "isHoliday :: Date -> [Date] -> Bool\n",
    "isHoliday date holidays = date `elem` holidays\n",
    "\n",
    "-- Main function: Compute the next working date.\n",
    "nextWorkingDate :: Int -> Date -> [Date] -> Date\n",
    "nextWorkingDate days startDate holidays = findNext startDate days\n",
    "  where\n",
    "    findNext :: Date -> Int -> Date\n",
    "    findNext current remainingDays\n",
    "      | remainingDays == 0 && not (isWeekend current || isHoliday current holidays) = current\n",
    "      | otherwise = findNext (advanceDate current) (if not (isWeekend current || isHoliday current holidays) then remainingDays - 1 else remainingDays)\n"
   ]
  },
  {
   "cell_type": "code",
   "execution_count": null,
   "metadata": {},
   "outputs": [],
   "source": [
    "let startDate = Date 2 \"January\" 2025\n",
    "let holidays = [Date 1 \"January\" 2025,  Date 6 \"January\" 2025]\n",
    "nextWorkingDate 4 startDate holidays\n",
    "-- Expected result: Date 13 \"December\" 2024 (taking into account weekends and holidays)\n"
   ]
  },
  {
   "cell_type": "code",
   "execution_count": null,
   "metadata": {},
   "outputs": [],
   "source": [
    "isWeekend (Date 4 \"January\" 2025)"
   ]
  },
  {
   "cell_type": "markdown",
   "metadata": {},
   "source": [
    "### 9.3 Version para sumar días en general (laborables o no)"
   ]
  },
  {
   "cell_type": "code",
   "execution_count": null,
   "metadata": {},
   "outputs": [],
   "source": [
    "-- Avanza una fecha sumando un número dado de días, ignorando fines de semana y festivos.\n",
    "nextWorkingDate :: Int -> Date -> [Date] -> Date\n",
    "nextWorkingDate days startDate holidays = findNext (addDays startDate days)\n",
    "  where\n",
    "    -- Avanza un día y verifica que no sea fin de semana ni festivo\n",
    "    findNext :: Date -> Date\n",
    "    findNext current\n",
    "      | isWeekend current || isHoliday current holidays = findNext (advanceDate current)\n",
    "      | otherwise = current\n",
    "\n",
    "-- Avanza una fecha en días\n",
    "addDays :: Date -> Int -> Date\n",
    "addDays date 0 = date\n",
    "addDays date n = addDays (advanceDate date) (n - 1)\n",
    "\n",
    "-- Determina si un día es fin de semana\n",
    "isWeekend :: Date -> Bool\n",
    "isWeekend date =\n",
    "  let daysFromStart = daysSinceStart date\n",
    "      dayOfWeek = (daysFromStart + 4) `mod` 7  -- Offset por miércoles 1 de enero de 2025\n",
    "  in dayOfWeek `elem` [3, 4]  -- Sábado (3) y domingo (4)\n",
    "\n",
    "-- Comprueba si una fecha es festiva\n",
    "isHoliday :: Date -> [Date] -> Bool\n",
    "isHoliday date holidays = date `elem` holidays\n",
    "\n",
    "-- Avanza un día manejando cambios de mes y año\n",
    "advanceDate :: Date -> Date\n",
    "advanceDate (Date day month year)\n",
    "  | day < daysInMonth year month = Date (day + 1) month year\n",
    "  | month == \"December\" = Date 1 \"January\" (year + 1)\n",
    "  | otherwise = Date 1 (nextMonth month) year\n",
    "\n",
    "-- Días en cada mes considerando años bisiestos\n",
    "daysInMonth :: Int -> String -> Int\n",
    "daysInMonth year month\n",
    "  | month `elem` [\"January\", \"March\", \"May\", \"July\", \"August\", \"October\", \"December\"] = 31\n",
    "  | month `elem` [\"April\", \"June\", \"September\", \"November\"] = 30\n",
    "  | month == \"February\" = if isLeapYear year then 29 else 28\n",
    "  | otherwise = error \"Mes inválido\"\n",
    "\n",
    "-- Comprueba si un año es bisiesto\n",
    "isLeapYear :: Int -> Bool\n",
    "isLeapYear year = (year `mod` 4 == 0 && year `mod` 100 /= 0) || (year `mod` 400 == 0)\n",
    "\n",
    "-- Convierte una fecha a días desde el 1 de enero de 2025\n",
    "daysSinceStart :: Date -> Int\n",
    "daysSinceStart (Date day month year)\n",
    "  | year < 2025 = error \"La fecha debe ser 2025 o posterior\"\n",
    "  | otherwise = sum (map (daysInMonth year) (monthsBetween \"January\" month)) + (day - 1)\n",
    "  where\n",
    "    monthsBetween :: String -> String -> [String]\n",
    "    monthsBetween start end\n",
    "      | start == end = [start]\n",
    "      | otherwise = start : monthsBetween (nextMonth start) end\n",
    "\n",
    "-- Mes siguiente\n",
    "nextMonth :: String -> String\n",
    "nextMonth \"January\" = \"February\"\n",
    "nextMonth \"February\" = \"March\"\n",
    "nextMonth \"March\" = \"April\"\n",
    "nextMonth \"April\" = \"May\"\n",
    "nextMonth \"May\" = \"June\"\n",
    "nextMonth \"June\" = \"July\"\n",
    "nextMonth \"July\" = \"August\"\n",
    "nextMonth \"August\" = \"September\"\n",
    "nextMonth \"September\" = \"October\"\n",
    "nextMonth \"October\" = \"November\"\n",
    "nextMonth \"November\" = \"December\"\n",
    "nextMonth \"December\" = error \"No hay mes siguiente después de diciembre\"\n",
    "nextMonth _ = error \"Mes inválido\"\n"
   ]
  },
  {
   "cell_type": "code",
   "execution_count": null,
   "metadata": {},
   "outputs": [],
   "source": [
    "let startDate = Date 1 \"January\" 2025\n",
    "let holidays = [Date 1 \"January\" 2025,  Date 6 \"January\" 2025]\n",
    "nextWorkingDate 2 startDate holidays\n",
    "\n",
    "daysSinceStart (Date 1 \"February\" 2025)\n",
    "\"--------------------\"\n",
    "isWeekend (Date 5 \"January\" 2025)\n",
    "\n",
    "isWeekend (Date 4 \"January\" 2025)  \n",
    "\n",
    "isWeekend (Date 4 \"March\" 2025)  \n",
    "isWeekend (Date 5 \"March\" 2025)\n",
    "\"-----------------------------\"\n",
    "isWeekend (Date 27 \"February\" 2027)\n",
    "isWeekend (Date 28 \"February\" 2027)  \n",
    "\n",
    "isWeekend (Date 4 \"January\" 2025)  \n",
    "--isWeekend (Date 1 \"January\" 2024)  \n",
    "\"-------------------\"\n",
    "isWeekend (Date 2 \"January\" 2027)  \n",
    "isWeekend (Date 3 \"January\" 2027)\n",
    "\"-------------------------------\"\n",
    "isWeekend (Date 2 \"February\" 2027)  \n",
    "isWeekend (Date 27 \"February\" 2027)  "
   ]
  },
  {
   "cell_type": "code",
   "execution_count": null,
   "metadata": {},
   "outputs": [],
   "source": [
    "isWeekend (Date 5 \"January\" 2025)"
   ]
  },
  {
   "cell_type": "code",
   "execution_count": null,
   "metadata": {},
   "outputs": [],
   "source": [
    "let startDate = Date 30 \"December\" 2025\n",
    "let holidays = [Date 1 \"January\" 2026,  Date 6 \"January\" 2026]\n",
    "nextWorkingDate 4 startDate holidays\n"
   ]
  },
  {
   "cell_type": "code",
   "execution_count": null,
   "metadata": {},
   "outputs": [],
   "source": [
    "isWeekend (Date 3 \"January\" 2026)"
   ]
  },
  {
   "cell_type": "code",
   "execution_count": null,
   "metadata": {},
   "outputs": [],
   "source": [
    "-- Determine si una fecha es fin de semana (sábado o domingo)\n",
    "isWeekend :: Date -> Bool\n",
    "isWeekend date =\n",
    "  let daysFromStart = daysSinceReference date\n",
    "      dayOfWeek = (daysFromStart + 4) `mod` 7  -- Offset por miércoles 1 de enero de 2025\n",
    "  in dayOfWeek `elem` [3, 4]  -- Sábado (3) y domingo (4)\n",
    "\n",
    "-- Calcula los días transcurridos desde el 1 de enero de 2025\n",
    "daysSinceReference :: Date -> Int\n",
    "daysSinceReference (Date day month year)\n",
    "  | year >= 2025 = daysFromStart2025 + daysFromYears 2025 year\n",
    "  | otherwise = -(daysFromStart2025 + daysFromYears year 2025)\n",
    "  where\n",
    "    monthsBetween :: String -> String -> [String]\n",
    "    monthsBetween start end\n",
    "      | start == end = [start]\n",
    "      | otherwise = start : monthsBetween (nextMonth start) end\n",
    "    -- Días desde el 1 de enero hasta la fecha en el mismo año\n",
    "    daysFromStart2025 = sum (map (daysInMonth year) (monthsBetween \"January\" month)) + (day - 1)\n",
    "    -- Días totales para años completos entre dos años\n",
    "    daysFromYears start end = sum [if isLeapYear y then 366 else 365 | y <- [start .. end - 1]]\n",
    "\n",
    "-- Resto de las funciones siguen igual...\n",
    "\n",
    "-- Días en cada mes considerando años bisiestos\n",
    "daysInMonth :: Int -> String -> Int\n",
    "daysInMonth year month\n",
    "  | month `elem` [\"January\", \"March\", \"May\", \"July\", \"August\", \"October\", \"December\"] = 31\n",
    "  | month `elem` [\"April\", \"June\", \"September\", \"November\"] = 30\n",
    "  | month == \"February\" = if isLeapYear year then 29 else 28\n",
    "  | otherwise = error \"Mes inválido\"\n",
    "\n",
    "-- Comprueba si un año es bisiesto\n",
    "isLeapYear :: Int -> Bool\n",
    "isLeapYear year = (year `mod` 4 == 0 && year `mod` 100 /= 0) || (year `mod` 400 == 0)\n",
    "\n",
    "-- Mes siguiente\n",
    "nextMonth :: String -> String\n",
    "nextMonth \"January\" = \"February\"\n",
    "nextMonth \"February\" = \"March\"\n",
    "nextMonth \"March\" = \"April\"\n",
    "nextMonth \"April\" = \"May\"\n",
    "nextMonth \"May\" = \"June\"\n",
    "nextMonth \"June\" = \"July\"\n",
    "nextMonth \"July\" = \"August\"\n",
    "nextMonth \"August\" = \"September\"\n",
    "nextMonth \"September\" = \"October\"\n",
    "nextMonth \"October\" = \"November\"\n",
    "nextMonth \"November\" = \"December\"\n",
    "nextMonth \"December\" = error \"No hay mes siguiente después de diciembre\"\n",
    "nextMonth _ = error \"Mes inválido\"\n"
   ]
  },
  {
   "cell_type": "code",
   "execution_count": null,
   "metadata": {},
   "outputs": [],
   "source": [
    "isWeekend (Date 5 \"January\" 2025)\n",
    "\n",
    "isWeekend (Date 4 \"January\" 2025)  \n",
    "\n",
    "isWeekend (Date 4 \"March\" 2025)  \n",
    "isWeekend (Date 5 \"March\" 2025)"
   ]
  },
  {
   "cell_type": "code",
   "execution_count": null,
   "metadata": {},
   "outputs": [],
   "source": [
    "isWeekend (Date 27 \"February\" 2027)  \n",
    "isWeekend (Date 4 \"January\" 2025)  \n",
    "isWeekend (Date 1 \"January\" 2024)  \n",
    "\"-------------------\"\n",
    "isWeekend (Date 2 \"January\" 2027)  \n",
    "isWeekend (Date 3 \"January\" 2027)\n",
    "\"-------------------------------\"\n",
    "isWeekend (Date 2 \"February\" 2027)  \n",
    "isWeekend (Date 27 \"February\" 2027)  \n"
   ]
  },
  {
   "cell_type": "markdown",
   "metadata": {},
   "source": [
    "### Prueba aislada 9"
   ]
  },
  {
   "cell_type": "code",
   "execution_count": null,
   "metadata": {},
   "outputs": [],
   "source": [
    "-- Mapeo de meses y días\n",
    "months :: [(String, Int)]\n",
    "months =\n",
    "  [ (\"January\", 1), (\"February\", 2), (\"March\", 3), (\"April\", 4),\n",
    "    (\"May\", 5), (\"June\", 6), (\"July\", 7), (\"August\", 8),\n",
    "    (\"September\", 9), (\"October\", 10), (\"November\", 11), (\"December\", 12) ]\n",
    "\n",
    "-- Días por mes considerando años bisiestos\n",
    "daysInMonth :: String -> Int -> Int\n",
    "daysInMonth \"February\" year = if isLeapYear year then 29 else 28\n",
    "daysInMonth month _\n",
    "  | month `elem` [\"April\", \"June\", \"September\", \"November\"] = 30\n",
    "  | otherwise = 31\n",
    "\n",
    "isLeapYear :: Int -> Bool\n",
    "isLeapYear year\n",
    "  | year `mod` 400 == 0 = True\n",
    "  | year `mod` 100 == 0 = False\n",
    "  | year `mod` 4 == 0 = True\n",
    "  | otherwise = False\n",
    "\n",
    "-- Función para avanzar días\n",
    "addDays :: Int -> Date -> Date\n",
    "addDays 0 date = date\n",
    "addDays n (Date d m y)\n",
    "  | n + d <= daysInMonth m y = Date (d + n) m y -- El día resultante cae dentro del mes actual\n",
    "  | otherwise =\n",
    "      let daysLeft = n - (daysInMonth m y - d) -- Días que sobran después de llenar el mes actual\n",
    "          (nextMonth, nextYear) = nextMonthYear m y -- Cambiamos al siguiente mes y año si es necesario\n",
    "      in addDays (daysLeft - 1) (Date 1 nextMonth nextYear) -- Reiniciamos el día al 1 y seguimos\n",
    "\n",
    "\n",
    "nextMonthYear :: String -> Int -> (String, Int)\n",
    "nextMonthYear \"December\" year = (\"January\", year + 1)\n",
    "nextMonthYear month year =\n",
    "  case lookup month months of\n",
    "    Just num -> case lookup (num + 1) (map (\\(m, n) -> (n, m)) months) of\n",
    "                  Just next -> (next, year)\n",
    "                  Nothing -> error \"Invalid month\"\n",
    "    Nothing -> error \"Invalid month\"\n",
    "\n",
    "-- Cálculo de días entre fechas\n",
    "daysFromStartOfYear :: Date -> Int\n",
    "daysFromStartOfYear (Date d m y) =\n",
    "  let monthDays = sum [daysInMonth month y | (month, _) <- takeWhile ((/= m) . fst) months]\n",
    "  in monthDays + d\n",
    "\n",
    "daysUntilEndOfYear :: Date -> Int\n",
    "daysUntilEndOfYear (Date d m y) =\n",
    "  let monthDays = sum [daysInMonth month y | (month, _) <- dropWhile ((/= m) . fst) months]\n",
    "  in monthDays - d\n",
    "\n",
    "daysInYear :: Int -> Int\n",
    "daysInYear year = if isLeapYear year then 366 else 365\n",
    "\n",
    "daysBetween :: Date -> Date -> Int\n",
    "daysBetween (Date d1 m1 y1) (Date d2 m2 y2)\n",
    "  | y1 == y2 = daysFromStartOfYear (Date d2 m2 y2) - daysFromStartOfYear (Date d1 m1 y1)\n",
    "  | otherwise =\n",
    "      let daysFirstYear = daysUntilEndOfYear (Date d1 m1 y1)\n",
    "          daysLastYear = daysFromStartOfYear (Date d2 m2 y2)\n",
    "          daysInMiddleYears = sum [daysInYear year | year <- [y1 + 1 .. y2 - 1]]\n",
    "      in daysFirstYear + daysInMiddleYears + daysLastYear\n",
    "\n",
    "-- Día de la semana\n",
    "daysOfWeek :: [String]\n",
    "daysOfWeek = [\"Monday\", \"Tuesday\", \"Wednesday\", \"Thursday\", \"Friday\", \"Saturday\", \"Sunday\"]\n",
    "\n",
    "dayOfWeek :: Date -> String\n",
    "dayOfWeek (Date d m y) =\n",
    "  let refDate = Date 1 \"January\" 2025 -- Miércoles\n",
    "      daysDiff = daysBetween refDate (Date d m y)\n",
    "  in daysOfWeek !! ((2 + daysDiff) `mod` 7)\n",
    "\n",
    "-- Validar si es día laborable\n",
    "isWorkingDay :: Date -> [Date] -> Bool\n",
    "isWorkingDay date holidays =\n",
    "  let weekday = dayOfWeek date\n",
    "  in weekday `notElem` [\"Saturday\", \"Sunday\"] && date `notElem` holidays\n",
    "\n",
    "-- Próxima fecha laborable\n",
    "nextWorkingDate :: Int -> Date -> [Date] -> Date\n",
    "nextWorkingDate days startDate holidays =\n",
    "  let targetDate = addDays days startDate\n",
    "  in if isWorkingDay targetDate holidays\n",
    "       then targetDate\n",
    "       else nextWorkingDate 1 targetDate holidays"
   ]
  },
  {
   "cell_type": "code",
   "execution_count": null,
   "metadata": {
    "scrolled": true
   },
   "outputs": [
    {
     "data": {
      "text/plain": [
       "2 January 2025"
      ]
     },
     "metadata": {},
     "output_type": "display_data"
    },
    {
     "data": {
      "text/plain": [
       "13 January 2025"
      ]
     },
     "metadata": {},
     "output_type": "display_data"
    },
    {
     "data": {
      "text/plain": [
       "\"Sunday\""
      ]
     },
     "metadata": {},
     "output_type": "display_data"
    }
   ],
   "source": [
    "let startDate = Date 1 \"January\" 2025\n",
    "    holidays = [Date 1 \"January\" 2025,Date 6 \"January\" 2025] -- Ejemplo: Día de Reyes\n",
    "nextWorkingDate 1 startDate holidays\n",
    "nextWorkingDate 10 startDate holidays\n",
    "dayOfWeek (Date 5 \"January\" 2025)"
   ]
  },
  {
   "cell_type": "code",
   "execution_count": null,
   "metadata": {},
   "outputs": [
    {
     "data": {
      "text/plain": [
       "2 January 2026"
      ]
     },
     "metadata": {},
     "output_type": "display_data"
    },
    {
     "data": {
      "text/plain": [
       "9 January 2026"
      ]
     },
     "metadata": {},
     "output_type": "display_data"
    },
    {
     "data": {
      "text/plain": [
       "\"Monday\""
      ]
     },
     "metadata": {},
     "output_type": "display_data"
    },
    {
     "data": {
      "text/plain": [
       "\"------------\""
      ]
     },
     "metadata": {},
     "output_type": "display_data"
    },
    {
     "data": {
      "text/plain": [
       "(\"January\",2026)"
      ]
     },
     "metadata": {},
     "output_type": "display_data"
    },
    {
     "data": {
      "text/plain": [
       "2"
      ]
     },
     "metadata": {},
     "output_type": "display_data"
    }
   ],
   "source": [
    "let startDate = Date 30 \"December\" 2025\n",
    "    holidays = [Date 1 \"January\" 2026,Date 6 \"January\" 2026] -- Ejemplo: Día de Reyes\n",
    "--addDays 2 startDate\n",
    "nextWorkingDate 2 startDate holidays\n",
    "nextWorkingDate 10 startDate holidays\n",
    "dayOfWeek (Date 5 \"January\" 2026)\n",
    "\"------------\"\n",
    "nextMonthYear \"December\" 2025\n",
    "2 - (daysInMonth \"December\" 2025 - 31)"
   ]
  },
  {
   "cell_type": "code",
   "execution_count": null,
   "metadata": {},
   "outputs": [
    {
     "data": {
      "text/plain": [
       "4 January 2027"
      ]
     },
     "metadata": {},
     "output_type": "display_data"
    },
    {
     "data": {
      "text/plain": [
       "11 January 2027"
      ]
     },
     "metadata": {},
     "output_type": "display_data"
    },
    {
     "data": {
      "text/plain": [
       "\"Tuesday\""
      ]
     },
     "metadata": {},
     "output_type": "display_data"
    },
    {
     "data": {
      "text/plain": [
       "\"Sunday\""
      ]
     },
     "metadata": {},
     "output_type": "display_data"
    },
    {
     "data": {
      "text/plain": [
       "\"Monday\""
      ]
     },
     "metadata": {},
     "output_type": "display_data"
    },
    {
     "data": {
      "text/plain": [
       "\"Tuesday\""
      ]
     },
     "metadata": {},
     "output_type": "display_data"
    },
    {
     "data": {
      "text/plain": [
       "\"Wednesday\""
      ]
     },
     "metadata": {},
     "output_type": "display_data"
    }
   ],
   "source": [
    "let startDate = Date 31 \"December\" 2026\n",
    "    holidays = [Date 1 \"January\" 2027,Date 6 \"January\" 2027] -- Ejemplo: Día de Reyes\n",
    "nextWorkingDate 2 startDate holidays\n",
    "nextWorkingDate 10 startDate holidays\n",
    "dayOfWeek (Date 5 \"January\" 2027)\n",
    "dayOfWeek (Date 27 \"February\" 2028)\n",
    "dayOfWeek (Date 28 \"February\" 2028)\n",
    "dayOfWeek (Date 29 \"February\" 2028)\n",
    "dayOfWeek (Date 1 \"March\" 2028)"
   ]
  },
  {
   "cell_type": "code",
   "execution_count": null,
   "metadata": {},
   "outputs": [],
   "source": []
  },
  {
   "cell_type": "code",
   "execution_count": null,
   "metadata": {},
   "outputs": [],
   "source": [
    "let startDate = Date 31 \"December\" 2025\n",
    "    holidays = [Date 1 \"January\" 2026,Date 6 \"January\" 2026] -- Ejemplo: Día de Reyes\n",
    "nextWorkingDate 2 startDate holidays\n",
    "nextWorkingDate 10 startDate holidays\n",
    "dayOfWeek (Date 5 \"January\" 2026)\n",
    "dayOfWeek (Date 12 \"January\" 2026)"
   ]
  },
  {
   "cell_type": "code",
   "execution_count": null,
   "metadata": {},
   "outputs": [],
   "source": [
    "let startDate = Date 31 \"December\" 2026\n",
    "    holidays = [Date 1 \"January\" 2027,Date 6 \"January\" 2027] -- Ejemplo: Día de Reyes\n",
    "nextWorkingDate 2 startDate holidays\n",
    "nextWorkingDate 10 startDate holidays\n",
    "dayOfWeek (Date 5 \"January\" 2027)\n",
    "dayOfWeek (Date 27 \"February\" 2028)\n",
    "dayOfWeek (Date 28 \"February\" 2028)\n",
    "dayOfWeek (Date 29 \"February\" 2028)\n",
    "dayOfWeek (Date 1 \"March\" 2028)"
   ]
  },
  {
   "cell_type": "code",
   "execution_count": 3,
   "metadata": {},
   "outputs": [],
   "source": []
  },
  {
   "cell_type": "code",
   "execution_count": null,
   "metadata": {},
   "outputs": [],
   "source": [
    "let startDate = Date 31 \"December\" 2025\n",
    "    holidays = [Date 1 \"January\" 2026,Date 6 \"January\" 2026] -- Ejemplo: Día de Reyes\n",
    "nextWorkingDate 2 startDate holidays\n",
    "nextWorkingDate 10 startDate holidays\n",
    "dayOfWeek (Date 5 \"January\" 2026)\n",
    "dayOfWeek (Date 12 \"January\" 2026)"
   ]
  },
  {
   "cell_type": "code",
   "execution_count": null,
   "metadata": {},
   "outputs": [],
   "source": [
    "let startDate = Date 31 \"December\" 2026\n",
    "    holidays = [Date 1 \"January\" 2027,Date 6 \"January\" 2027] -- Ejemplo: Día de Reyes\n",
    "nextWorkingDate 2 startDate holidays\n",
    "nextWorkingDate 10 startDate holidays\n",
    "dayOfWeek (Date 5 \"January\" 2027)\n",
    "dayOfWeek (Date 27 \"February\" 2028)\n",
    "dayOfWeek (Date 28 \"February\" 2028)\n",
    "dayOfWeek (Date 29 \"February\" 2028)\n",
    "dayOfWeek (Date 1 \"March\" 2028)"
   ]
  },
  {
   "cell_type": "code",
   "execution_count": 4,
   "metadata": {},
   "outputs": [
    {
     "data": {
      "text/plain": [
       "3 January 2026"
      ]
     },
     "metadata": {},
     "output_type": "display_data"
    }
   ],
   "source": [
    "let startDate = Date 31 \"December\" 2025\n",
    "    holidays = [Date 1 \"January\" 2026, Date 6 \"January\" 2026] -- Ejemplo: Día de Reyes\n",
    "\n",
    "-- Prueba de addDays\n",
    "addDays 2 startDate\n"
   ]
  },
  {
   "cell_type": "code",
   "execution_count": null,
   "metadata": {},
   "outputs": [],
   "source": []
  }
 ],
 "metadata": {
  "kernelspec": {
   "display_name": "Haskell",
   "language": "haskell",
   "name": "haskell"
  },
  "language_info": {
   "codemirror_mode": "ihaskell",
   "file_extension": ".hs",
   "mimetype": "text/x-haskell",
   "name": "haskell",
   "pygments_lexer": "Haskell",
   "version": "9.6.4"
  }
 },
 "nbformat": 4,
 "nbformat_minor": 2
}
