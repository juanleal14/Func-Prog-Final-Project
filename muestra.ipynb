{
 "cells": [
  {
   "cell_type": "markdown",
   "metadata": {},
   "source": [
    "# FINAL PROJECT: ÍÑIGO BARCELÓ ÁLVAREZ / JUAN LEAL ALIAGA"
   ]
  },
  {
   "cell_type": "markdown",
   "metadata": {},
   "source": [
    "## 1. Types to represent all the former concepts. An exhaustive type definition is required, use the most appropriate way (type, data or newtype) for each of them. "
   ]
  },
  {
   "cell_type": "code",
   "execution_count": 2,
   "metadata": {
    "vscode": {
     "languageId": "plaintext"
    }
   },
   "outputs": [],
   "source": [
    "data Date = Date \n",
    "  { day   :: Int\n",
    "  , month :: String\n",
    "  , year  :: Int\n",
    "  } deriving (Show, Eq, Ord)\n",
    "\n",
    "data Person = Person \n",
    "  { firstName :: String\n",
    "  , lastName  :: String\n",
    "  , birthDate :: Date\n",
    "  } deriving (Show, Eq)\n",
    "\n",
    "data Publication\n",
    "  = Book\n",
    "      { bookId    :: String       -- Unique signature\n",
    "      , author    :: Person       -- Single author\n",
    "      , title     :: String\n",
    "      , pages     :: Int\n",
    "      , copies    :: [Copy]       -- List of copies\n",
    "      }\n",
    "  | Journal\n",
    "      { journalId :: String       -- Unique signature\n",
    "      , authors   :: [Person]     -- Multiple authors\n",
    "      , title     :: String\n",
    "      , releaseDate :: Date\n",
    "      , pages     :: Int\n",
    "      , copies    :: [Copy]\n",
    "      }\n",
    "  | DVD\n",
    "      { dvdId     :: String       -- Unique signature\n",
    "      , director  :: Person       -- Director is a single person\n",
    "      , actors    :: [Person]     -- List of actors\n",
    "      , title     :: String\n",
    "      , releaseDate :: Date\n",
    "      , duration  :: Int          -- Duration in minutes\n",
    "      , copies    :: [Copy]\n",
    "      }\n",
    "  deriving (Show, Eq)\n",
    "\n",
    "data Copy = Copy\n",
    "  { isBorrowed  :: Bool\n",
    "  , borrower    :: Maybe User    -- User who borrowed the copy (if any)\n",
    "  , loanDate    :: Maybe Date    -- Loan date (if borrowed)\n",
    "  , returnDate  :: Maybe Date    -- Expected return date (if borrowed)\n",
    "  } deriving (Show, Eq)\n",
    "\n",
    "data User\n",
    "  = Student \n",
    "      { studentName :: Person\n",
    "      , borrowed    :: [Copy]    -- Currently borrowed copies (¿MAX?)\n",
    "      }\n",
    "  | Professor\n",
    "      { professorName :: Person\n",
    "      , borrowed      :: [Copy] -- ¿MAX?\n",
    "      }\n",
    "  \n",
    "  deriving (Show, Eq)\n",
    "\n",
    "type Catalog = [Publication]"
   ]
  },
  {
   "cell_type": "markdown",
   "metadata": {},
   "source": [
    "## 2. Functions to show the former concepts in a pretty way. "
   ]
  },
  {
   "cell_type": "code",
   "execution_count": 3,
   "metadata": {
    "vscode": {
     "languageId": "plaintext"
    }
   },
   "outputs": [],
   "source": [
    "instance Show Date where\n",
    "  show (Date d m y) = show d ++ \" \" ++ m ++ \" \" ++ show y\n",
    "  \n",
    "instance Show Person where\n",
    "  show (Person fName lName bDate) = \n",
    "    fName ++ \" \" ++ lName ++ \" (\" ++ show bDate ++ \")\"\n",
    "    \n",
    "instance Show Copy where\n",
    "  show (Copy isB mbUser mbLoanDate mbReturnDate)\n",
    "    | isB = \"Borrowed by \" ++ maybe \"Unknown\" show mbUser ++\n",
    "            \" | Loan Date: \" ++ maybe \"N/A\" show mbLoanDate ++\n",
    "            \" | Return Date: \" ++ maybe \"N/A\" show mbReturnDate\n",
    "    | otherwise = \"Available\"\n",
    "    \n",
    "instance Show Publication where\n",
    "  show (Book id author title pages copies) =\n",
    "    \"Book [\" ++ id ++ \"]\\n\" ++\n",
    "    \"  Title: \" ++ title ++ \"\\n\" ++\n",
    "    \"  Author: \" ++ show author ++ \"\\n\" ++\n",
    "    \"  Pages: \" ++ show pages ++ \"\\n\" ++\n",
    "    \"  Copies: \" ++ show (length $ filter (not . isBorrowed) copies) ++ \"/\" ++ show (length copies) ++ \" available\\n\" ++\n",
    "    unlines (map show copies)\n",
    "\n",
    "  show (Journal id authors title releaseDate pages copies) =\n",
    "    \"Journal [\" ++ id ++ \"]\\n\" ++\n",
    "    \"  Title: \" ++ title ++ \"\\n\" ++\n",
    "    \"  Authors: \" ++ unwords (map show authors) ++ \"\\n\" ++\n",
    "    \"  Release Date: \" ++ show releaseDate ++ \"\\n\" ++\n",
    "    \"  Pages: \" ++ show pages ++ \"\\n\" ++\n",
    "    \"  Copies: \" ++ show (length $ filter (not . isBorrowed) copies) ++ \"/\" ++ show (length copies) ++ \" available\\n\" ++\n",
    "    unlines (map show copies)\n",
    "\n",
    "  show (DVD id director actors title releaseDate duration copies) =\n",
    "    \"DVD [\" ++ id ++ \"]\\n\" ++\n",
    "    \"  Title: \" ++ title ++ \"\\n\" ++\n",
    "    \"  Director: \" ++ show director ++ \"\\n\" ++\n",
    "    \"  Actors: \" ++ unwords (map show actors) ++ \"\\n\" ++\n",
    "    \"  Release Date: \" ++ show releaseDate ++ \"\\n\" ++\n",
    "    \"  Duration: \" ++ show duration ++ \" minutes\\n\" ++\n",
    "    \"  Copies: \" ++ show (length $ filter (not . isBorrowed) copies) ++ \"/\" ++ show (length copies) ++ \" available\\n\" ++\n",
    "    unlines (map show copies)\n",
    "    \n",
    "instance Show User where\n",
    "  show (Student p borrowed) =\n",
    "    \"Student: \" ++ show p ++ \"\\n\" ++\n",
    "    \"  Borrowed: \" ++ show (length borrowed) ++ \" items\"\n",
    "\n",
    "  show (Professor p borrowed) =\n",
    "    \"Professor: \" ++ show p ++ \"\\n\" ++\n",
    "    \"  Borrowed: \" ++ show (length borrowed) ++ \" items\"\n",
    "instance Eq User where\n",
    "  (Student p1 _) == (Student p2 _) = p1 == p2\n",
    "  (Professor p1 _) == (Professor p2 _) = p1 == p2\n",
    "  _ == _ = False\n",
    "    \n",
    "prettyCatalog :: Catalog -> String\n",
    "prettyCatalog = unlines . map show\n"
   ]
  },
  {
   "cell_type": "code",
   "execution_count": 3,
   "metadata": {
    "vscode": {
     "languageId": "plaintext"
    }
   },
   "outputs": [
    {
     "data": {
      "text/plain": [
       "18 November 2024"
      ]
     },
     "metadata": {},
     "output_type": "display_data"
    },
    {
     "data": {
      "text/plain": [
       "John Doe (10 January 1980)"
      ]
     },
     "metadata": {},
     "output_type": "display_data"
    },
    {
     "data": {
      "text/plain": [
       "Book [B001]\n",
       "  Title: Functional Programming in Haskell\n",
       "  Author: John Doe (10 January 1980)\n",
       "  Pages: 300\n",
       "  Copies: 1/1 available\n",
       "Available"
      ]
     },
     "metadata": {},
     "output_type": "display_data"
    },
    {
     "data": {
      "text/plain": [
       "Student: Alice Smith (5 May 2001)\n",
       "  Borrowed: 0 items"
      ]
     },
     "metadata": {},
     "output_type": "display_data"
    },
    {
     "data": {
      "text/plain": [
       "[Book [B001]\n",
       "  Title: Functional Programming in Haskell\n",
       "  Author: John Doe (10 January 1980)\n",
       "  Pages: 300\n",
       "  Copies: 1/1 available\n",
       "Available\n",
       "]"
      ]
     },
     "metadata": {},
     "output_type": "display_data"
    }
   ],
   "source": [
    "--Prueba\n",
    "exampleDate :: Date\n",
    "exampleDate = Date 18 \"November\" 2024\n",
    "\n",
    "author1 :: Person\n",
    "author1 = Person \"John\" \"Doe\" (Date 10 \"January\" 1980)\n",
    "\n",
    "exampleBook :: Publication\n",
    "exampleBook = Book \n",
    "  \"B001\" \n",
    "  author1 \n",
    "  \"Functional Programming in Haskell\" \n",
    "  300 \n",
    "  [Copy False Nothing Nothing Nothing]\n",
    "\n",
    "exampleStudent :: User\n",
    "exampleStudent = Student (Person \"Alice\" \"Smith\" (Date 5 \"May\" 2001)) []\n",
    "\n",
    "exampleCatalog :: Catalog\n",
    "exampleCatalog = [exampleBook]\n",
    "\n",
    "exampleDate\n",
    "\n",
    "author1\n",
    "\n",
    "exampleBook\n",
    "\n",
    "exampleStudent\n",
    "\n",
    "exampleCatalog\n"
   ]
  },
  {
   "cell_type": "code",
   "execution_count": 4,
   "metadata": {},
   "outputs": [
    {
     "data": {
      "text/plain": [
       "Book [B002]\n",
       "  Title: Pride and Prejudice\n",
       "  Author: Jane Austen (16 December 1775)\n",
       "  Pages: 432\n",
       "  Copies: 2/4 available\n",
       "Borrowed by Student: Alice Smith (5 May 2001)\n",
       "  Borrowed: 1 items | Loan Date: 10 November 2024 | Return Date: 10 December 2024\n",
       "Borrowed by Professor: Dr. Johnson (12 August 1975)\n",
       "  Borrowed: 1 items | Loan Date: 10 November 2024 | Return Date: 10 December 2024\n",
       "Available\n",
       "Available"
      ]
     },
     "metadata": {},
     "output_type": "display_data"
    },
    {
     "data": {
      "text/plain": [
       "[Book [B002]\n",
       "  Title: Pride and Prejudice\n",
       "  Author: Jane Austen (16 December 1775)\n",
       "  Pages: 432\n",
       "  Copies: 2/4 available\n",
       "Borrowed by Student: Alice Smith (5 May 2001)\n",
       "  Borrowed: 1 items | Loan Date: 10 November 2024 | Return Date: 10 December 2024\n",
       "Borrowed by Professor: Dr. Johnson (12 August 1975)\n",
       "  Borrowed: 1 items | Loan Date: 10 November 2024 | Return Date: 10 December 2024\n",
       "Available\n",
       "Available\n",
       "]"
      ]
     },
     "metadata": {},
     "output_type": "display_data"
    }
   ],
   "source": [
    "-- Ejemplo de fecha\n",
    "exampleLoanDate :: Date\n",
    "exampleLoanDate = Date 10 \"November\" 2024\n",
    "\n",
    "exampleReturnDate :: Date\n",
    "exampleReturnDate = Date 10 \"December\" 2024\n",
    "\n",
    "-- Ejemplo de personas\n",
    "student1 :: User\n",
    "student1 = Student (Person \"Alice\" \"Smith\" (Date 5 \"May\" 2001)) [Copy True (Just student1) (Just exampleLoanDate) (Just exampleReturnDate)]\n",
    "\n",
    "professor1 :: User\n",
    "professor1 = Professor (Person \"Dr.\" \"Johnson\" (Date 12 \"August\" 1975)) [Copy True (Just professor1) (Just exampleLoanDate) (Just exampleReturnDate)]\n",
    "\n",
    "-- Ejemplo de copias de un libro\n",
    "exampleCopies :: [Copy]\n",
    "exampleCopies = \n",
    "  [ Copy True (Just student1) (Just exampleLoanDate) (Just exampleReturnDate)  -- Prestada a un estudiante\n",
    "  , Copy True (Just professor1) (Just exampleLoanDate) (Just exampleReturnDate) -- Prestada a un profesor\n",
    "  , Copy False Nothing Nothing Nothing  -- Disponible\n",
    "  , Copy False Nothing Nothing Nothing  -- Disponible\n",
    "  ]\n",
    "\n",
    "-- Ejemplo de libro con varias copias\n",
    "exampleBookWithCopies :: Publication\n",
    "exampleBookWithCopies = Book\n",
    "  \"B002\"\n",
    "  (Person \"Jane\" \"Austen\" (Date 16 \"December\" 1775))\n",
    "  \"Pride and Prejudice\"\n",
    "  432\n",
    "  exampleCopies\n",
    "\n",
    "-- Catálogo con el libro\n",
    "exampleCatalogWithCopies :: Catalog\n",
    "exampleCatalogWithCopies = [exampleBookWithCopies]\n",
    "\n",
    "exampleBookWithCopies\n",
    "\n",
    "exampleCatalogWithCopies"
   ]
  },
  {
   "cell_type": "code",
   "execution_count": 5,
   "metadata": {},
   "outputs": [
    {
     "data": {
      "text/plain": [
       "\"Book [B002]\\n  Title: Pride and Prejudice\\n  Author: Jane Austen (16 December 1775)\\n  Pages: 432\\n  Copies: 2/4 available\\nBorrowed by Student: Alice Smith (5 May 2001)\\n  Borrowed: 1 items | Loan Date: 10 November 2024 | Return Date: 10 December 2024\\nBorrowed by Professor: Dr. Johnson (12 August 1975)\\n  Borrowed: 1 items | Loan Date: 10 November 2024 | Return Date: 10 December 2024\\nAvailable\\nAvailable\\n\\nBook [B003]\\n  Title: 1984\\n  Author: George Orwell (25 June 1903)\\n  Pages: 328\\n  Copies: 2/3 available\\nBorrowed by Student: Alice Smith (5 May 2001)\\n  Borrowed: 1 items | Loan Date: 1 November 2024 | Return Date: 8 November 2024\\nAvailable\\nAvailable\\n\\n\""
      ]
     },
     "metadata": {},
     "output_type": "display_data"
    }
   ],
   "source": [
    "-- Ejemplo de otro libro con copias\n",
    "exampleCopies2 :: [Copy]\n",
    "exampleCopies2 = \n",
    "  [ Copy True (Just student1) (Just (Date 1 \"November\" 2024)) (Just (Date 8 \"November\" 2024)) -- Prestada a un estudiante\n",
    "  , Copy False Nothing Nothing Nothing  -- Disponible\n",
    "  , Copy False Nothing Nothing Nothing  -- Disponible\n",
    "  ]\n",
    "\n",
    "exampleBookWithCopies2 :: Publication\n",
    "exampleBookWithCopies2 = Book\n",
    "  \"B003\"\n",
    "  (Person \"George\" \"Orwell\" (Date 25 \"June\" 1903))\n",
    "  \"1984\"\n",
    "  328\n",
    "  exampleCopies2\n",
    "\n",
    "-- Catálogo actualizado con ambos libros\n",
    "updatedCatalog :: Catalog\n",
    "updatedCatalog = exampleCatalogWithCopies ++ [exampleBookWithCopies2]\n",
    "\n",
    "-- Prueba de impresión del catálogo actualizado\n",
    "prettyCatalog updatedCatalog\n"
   ]
  },
  {
   "cell_type": "code",
   "execution_count": null,
   "metadata": {},
   "outputs": [],
   "source": []
  },
  {
   "cell_type": "markdown",
   "metadata": {},
   "source": [
    "## 3. An addToCatalog Publication Catalog function that adds a publication to the library catalog. If the publication is already in the catalog, its number of copies will be increased. "
   ]
  },
  {
   "cell_type": "code",
   "execution_count": 6,
   "metadata": {},
   "outputs": [
    {
     "data": {
      "text/plain": [
       "\"Book [B002]\\n  Title: Pride and Prejudice\\n  Author: Jane Austen (16 December 1775)\\n  Pages: 432\\n  Copies: 4/6 available\\nAvailable\\nAvailable\\nBorrowed by Student: Alice Smith (5 May 2001)\\n  Borrowed: 1 items | Loan Date: 10 November 2024 | Return Date: 10 December 2024\\nBorrowed by Professor: Dr. Johnson (12 August 1975)\\n  Borrowed: 1 items | Loan Date: 10 November 2024 | Return Date: 10 December 2024\\nAvailable\\nAvailable\\n\\nBook [B003]\\n  Title: 1984\\n  Author: George Orwell (25 June 1903)\\n  Pages: 328\\n  Copies: 2/3 available\\nBorrowed by Student: Alice Smith (5 May 2001)\\n  Borrowed: 1 items | Loan Date: 1 November 2024 | Return Date: 8 November 2024\\nAvailable\\nAvailable\\n\\nBook [B004]\\n  Title: Harry Potter and the Philosopher's Stone\\n  Author: J.K. Rowling (31 July 1965)\\n  Pages: 223\\n  Copies: 1/1 available\\nAvailable\\n\\n\""
      ]
     },
     "metadata": {},
     "output_type": "display_data"
    }
   ],
   "source": [
    "addToCatalog :: Publication -> Catalog -> Catalog\n",
    "addToCatalog pub [] = [pub]\n",
    "addToCatalog pub (p:ps)\n",
    "  | samePublication pub p = mergeCopies pub p : ps -- Si ya existe, combina las copias\n",
    "  | otherwise             = p : addToCatalog pub ps -- Si no, sigue buscando\n",
    "  where\n",
    "    -- Verifica si dos publicaciones son la misma basándose en su ID único\n",
    "    samePublication :: Publication -> Publication -> Bool\n",
    "    samePublication (Book id1 _ _ _ _) (Book id2 _ _ _ _) = id1 == id2\n",
    "    samePublication (Journal id1 _ _ _ _ _) (Journal id2 _ _ _ _ _) = id1 == id2\n",
    "    samePublication (DVD id1 _ _ _ _ _ _) (DVD id2 _ _ _ _ _ _) = id1 == id2\n",
    "    samePublication _ _ = False\n",
    "\n",
    "    -- Combina las copias de dos publicaciones iguales\n",
    "    mergeCopies :: Publication -> Publication -> Publication\n",
    "    mergeCopies (Book id1 author1 title1 pages1 copies1) (Book _ _ _ _ copies2) =\n",
    "      Book id1 author1 title1 pages1 (copies1 ++ copies2)\n",
    "    mergeCopies (Journal id1 authors1 title1 release1 pages1 copies1) (Journal _ _ _ _ _ copies2) =\n",
    "      Journal id1 authors1 title1 release1 pages1 (copies1 ++ copies2)\n",
    "    mergeCopies (DVD id1 director1 actors1 title1 release1 duration1 copies1) (DVD _ _ _ _ _ _ copies2) =\n",
    "      DVD id1 director1 actors1 title1 release1 duration1 (copies1 ++ copies2)\n",
    "    mergeCopies pub1 _ = pub1 -- Por seguridad, devuelve pub1 en otros casos\n",
    "\n",
    "-- Nueva copia para un libro existente\n",
    "newCopiesForPrideAndPrejudice :: [Copy]\n",
    "newCopiesForPrideAndPrejudice = \n",
    "  [ Copy False Nothing Nothing Nothing,  -- Nueva copia disponible\n",
    "    Copy False Nothing Nothing Nothing   -- Otra nueva copia disponible\n",
    "  ]\n",
    "\n",
    "-- Publicación con nuevas copias de \"Pride and Prejudice\"\n",
    "newPrideAndPrejudice :: Publication\n",
    "newPrideAndPrejudice = Book\n",
    "  \"B002\"\n",
    "  (Person \"Jane\" \"Austen\" (Date 16 \"December\" 1775))\n",
    "  \"Pride and Prejudice\"\n",
    "  432\n",
    "  newCopiesForPrideAndPrejudice\n",
    "\n",
    "-- Nuevo libro completamente nuevo\n",
    "newBook :: Publication\n",
    "newBook = Book\n",
    "  \"B004\"\n",
    "  (Person \"J.K.\" \"Rowling\" (Date 31 \"July\" 1965))\n",
    "  \"Harry Potter and the Philosopher's Stone\"\n",
    "  223\n",
    "  [Copy False Nothing Nothing Nothing]\n",
    "\n",
    "-- Actualizar el catálogo\n",
    "updatedCatalog2 :: Catalog\n",
    "updatedCatalog2 = addToCatalog newPrideAndPrejudice $ addToCatalog newBook updatedCatalog\n",
    "\n",
    "-- Prueba de impresión\n",
    "prettyCatalog updatedCatalog2\n"
   ]
  },
  {
   "cell_type": "code",
   "execution_count": 7,
   "metadata": {},
   "outputs": [
    {
     "data": {
      "text/plain": [
       "\"Book [B002]\\n  Title: Pride and Prejudice\\n  Author: Jane Austen (16 December 1775)\\n  Pages: 432\\n  Copies: 4/6 available\\nAvailable\\nAvailable\\nBorrowed by Student: Alice Smith (5 May 2001)\\n  Borrowed: 1 items | Loan Date: 10 November 2024 | Return Date: 10 December 2024\\nBorrowed by Professor: Dr. Johnson (12 August 1975)\\n  Borrowed: 1 items | Loan Date: 10 November 2024 | Return Date: 10 December 2024\\nAvailable\\nAvailable\\n\\nBook [B003]\\n  Title: 1984\\n  Author: George Orwell (25 June 1903)\\n  Pages: 328\\n  Copies: 2/3 available\\nBorrowed by Student: Alice Smith (5 May 2001)\\n  Borrowed: 1 items | Loan Date: 1 November 2024 | Return Date: 8 November 2024\\nAvailable\\nAvailable\\n\\nBook [B004]\\n  Title: Harry Potter and the Philosopher's Stone\\n  Author: J.K. Rowling (31 July 1965)\\n  Pages: 223\\n  Copies: 3/3 available\\nAvailable\\nAvailable\\nAvailable\\n\\n\""
      ]
     },
     "metadata": {},
     "output_type": "display_data"
    }
   ],
   "source": [
    "-- Nuevas copias para \"Harry Potter and the Philosopher's Stone\"\n",
    "newCopiesForHarryPotter :: [Copy]\n",
    "newCopiesForHarryPotter = \n",
    "  [ Copy False Nothing Nothing Nothing,  -- Nueva copia disponible\n",
    "    Copy False Nothing Nothing Nothing   -- Otra nueva copia disponible\n",
    "  ]\n",
    "\n",
    "-- Publicación con nuevas copias de \"Harry Potter\"\n",
    "newBook2 :: Publication\n",
    "newBook2 = Book\n",
    "  \"B004\"\n",
    "  (Person \"J.K.\" \"Rowling\" (Date 31 \"July\" 1965))\n",
    "  \"Harry Potter and the Philosopher's Stone\"\n",
    "  223\n",
    "  newCopiesForHarryPotter\n",
    "\n",
    "-- Actualizar el catálogo con newBook2 (se fusionan las copias)\n",
    "finalCatalog :: Catalog\n",
    "finalCatalog = addToCatalog newBook2 updatedCatalog2\n",
    "\n",
    "-- Prueba de impresión\n",
    "prettyCatalog finalCatalog\n"
   ]
  },
  {
   "cell_type": "markdown",
   "metadata": {},
   "source": [
    "## 4. A removeFromCatalog Publication Catalog that removes a copy of the publication from the library catalog. If it is the last copy, the publication will be removed. If the catalog does not contain that publication an error will be raised."
   ]
  },
  {
   "cell_type": "code",
   "execution_count": 8,
   "metadata": {},
   "outputs": [],
   "source": [
    "removeFromCatalog :: Publication -> Catalog -> Either String Catalog\n",
    "removeFromCatalog pub [] = Left \"Error: The publication is not in the catalog.\"\n",
    "removeFromCatalog pub (p:ps)\n",
    "  | samePublication pub p =\n",
    "      let updatedPub = removeCopy pub\n",
    "      in if noCopiesLeft updatedPub\n",
    "         then Right ps -- Elimina la publicación completamente\n",
    "         else Right (updatedPub : ps) -- Actualiza la publicación\n",
    "  | otherwise = fmap (p :) (removeFromCatalog pub ps) -- Sigue buscando\n",
    "  where\n",
    "    -- Verifica si dos publicaciones son iguales por su ID único\n",
    "    samePublication :: Publication -> Publication -> Bool\n",
    "    samePublication (Book id1 _ _ _ _) (Book id2 _ _ _ _) = id1 == id2\n",
    "    samePublication (Journal id1 _ _ _ _ _) (Journal id2 _ _ _ _ _) = id1 == id2\n",
    "    samePublication (DVD id1 _ _ _ _ _ _) (DVD id2 _ _ _ _ _ _) = id1 == id2\n",
    "    samePublication _ _ = False\n",
    "\n",
    "    -- Elimina una copia de la publicación (la primera disponible o prestada)\n",
    "    removeCopy :: Publication -> Publication\n",
    "    removeCopy (Book id1 author1 title1 pages1 copies1) =\n",
    "      Book id1 author1 title1 pages1 (tail copies1)\n",
    "    removeCopy (Journal id1 authors1 title1 release1 pages1 copies1) =\n",
    "      Journal id1 authors1 title1 release1 pages1 (tail copies1)\n",
    "    removeCopy (DVD id1 director1 actors1 title1 release1 duration1 copies1) =\n",
    "      DVD id1 director1 actors1 title1 release1 duration1 (tail copies1)\n",
    "    removeCopy pub = pub -- Por seguridad\n",
    "\n",
    "    -- Verifica si no quedan copias en la publicación\n",
    "    noCopiesLeft :: Publication -> Bool\n",
    "    noCopiesLeft (Book _ _ _ _ copies1)    = null copies1\n",
    "    noCopiesLeft (Journal _ _ _ _ _ copies1) = null copies1\n",
    "    noCopiesLeft (DVD _ _ _ _ _ _ copies1) = null copies1\n"
   ]
  },
  {
   "cell_type": "code",
   "execution_count": 9,
   "metadata": {},
   "outputs": [
    {
     "data": {
      "text/plain": [
       "[Book [B002]\n",
       "  Title: Pride and Prejudice\n",
       "  Author: Jane Austen (16 December 1775)\n",
       "  Pages: 432\n",
       "  Copies: 4/6 available\n",
       "Available\n",
       "Available\n",
       "Borrowed by Student: Alice Smith (5 May 2001)\n",
       "  Borrowed: 1 items | Loan Date: 10 November 2024 | Return Date: 10 December 2024\n",
       "Borrowed by Professor: Dr. Johnson (12 August 1975)\n",
       "  Borrowed: 1 items | Loan Date: 10 November 2024 | Return Date: 10 December 2024\n",
       "Available\n",
       "Available\n",
       ",Book [B003]\n",
       "  Title: 1984\n",
       "  Author: George Orwell (25 June 1903)\n",
       "  Pages: 328\n",
       "  Copies: 2/3 available\n",
       "Borrowed by Student: Alice Smith (5 May 2001)\n",
       "  Borrowed: 1 items | Loan Date: 1 November 2024 | Return Date: 8 November 2024\n",
       "Available\n",
       "Available\n",
       ",Book [B004]\n",
       "  Title: Harry Potter and the Philosopher's Stone\n",
       "  Author: J.K. Rowling (31 July 1965)\n",
       "  Pages: 223\n",
       "  Copies: 3/3 available\n",
       "Available\n",
       "Available\n",
       "Available\n",
       "]"
      ]
     },
     "metadata": {},
     "output_type": "display_data"
    },
    {
     "data": {
      "text/plain": [
       "Book [B002]\n",
       "  Title: Pride and Prejudice\n",
       "  Author: Jane Austen (16 December 1775)\n",
       "  Pages: 432\n",
       "  Copies: 2/4 available\n",
       "Borrowed by Student: Alice Smith (5 May 2001)\n",
       "  Borrowed: 1 items | Loan Date: 10 November 2024 | Return Date: 10 December 2024\n",
       "Borrowed by Professor: Dr. Johnson (12 August 1975)\n",
       "  Borrowed: 1 items | Loan Date: 10 November 2024 | Return Date: 10 December 2024\n",
       "Available\n",
       "Available"
      ]
     },
     "metadata": {},
     "output_type": "display_data"
    },
    {
     "data": {
      "text/plain": [
       "Right [Book [B002]\n",
       "  Title: Pride and Prejudice\n",
       "  Author: Jane Austen (16 December 1775)\n",
       "  Pages: 432\n",
       "  Copies: 2/3 available\n",
       "Borrowed by Professor: Dr. Johnson (12 August 1975)\n",
       "  Borrowed: 1 items | Loan Date: 10 November 2024 | Return Date: 10 December 2024\n",
       "Available\n",
       "Available\n",
       ",Book [B003]\n",
       "  Title: 1984\n",
       "  Author: George Orwell (25 June 1903)\n",
       "  Pages: 328\n",
       "  Copies: 2/3 available\n",
       "Borrowed by Student: Alice Smith (5 May 2001)\n",
       "  Borrowed: 1 items | Loan Date: 1 November 2024 | Return Date: 8 November 2024\n",
       "Available\n",
       "Available\n",
       ",Book [B004]\n",
       "  Title: Harry Potter and the Philosopher's Stone\n",
       "  Author: J.K. Rowling (31 July 1965)\n",
       "  Pages: 223\n",
       "  Copies: 3/3 available\n",
       "Available\n",
       "Available\n",
       "Available\n",
       "]"
      ]
     },
     "metadata": {},
     "output_type": "display_data"
    }
   ],
   "source": [
    "-- Catálogo inicial\n",
    "\n",
    "catalogForRemoval :: Catalog\n",
    "catalogForRemoval = finalCatalog\n",
    "finalCatalog\n",
    "exampleBookWithCopies\n",
    "-- Eliminar una copia de \"Pride and Prejudice\"\n",
    "result1 :: Either String Catalog\n",
    "result1 = removeFromCatalog exampleBookWithCopies catalogForRemoval\n",
    "result1\n",
    "-- Eliminar \"1984\" completamente\n",
    "{-result2 :: Either String Catalog\n",
    "result2 = removeFromCatalog (Book \"B003\" undefined undefined undefined undefined) <$> result1\n",
    "result2\n",
    "-- Intentar eliminar una publicación inexistente\n",
    "result3 :: Either String Catalog\n",
    "result3 = removeFromCatalog (Book \"B999\" undefined undefined undefined undefined) <$> result2\n",
    "-}\n",
    "-- Prueba de impresión de resultados\n",
    "printCatalogResult :: Either String Catalog -> IO ()\n",
    "printCatalogResult (Left err) = putStrLn $ \"Error: \" ++ err\n",
    "printCatalogResult (Right catalog) = putStrLn $ prettyCatalog catalog\n",
    "\n",
    "\n",
    "   --result1\n",
    "  --t (removeFromCatalog exampleBookWithCopies catalogForRemoval) \n",
    "  --printCatalogResult result1\n",
    "  \n",
    "  --printCatalogResult result3\n"
   ]
  },
  {
   "cell_type": "code",
   "execution_count": 10,
   "metadata": {},
   "outputs": [
    {
     "data": {
      "text/plain": [
       "Book [B002]\n",
       "  Title: Pride and Prejudice\n",
       "  Author: Jane Austen (16 December 1775)\n",
       "  Pages: 432\n",
       "  Copies: 2/4 available\n",
       "Borrowed by Student: Alice Smith (5 May 2001)\n",
       "  Borrowed: 1 items | Loan Date: 10 November 2024 | Return Date: 10 December 2024\n",
       "Borrowed by Professor: Dr. Johnson (12 August 1975)\n",
       "  Borrowed: 1 items | Loan Date: 10 November 2024 | Return Date: 10 December 2024\n",
       "Available\n",
       "Available"
      ]
     },
     "metadata": {},
     "output_type": "display_data"
    },
    {
     "data": {
      "text/plain": [
       "[Book [B002]\n",
       "  Title: Pride and Prejudice\n",
       "  Author: Jane Austen (16 December 1775)\n",
       "  Pages: 432\n",
       "  Copies: 2/4 available\n",
       "Borrowed by Student: Alice Smith (5 May 2001)\n",
       "  Borrowed: 1 items | Loan Date: 10 November 2024 | Return Date: 10 December 2024\n",
       "Borrowed by Professor: Dr. Johnson (12 August 1975)\n",
       "  Borrowed: 1 items | Loan Date: 10 November 2024 | Return Date: 10 December 2024\n",
       "Available\n",
       "Available\n",
       "]"
      ]
     },
     "metadata": {},
     "output_type": "display_data"
    },
    {
     "data": {
      "text/plain": [
       "Right [Book [B002]\n",
       "  Title: Pride and Prejudice\n",
       "  Author: Jane Austen (16 December 1775)\n",
       "  Pages: 432\n",
       "  Copies: 2/3 available\n",
       "Borrowed by Professor: Dr. Johnson (12 August 1975)\n",
       "  Borrowed: 1 items | Loan Date: 10 November 2024 | Return Date: 10 December 2024\n",
       "Available\n",
       "Available\n",
       "]"
      ]
     },
     "metadata": {},
     "output_type": "display_data"
    }
   ],
   "source": [
    "exampleBookWithCopies\n",
    "exampleCatalogWithCopies\n",
    "removeFromCatalog exampleBookWithCopies exampleCatalogWithCopies"
   ]
  },
  {
   "cell_type": "markdown",
   "metadata": {},
   "source": [
    "## 5. A borrowedPublications User Catalog function that returns the publications the user has borrowed. They must be sort by closest return date, in case of tie in return date, it will first show books, then journals and finally DVDs. "
   ]
  },
  {
   "cell_type": "code",
   "execution_count": 26,
   "metadata": {},
   "outputs": [
    {
     "data": {
      "text/html": [
       "<style>/* Styles used for the Hoogle display in the pager */\n",
       ".hoogle-doc {\n",
       "display: block;\n",
       "padding-bottom: 1.3em;\n",
       "padding-left: 0.4em;\n",
       "}\n",
       ".hoogle-code {\n",
       "display: block;\n",
       "font-family: monospace;\n",
       "white-space: pre;\n",
       "}\n",
       ".hoogle-text {\n",
       "display: block;\n",
       "}\n",
       ".hoogle-name {\n",
       "color: green;\n",
       "font-weight: bold;\n",
       "}\n",
       ".hoogle-head {\n",
       "font-weight: bold;\n",
       "}\n",
       ".hoogle-sub {\n",
       "display: block;\n",
       "margin-left: 0.4em;\n",
       "}\n",
       ".hoogle-package {\n",
       "font-weight: bold;\n",
       "font-style: italic;\n",
       "}\n",
       ".hoogle-module {\n",
       "font-weight: bold;\n",
       "}\n",
       ".hoogle-class {\n",
       "font-weight: bold;\n",
       "}\n",
       "\n",
       ".get-type {\n",
       "color: green;\n",
       "font-weight: bold;\n",
       "font-family: monospace;\n",
       "display: block;\n",
       "white-space: pre-wrap;\n",
       "}\n",
       ".show-type {\n",
       "color: green;\n",
       "font-weight: bold;\n",
       "font-family: monospace;\n",
       "margin-left: 1em;\n",
       "}\n",
       ".mono {\n",
       "font-family: monospace;\n",
       "display: block;\n",
       "}\n",
       ".err-msg {\n",
       "color: red;\n",
       "font-style: italic;\n",
       "font-family: monospace;\n",
       "white-space: pre;\n",
       "display: block;\n",
       "}\n",
       "#unshowable {\n",
       "color: red;\n",
       "font-weight: bold;\n",
       "}\n",
       ".err-msg.in.collapse {\n",
       "padding-top: 0.7em;\n",
       "}\n",
       "\n",
       ".highlight-code {\n",
       "white-space: pre;\n",
       "font-family: monospace;\n",
       "}\n",
       "\n",
       ".suggestion-warning { \n",
       "font-weight: bold;\n",
       "color: rgb(200, 130, 0);\n",
       "}\n",
       ".suggestion-error { \n",
       "font-weight: bold;\n",
       "color: red;\n",
       "}\n",
       ".suggestion-name {\n",
       "font-weight: bold;\n",
       "}\n",
       "\n",
       "</style><div class=\"suggestion-name\" style=\"clear:both;\">Use foldr</div><div class=\"suggestion-row\" style=\"float: left;\"><div class=\"suggestion-warning\">Found:</div><div class=\"highlight-code\" id=\"haskell\">sortPublications [] = []\n",
       "sortPublications (x : xs)\n",
       "  = insertPublication x (sortPublications xs)</div></div><div class=\"suggestion-row\" style=\"float: left;\"><div class=\"suggestion-warning\">Why Not:</div><div class=\"highlight-code\" id=\"haskell\">sortPublications xs = foldr insertPublication [] xs</div></div><div class=\"suggestion-name\" style=\"clear:both;\">Use record patterns</div><div class=\"suggestion-row\" style=\"float: left;\"><div class=\"suggestion-warning\">Found:</div><div class=\"highlight-code\" id=\"haskell\">Book _ _ _ _ _</div></div><div class=\"suggestion-row\" style=\"float: left;\"><div class=\"suggestion-warning\">Why Not:</div><div class=\"highlight-code\" id=\"haskell\">Book {}</div></div><div class=\"suggestion-name\" style=\"clear:both;\">Use record patterns</div><div class=\"suggestion-row\" style=\"float: left;\"><div class=\"suggestion-warning\">Found:</div><div class=\"highlight-code\" id=\"haskell\">Book _ _ _ _ _</div></div><div class=\"suggestion-row\" style=\"float: left;\"><div class=\"suggestion-warning\">Why Not:</div><div class=\"highlight-code\" id=\"haskell\">Book {}</div></div><div class=\"suggestion-name\" style=\"clear:both;\">Use record patterns</div><div class=\"suggestion-row\" style=\"float: left;\"><div class=\"suggestion-warning\">Found:</div><div class=\"highlight-code\" id=\"haskell\">Book _ _ _ _ _</div></div><div class=\"suggestion-row\" style=\"float: left;\"><div class=\"suggestion-warning\">Why Not:</div><div class=\"highlight-code\" id=\"haskell\">Book {}</div></div><div class=\"suggestion-name\" style=\"clear:both;\">Use record patterns</div><div class=\"suggestion-row\" style=\"float: left;\"><div class=\"suggestion-warning\">Found:</div><div class=\"highlight-code\" id=\"haskell\">Book _ _ _ _ _</div></div><div class=\"suggestion-row\" style=\"float: left;\"><div class=\"suggestion-warning\">Why Not:</div><div class=\"highlight-code\" id=\"haskell\">Book {}</div></div><div class=\"suggestion-name\" style=\"clear:both;\">Use record patterns</div><div class=\"suggestion-row\" style=\"float: left;\"><div class=\"suggestion-warning\">Found:</div><div class=\"highlight-code\" id=\"haskell\">Journal _ _ _ _ _ _</div></div><div class=\"suggestion-row\" style=\"float: left;\"><div class=\"suggestion-warning\">Why Not:</div><div class=\"highlight-code\" id=\"haskell\">Journal {}</div></div><div class=\"suggestion-name\" style=\"clear:both;\">Use record patterns</div><div class=\"suggestion-row\" style=\"float: left;\"><div class=\"suggestion-warning\">Found:</div><div class=\"highlight-code\" id=\"haskell\">Journal _ _ _ _ _ _</div></div><div class=\"suggestion-row\" style=\"float: left;\"><div class=\"suggestion-warning\">Why Not:</div><div class=\"highlight-code\" id=\"haskell\">Journal {}</div></div><div class=\"suggestion-name\" style=\"clear:both;\">Use record patterns</div><div class=\"suggestion-row\" style=\"float: left;\"><div class=\"suggestion-warning\">Found:</div><div class=\"highlight-code\" id=\"haskell\">Journal _ _ _ _ _ _</div></div><div class=\"suggestion-row\" style=\"float: left;\"><div class=\"suggestion-warning\">Why Not:</div><div class=\"highlight-code\" id=\"haskell\">Journal {}</div></div><div class=\"suggestion-name\" style=\"clear:both;\">Use record patterns</div><div class=\"suggestion-row\" style=\"float: left;\"><div class=\"suggestion-warning\">Found:</div><div class=\"highlight-code\" id=\"haskell\">Journal _ _ _ _ _ _</div></div><div class=\"suggestion-row\" style=\"float: left;\"><div class=\"suggestion-warning\">Why Not:</div><div class=\"highlight-code\" id=\"haskell\">Journal {}</div></div><div class=\"suggestion-name\" style=\"clear:both;\">Use record patterns</div><div class=\"suggestion-row\" style=\"float: left;\"><div class=\"suggestion-warning\">Found:</div><div class=\"highlight-code\" id=\"haskell\">DVD _ _ _ _ _ _ _</div></div><div class=\"suggestion-row\" style=\"float: left;\"><div class=\"suggestion-warning\">Why Not:</div><div class=\"highlight-code\" id=\"haskell\">DVD {}</div></div><div class=\"suggestion-name\" style=\"clear:both;\">Use record patterns</div><div class=\"suggestion-row\" style=\"float: left;\"><div class=\"suggestion-warning\">Found:</div><div class=\"highlight-code\" id=\"haskell\">DVD _ _ _ _ _ _ _</div></div><div class=\"suggestion-row\" style=\"float: left;\"><div class=\"suggestion-warning\">Why Not:</div><div class=\"highlight-code\" id=\"haskell\">DVD {}</div></div><div class=\"suggestion-name\" style=\"clear:both;\">Use record patterns</div><div class=\"suggestion-row\" style=\"float: left;\"><div class=\"suggestion-warning\">Found:</div><div class=\"highlight-code\" id=\"haskell\">DVD _ _ _ _ _ _ _</div></div><div class=\"suggestion-row\" style=\"float: left;\"><div class=\"suggestion-warning\">Why Not:</div><div class=\"highlight-code\" id=\"haskell\">DVD {}</div></div><div class=\"suggestion-name\" style=\"clear:both;\">Use record patterns</div><div class=\"suggestion-row\" style=\"float: left;\"><div class=\"suggestion-warning\">Found:</div><div class=\"highlight-code\" id=\"haskell\">DVD _ _ _ _ _ _ _</div></div><div class=\"suggestion-row\" style=\"float: left;\"><div class=\"suggestion-warning\">Why Not:</div><div class=\"highlight-code\" id=\"haskell\">DVD {}</div></div>"
      ],
      "text/plain": [
       "Line 17: Use foldr\n",
       "Found:\n",
       "sortPublications [] = []\n",
       "sortPublications (x : xs)\n",
       "  = insertPublication x (sortPublications xs)\n",
       "Why not:\n",
       "sortPublications xs = foldr insertPublication [] xsLine 43: Use record patterns\n",
       "Found:\n",
       "Book _ _ _ _ _\n",
       "Why not:\n",
       "Book {}Line 43: Use record patterns\n",
       "Found:\n",
       "Book _ _ _ _ _\n",
       "Why not:\n",
       "Book {}Line 44: Use record patterns\n",
       "Found:\n",
       "Book _ _ _ _ _\n",
       "Why not:\n",
       "Book {}Line 45: Use record patterns\n",
       "Found:\n",
       "Book _ _ _ _ _\n",
       "Why not:\n",
       "Book {}Line 46: Use record patterns\n",
       "Found:\n",
       "Journal _ _ _ _ _ _\n",
       "Why not:\n",
       "Journal {}Line 46: Use record patterns\n",
       "Found:\n",
       "Journal _ _ _ _ _ _\n",
       "Why not:\n",
       "Journal {}Line 47: Use record patterns\n",
       "Found:\n",
       "Journal _ _ _ _ _ _\n",
       "Why not:\n",
       "Journal {}Line 48: Use record patterns\n",
       "Found:\n",
       "Journal _ _ _ _ _ _\n",
       "Why not:\n",
       "Journal {}Line 49: Use record patterns\n",
       "Found:\n",
       "DVD _ _ _ _ _ _ _\n",
       "Why not:\n",
       "DVD {}Line 49: Use record patterns\n",
       "Found:\n",
       "DVD _ _ _ _ _ _ _\n",
       "Why not:\n",
       "DVD {}Line 50: Use record patterns\n",
       "Found:\n",
       "DVD _ _ _ _ _ _ _\n",
       "Why not:\n",
       "DVD {}Line 51: Use record patterns\n",
       "Found:\n",
       "DVD _ _ _ _ _ _ _\n",
       "Why not:\n",
       "DVD {}"
      ]
     },
     "metadata": {},
     "output_type": "display_data"
    }
   ],
   "source": [
    "-- Función principal para obtener las publicaciones prestadas por un usuario\n",
    "borrowedPublications :: User -> Catalog -> [Publication]\n",
    "borrowedPublications user catalog = \n",
    "  let borrowedCopies = [ publication | publication <- catalog, \n",
    "                                     any (isBorrowedByUser user) (copies publication) ]\n",
    "  in sortPublications borrowedCopies\n",
    "\n",
    "-- Función auxiliar para verificar si una copia está prestada al usuario\n",
    "isBorrowedByUser :: User -> Copy -> Bool\n",
    "isBorrowedByUser user copy = \n",
    "  case borrower copy of\n",
    "    Just u  -> u == user  -- Si el prestatario es el usuario, es una copia tomada por él.\n",
    "    Nothing -> False      -- Si no está prestada, no la consideramos.\n",
    "\n",
    "-- Función para ordenar las publicaciones\n",
    "sortPublications :: [Publication] -> [Publication]\n",
    "sortPublications [] = []\n",
    "sortPublications (x:xs) = insertPublication x (sortPublications xs)\n",
    "\n",
    "-- Función para insertar una publicación en el lugar adecuado\n",
    "insertPublication :: Publication -> [Publication] -> [Publication]\n",
    "insertPublication pub [] = [pub]\n",
    "insertPublication pub (x:xs)\n",
    "  | comparator pub x == LT = pub : x : xs  -- Si pub debe ir antes de x\n",
    "  | otherwise = x : insertPublication pub xs  -- Sino, seguimos buscando\n",
    "\n",
    "-- Comparador para ordenar publicaciones\n",
    "comparator :: Publication -> Publication -> Ordering\n",
    "comparator pub1 pub2 = \n",
    "  case compareReturnDate pub1 pub2 of\n",
    "    EQ -> compareType pub1 pub2\n",
    "    result -> result\n",
    "\n",
    "-- Función para comparar las fechas de retorno\n",
    "compareReturnDate :: Publication -> Publication -> Ordering\n",
    "compareReturnDate pub1 pub2 =\n",
    "  let returnDate1 = minimum (map returnDate (copies pub1))\n",
    "      returnDate2 = minimum (map returnDate (copies pub2))\n",
    "  in compare returnDate1 returnDate2\n",
    "\n",
    "-- Función para comparar el tipo de publicación (libro primero, luego revista, luego DVD)\n",
    "compareType :: Publication -> Publication -> Ordering\n",
    "compareType (Book _ _ _ _ _) (Book _ _ _ _ _) = EQ\n",
    "compareType (Book _ _ _ _ _) _ = LT\n",
    "compareType _ (Book _ _ _ _ _) = GT\n",
    "compareType (Journal _ _ _ _ _ _) (Journal _ _ _ _ _ _) = EQ\n",
    "compareType (Journal _ _ _ _ _ _) _ = LT\n",
    "compareType _ (Journal _ _ _ _ _ _) = GT\n",
    "compareType (DVD _ _ _ _ _ _ _) (DVD _ _ _ _ _ _ _) = EQ\n",
    "compareType (DVD _ _ _ _ _ _ _) _ = LT\n",
    "compareType _ (DVD _ _ _ _ _ _ _) = GT"
   ]
  },
  {
   "cell_type": "code",
   "execution_count": 29,
   "metadata": {},
   "outputs": [],
   "source": [
    "testUser = Student \n",
    "  (Person \"John\" \"Doe\" (Date 1 \"January\" 2000)) \n",
    "  [borrowedCopy1, borrowedCopy2, borrowedCopy3]\n",
    "\n",
    "\n",
    "borrowedCopy1 = Copy True (Just testUser) (Just (Date 20 \"November\" 2024)) (Just (Date 30 \"November\" 2024))\n",
    "borrowedCopy2 = Copy True (Just testUser) (Just (Date 15 \"November\" 2024)) (Just (Date 30 \"November\" 2024))\n",
    "borrowedCopy3 = Copy True (Just testUser) (Just (Date 18 \"November\" 2024)) (Just (Date 28 \"November\" 2024))\n",
    "borrowedCopy4 = Copy True (Just testUser) (Just (Date 24 \"November\" 2024)) (Just (Date 28 \"November\" 2024))\n",
    "\n",
    "book1, book2, journal1 :: Publication\n",
    "book1 = Book \"B001\" (Person \"Author1\" \"Surname1\" (Date 1 \"January\" 1970)) \n",
    "                   \"Functional Programming in Haskell\" 300 [borrowedCopy1]\n",
    "book2 = Book \"B002\" (Person \"Author2\" \"Surname2\" (Date 1 \"February\" 1980)) \n",
    "                   \"Learn You a Haskell\" 250 [borrowedCopy2]\n",
    "journal1 = Journal \"J001\" [Person \"Author3\" \"Surname3\" (Date 1 \"March\" 1990)] \n",
    "                         \"Advanced Haskell Research\" (Date 1 \"March\" 2024) \n",
    "                         50 [borrowedCopy3]\n",
    "--dvd1 = DVD \"D001\" testUser [testUser] \"Literature on Screen\" (Date 1 \"April\" 2024) 120 []\n",
    "dvd1 :: Publication\n",
    "dvd1 = DVD \"D001\" director1 [actor1, author2] \"Literature on Screen\" (Date 1 \"April\" 2024) 120 [borrowedCopy4]\n",
    "\n",
    "testCatalog :: Catalog\n",
    "testCatalog = [book1, book2, journal1, dvd1]"
   ]
  },
  {
   "cell_type": "code",
   "execution_count": 28,
   "metadata": {},
   "outputs": [
    {
     "data": {
      "text/html": [
       "<style>/* Styles used for the Hoogle display in the pager */\n",
       ".hoogle-doc {\n",
       "display: block;\n",
       "padding-bottom: 1.3em;\n",
       "padding-left: 0.4em;\n",
       "}\n",
       ".hoogle-code {\n",
       "display: block;\n",
       "font-family: monospace;\n",
       "white-space: pre;\n",
       "}\n",
       ".hoogle-text {\n",
       "display: block;\n",
       "}\n",
       ".hoogle-name {\n",
       "color: green;\n",
       "font-weight: bold;\n",
       "}\n",
       ".hoogle-head {\n",
       "font-weight: bold;\n",
       "}\n",
       ".hoogle-sub {\n",
       "display: block;\n",
       "margin-left: 0.4em;\n",
       "}\n",
       ".hoogle-package {\n",
       "font-weight: bold;\n",
       "font-style: italic;\n",
       "}\n",
       ".hoogle-module {\n",
       "font-weight: bold;\n",
       "}\n",
       ".hoogle-class {\n",
       "font-weight: bold;\n",
       "}\n",
       "\n",
       ".get-type {\n",
       "color: green;\n",
       "font-weight: bold;\n",
       "font-family: monospace;\n",
       "display: block;\n",
       "white-space: pre-wrap;\n",
       "}\n",
       ".show-type {\n",
       "color: green;\n",
       "font-weight: bold;\n",
       "font-family: monospace;\n",
       "margin-left: 1em;\n",
       "}\n",
       ".mono {\n",
       "font-family: monospace;\n",
       "display: block;\n",
       "}\n",
       ".err-msg {\n",
       "color: red;\n",
       "font-style: italic;\n",
       "font-family: monospace;\n",
       "white-space: pre;\n",
       "display: block;\n",
       "}\n",
       "#unshowable {\n",
       "color: red;\n",
       "font-weight: bold;\n",
       "}\n",
       ".err-msg.in.collapse {\n",
       "padding-top: 0.7em;\n",
       "}\n",
       "\n",
       ".highlight-code {\n",
       "white-space: pre;\n",
       "font-family: monospace;\n",
       "}\n",
       "\n",
       ".suggestion-warning { \n",
       "font-weight: bold;\n",
       "color: rgb(200, 130, 0);\n",
       "}\n",
       ".suggestion-error { \n",
       "font-weight: bold;\n",
       "color: red;\n",
       "}\n",
       ".suggestion-name {\n",
       "font-weight: bold;\n",
       "}\n",
       "\n",
       "</style><div class=\"suggestion-name\" style=\"clear:both;\">Redundant bracket</div><div class=\"suggestion-row\" style=\"float: left;\"><div class=\"suggestion-warning\">Found:</div><div class=\"highlight-code\" id=\"haskell\">(\"-----------------------------------\")</div></div><div class=\"suggestion-row\" style=\"float: left;\"><div class=\"suggestion-warning\">Why Not:</div><div class=\"highlight-code\" id=\"haskell\">\"-----------------------------------\"</div></div><div class=\"suggestion-name\" style=\"clear:both;\">Redundant bracket</div><div class=\"suggestion-row\" style=\"float: left;\"><div class=\"suggestion-warning\">Found:</div><div class=\"highlight-code\" id=\"haskell\">(\"-----------------------------------\")</div></div><div class=\"suggestion-row\" style=\"float: left;\"><div class=\"suggestion-warning\">Why Not:</div><div class=\"highlight-code\" id=\"haskell\">\"-----------------------------------\"</div></div>"
      ],
      "text/plain": [
       "Line 2: Redundant bracket\n",
       "Found:\n",
       "(\"-----------------------------------\")\n",
       "Why not:\n",
       "\"-----------------------------------\"Line 4: Redundant bracket\n",
       "Found:\n",
       "(\"-----------------------------------\")\n",
       "Why not:\n",
       "\"-----------------------------------\""
      ]
     },
     "metadata": {},
     "output_type": "display_data"
    },
    {
     "data": {
      "text/plain": [
       "Student: John Doe (1 January 2000)\n",
       "  Borrowed: 3 items"
      ]
     },
     "metadata": {},
     "output_type": "display_data"
    },
    {
     "data": {
      "text/plain": [
       "\"-----------------------------------\""
      ]
     },
     "metadata": {},
     "output_type": "display_data"
    },
    {
     "data": {
      "text/plain": [
       "[Book [B001]\n",
       "  Title: Functional Programming in Haskell\n",
       "  Author: Author1 Surname1 (1 January 1970)\n",
       "  Pages: 300\n",
       "  Copies: 0/1 available\n",
       "Borrowed by Student: John Doe (1 January 2000)\n",
       "  Borrowed: 3 items | Loan Date: 20 November 2024 | Return Date: 30 November 2024\n",
       ",Book [B002]\n",
       "  Title: Learn You a Haskell\n",
       "  Author: Author2 Surname2 (1 February 1980)\n",
       "  Pages: 250\n",
       "  Copies: 0/1 available\n",
       "Borrowed by Student: John Doe (1 January 2000)\n",
       "  Borrowed: 3 items | Loan Date: 15 November 2024 | Return Date: 30 November 2024\n",
       ",Journal [J001]\n",
       "  Title: Advanced Haskell Research\n",
       "  Authors: Author3 Surname3 (1 March 1990)\n",
       "  Release Date: 1 March 2024\n",
       "  Pages: 50\n",
       "  Copies: 0/1 available\n",
       "Borrowed by Student: John Doe (1 January 2000)\n",
       "  Borrowed: 3 items | Loan Date: 18 November 2024 | Return Date: 28 November 2024\n",
       ",DVD [D001]\n",
       "  Title: Literature on Screen\n",
       "  Director: Director One (1 January 1980)\n",
       "  Actors: Actor One (1 January 1990) Charles Dickens (7 February 1812)\n",
       "  Release Date: 1 April 2024\n",
       "  Duration: 120 minutes\n",
       "  Copies: 0/1 available\n",
       "Borrowed by Student: John Doe (1 January 2000)\n",
       "  Borrowed: 3 items | Loan Date: 24 November 2024 | Return Date: 28 November 2024\n",
       "]"
      ]
     },
     "metadata": {},
     "output_type": "display_data"
    },
    {
     "data": {
      "text/plain": [
       "\"-----------------------------------\""
      ]
     },
     "metadata": {},
     "output_type": "display_data"
    },
    {
     "data": {
      "text/plain": [
       "[Journal [J001]\n",
       "  Title: Advanced Haskell Research\n",
       "  Authors: Author3 Surname3 (1 March 1990)\n",
       "  Release Date: 1 March 2024\n",
       "  Pages: 50\n",
       "  Copies: 0/1 available\n",
       "Borrowed by Student: John Doe (1 January 2000)\n",
       "  Borrowed: 3 items | Loan Date: 18 November 2024 | Return Date: 28 November 2024\n",
       ",DVD [D001]\n",
       "  Title: Literature on Screen\n",
       "  Director: Director One (1 January 1980)\n",
       "  Actors: Actor One (1 January 1990) Charles Dickens (7 February 1812)\n",
       "  Release Date: 1 April 2024\n",
       "  Duration: 120 minutes\n",
       "  Copies: 0/1 available\n",
       "Borrowed by Student: John Doe (1 January 2000)\n",
       "  Borrowed: 3 items | Loan Date: 24 November 2024 | Return Date: 28 November 2024\n",
       ",Book [B002]\n",
       "  Title: Learn You a Haskell\n",
       "  Author: Author2 Surname2 (1 February 1980)\n",
       "  Pages: 250\n",
       "  Copies: 0/1 available\n",
       "Borrowed by Student: John Doe (1 January 2000)\n",
       "  Borrowed: 3 items | Loan Date: 15 November 2024 | Return Date: 30 November 2024\n",
       ",Book [B001]\n",
       "  Title: Functional Programming in Haskell\n",
       "  Author: Author1 Surname1 (1 January 1970)\n",
       "  Pages: 300\n",
       "  Copies: 0/1 available\n",
       "Borrowed by Student: John Doe (1 January 2000)\n",
       "  Borrowed: 3 items | Loan Date: 20 November 2024 | Return Date: 30 November 2024\n",
       "]"
      ]
     },
     "metadata": {},
     "output_type": "display_data"
    }
   ],
   "source": [
    "testUser\n",
    "print(\"-----------------------------------\")\n",
    "testCatalog\n",
    "print(\"-----------------------------------\")\n",
    "borrowedPublications testUser testCatalog"
   ]
  },
  {
   "cell_type": "code",
   "execution_count": null,
   "metadata": {},
   "outputs": [],
   "source": [
    "\n"
   ]
  },
  {
   "cell_type": "markdown",
   "metadata": {},
   "source": [
    "## 6. A publicationsByAuthor Author Catalog that returns a list with all the publications for that author in the Catalog or the empty list if that person has not authored any publication. Create also equivalent booksByAuthor, journalsByAuthor and DVDsByAuthor that restrict the search to books, journals and DVDs respectively. Notice in DVD both directors and actors must be considered. "
   ]
  },
  {
   "cell_type": "code",
   "execution_count": 30,
   "metadata": {},
   "outputs": [
    {
     "data": {
      "text/html": [
       "<style>/* Styles used for the Hoogle display in the pager */\n",
       ".hoogle-doc {\n",
       "display: block;\n",
       "padding-bottom: 1.3em;\n",
       "padding-left: 0.4em;\n",
       "}\n",
       ".hoogle-code {\n",
       "display: block;\n",
       "font-family: monospace;\n",
       "white-space: pre;\n",
       "}\n",
       ".hoogle-text {\n",
       "display: block;\n",
       "}\n",
       ".hoogle-name {\n",
       "color: green;\n",
       "font-weight: bold;\n",
       "}\n",
       ".hoogle-head {\n",
       "font-weight: bold;\n",
       "}\n",
       ".hoogle-sub {\n",
       "display: block;\n",
       "margin-left: 0.4em;\n",
       "}\n",
       ".hoogle-package {\n",
       "font-weight: bold;\n",
       "font-style: italic;\n",
       "}\n",
       ".hoogle-module {\n",
       "font-weight: bold;\n",
       "}\n",
       ".hoogle-class {\n",
       "font-weight: bold;\n",
       "}\n",
       "\n",
       ".get-type {\n",
       "color: green;\n",
       "font-weight: bold;\n",
       "font-family: monospace;\n",
       "display: block;\n",
       "white-space: pre-wrap;\n",
       "}\n",
       ".show-type {\n",
       "color: green;\n",
       "font-weight: bold;\n",
       "font-family: monospace;\n",
       "margin-left: 1em;\n",
       "}\n",
       ".mono {\n",
       "font-family: monospace;\n",
       "display: block;\n",
       "}\n",
       ".err-msg {\n",
       "color: red;\n",
       "font-style: italic;\n",
       "font-family: monospace;\n",
       "white-space: pre;\n",
       "display: block;\n",
       "}\n",
       "#unshowable {\n",
       "color: red;\n",
       "font-weight: bold;\n",
       "}\n",
       ".err-msg.in.collapse {\n",
       "padding-top: 0.7em;\n",
       "}\n",
       "\n",
       ".highlight-code {\n",
       "white-space: pre;\n",
       "font-family: monospace;\n",
       "}\n",
       "\n",
       ".suggestion-warning { \n",
       "font-weight: bold;\n",
       "color: rgb(200, 130, 0);\n",
       "}\n",
       ".suggestion-error { \n",
       "font-weight: bold;\n",
       "color: red;\n",
       "}\n",
       ".suggestion-name {\n",
       "font-weight: bold;\n",
       "}\n",
       "\n",
       "</style><div class=\"suggestion-name\" style=\"clear:both;\">Eta reduce</div><div class=\"suggestion-row\" style=\"float: left;\"><div class=\"suggestion-warning\">Found:</div><div class=\"highlight-code\" id=\"haskell\">publicationsByAuthor author catalog = filter authoredBy catalog</div></div><div class=\"suggestion-row\" style=\"float: left;\"><div class=\"suggestion-warning\">Why Not:</div><div class=\"highlight-code\" id=\"haskell\">publicationsByAuthor author = filter authoredBy</div></div><div class=\"suggestion-name\" style=\"clear:both;\">Eta reduce</div><div class=\"suggestion-row\" style=\"float: left;\"><div class=\"suggestion-warning\">Found:</div><div class=\"highlight-code\" id=\"haskell\">booksByAuthor author catalog = filter authoredByBook catalog</div></div><div class=\"suggestion-row\" style=\"float: left;\"><div class=\"suggestion-warning\">Why Not:</div><div class=\"highlight-code\" id=\"haskell\">booksByAuthor author = filter authoredByBook</div></div><div class=\"suggestion-name\" style=\"clear:both;\">Eta reduce</div><div class=\"suggestion-row\" style=\"float: left;\"><div class=\"suggestion-warning\">Found:</div><div class=\"highlight-code\" id=\"haskell\">journalsByAuthor author catalog = filter authoredByJournal catalog</div></div><div class=\"suggestion-row\" style=\"float: left;\"><div class=\"suggestion-warning\">Why Not:</div><div class=\"highlight-code\" id=\"haskell\">journalsByAuthor author = filter authoredByJournal</div></div><div class=\"suggestion-name\" style=\"clear:both;\">Eta reduce</div><div class=\"suggestion-row\" style=\"float: left;\"><div class=\"suggestion-warning\">Found:</div><div class=\"highlight-code\" id=\"haskell\">dvdsByAuthor author catalog = filter authoredByDVD catalog</div></div><div class=\"suggestion-row\" style=\"float: left;\"><div class=\"suggestion-warning\">Why Not:</div><div class=\"highlight-code\" id=\"haskell\">dvdsByAuthor author = filter authoredByDVD</div></div>"
      ],
      "text/plain": [
       "Line 3: Eta reduce\n",
       "Found:\n",
       "publicationsByAuthor author catalog = filter authoredBy catalog\n",
       "Why not:\n",
       "publicationsByAuthor author = filter authoredByLine 13: Eta reduce\n",
       "Found:\n",
       "booksByAuthor author catalog = filter authoredByBook catalog\n",
       "Why not:\n",
       "booksByAuthor author = filter authoredByBookLine 22: Eta reduce\n",
       "Found:\n",
       "journalsByAuthor author catalog = filter authoredByJournal catalog\n",
       "Why not:\n",
       "journalsByAuthor author = filter authoredByJournalLine 31: Eta reduce\n",
       "Found:\n",
       "dvdsByAuthor author catalog = filter authoredByDVD catalog\n",
       "Why not:\n",
       "dvdsByAuthor author = filter authoredByDVD"
      ]
     },
     "metadata": {},
     "output_type": "display_data"
    }
   ],
   "source": [
    "-- General function to find all publications by a given author\n",
    "publicationsByAuthor :: Person -> Catalog -> [Publication]\n",
    "publicationsByAuthor author catalog =\n",
    "  filter authoredBy catalog\n",
    "  where\n",
    "    -- Checks if a publication is authored by the given person\n",
    "    authoredBy :: Publication -> Bool\n",
    "    authoredBy (Book _ bookAuthor _ _ _) = bookAuthor == author\n",
    "    authoredBy (Journal _ journalAuthors _ _ _ _) = author `elem` journalAuthors\n",
    "    authoredBy (DVD _ director actors _ _ _ _) = director == author || author `elem` actors\n",
    "    \n",
    "booksByAuthor :: Person -> Catalog -> [Publication]\n",
    "booksByAuthor author catalog =\n",
    "  filter authoredByBook catalog\n",
    "  where\n",
    "    -- Checks if a book is authored by the given person\n",
    "    authoredByBook :: Publication -> Bool\n",
    "    authoredByBook (Book _ bookAuthor _ _ _) = bookAuthor == author\n",
    "    authoredByBook _ = False\n",
    "\n",
    "journalsByAuthor :: Person -> Catalog -> [Publication]\n",
    "journalsByAuthor author catalog =\n",
    "  filter authoredByJournal catalog\n",
    "  where\n",
    "    -- Checks if a journal is authored by the given person\n",
    "    authoredByJournal :: Publication -> Bool\n",
    "    authoredByJournal (Journal _ journalAuthors _ _ _ _) = author `elem` journalAuthors\n",
    "    authoredByJournal _ = False\n",
    "\n",
    "dvdsByAuthor :: Person -> Catalog -> [Publication]\n",
    "dvdsByAuthor author catalog =\n",
    "  filter authoredByDVD catalog\n",
    "  where\n",
    "    -- Checks if a DVD is directed or acted by the given person\n",
    "    authoredByDVD :: Publication -> Bool\n",
    "    authoredByDVD (DVD _ director actors _ _ _ _) = director == author || author `elem` actors\n",
    "    authoredByDVD _ = False\n"
   ]
  },
  {
   "cell_type": "code",
   "execution_count": 35,
   "metadata": {},
   "outputs": [],
   "source": [
    "author1 :: Person\n",
    "author1 = Person \"Jane\" \"Austen\" (Date 16 \"December\" 1775)\n",
    "\n",
    "author2 :: Person\n",
    "author2 = Person \"Charles\" \"Dickens\" (Date 7 \"February\" 1812)\n",
    "\n",
    "actor1 :: Person\n",
    "actor1 = Person \"Actor\" \"One\" (Date 1 \"January\" 1990)\n",
    "\n",
    "director1 :: Person\n",
    "director1 = Person \"Director\" \"One\" (Date 1 \"January\" 1980)\n",
    "\n",
    "book1 :: Publication\n",
    "book1 = Book \"B001\" author1 \"Pride and Prejudice\" 432 []\n",
    "\n",
    "book2 :: Publication\n",
    "book2 = Book \"B002\" author2 \"Oliver Twist\" 300 []\n",
    "\n",
    "journal1 :: Publication\n",
    "journal1 = Journal \"J001\" [author1, author2] \"Victorian Literature\" (Date 1 \"January\" 2024) 100 []\n",
    "\n",
    "dvd1 :: Publication\n",
    "dvd1 = DVD \"D001\" director1 [actor1, author2] \"Literature on Screen\" (Date 1 \"April\" 2024) 120 []\n",
    "\n",
    "testCatalog :: Catalog\n",
    "testCatalog = [book1, book2, journal1, dvd1]\n"
   ]
  },
  {
   "cell_type": "code",
   "execution_count": 36,
   "metadata": {},
   "outputs": [
    {
     "data": {
      "text/plain": [
       "[Book [B001]\n",
       "  Title: Pride and Prejudice\n",
       "  Author: Jane Austen (16 December 1775)\n",
       "  Pages: 432\n",
       "  Copies: 0/0 available\n",
       ",Journal [J001]\n",
       "  Title: Victorian Literature\n",
       "  Authors: Jane Austen (16 December 1775) Charles Dickens (7 February 1812)\n",
       "  Release Date: 1 January 2024\n",
       "  Pages: 100\n",
       "  Copies: 0/0 available\n",
       "]"
      ]
     },
     "metadata": {},
     "output_type": "display_data"
    },
    {
     "data": {
      "text/plain": [
       "\"------------------------------------\""
      ]
     },
     "metadata": {},
     "output_type": "display_data"
    },
    {
     "data": {
      "text/plain": [
       "[Book [B001]\n",
       "  Title: Pride and Prejudice\n",
       "  Author: Jane Austen (16 December 1775)\n",
       "  Pages: 432\n",
       "  Copies: 0/0 available\n",
       "]"
      ]
     },
     "metadata": {},
     "output_type": "display_data"
    },
    {
     "data": {
      "text/plain": [
       "\"------------------------------------\""
      ]
     },
     "metadata": {},
     "output_type": "display_data"
    },
    {
     "data": {
      "text/plain": [
       "[Journal [J001]\n",
       "  Title: Victorian Literature\n",
       "  Authors: Jane Austen (16 December 1775) Charles Dickens (7 February 1812)\n",
       "  Release Date: 1 January 2024\n",
       "  Pages: 100\n",
       "  Copies: 0/0 available\n",
       "]"
      ]
     },
     "metadata": {},
     "output_type": "display_data"
    },
    {
     "data": {
      "text/plain": [
       "\"------------------------------------\""
      ]
     },
     "metadata": {},
     "output_type": "display_data"
    },
    {
     "data": {
      "text/plain": [
       "[DVD [D001]\n",
       "  Title: Literature on Screen\n",
       "  Director: Director One (1 January 1980)\n",
       "  Actors: Actor One (1 January 1990) Charles Dickens (7 February 1812)\n",
       "  Release Date: 1 April 2024\n",
       "  Duration: 120 minutes\n",
       "  Copies: 0/0 available\n",
       "]"
      ]
     },
     "metadata": {},
     "output_type": "display_data"
    }
   ],
   "source": [
    "publicationsByAuthor author1 testCatalog\n",
    "\"------------------------------------\"\n",
    "booksByAuthor author1 testCatalog\n",
    "\"------------------------------------\"\n",
    "journalsByAuthor author1 testCatalog\n",
    "\"------------------------------------\"\n",
    "dvdsByAuthor author2 testCatalog\n"
   ]
  },
  {
   "cell_type": "markdown",
   "metadata": {},
   "source": [
    "## 7. Functions publicationsByTitle String Catalog and publicationsByDate Date Catalog that return all the publications with that title or release date. "
   ]
  },
  {
   "cell_type": "code",
   "execution_count": 37,
   "metadata": {},
   "outputs": [
    {
     "data": {
      "text/html": [
       "<style>/* Styles used for the Hoogle display in the pager */\n",
       ".hoogle-doc {\n",
       "display: block;\n",
       "padding-bottom: 1.3em;\n",
       "padding-left: 0.4em;\n",
       "}\n",
       ".hoogle-code {\n",
       "display: block;\n",
       "font-family: monospace;\n",
       "white-space: pre;\n",
       "}\n",
       ".hoogle-text {\n",
       "display: block;\n",
       "}\n",
       ".hoogle-name {\n",
       "color: green;\n",
       "font-weight: bold;\n",
       "}\n",
       ".hoogle-head {\n",
       "font-weight: bold;\n",
       "}\n",
       ".hoogle-sub {\n",
       "display: block;\n",
       "margin-left: 0.4em;\n",
       "}\n",
       ".hoogle-package {\n",
       "font-weight: bold;\n",
       "font-style: italic;\n",
       "}\n",
       ".hoogle-module {\n",
       "font-weight: bold;\n",
       "}\n",
       ".hoogle-class {\n",
       "font-weight: bold;\n",
       "}\n",
       "\n",
       ".get-type {\n",
       "color: green;\n",
       "font-weight: bold;\n",
       "font-family: monospace;\n",
       "display: block;\n",
       "white-space: pre-wrap;\n",
       "}\n",
       ".show-type {\n",
       "color: green;\n",
       "font-weight: bold;\n",
       "font-family: monospace;\n",
       "margin-left: 1em;\n",
       "}\n",
       ".mono {\n",
       "font-family: monospace;\n",
       "display: block;\n",
       "}\n",
       ".err-msg {\n",
       "color: red;\n",
       "font-style: italic;\n",
       "font-family: monospace;\n",
       "white-space: pre;\n",
       "display: block;\n",
       "}\n",
       "#unshowable {\n",
       "color: red;\n",
       "font-weight: bold;\n",
       "}\n",
       ".err-msg.in.collapse {\n",
       "padding-top: 0.7em;\n",
       "}\n",
       "\n",
       ".highlight-code {\n",
       "white-space: pre;\n",
       "font-family: monospace;\n",
       "}\n",
       "\n",
       ".suggestion-warning { \n",
       "font-weight: bold;\n",
       "color: rgb(200, 130, 0);\n",
       "}\n",
       ".suggestion-error { \n",
       "font-weight: bold;\n",
       "color: red;\n",
       "}\n",
       ".suggestion-name {\n",
       "font-weight: bold;\n",
       "}\n",
       "\n",
       "</style><div class=\"suggestion-name\" style=\"clear:both;\">Eta reduce</div><div class=\"suggestion-row\" style=\"float: left;\"><div class=\"suggestion-warning\">Found:</div><div class=\"highlight-code\" id=\"haskell\">publicationsByTitle title catalog = filter hasTitle catalog</div></div><div class=\"suggestion-row\" style=\"float: left;\"><div class=\"suggestion-warning\">Why Not:</div><div class=\"highlight-code\" id=\"haskell\">publicationsByTitle title = filter hasTitle</div></div><div class=\"suggestion-name\" style=\"clear:both;\">Eta reduce</div><div class=\"suggestion-row\" style=\"float: left;\"><div class=\"suggestion-warning\">Found:</div><div class=\"highlight-code\" id=\"haskell\">publicationsByDate date catalog = filter hasReleaseDate catalog</div></div><div class=\"suggestion-row\" style=\"float: left;\"><div class=\"suggestion-warning\">Why Not:</div><div class=\"highlight-code\" id=\"haskell\">publicationsByDate date = filter hasReleaseDate</div></div><div class=\"suggestion-name\" style=\"clear:both;\">Use record patterns</div><div class=\"suggestion-row\" style=\"float: left;\"><div class=\"suggestion-warning\">Found:</div><div class=\"highlight-code\" id=\"haskell\">Book _ _ _ _ _</div></div><div class=\"suggestion-row\" style=\"float: left;\"><div class=\"suggestion-warning\">Why Not:</div><div class=\"highlight-code\" id=\"haskell\">Book {}</div></div>"
      ],
      "text/plain": [
       "Line 3: Eta reduce\n",
       "Found:\n",
       "publicationsByTitle title catalog = filter hasTitle catalog\n",
       "Why not:\n",
       "publicationsByTitle title = filter hasTitleLine 14: Eta reduce\n",
       "Found:\n",
       "publicationsByDate date catalog = filter hasReleaseDate catalog\n",
       "Why not:\n",
       "publicationsByDate date = filter hasReleaseDateLine 19: Use record patterns\n",
       "Found:\n",
       "Book _ _ _ _ _\n",
       "Why not:\n",
       "Book {}"
      ]
     },
     "metadata": {},
     "output_type": "display_data"
    }
   ],
   "source": [
    "-- Function to find all publications with the given title\n",
    "publicationsByTitle :: String -> Catalog -> [Publication]\n",
    "publicationsByTitle title catalog =\n",
    "  filter hasTitle catalog\n",
    "  where\n",
    "    -- Checks if a publication has the given title\n",
    "    hasTitle :: Publication -> Bool\n",
    "    hasTitle (Book _ _ pubTitle _ _) = pubTitle == title\n",
    "    hasTitle (Journal _ _ pubTitle _ _ _) = pubTitle == title\n",
    "    hasTitle (DVD _ _ _ pubTitle _ _ _) = pubTitle == title\n",
    "\n",
    "-- Function to find all publications with the given release date\n",
    "publicationsByDate :: Date -> Catalog -> [Publication]\n",
    "publicationsByDate date catalog =\n",
    "  filter hasReleaseDate catalog\n",
    "  where\n",
    "    -- Checks if a publication has the given release date\n",
    "    hasReleaseDate :: Publication -> Bool\n",
    "    hasReleaseDate (Book _ _ _ _ _) = False  -- Books don't have a specific release date in this case\n",
    "    hasReleaseDate (Journal _ _ _ pubReleaseDate _ _) = pubReleaseDate == date\n",
    "    hasReleaseDate (DVD _ _ _ _ pubReleaseDate _ _) = pubReleaseDate == date\n",
    "\n"
   ]
  },
  {
   "cell_type": "code",
   "execution_count": 41,
   "metadata": {},
   "outputs": [
    {
     "data": {
      "text/plain": [
       "[Book [B001]\n",
       "  Title: Pride and Prejudice\n",
       "  Author: Jane Austen (16 December 1775)\n",
       "  Pages: 432\n",
       "  Copies: 0/0 available\n",
       "]"
      ]
     },
     "metadata": {},
     "output_type": "display_data"
    },
    {
     "data": {
      "text/plain": [
       "\"----------------------------------------------------------------------\""
      ]
     },
     "metadata": {},
     "output_type": "display_data"
    },
    {
     "data": {
      "text/plain": [
       "[Journal [J001]\n",
       "  Title: Victorian Literature\n",
       "  Authors: Jane Austen (16 December 1775) Charles Dickens (7 February 1812)\n",
       "  Release Date: 1 January 2024\n",
       "  Pages: 100\n",
       "  Copies: 0/0 available\n",
       "]"
      ]
     },
     "metadata": {},
     "output_type": "display_data"
    }
   ],
   "source": [
    "let catalog = [book1, journal1, dvd1] -- Replace with your actual catalog of publications\n",
    "\n",
    "-- Find all publications with the title \"Haskell Programming\"\n",
    "let publicationsWithTitle = publicationsByTitle \"Pride and Prejudice\" catalog\n",
    "print publicationsWithTitle\n",
    "\"----------------------------------------------------------------------\"\n",
    "-- Find all publications released on a specific date (e.g., \"1 Dec 2024\")\n",
    "let date = Date 1 \"January\" 2024\n",
    "let publicationsWithDate = publicationsByDate date catalog\n",
    "print publicationsWithDate\n"
   ]
  },
  {
   "cell_type": "markdown",
   "metadata": {},
   "source": [
    "## 8. A search Author Title Date function that can receive the author, the title and/or the date and returns all the publications matching the criteria. Notice that the function must work for any combination of the three items (for example searching just by author, or by author and date) and that some, or even the three of them, could be empty."
   ]
  },
  {
   "cell_type": "code",
   "execution_count": 43,
   "metadata": {},
   "outputs": [
    {
     "data": {
      "text/html": [
       "<style>/* Styles used for the Hoogle display in the pager */\n",
       ".hoogle-doc {\n",
       "display: block;\n",
       "padding-bottom: 1.3em;\n",
       "padding-left: 0.4em;\n",
       "}\n",
       ".hoogle-code {\n",
       "display: block;\n",
       "font-family: monospace;\n",
       "white-space: pre;\n",
       "}\n",
       ".hoogle-text {\n",
       "display: block;\n",
       "}\n",
       ".hoogle-name {\n",
       "color: green;\n",
       "font-weight: bold;\n",
       "}\n",
       ".hoogle-head {\n",
       "font-weight: bold;\n",
       "}\n",
       ".hoogle-sub {\n",
       "display: block;\n",
       "margin-left: 0.4em;\n",
       "}\n",
       ".hoogle-package {\n",
       "font-weight: bold;\n",
       "font-style: italic;\n",
       "}\n",
       ".hoogle-module {\n",
       "font-weight: bold;\n",
       "}\n",
       ".hoogle-class {\n",
       "font-weight: bold;\n",
       "}\n",
       "\n",
       ".get-type {\n",
       "color: green;\n",
       "font-weight: bold;\n",
       "font-family: monospace;\n",
       "display: block;\n",
       "white-space: pre-wrap;\n",
       "}\n",
       ".show-type {\n",
       "color: green;\n",
       "font-weight: bold;\n",
       "font-family: monospace;\n",
       "margin-left: 1em;\n",
       "}\n",
       ".mono {\n",
       "font-family: monospace;\n",
       "display: block;\n",
       "}\n",
       ".err-msg {\n",
       "color: red;\n",
       "font-style: italic;\n",
       "font-family: monospace;\n",
       "white-space: pre;\n",
       "display: block;\n",
       "}\n",
       "#unshowable {\n",
       "color: red;\n",
       "font-weight: bold;\n",
       "}\n",
       ".err-msg.in.collapse {\n",
       "padding-top: 0.7em;\n",
       "}\n",
       "\n",
       ".highlight-code {\n",
       "white-space: pre;\n",
       "font-family: monospace;\n",
       "}\n",
       "\n",
       ".suggestion-warning { \n",
       "font-weight: bold;\n",
       "color: rgb(200, 130, 0);\n",
       "}\n",
       ".suggestion-error { \n",
       "font-weight: bold;\n",
       "color: red;\n",
       "}\n",
       ".suggestion-name {\n",
       "font-weight: bold;\n",
       "}\n",
       "\n",
       "</style><div class=\"suggestion-name\" style=\"clear:both;\">Eta reduce</div><div class=\"suggestion-row\" style=\"float: left;\"><div class=\"suggestion-warning\">Found:</div><div class=\"highlight-code\" id=\"haskell\">searchAuthorTitleDate author title date catalog\n",
       "  = filter matchesCriteria catalog</div></div><div class=\"suggestion-row\" style=\"float: left;\"><div class=\"suggestion-warning\">Why Not:</div><div class=\"highlight-code\" id=\"haskell\">searchAuthorTitleDate author title date = filter matchesCriteria</div></div><div class=\"suggestion-name\" style=\"clear:both;\">Redundant bracket</div><div class=\"suggestion-row\" style=\"float: left;\"><div class=\"suggestion-warning\">Found:</div><div class=\"highlight-code\" id=\"haskell\">(authorMatches pub) && (titleMatches pub) && (dateMatches pub)</div></div><div class=\"suggestion-row\" style=\"float: left;\"><div class=\"suggestion-warning\">Why Not:</div><div class=\"highlight-code\" id=\"haskell\">authorMatches pub && (titleMatches pub) && (dateMatches pub)</div></div><div class=\"suggestion-name\" style=\"clear:both;\">Redundant bracket</div><div class=\"suggestion-row\" style=\"float: left;\"><div class=\"suggestion-warning\">Found:</div><div class=\"highlight-code\" id=\"haskell\">(titleMatches pub) && (dateMatches pub)</div></div><div class=\"suggestion-row\" style=\"float: left;\"><div class=\"suggestion-warning\">Why Not:</div><div class=\"highlight-code\" id=\"haskell\">titleMatches pub && (dateMatches pub)</div></div><div class=\"suggestion-name\" style=\"clear:both;\">Redundant bracket</div><div class=\"suggestion-row\" style=\"float: left;\"><div class=\"suggestion-warning\">Found:</div><div class=\"highlight-code\" id=\"haskell\">(titleMatches pub) && (dateMatches pub)</div></div><div class=\"suggestion-row\" style=\"float: left;\"><div class=\"suggestion-warning\">Why Not:</div><div class=\"highlight-code\" id=\"haskell\">(titleMatches pub) && dateMatches pub</div></div><div class=\"suggestion-name\" style=\"clear:both;\">Use record patterns</div><div class=\"suggestion-row\" style=\"float: left;\"><div class=\"suggestion-warning\">Found:</div><div class=\"highlight-code\" id=\"haskell\">Book _ _ _ _ _</div></div><div class=\"suggestion-row\" style=\"float: left;\"><div class=\"suggestion-warning\">Why Not:</div><div class=\"highlight-code\" id=\"haskell\">Book {}</div></div>"
      ],
      "text/plain": [
       "Line 2: Eta reduce\n",
       "Found:\n",
       "searchAuthorTitleDate author title date catalog\n",
       "  = filter matchesCriteria catalog\n",
       "Why not:\n",
       "searchAuthorTitleDate author title date = filter matchesCriteriaLine 7: Redundant bracket\n",
       "Found:\n",
       "(authorMatches pub) && (titleMatches pub) && (dateMatches pub)\n",
       "Why not:\n",
       "authorMatches pub && (titleMatches pub) && (dateMatches pub)Line 7: Redundant bracket\n",
       "Found:\n",
       "(titleMatches pub) && (dateMatches pub)\n",
       "Why not:\n",
       "titleMatches pub && (dateMatches pub)Line 7: Redundant bracket\n",
       "Found:\n",
       "(titleMatches pub) && (dateMatches pub)\n",
       "Why not:\n",
       "(titleMatches pub) && dateMatches pubLine 23: Use record patterns\n",
       "Found:\n",
       "Book _ _ _ _ _\n",
       "Why not:\n",
       "Book {}"
      ]
     },
     "metadata": {},
     "output_type": "display_data"
    }
   ],
   "source": [
    "searchAuthorTitleDate :: Maybe Person -> Maybe String -> Maybe Date -> Catalog -> [Publication]\n",
    "searchAuthorTitleDate author title date catalog = filter matchesCriteria catalog\n",
    "  where\n",
    "    -- Checks if a publication matches the given criteria\n",
    "    matchesCriteria :: Publication -> Bool\n",
    "    matchesCriteria pub =\n",
    "      (authorMatches pub) && (titleMatches pub) && (dateMatches pub)\n",
    "\n",
    "    -- Check if the publication matches the author criterion\n",
    "    authorMatches :: Publication -> Bool\n",
    "    authorMatches (Book _ bookAuthor _ _ _) = maybe True (== bookAuthor) author\n",
    "    authorMatches (Journal _ journalAuthors _ _ _ _) = maybe True (`elem` journalAuthors) author\n",
    "    authorMatches (DVD _ director actors _ _ _ _) = maybe True (== director) author || maybe False (`elem` actors) author\n",
    "\n",
    "    -- Check if the publication matches the title criterion\n",
    "    titleMatches :: Publication -> Bool\n",
    "    titleMatches (Book _ _ bookTitle _ _) = maybe True (== bookTitle) title\n",
    "    titleMatches (Journal _ _ journalTitle _ _ _) = maybe True (== journalTitle) title\n",
    "    titleMatches (DVD _ _ _ dvdTitle _ _ _) = maybe True (== dvdTitle) title\n",
    "\n",
    "    -- Check if the publication matches the date criterion\n",
    "    dateMatches :: Publication -> Bool\n",
    "    dateMatches (Book _ _ _ _ _) = True  -- Books are not filtered by date in this case\n",
    "    dateMatches (Journal _ _ _ journalDate _ _) = maybe True (== journalDate) date\n",
    "    dateMatches (DVD _ _ _ _ dvdDate _ _) = maybe True (== dvdDate) date\n"
   ]
  },
  {
   "cell_type": "code",
   "execution_count": null,
   "metadata": {},
   "outputs": [
    {
     "data": {
      "text/plain": [
       "[Book [B001]\n",
       "  Title: Pride and Prejudice\n",
       "  Author: Jane Austen (16 December 1775)\n",
       "  Pages: 432\n",
       "  Copies: 0/0 available\n",
       "]"
      ]
     },
     "metadata": {},
     "output_type": "display_data"
    },
    {
     "data": {
      "text/plain": [
       "\"----------------------------------------------------\""
      ]
     },
     "metadata": {},
     "output_type": "display_data"
    },
    {
     "data": {
      "text/plain": [
       "[Journal [J001]\n",
       "  Title: Victorian Literature\n",
       "  Authors: Jane Austen (16 December 1775) Charles Dickens (7 February 1812)\n",
       "  Release Date: 1 January 2024\n",
       "  Pages: 100\n",
       "  Copies: 0/0 available\n",
       "]"
      ]
     },
     "metadata": {},
     "output_type": "display_data"
    },
    {
     "data": {
      "text/plain": [
       "\"----------------------------------------------------\""
      ]
     },
     "metadata": {},
     "output_type": "display_data"
    },
    {
     "data": {
      "text/plain": [
       "[DVD [D001]\n",
       "  Title: Literature on Screen\n",
       "  Director: Director One (1 January 1980)\n",
       "  Actors: Actor One (1 January 1990) Charles Dickens (7 February 1812)\n",
       "  Release Date: 1 April 2024\n",
       "  Duration: 120 minutes\n",
       "  Copies: 0/0 available\n",
       "]"
      ]
     },
     "metadata": {},
     "output_type": "display_data"
    }
   ],
   "source": [
    "author1 :: Person\n",
    "author1 = Person \"Jane\" \"Austen\" (Date 16 \"December\" 1775)\n",
    "\n",
    "author2 :: Person\n",
    "author2 = Person \"Charles\" \"Dickens\" (Date 7 \"February\" 1812)\n",
    "\n",
    "actor1 :: Person\n",
    "actor1 = Person \"Actor\" \"One\" (Date 1 \"January\" 1990)\n",
    "\n",
    "director1 :: Person\n",
    "director1 = Person \"Director\" \"One\" (Date 1 \"January\" 1980)\n",
    "\n",
    "book1 :: Publication\n",
    "book1 = Book \"B001\" author1 \"Pride and Prejudice\" 432 []\n",
    "\n",
    "book2 :: Publication\n",
    "book2 = Book \"B002\" author2 \"Oliver Twist\" 300 []\n",
    "\n",
    "journal1 :: Publication\n",
    "journal1 = Journal \"J001\" [author1, author2] \"Victorian Literature\" (Date 1 \"January\" 2024) 100 []\n",
    "\n",
    "dvd1 :: Publication\n",
    "dvd1 = DVD \"D001\" director1 [actor1, author2] \"Literature on Screen\" (Date 1 \"April\" 2024) 120 []\n",
    "\n",
    "testCatalog :: Catalog\n",
    "testCatalog = [book1, book2, journal1, dvd1]\n",
    "let catalog = [book1, journal1, dvd1] -- Replace with actual catalog\n",
    "\n",
    "-- Search for publications by \"John Doe\" (author), with title \"Haskell Programming\"\n",
    "let results = searchAuthorTitleDate (Just (Person \"Jane\" \"Austen\" (Date 16 \"December\" 1775))) (Just \"Pride and Prejudice\") Nothing catalog\n",
    "print results\n",
    "\"----------------------------------------------------\"\n",
    "-- Search for publications with the title \"Haskell Programming\", regardless of author or date\n",
    "let resultsByTitle = searchAuthorTitleDate Nothing (Just \"Victorian Literature\") Nothing catalog\n",
    "print resultsByTitle\n",
    "\"----------------------------------------------------\"\n",
    "-- Search for publications by author \"John Doe\" released on a specific date\n",
    "let resultsByAuthorAndDate = searchAuthorTitleDate (Just (Person \"Charles\" \"Dickens\" (Date 7 \"February\" 1812))) Nothing (Just (Date 1 \"April\" 2024)) catalog\n",
    "print resultsByAuthorAndDate\n"
   ]
  },
  {
   "cell_type": "code",
   "execution_count": null,
   "metadata": {},
   "outputs": [],
   "source": []
  },
  {
   "cell_type": "code",
   "execution_count": null,
   "metadata": {},
   "outputs": [],
   "source": []
  }
 ],
 "metadata": {
  "kernelspec": {
   "display_name": "Haskell",
   "language": "haskell",
   "name": "haskell"
  },
  "language_info": {
   "codemirror_mode": "ihaskell",
   "file_extension": ".hs",
   "mimetype": "text/x-haskell",
   "name": "haskell",
   "pygments_lexer": "Haskell",
   "version": "9.6.4"
  }
 },
 "nbformat": 4,
 "nbformat_minor": 2
}
