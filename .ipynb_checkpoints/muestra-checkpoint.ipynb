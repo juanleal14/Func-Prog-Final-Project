{
 "cells": [
  {
   "cell_type": "markdown",
   "metadata": {},
   "source": [
    "# FINAL PROJECT: ÍÑIGO BARCELÓ ÁLVAREZ / JUAN LEAL ALIAGA"
   ]
  },
  {
   "cell_type": "markdown",
   "metadata": {},
   "source": [
    "**1. Types to represent all the former concepts. An exhaustive type definition is required, use the most appropriate way (type, data or newtype) for each of them. **"
   ]
  },
  {
   "cell_type": "code",
   "execution_count": 12,
   "metadata": {
    "vscode": {
     "languageId": "plaintext"
    }
   },
   "outputs": [],
   "source": [
    "data Date = Date \n",
    "  { day   :: Int\n",
    "  , month :: String\n",
    "  , year  :: Int\n",
    "  } deriving (Show, Eq)\n",
    "\n",
    "data Person = Person \n",
    "  { firstName :: String\n",
    "  , lastName  :: String\n",
    "  , birthDate :: Date\n",
    "  } deriving (Show, Eq)\n",
    "\n",
    "data Publication\n",
    "  = Book\n",
    "      { bookId    :: String       -- Unique signature\n",
    "      , author    :: Person       -- Single author\n",
    "      , title     :: String\n",
    "      , pages     :: Int\n",
    "      , copies    :: [Copy]       -- List of copies\n",
    "      }\n",
    "  | Journal\n",
    "      { journalId :: String       -- Unique signature\n",
    "      , authors   :: [Person]     -- Multiple authors\n",
    "      , title     :: String\n",
    "      , releaseDate :: Date\n",
    "      , pages     :: Int\n",
    "      , copies    :: [Copy]\n",
    "      }\n",
    "  | DVD\n",
    "      { dvdId     :: String       -- Unique signature\n",
    "      , director  :: Person       -- Director is a single person\n",
    "      , actors    :: [Person]     -- List of actors\n",
    "      , title     :: String\n",
    "      , releaseDate :: Date\n",
    "      , duration  :: Int          -- Duration in minutes\n",
    "      , copies    :: [Copy]\n",
    "      }\n",
    "  deriving (Show, Eq)\n",
    "\n",
    "data Copy = Copy\n",
    "  { isBorrowed  :: Bool\n",
    "  , borrower    :: Maybe User    -- User who borrowed the copy (if any)\n",
    "  , loanDate    :: Maybe Date    -- Loan date (if borrowed)\n",
    "  , returnDate  :: Maybe Date    -- Expected return date (if borrowed)\n",
    "  } deriving (Show, Eq)\n",
    "\n",
    "data User\n",
    "  = Student \n",
    "      { studentId   :: String, \n",
    "      studentName :: Person\n",
    "      , borrowed    :: [Copy]    -- Currently borrowed copies (¿MAX?)\n",
    "      }\n",
    "  | Professor\n",
    "      { professorId   :: String, \n",
    "      professorName :: Person\n",
    "      , borrowed      :: [Copy] -- ¿MAX?\n",
    "      }\n",
    "  deriving (Show, Eq)\n",
    "\n",
    "type Catalog = [Publication]"
   ]
  },
  {
   "cell_type": "markdown",
   "metadata": {},
   "source": [
    "**2. Functions to show the former concepts in a pretty way. "
   ]
  },
  {
   "cell_type": "code",
   "execution_count": 30,
   "metadata": {
    "vscode": {
     "languageId": "plaintext"
    }
   },
   "outputs": [
    {
     "data": {
      "text/html": [
       "<style>/* Styles used for the Hoogle display in the pager */\n",
       ".hoogle-doc {\n",
       "display: block;\n",
       "padding-bottom: 1.3em;\n",
       "padding-left: 0.4em;\n",
       "}\n",
       ".hoogle-code {\n",
       "display: block;\n",
       "font-family: monospace;\n",
       "white-space: pre;\n",
       "}\n",
       ".hoogle-text {\n",
       "display: block;\n",
       "}\n",
       ".hoogle-name {\n",
       "color: green;\n",
       "font-weight: bold;\n",
       "}\n",
       ".hoogle-head {\n",
       "font-weight: bold;\n",
       "}\n",
       ".hoogle-sub {\n",
       "display: block;\n",
       "margin-left: 0.4em;\n",
       "}\n",
       ".hoogle-package {\n",
       "font-weight: bold;\n",
       "font-style: italic;\n",
       "}\n",
       ".hoogle-module {\n",
       "font-weight: bold;\n",
       "}\n",
       ".hoogle-class {\n",
       "font-weight: bold;\n",
       "}\n",
       "\n",
       ".get-type {\n",
       "color: green;\n",
       "font-weight: bold;\n",
       "font-family: monospace;\n",
       "display: block;\n",
       "white-space: pre-wrap;\n",
       "}\n",
       ".show-type {\n",
       "color: green;\n",
       "font-weight: bold;\n",
       "font-family: monospace;\n",
       "margin-left: 1em;\n",
       "}\n",
       ".mono {\n",
       "font-family: monospace;\n",
       "display: block;\n",
       "}\n",
       ".err-msg {\n",
       "color: red;\n",
       "font-style: italic;\n",
       "font-family: monospace;\n",
       "white-space: pre;\n",
       "display: block;\n",
       "}\n",
       "#unshowable {\n",
       "color: red;\n",
       "font-weight: bold;\n",
       "}\n",
       ".err-msg.in.collapse {\n",
       "padding-top: 0.7em;\n",
       "}\n",
       "\n",
       ".highlight-code {\n",
       "white-space: pre;\n",
       "font-family: monospace;\n",
       "}\n",
       "\n",
       ".suggestion-warning { \n",
       "font-weight: bold;\n",
       "color: rgb(200, 130, 0);\n",
       "}\n",
       ".suggestion-error { \n",
       "font-weight: bold;\n",
       "color: red;\n",
       "}\n",
       ".suggestion-name {\n",
       "font-weight: bold;\n",
       "}\n",
       "\n",
       "</style><div class=\"suggestion-name\" style=\"clear:both;\">Redundant bracket</div><div class=\"suggestion-row\" style=\"float: left;\"><div class=\"suggestion-warning\">Found:</div><div class=\"highlight-code\" id=\"haskell\">(prettyCopy)</div></div><div class=\"suggestion-row\" style=\"float: left;\"><div class=\"suggestion-warning\">Why Not:</div><div class=\"highlight-code\" id=\"haskell\">prettyCopy</div></div><div class=\"suggestion-name\" style=\"clear:both;\">Redundant bracket</div><div class=\"suggestion-row\" style=\"float: left;\"><div class=\"suggestion-warning\">Found:</div><div class=\"highlight-code\" id=\"haskell\">(prettyCopy)</div></div><div class=\"suggestion-row\" style=\"float: left;\"><div class=\"suggestion-warning\">Why Not:</div><div class=\"highlight-code\" id=\"haskell\">prettyCopy</div></div><div class=\"suggestion-name\" style=\"clear:both;\">Redundant bracket</div><div class=\"suggestion-row\" style=\"float: left;\"><div class=\"suggestion-warning\">Found:</div><div class=\"highlight-code\" id=\"haskell\">(prettyCopy)</div></div><div class=\"suggestion-row\" style=\"float: left;\"><div class=\"suggestion-warning\">Why Not:</div><div class=\"highlight-code\" id=\"haskell\">prettyCopy</div></div>"
      ],
      "text/plain": [
       "Line 25: Redundant bracket\n",
       "Found:\n",
       "(prettyCopy)\n",
       "Why not:\n",
       "prettyCopyLine 34: Redundant bracket\n",
       "Found:\n",
       "(prettyCopy)\n",
       "Why not:\n",
       "prettyCopyLine 44: Redundant bracket\n",
       "Found:\n",
       "(prettyCopy)\n",
       "Why not:\n",
       "prettyCopy"
      ]
     },
     "metadata": {},
     "output_type": "display_data"
    }
   ],
   "source": [
    "prettyDate :: Date -> String\n",
    "prettyDate (Date d m y) = show d ++ \" \" ++ m ++ \" \" ++ show y\n",
    "\n",
    "prettyPerson :: Person -> String\n",
    "prettyPerson (Person fName lName bDate) = \n",
    "  fName ++ \" \" ++ lName ++ \" (\" ++ prettyDate bDate ++ \")\"\n",
    "\n",
    "prettyCopy :: Copy -> String\n",
    "prettyCopy (Copy isB mbUser mbLoanDate mbReturnDate)\n",
    "  | isB = \"Borrowed by \" ++ maybe \"Unknown\" prettyUser mbUser ++\n",
    "          \" | Loan Date: \" ++ maybe \"N/A\" prettyDate mbLoanDate ++\n",
    "          \" | Return Date: \" ++ maybe \"N/A\" prettyDate mbReturnDate\n",
    "  | otherwise = \"Available\"\n",
    "  where\n",
    "    prettyUser (Student _ p _)  = prettyPerson p\n",
    "    prettyUser (Professor _ p _) = prettyPerson p\n",
    "\n",
    "prettyPublication :: Publication -> String\n",
    "prettyPublication (Book id author title pages copies) =\n",
    "  \"Book [\" ++ id ++ \"] \" ++\n",
    "  \"  Title: \" ++ title ++ \" \" ++\n",
    "  \"  Author: \" ++ prettyPerson author ++ \" \" ++\n",
    "  \"  Pages: \" ++ show pages ++ \" \" ++\n",
    "  \"  Copies: \" ++ show (length $ filter (not . isBorrowed) copies) ++ \"/\" ++ show (length copies) ++ \" available\" ++\n",
    "  unlines (map (prettyCopy) copies)\n",
    "\n",
    "prettyPublication (Journal id authors title releaseDate pages copies) =\n",
    "  \"Journal [\" ++ id ++ \"] \" ++\n",
    "  \"  Title: \" ++ title ++ \" \" ++\n",
    "  \"  Authors: \" ++ unwords (map prettyPerson authors) ++ \" \" ++\n",
    "  \"  Release Date: \" ++ prettyDate releaseDate ++ \" \" ++\n",
    "  \"  Pages: \" ++ show pages ++ \" \" ++\n",
    "  \"  Copies: \" ++ show (length $ filter (not . isBorrowed) copies) ++ \"/\" ++ show (length copies) ++ \" available\" ++\n",
    "  unlines (map (prettyCopy) copies)\n",
    "\n",
    "prettyPublication (DVD id director actors title releaseDate duration copies) =\n",
    "  \"DVD [\" ++ id ++ \"] \" ++\n",
    "  \"  Title: \" ++ title ++ \" \" ++\n",
    "  \"  Director: \" ++ prettyPerson director ++ \" \" ++\n",
    "  \"  Actors: \" ++ unwords (map prettyPerson actors) ++ \" \" ++\n",
    "  \"  Release Date: \" ++ prettyDate releaseDate ++ \" \" ++\n",
    "  \"  Duration: \" ++ show duration ++ \" minutes \" ++\n",
    "  \"  Copies: \" ++ show (length $ filter (not . isBorrowed) copies) ++ \"/\" ++ show (length copies) ++ \" available\" ++\n",
    "  unlines (map (prettyCopy) copies)\n",
    "\n",
    "prettyUser :: User -> String\n",
    "prettyUser (Student id p borrowed) =\n",
    "  \"Student [\" ++ id ++ \"] \" ++\n",
    "  \"  Name: \" ++ prettyPerson p ++ \" \" ++\n",
    "  \"  Borrowed: \" ++ show (length borrowed) ++ \" items\"\n",
    "\n",
    "prettyUser (Professor id p borrowed) =\n",
    "  \"Professor [\" ++ id ++ \"] \" ++\n",
    "  \"  Name: \" ++ prettyPerson p ++ \" \" ++\n",
    "  \"  Borrowed: \" ++ show (length borrowed) ++ \" items\"\n",
    "\n",
    "prettyCatalog :: Catalog -> String\n",
    "prettyCatalog catalog = unlines $ map prettyPublication catalog\n"
   ]
  },
  {
   "cell_type": "code",
   "execution_count": 31,
   "metadata": {
    "vscode": {
     "languageId": "plaintext"
    }
   },
   "outputs": [
    {
     "data": {
      "text/plain": [
       "\"18 November 2024\""
      ]
     },
     "metadata": {},
     "output_type": "display_data"
    },
    {
     "data": {
      "text/plain": [
       "\"John Doe (10 January 1980)\""
      ]
     },
     "metadata": {},
     "output_type": "display_data"
    },
    {
     "data": {
      "text/plain": [
       "\"Book [B001]   Title: Functional Programming in Haskell   Author: John Doe (10 January 1980)   Pages: 300   Copies: 1/1 availableAvailable\\n\""
      ]
     },
     "metadata": {},
     "output_type": "display_data"
    },
    {
     "data": {
      "text/plain": [
       "\"Student [S001]   Name: Alice Smith (5 May 2001)   Borrowed: 0 items\""
      ]
     },
     "metadata": {},
     "output_type": "display_data"
    },
    {
     "data": {
      "text/plain": [
       "\"Book [B001]   Title: Functional Programming in Haskell   Author: John Doe (10 January 1980)   Pages: 300   Copies: 1/1 availableAvailable\\n\\n\""
      ]
     },
     "metadata": {},
     "output_type": "display_data"
    }
   ],
   "source": [
    "--Prueba\n",
    "exampleDate :: Date\n",
    "exampleDate = Date 18 \"November\" 2024\n",
    "\n",
    "author1 :: Person\n",
    "author1 = Person \"John\" \"Doe\" (Date 10 \"January\" 1980)\n",
    "\n",
    "exampleBook :: Publication\n",
    "exampleBook = Book \n",
    "  \"B001\" \n",
    "  author1 \n",
    "  \"Functional Programming in Haskell\" \n",
    "  300 \n",
    "  [Copy False Nothing Nothing Nothing]\n",
    "\n",
    "exampleStudent :: User\n",
    "exampleStudent = Student \"S001\" (Person \"Alice\" \"Smith\" (Date 5 \"May\" 2001)) []\n",
    "\n",
    "exampleCatalog :: Catalog\n",
    "exampleCatalog = [exampleBook]\n",
    "\n",
    "prettyDate exampleDate\n",
    "\n",
    "prettyPerson author1\n",
    "\n",
    "prettyPublication exampleBook\n",
    "\n",
    "prettyUser exampleStudent\n",
    "\n",
    "prettyCatalog exampleCatalog\n"
   ]
  },
  {
   "cell_type": "code",
   "execution_count": 32,
   "metadata": {},
   "outputs": [
    {
     "data": {
      "text/plain": [
       "\"Book [B002]   Title: Pride and Prejudice   Author: Jane Austen (16 December 1775)   Pages: 432   Copies: 2/4 availableBorrowed by Alice Smith (5 May 2001) | Loan Date: 10 November 2024 | Return Date: 10 December 2024\\nBorrowed by Dr. Johnson (12 August 1975) | Loan Date: 10 November 2024 | Return Date: 10 December 2024\\nAvailable\\nAvailable\\n\""
      ]
     },
     "metadata": {},
     "output_type": "display_data"
    },
    {
     "data": {
      "text/plain": [
       "\"Book [B002]   Title: Pride and Prejudice   Author: Jane Austen (16 December 1775)   Pages: 432   Copies: 2/4 availableBorrowed by Alice Smith (5 May 2001) | Loan Date: 10 November 2024 | Return Date: 10 December 2024\\nBorrowed by Dr. Johnson (12 August 1975) | Loan Date: 10 November 2024 | Return Date: 10 December 2024\\nAvailable\\nAvailable\\n\\n\""
      ]
     },
     "metadata": {},
     "output_type": "display_data"
    }
   ],
   "source": [
    "-- Ejemplo de fecha\n",
    "exampleLoanDate :: Date\n",
    "exampleLoanDate = Date 10 \"November\" 2024\n",
    "\n",
    "exampleReturnDate :: Date\n",
    "exampleReturnDate = Date 10 \"December\" 2024\n",
    "\n",
    "-- Ejemplo de personas\n",
    "student1 :: User\n",
    "student1 = Student \"S001\" (Person \"Alice\" \"Smith\" (Date 5 \"May\" 2001)) []\n",
    "\n",
    "professor1 :: User\n",
    "professor1 = Professor \"P001\" (Person \"Dr.\" \"Johnson\" (Date 12 \"August\" 1975)) []\n",
    "\n",
    "-- Ejemplo de copias de un libro\n",
    "exampleCopies :: [Copy]\n",
    "exampleCopies = \n",
    "  [ Copy True (Just student1) (Just exampleLoanDate) (Just exampleReturnDate)  -- Prestada a un estudiante\n",
    "  , Copy True (Just professor1) (Just exampleLoanDate) (Just exampleReturnDate) -- Prestada a un profesor\n",
    "  , Copy False Nothing Nothing Nothing  -- Disponible\n",
    "  , Copy False Nothing Nothing Nothing  -- Disponible\n",
    "  ]\n",
    "\n",
    "-- Ejemplo de libro con varias copias\n",
    "exampleBookWithCopies :: Publication\n",
    "exampleBookWithCopies = Book\n",
    "  \"B002\"\n",
    "  (Person \"Jane\" \"Austen\" (Date 16 \"December\" 1775))\n",
    "  \"Pride and Prejudice\"\n",
    "  432\n",
    "  exampleCopies\n",
    "\n",
    "-- Catálogo con el libro\n",
    "exampleCatalogWithCopies :: Catalog\n",
    "exampleCatalogWithCopies = [exampleBookWithCopies]\n",
    "\n",
    "prettyPublication exampleBookWithCopies\n",
    "\n",
    "prettyCatalog exampleCatalogWithCopies"
   ]
  },
  {
   "cell_type": "code",
   "execution_count": 33,
   "metadata": {},
   "outputs": [
    {
     "data": {
      "text/plain": [
       "\"Book [B002]   Title: Pride and Prejudice   Author: Jane Austen (16 December 1775)   Pages: 432   Copies: 2/4 availableBorrowed by Alice Smith (5 May 2001) | Loan Date: 10 November 2024 | Return Date: 10 December 2024\\nBorrowed by Dr. Johnson (12 August 1975) | Loan Date: 10 November 2024 | Return Date: 10 December 2024\\nAvailable\\nAvailable\\n\\nBook [B003]   Title: 1984   Author: George Orwell (25 June 1903)   Pages: 328   Copies: 2/3 availableBorrowed by Alice Smith (5 May 2001) | Loan Date: 1 November 2024 | Return Date: 8 November 2024\\nAvailable\\nAvailable\\n\\n\""
      ]
     },
     "metadata": {},
     "output_type": "display_data"
    }
   ],
   "source": [
    "-- Ejemplo de otro libro con copias\n",
    "exampleCopies2 :: [Copy]\n",
    "exampleCopies2 = \n",
    "  [ Copy True (Just student1) (Just (Date 1 \"November\" 2024)) (Just (Date 8 \"November\" 2024)) -- Prestada a un estudiante\n",
    "  , Copy False Nothing Nothing Nothing  -- Disponible\n",
    "  , Copy False Nothing Nothing Nothing  -- Disponible\n",
    "  ]\n",
    "\n",
    "exampleBookWithCopies2 :: Publication\n",
    "exampleBookWithCopies2 = Book\n",
    "  \"B003\"\n",
    "  (Person \"George\" \"Orwell\" (Date 25 \"June\" 1903))\n",
    "  \"1984\"\n",
    "  328\n",
    "  exampleCopies2\n",
    "\n",
    "-- Catálogo actualizado con ambos libros\n",
    "updatedCatalog :: Catalog\n",
    "updatedCatalog = exampleCatalogWithCopies ++ [exampleBookWithCopies2]\n",
    "\n",
    "-- Prueba de impresión del catálogo actualizado\n",
    "prettyCatalog updatedCatalog\n"
   ]
  },
  {
   "cell_type": "code",
   "execution_count": null,
   "metadata": {},
   "outputs": [],
   "source": []
  },
  {
   "cell_type": "markdown",
   "metadata": {},
   "source": [
    "**3. An addToCatalog Publication Catalog function that adds a publication to the library catalog. If the publication is already in the catalog, its number of copies will be increased. "
   ]
  },
  {
   "cell_type": "code",
   "execution_count": 35,
   "metadata": {},
   "outputs": [
    {
     "data": {
      "text/plain": [
       "\"Book [B002]   Title: Pride and Prejudice   Author: Jane Austen (16 December 1775)   Pages: 432   Copies: 4/6 availableAvailable\\nAvailable\\nBorrowed by Alice Smith (5 May 2001) | Loan Date: 10 November 2024 | Return Date: 10 December 2024\\nBorrowed by Dr. Johnson (12 August 1975) | Loan Date: 10 November 2024 | Return Date: 10 December 2024\\nAvailable\\nAvailable\\n\\nBook [B003]   Title: 1984   Author: George Orwell (25 June 1903)   Pages: 328   Copies: 2/3 availableBorrowed by Alice Smith (5 May 2001) | Loan Date: 1 November 2024 | Return Date: 8 November 2024\\nAvailable\\nAvailable\\n\\nBook [B004]   Title: Harry Potter and the Philosopher's Stone   Author: J.K. Rowling (31 July 1965)   Pages: 223   Copies: 1/1 availableAvailable\\n\\n\""
      ]
     },
     "metadata": {},
     "output_type": "display_data"
    }
   ],
   "source": [
    "addToCatalog :: Publication -> Catalog -> Catalog\n",
    "addToCatalog pub [] = [pub]\n",
    "addToCatalog pub (p:ps)\n",
    "  | samePublication pub p = mergeCopies pub p : ps -- Si ya existe, combina las copias\n",
    "  | otherwise             = p : addToCatalog pub ps -- Si no, sigue buscando\n",
    "  where\n",
    "    -- Verifica si dos publicaciones son la misma basándose en su ID único\n",
    "    samePublication :: Publication -> Publication -> Bool\n",
    "    samePublication (Book id1 _ _ _ _) (Book id2 _ _ _ _) = id1 == id2\n",
    "    samePublication (Journal id1 _ _ _ _ _) (Journal id2 _ _ _ _ _) = id1 == id2\n",
    "    samePublication (DVD id1 _ _ _ _ _ _) (DVD id2 _ _ _ _ _ _) = id1 == id2\n",
    "    samePublication _ _ = False\n",
    "\n",
    "    -- Combina las copias de dos publicaciones iguales\n",
    "    mergeCopies :: Publication -> Publication -> Publication\n",
    "    mergeCopies (Book id1 author1 title1 pages1 copies1) (Book _ _ _ _ copies2) =\n",
    "      Book id1 author1 title1 pages1 (copies1 ++ copies2)\n",
    "    mergeCopies (Journal id1 authors1 title1 release1 pages1 copies1) (Journal _ _ _ _ _ copies2) =\n",
    "      Journal id1 authors1 title1 release1 pages1 (copies1 ++ copies2)\n",
    "    mergeCopies (DVD id1 director1 actors1 title1 release1 duration1 copies1) (DVD _ _ _ _ _ _ copies2) =\n",
    "      DVD id1 director1 actors1 title1 release1 duration1 (copies1 ++ copies2)\n",
    "    mergeCopies pub1 _ = pub1 -- Por seguridad, devuelve pub1 en otros casos\n",
    "\n",
    "-- Nueva copia para un libro existente\n",
    "newCopiesForPrideAndPrejudice :: [Copy]\n",
    "newCopiesForPrideAndPrejudice = \n",
    "  [ Copy False Nothing Nothing Nothing,  -- Nueva copia disponible\n",
    "    Copy False Nothing Nothing Nothing   -- Otra nueva copia disponible\n",
    "  ]\n",
    "\n",
    "-- Publicación con nuevas copias de \"Pride and Prejudice\"\n",
    "newPrideAndPrejudice :: Publication\n",
    "newPrideAndPrejudice = Book\n",
    "  \"B002\"\n",
    "  (Person \"Jane\" \"Austen\" (Date 16 \"December\" 1775))\n",
    "  \"Pride and Prejudice\"\n",
    "  432\n",
    "  newCopiesForPrideAndPrejudice\n",
    "\n",
    "-- Nuevo libro completamente nuevo\n",
    "newBook :: Publication\n",
    "newBook = Book\n",
    "  \"B004\"\n",
    "  (Person \"J.K.\" \"Rowling\" (Date 31 \"July\" 1965))\n",
    "  \"Harry Potter and the Philosopher's Stone\"\n",
    "  223\n",
    "  [Copy False Nothing Nothing Nothing]\n",
    "\n",
    "-- Actualizar el catálogo\n",
    "updatedCatalog2 :: Catalog\n",
    "updatedCatalog2 = addToCatalog newPrideAndPrejudice $ addToCatalog newBook updatedCatalog\n",
    "\n",
    "-- Prueba de impresión\n",
    "prettyCatalog updatedCatalog2\n"
   ]
  },
  {
   "cell_type": "code",
   "execution_count": 36,
   "metadata": {},
   "outputs": [
    {
     "data": {
      "text/plain": [
       "\"Book [B002]   Title: Pride and Prejudice   Author: Jane Austen (16 December 1775)   Pages: 432   Copies: 4/6 availableAvailable\\nAvailable\\nBorrowed by Alice Smith (5 May 2001) | Loan Date: 10 November 2024 | Return Date: 10 December 2024\\nBorrowed by Dr. Johnson (12 August 1975) | Loan Date: 10 November 2024 | Return Date: 10 December 2024\\nAvailable\\nAvailable\\n\\nBook [B003]   Title: 1984   Author: George Orwell (25 June 1903)   Pages: 328   Copies: 2/3 availableBorrowed by Alice Smith (5 May 2001) | Loan Date: 1 November 2024 | Return Date: 8 November 2024\\nAvailable\\nAvailable\\n\\nBook [B004]   Title: Harry Potter and the Philosopher's Stone   Author: J.K. Rowling (31 July 1965)   Pages: 223   Copies: 3/3 availableAvailable\\nAvailable\\nAvailable\\n\\n\""
      ]
     },
     "metadata": {},
     "output_type": "display_data"
    }
   ],
   "source": [
    "-- Nuevas copias para \"Harry Potter and the Philosopher's Stone\"\n",
    "newCopiesForHarryPotter :: [Copy]\n",
    "newCopiesForHarryPotter = \n",
    "  [ Copy False Nothing Nothing Nothing,  -- Nueva copia disponible\n",
    "    Copy False Nothing Nothing Nothing   -- Otra nueva copia disponible\n",
    "  ]\n",
    "\n",
    "-- Publicación con nuevas copias de \"Harry Potter\"\n",
    "newBook2 :: Publication\n",
    "newBook2 = Book\n",
    "  \"B004\"\n",
    "  (Person \"J.K.\" \"Rowling\" (Date 31 \"July\" 1965))\n",
    "  \"Harry Potter and the Philosopher's Stone\"\n",
    "  223\n",
    "  newCopiesForHarryPotter\n",
    "\n",
    "-- Actualizar el catálogo con newBook2 (se fusionan las copias)\n",
    "finalCatalog :: Catalog\n",
    "finalCatalog = addToCatalog newBook2 updatedCatalog2\n",
    "\n",
    "-- Prueba de impresión\n",
    "prettyCatalog finalCatalog\n"
   ]
  },
  {
   "cell_type": "markdown",
   "metadata": {},
   "source": [
    "**4. A removeFromCatalog Publication Catalog that removes a copy of the publication from the library catalog. If it is the last copy, the publication will be removed. If the catalog does not contain that publication an error will be raised."
   ]
  },
  {
   "cell_type": "code",
   "execution_count": 37,
   "metadata": {},
   "outputs": [],
   "source": [
    "removeFromCatalog :: Publication -> Catalog -> Either String Catalog\n",
    "removeFromCatalog pub [] = Left \"Error: The publication is not in the catalog.\"\n",
    "removeFromCatalog pub (p:ps)\n",
    "  | samePublication pub p =\n",
    "      let updatedPub = removeCopy pub\n",
    "      in if noCopiesLeft updatedPub\n",
    "         then Right ps -- Elimina la publicación completamente\n",
    "         else Right (updatedPub : ps) -- Actualiza la publicación\n",
    "  | otherwise = fmap (p :) (removeFromCatalog pub ps) -- Sigue buscando\n",
    "  where\n",
    "    -- Verifica si dos publicaciones son iguales por su ID único\n",
    "    samePublication :: Publication -> Publication -> Bool\n",
    "    samePublication (Book id1 _ _ _ _) (Book id2 _ _ _ _) = id1 == id2\n",
    "    samePublication (Journal id1 _ _ _ _ _) (Journal id2 _ _ _ _ _) = id1 == id2\n",
    "    samePublication (DVD id1 _ _ _ _ _ _) (DVD id2 _ _ _ _ _ _) = id1 == id2\n",
    "    samePublication _ _ = False\n",
    "\n",
    "    -- Elimina una copia de la publicación (la primera disponible o prestada)\n",
    "    removeCopy :: Publication -> Publication\n",
    "    removeCopy (Book id1 author1 title1 pages1 copies1) =\n",
    "      Book id1 author1 title1 pages1 (tail copies1)\n",
    "    removeCopy (Journal id1 authors1 title1 release1 pages1 copies1) =\n",
    "      Journal id1 authors1 title1 release1 pages1 (tail copies1)\n",
    "    removeCopy (DVD id1 director1 actors1 title1 release1 duration1 copies1) =\n",
    "      DVD id1 director1 actors1 title1 release1 duration1 (tail copies1)\n",
    "    removeCopy pub = pub -- Por seguridad\n",
    "\n",
    "    -- Verifica si no quedan copias en la publicación\n",
    "    noCopiesLeft :: Publication -> Bool\n",
    "    noCopiesLeft (Book _ _ _ _ copies1)    = null copies1\n",
    "    noCopiesLeft (Journal _ _ _ _ _ copies1) = null copies1\n",
    "    noCopiesLeft (DVD _ _ _ _ _ _ copies1) = null copies1\n"
   ]
  },
  {
   "cell_type": "code",
   "execution_count": null,
   "metadata": {},
   "outputs": [
    {
     "ename": "",
     "evalue": "",
     "output_type": "error",
     "traceback": [
      "<interactive>:8:11: error: [GHC-83865]\n    • Couldn't match type: Either String Catalog\n                     with: [Publication]\n      Expected: Catalog -> Catalog\n        Actual: Catalog -> Either String Catalog\n    • In the first argument of ‘(<$>)’, namely ‘removeFromCatalog (Book \"B999\" undefined undefined undefined undefined)’\n      In the expression: removeFromCatalog (Book \"B999\" undefined undefined undefined undefined) <$> result2\n      In an equation for ‘result3’: result3 = removeFromCatalog (Book \"B999\" undefined undefined undefined undefined) <$> result2\n<interactive>:6:11: error: [GHC-83865]\n    • Couldn't match type: Either String Catalog\n                     with: [Publication]\n      Expected: Catalog -> Catalog\n        Actual: Catalog -> Either String Catalog\n    • In the first argument of ‘(<$>)’, namely ‘removeFromCatalog (Book \"B003\" undefined undefined undefined undefined)’\n      In the expression: removeFromCatalog (Book \"B003\" undefined undefined undefined undefined) <$> result1\n      In an equation for ‘result2’: result2 = removeFromCatalog (Book \"B003\" undefined undefined undefined undefined) <$> result1"
     ]
    }
   ],
   "source": [
    "-- Catálogo inicial\n",
    "catalogForRemoval :: Catalog\n",
    "catalogForRemoval = finalCatalog\n",
    "\n",
    "-- Eliminar una copia de \"Pride and Prejudice\"\n",
    "result1 :: Either String Catalog\n",
    "result1 = removeFromCatalog exampleBookWithCopies catalogForRemoval\n",
    "\n",
    "-- Eliminar \"1984\" completamente\n",
    "result2 :: Either String Catalog\n",
    "result2 = removeFromCatalog (Book \"B003\" undefined undefined undefined undefined) <$> result1\n",
    "\n",
    "-- Intentar eliminar una publicación inexistente\n",
    "result3 :: Either String Catalog\n",
    "result3 = removeFromCatalog (Book \"B999\" undefined undefined undefined undefined) <$> result2\n",
    "\n",
    "-- Prueba de impresión de resultados\n",
    "printCatalogResult :: Either String Catalog -> IO ()\n",
    "printCatalogResult (Left err) = putStrLn $ \"Error: \" ++ err\n",
    "printCatalogResult (Right catalog) = putStrLn $ prettyCatalog catalog\n",
    "\n",
    "main :: IO ()\n",
    "main = do\n",
    "  putStrLn \"=== Catalog After Removing One Copy of 'Pride and Prejudice' ===\"\n",
    "  printCatalogResult result1\n",
    "  \n",
    "  putStrLn \"\\n=== Catalog After Removing All Copies of '1984' ===\"\n",
    "  printCatalogResult result2\n",
    "  \n",
    "  putStrLn \"\\n=== Attempt to Remove a Non-Existent Book ===\"\n",
    "  printCatalogResult result3\n"
   ]
  },
  {
   "cell_type": "code",
   "execution_count": null,
   "metadata": {},
   "outputs": [],
   "source": []
  }
 ],
 "metadata": {
  "kernelspec": {
   "display_name": "Haskell",
   "language": "haskell",
   "name": "haskell"
  },
  "language_info": {
   "codemirror_mode": "ihaskell",
   "file_extension": ".hs",
   "mimetype": "text/x-haskell",
   "name": "haskell",
   "pygments_lexer": "Haskell",
   "version": "9.6.4"
  }
 },
 "nbformat": 4,
 "nbformat_minor": 2
}
